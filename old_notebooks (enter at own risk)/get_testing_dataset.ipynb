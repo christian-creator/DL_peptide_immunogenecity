{
 "cells": [
  {
   "cell_type": "code",
   "execution_count": 16,
   "metadata": {},
   "outputs": [],
   "source": [
    "import pandas as pd\n",
    "import numpy as np"
   ]
  },
  {
   "cell_type": "code",
   "execution_count": 17,
   "metadata": {},
   "outputs": [],
   "source": [
    "data = pd.read_csv(\"../data/ifng_true_balanced_w_parts_w_binding_scores_w_iedb.csv\")\n",
    "immunogenecity = [min(1,x) for x in data[\"positive_subjects\"]]\n",
    "data[\"immunogenecity\"] = immunogenecity\n",
    "data[\"peptide_len\"] = data[\"peptide\"].apply(len)\n",
    "data = data[data[\"parts\"]==0]\n",
    "data[[\"peptide\",\"immunogenecity\"]].to_csv(\"../tmp/testing_data_all.csv\",index=False,sep=\" \")"
   ]
  },
  {
   "cell_type": "code",
   "execution_count": 18,
   "metadata": {},
   "outputs": [],
   "source": [
    "data[(data[\"immunogenecity\"] == 1) & (data[\"peptide_len\"] == 9)][[\"peptide\"]].to_csv(\"../tmp/testing_data_all_pos.csv\",header=False,index=False,sep=\" \")\n",
    "data[(data[\"immunogenecity\"] == 0.0) & (data[\"peptide_len\"] == 9)][[\"peptide\"]].to_csv(\"../tmp/testing_data_all_neg.csv\",header=False,index=False,sep=\" \")"
   ]
  },
  {
   "cell_type": "code",
   "execution_count": 14,
   "metadata": {},
   "outputs": [
    {
     "data": {
      "text/plain": [
       "22       9\n",
       "44      10\n",
       "46       9\n",
       "47       9\n",
       "49       9\n",
       "        ..\n",
       "3182     9\n",
       "3188     9\n",
       "3189    10\n",
       "3208     9\n",
       "3216    10\n",
       "Name: peptide, Length: 320, dtype: int64"
      ]
     },
     "execution_count": 14,
     "metadata": {},
     "output_type": "execute_result"
    }
   ],
   "source": []
  },
  {
   "cell_type": "code",
   "execution_count": 19,
   "metadata": {},
   "outputs": [],
   "source": [
    "data = pd.read_csv(\"../data/ifng_true_balanced_w_parts_w_binding_scores_w_iedb.csv\")\n",
    "immunogenecity = [min(1,x) for x in data[\"positive_subjects\"]]\n",
    "data[\"immunogenecity\"] = immunogenecity\n",
    "data[\"peptide_len\"] = data[\"peptide\"].apply(len)\n",
    "data[data[\"parts\"] == 0][[\"peptide\",\"immunogenecity\"]].to_csv(\"../tmp/testing_data.csv\",index=False,sep=\" \")\n",
    "data[data[\"parts\"] != 0][[\"peptide\",\"immunogenecity\"]].to_csv(\"../tmp/not_testing_data.csv\",index=False,sep=\" \")"
   ]
  },
  {
   "cell_type": "code",
   "execution_count": null,
   "metadata": {},
   "outputs": [],
   "source": []
  }
 ],
 "metadata": {
  "interpreter": {
   "hash": "c6e4e9f98eb68ad3b7c296f83d20e6de614cb42e90992a65aa266555a3137d0d"
  },
  "kernelspec": {
   "display_name": "Python 3.9.9 ('base')",
   "language": "python",
   "name": "python3"
  },
  "language_info": {
   "codemirror_mode": {
    "name": "ipython",
    "version": 3
   },
   "file_extension": ".py",
   "mimetype": "text/x-python",
   "name": "python",
   "nbconvert_exporter": "python",
   "pygments_lexer": "ipython3",
   "version": "3.9.9"
  },
  "orig_nbformat": 4
 },
 "nbformat": 4,
 "nbformat_minor": 2
}
