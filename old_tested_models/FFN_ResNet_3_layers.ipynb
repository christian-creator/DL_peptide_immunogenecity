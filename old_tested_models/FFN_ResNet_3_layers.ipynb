{
 "cells": [
  {
   "cell_type": "code",
   "execution_count": 18,
   "metadata": {},
   "outputs": [],
   "source": [
    "import numpy as np\n",
    "import pandas as pd\n",
    "import matplotlib.pyplot as plt\n",
    "from sklearn.metrics import auc,precision_recall_curve,roc_curve,confusion_matrix\n",
    "import os,sys\n",
    "import pickle\n",
    "from sklearn.model_selection import KFold\n",
    "from sklearn.model_selection import train_test_split\n",
    "import random\n",
    "import seaborn as sns\n",
    "random.seed(0)\n",
    "torch.manual_seed(0)\n",
    "np.random.seed(0)\n"
   ]
  },
  {
   "cell_type": "markdown",
   "metadata": {},
   "source": [
    "## The Network"
   ]
  },
  {
   "cell_type": "code",
   "execution_count": 19,
   "metadata": {},
   "outputs": [],
   "source": [
    "import torch\n",
    "from torch.autograd import Variable\n",
    "from torch.nn.parameter import Parameter\n",
    "import torch.nn as nn\n",
    "import torch.nn.functional as F\n",
    "import torch.optim as optim\n",
    "import torch.nn.init as init\n",
    "from torch.utils.data import DataLoader\n",
    "\n",
    "from torch.nn import Linear, Conv2d, BatchNorm2d, MaxPool2d, Dropout2d\n",
    "from torch.nn.functional import relu, elu, relu6, sigmoid, tanh, softmax\n",
    "from torch.nn import Linear, GRU, Conv2d, Dropout, MaxPool2d, BatchNorm1d\n",
    "\n",
    "import torch.optim as optim\n",
    "from sklearn.metrics import accuracy_score,recall_score,f1_score"
   ]
  },
  {
   "cell_type": "code",
   "execution_count": 20,
   "metadata": {},
   "outputs": [],
   "source": [
    "def compute_conv_dim(dim_size,kernel_size,padding,stride):\n",
    "    return int((dim_size - kernel_size + 2 * padding) / stride + 1)\n",
    "compute_conv_dim(34,2,0,1)\n",
    "\n",
    "def initialize_weights(m):\n",
    "    if isinstance(m, nn.Conv2d):\n",
    "          nn.init.kaiming_uniform_(m.weight.data,nonlinearity='relu')\n",
    "          if m.bias is not None:\n",
    "                nn.init.constant_(m.bias.data, 0)\n",
    "    elif isinstance(m, nn.BatchNorm2d):\n",
    "          nn.init.constant_(m.weight.data, 1)\n",
    "          nn.init.constant_(m.bias.data, 0)\n",
    "    elif isinstance(m, nn.Linear):\n",
    "          nn.init.kaiming_uniform_(m.weight.data,nonlinearity='relu')\n",
    "          if m.bias is not None:\n",
    "                nn.init.constant_(m.bias.data, 0)"
   ]
  },
  {
   "cell_type": "code",
   "execution_count": 21,
   "metadata": {},
   "outputs": [
    {
     "name": "stdout",
     "output_type": "stream",
     "text": [
      "Net(\n",
      "  (peptide_attention): MultiheadAttention(\n",
      "    (out_proj): NonDynamicallyQuantizableLinear(in_features=12, out_features=12, bias=True)\n",
      "  )\n",
      "  (HLA_atttention): MultiheadAttention(\n",
      "    (out_proj): NonDynamicallyQuantizableLinear(in_features=12, out_features=12, bias=True)\n",
      "  )\n",
      "  (L_in): Linear(in_features=529, out_features=264, bias=True)\n",
      "  (batchnorm1): BatchNorm1d(264, eps=1e-05, momentum=0.1, affine=True, track_running_stats=True)\n",
      "  (drop_out1): Dropout(p=0.4, inplace=False)\n",
      "  (L_2): Linear(in_features=793, out_features=396, bias=True)\n",
      "  (batchnorm2): BatchNorm1d(396, eps=1e-05, momentum=0.1, affine=True, track_running_stats=True)\n",
      "  (drop_out2): Dropout(p=0.4, inplace=False)\n",
      "  (L_3): Linear(in_features=1189, out_features=594, bias=True)\n",
      "  (batchnorm3): BatchNorm1d(594, eps=1e-05, momentum=0.1, affine=True, track_running_stats=True)\n",
      "  (drop_out3): Dropout(p=0.4, inplace=False)\n",
      "  (L_out): Linear(in_features=594, out_features=2, bias=True)\n",
      ")\n"
     ]
    }
   ],
   "source": [
    "# define network\n",
    "class Net(nn.Module):\n",
    "\n",
    "    def __init__(self):\n",
    "        super(Net, self).__init__()\n",
    "\n",
    "        # Attention layer\n",
    "        self.peptide_attention = nn.MultiheadAttention(embed_dim=12,num_heads=1,dropout=0.4)\n",
    "        self.HLA_atttention = nn.MultiheadAttention(embed_dim=12,num_heads=1,dropout=0.4)\n",
    "\n",
    "        # Denselayer\n",
    "        self.L_in = Linear(in_features=529, # 528 if binding_score None, else 529\n",
    "                            out_features= 264)\n",
    "\n",
    "        self.batchnorm1 = nn.BatchNorm1d(264)\n",
    "        self.drop_out1 = nn.Dropout(p=0.4)\n",
    "\n",
    "        self.L_2 = Linear(in_features = 793,\n",
    "                            out_features = 396)\n",
    "\n",
    "        self.batchnorm2 = nn.BatchNorm1d(396)\n",
    "        self.drop_out2 = nn.Dropout(p=0.4)\n",
    "\n",
    "        self.L_3 = Linear(in_features = 1189,\n",
    "                            out_features = 594)\n",
    "\n",
    "        self.batchnorm3 = nn.BatchNorm1d(594)\n",
    "        self.drop_out3 = nn.Dropout(p=0.4)\n",
    "\n",
    "        self.L_out = Linear(in_features = 594,\n",
    "                            out_features = 2)\n",
    "    \n",
    "    def forward(self, peptide, HLA, binding_score=None): # x.size() = [batch, channel, height, width]\n",
    "         # Context embedding of peptides and HLA\n",
    "        context_embedded_peptide, attn_weights_peptide = self.peptide_attention(peptide,peptide,peptide)\n",
    "        context_embedded_hla, attn_weights_HLA = self.HLA_atttention(HLA,HLA,HLA)\n",
    "        context_embedded_peptide = context_embedded_peptide.reshape(context_embedded_peptide.shape[0],1,context_embedded_peptide.shape[1],context_embedded_peptide.shape[2])\n",
    "        context_embedded_hla = context_embedded_hla.reshape(context_embedded_hla.shape[0],1,context_embedded_hla.shape[1],context_embedded_hla.shape[2])\n",
    "\n",
    "\n",
    "        # Encoding the peptide\n",
    "        context_embedded_peptide = torch.flatten(context_embedded_peptide,start_dim=1)\n",
    "\n",
    "        # Encoding the HLA\n",
    "        context_embedded_hla = torch.flatten(context_embedded_hla,start_dim=1)\n",
    "\n",
    "        if binding_score is None:\n",
    "            combined_input = torch.cat((context_embedded_peptide, context_embedded_hla ), 1)\n",
    "      \n",
    "        else:\n",
    "            combined_input = torch.cat((context_embedded_peptide, context_embedded_hla ,binding_score), 1)\n",
    "\n",
    "        x = self.L_in(combined_input)\n",
    "        x = relu(x)\n",
    "        x = self.batchnorm1(x)\n",
    "        x = self.drop_out1(x)\n",
    "\n",
    "        x_resnet1 = torch.cat((x, combined_input), 1)\n",
    "        x = self.L_2(x_resnet1)\n",
    "        x = relu(x)\n",
    "        x = self.batchnorm2(x)\n",
    "        x = self.drop_out2(x)\n",
    "\n",
    "        x_resnet2 = torch.cat((x, x_resnet1), 1)\n",
    "        x = self.L_3(x_resnet2)\n",
    "        x = relu(x)\n",
    "        x = self.batchnorm3(x)\n",
    "        x = self.drop_out3(x)\n",
    "        x = self.L_out(x)\n",
    "        x = relu(x)\n",
    "        return softmax(x, dim=1)\n",
    "\n",
    "net = Net()\n",
    "net.apply(initialize_weights)\n",
    "print(net)\n",
    "\n",
    "# criterion = nn.CrossEntropyLoss()\n",
    "# optimizer = optim.Adam(net.parameters(), lr=0.0001,weight_decay=1e-4)"
   ]
  },
  {
   "cell_type": "code",
   "execution_count": 22,
   "metadata": {},
   "outputs": [
    {
     "data": {
      "text/plain": [
       "tensor([[0.2258, 0.7742],\n",
       "        [0.5835, 0.4165],\n",
       "        [0.1816, 0.8184],\n",
       "        [0.5000, 0.5000],\n",
       "        [0.5000, 0.5000],\n",
       "        [0.5340, 0.4660],\n",
       "        [0.7258, 0.2742],\n",
       "        [0.5000, 0.5000],\n",
       "        [0.7235, 0.2765],\n",
       "        [0.3184, 0.6816]], grad_fn=<SoftmaxBackward0>)"
      ]
     },
     "execution_count": 22,
     "metadata": {},
     "output_type": "execute_result"
    }
   ],
   "source": [
    "peptide_random = np.random.normal(0,1, (10, 10, 12)).astype('float32')\n",
    "peptide_random = Variable(torch.from_numpy(peptide_random))\n",
    "HLA_random = np.random.normal(0,1, (10, 34, 12)).astype('float32')\n",
    "HLA_random = Variable(torch.from_numpy(HLA_random))\n",
    "binding_random = np.random.normal(0,1, (10, 1)).astype('float32')\n",
    "binding_random = Variable(torch.from_numpy(binding_random))\n",
    "\n",
    "output = net(peptide_random,HLA_random,binding_random)\n",
    "output"
   ]
  },
  {
   "cell_type": "markdown",
   "metadata": {},
   "source": [
    "## Functions for loading data"
   ]
  },
  {
   "cell_type": "code",
   "execution_count": 23,
   "metadata": {},
   "outputs": [],
   "source": [
    "\n",
    "def encode_peptide_aaindex(aa_seq,aaindex_PCA,row):\n",
    "    aa_seq = list(aa_seq.upper())\n",
    "    encoded_aa_seq = []\n",
    "    PCs = aaindex_PCA.shape[1]\n",
    "    for aa in aa_seq:\n",
    "        if aa == \"X\" or aa == \"-\":\n",
    "            encoded_aa_seq.append(np.array([0 for x in range(PCs)]))\n",
    "        else:\n",
    "            try:\n",
    "                encoded_aa_seq.append(aaindex_PCA.loc[aa].to_numpy())\n",
    "            except KeyError:\n",
    "                print(row)\n",
    "                sys.exit(1)\n",
    "    return np.array(encoded_aa_seq)\n",
    "\n",
    "def encode_dataset(df,aaindex_PCA,HLA_dict,peptide_len,padding=\"right\"):\n",
    "    encoded_peptides = []\n",
    "    encoded_labels = []\n",
    "    encoded_hlas = []\n",
    "    encoded_binding_scores = []\n",
    "    for i,row in df.iterrows():\n",
    "        peptide = row[\"peptide\"]\n",
    "        HLA = HLA_dict[row[\"HLA_allele\"].replace(\":\",\"\")]\n",
    "        encoded_peptide = encode_peptide_aaindex(peptide,aaindex_PCA,row)\n",
    "        binding_score = row['binding_score']\n",
    "\n",
    "\n",
    "        # Adding padding\n",
    "        if len(encoded_peptide) < peptide_len:\n",
    "            n_added = peptide_len-len(encoded_peptide)\n",
    "            if padding == \"right\":\n",
    "                encoded_peptide = np.pad(encoded_peptide, ((0, 1), (0, 0)), 'constant')\n",
    "            elif padding == \"left\":\n",
    "                encoded_peptide = np.pad(encoded_peptide, ((1, 0), (0, 0)), 'constant')\n",
    "            elif padding == \"random\":\n",
    "                top_pad = random.choice([0,1])\n",
    "                bot_pad = 1-top_pad\n",
    "                encoded_peptide = np.pad(encoded_peptide, ((top_pad, bot_pad), (0, 0)), 'constant')\n",
    "\n",
    "\n",
    "        encoded_HLA = encode_peptide_aaindex(HLA,aaindex_PCA,row)\n",
    "        encoded_label = min(1,row[\"positive_subjects\"])\n",
    "        encoded_peptides.append(encoded_peptide)\n",
    "        encoded_hlas.append(encoded_HLA)\n",
    "        encoded_labels.append(encoded_label)\n",
    "        encoded_binding_scores.append(binding_score)\n",
    "    \n",
    "    encoded_peptides = np.array(encoded_peptides).astype('float32')\n",
    "    encoded_hlas = np.array(encoded_hlas).astype('float32')\n",
    "    encoded_labels = np.array(encoded_labels).astype('float32')\n",
    "    encoded_binding_scores = np.array(encoded_binding_scores).astype('float32')\n",
    "    return encoded_peptides, encoded_hlas, encoded_binding_scores, encoded_labels\n"
   ]
  },
  {
   "cell_type": "markdown",
   "metadata": {},
   "source": [
    "## Functions for training the models"
   ]
  },
  {
   "cell_type": "code",
   "execution_count": 24,
   "metadata": {},
   "outputs": [
    {
     "name": "stdout",
     "output_type": "stream",
     "text": [
      "Device state: cpu\n"
     ]
    }
   ],
   "source": [
    "def plot_learning_curve(train_accuracies,val_accuracies):\n",
    "    epoch = np.arange(len(train_accuracies))\n",
    "    plt.figure()\n",
    "    plt.plot(epoch, train_accuracies, 'r', epoch, val_accuracies, 'b')\n",
    "    plt.legend(['Train Accucary','Validation Accuracy'])\n",
    "    plt.xlabel('epochs'), plt.ylabel('Acc')\n",
    "\n",
    "\n",
    "\n",
    "def validation(model,device,valid_loaders,train_loaders):\n",
    "    peptide_val_loader,HLA_val_loader,label_val_loader,binding_score_val_loader = valid_loaders\n",
    "    peptide_train_loader,HLA_train_loader,label_train_loader,binding_score_train_loader = train_loaders\n",
    "    model.eval()\n",
    "    with torch.no_grad():\n",
    "        all_train_targets = []\n",
    "        all_predicted_train_labels = []\n",
    "        for i in range(len((peptide_train_loader))):\n",
    "            train_peptides = peptide_train_loader[i]\n",
    "            train_HLA = HLA_train_loader[i]\n",
    "            train_labels = label_train_loader[i].long()\n",
    "            train_binding_scores = binding_score_train_loader[i]\n",
    "            outputs = model(train_peptides,train_HLA,train_binding_scores)\n",
    "            _,predicted_labels =  torch.max(outputs, 1)\n",
    "\n",
    "            all_predicted_train_labels += predicted_labels.numpy().tolist()\n",
    "            all_train_targets += train_labels.numpy().tolist()\n",
    "        \n",
    "        all_val_targets = []\n",
    "        all_predicted_val_labels = []\n",
    "        all_probabilities_val = []\n",
    "        for j in range(len((peptide_val_loader))):\n",
    "            val_peptides = peptide_val_loader[j]\n",
    "            val_HLA = HLA_val_loader[j]\n",
    "            val_labels = label_val_loader[j].long()\n",
    "            val_binding_scores = binding_score_val_loader[j]\n",
    "            outputs = model(val_peptides,val_HLA,val_binding_scores)\n",
    "            probability,predicted_labels =  torch.max(outputs, 1)\n",
    "            all_predicted_val_labels += predicted_labels.numpy().tolist()\n",
    "            all_val_targets += val_labels.numpy().tolist()\n",
    "            all_probabilities_val += probability.numpy().tolist()\n",
    "\n",
    "    return all_train_targets,all_predicted_train_labels,all_val_targets,all_predicted_val_labels,all_probabilities_val\n",
    "\n",
    "\n",
    "def train(model, device, epochs, train_loaders, valid_loaders):\n",
    "\n",
    "    criterion = nn.CrossEntropyLoss()\n",
    "    optimizer = optim.Adam(model.parameters(), lr=0.0001,weight_decay=1e-4)\n",
    "\n",
    "    # Early stopping\n",
    "    the_last_loss = 100\n",
    "    patience = 4\n",
    "    trigger_times = 0\n",
    "    \n",
    "    all_val_targets_pr_epoch = []\n",
    "    all_val_predictions_pr_epoch = []\n",
    "    all_val_probabilities_pr_epoch = []\n",
    "    losses = []\n",
    "\n",
    "    train_accuracies = []\n",
    "    val_accuracies = []\n",
    "\n",
    "    peptide_train_loader,HLA_train_loader,label_train_loader,binding_score_train_loader = train_loaders\n",
    "        \n",
    "    for epoch in range(epochs):\n",
    "        model.train()\n",
    "        current_loss = 0\n",
    "        for train_batch_index in range(len((peptide_train_loader))):\n",
    "            train_peptides = peptide_train_loader[train_batch_index]\n",
    "            train_HLA = HLA_train_loader[train_batch_index]\n",
    "            train_labels = label_train_loader[train_batch_index].long()\n",
    "            train_binding_scores = binding_score_train_loader[train_batch_index]\n",
    "            # zero the parameter gradients\n",
    "            optimizer.zero_grad()\n",
    "            outputs = model(train_peptides,train_HLA,train_binding_scores)\n",
    "            loss = criterion(outputs, train_labels)\n",
    "            loss.backward()\n",
    "            optimizer.step()\n",
    "            current_loss += loss.item()\n",
    "        losses.append(current_loss/len((peptide_train_loader)))\n",
    "\n",
    "        all_train_targets,all_predicted_train_labels,all_val_targets,all_predicted_val_labels,all_probabilities_val = validation(model,device,valid_loaders,train_loaders)\n",
    "    \n",
    "        # Calculating the accuracies\n",
    "        train_accuracies.append(accuracy_score(all_train_targets,all_predicted_train_labels))\n",
    "        val_accuracies.append(accuracy_score(all_val_targets,all_predicted_val_labels))\n",
    "        # Saving the predicitons for further validation\n",
    "        all_val_targets_pr_epoch.append(all_val_targets)\n",
    "        all_val_predictions_pr_epoch.append(all_predicted_val_labels)\n",
    "        all_val_probabilities_pr_epoch.append(all_probabilities_val)\n",
    "\n",
    "        if epoch % 10 == 0:\n",
    "            print(\"Epoch %2i : Train Loss %f , Train acc %f, Valid acc %f\" % (epoch+1, losses[-1], train_accuracies[-1], val_accuracies[-1]))\n",
    "        \n",
    "\n",
    "        # Early stopping\n",
    "        the_current_loss = val_accuracies[-1]\n",
    "        the_last_loss = 0 if len(val_accuracies) < 2 else val_accuracies[-2]\n",
    "\n",
    "        # print('The current valdiation loss:', the_current_loss)\n",
    "\n",
    "        if the_current_loss < the_last_loss:\n",
    "            trigger_times += 1\n",
    "            # print('trigger times:', trigger_times)\n",
    "\n",
    "            if trigger_times >= patience:\n",
    "                # print('Early stopping at epoch',epoch)\n",
    "                return model,train_accuracies,val_accuracies,all_val_targets_pr_epoch,all_val_predictions_pr_epoch,all_val_probabilities_pr_epoch\n",
    "\n",
    "        else:\n",
    "            # print('trigger times: 0')\n",
    "            trigger_times = 0\n",
    "\n",
    "    return model,train_accuracies,val_accuracies,all_val_targets_pr_epoch,all_val_predictions_pr_epoch,all_val_probabilities_pr_epoch\n",
    "\n",
    "device = 'cuda:0' if torch.cuda.is_available() else 'cpu'\n",
    "print('Device state:', device)\n",
    "\n",
    "\n"
   ]
  },
  {
   "cell_type": "markdown",
   "metadata": {},
   "source": [
    "## Encoding entire data set"
   ]
  },
  {
   "cell_type": "code",
   "execution_count": 25,
   "metadata": {},
   "outputs": [],
   "source": [
    "# Loading the databases\n",
    "aaindex_PCA = pd.read_csv('../data/PCA_repr_aa.csv',index_col=0)\n",
    "hla_database = pd.read_csv('../data/formatted_hla2paratope_MHC_pseudo.dat', sep=' ',index_col=0)\n",
    "hla_dic = hla_database.to_dict(\"dict\")[\"pseudo\"]\n",
    "\n",
    "all_data = pd.read_csv(\"../data/filtered_data_IEDB_4_tested_len_9_10_full_HLA_Multi_assay_w_binding_w_parts.csv\")\n",
    "all_data = all_data.sample(frac=1, random_state=1).reset_index(drop=True)\n",
    "\n",
    "all_peptides_encoded,all_HLA_encoded,all_binding_scores_encoded,all_label_encoded = encode_dataset(all_data,aaindex_PCA,hla_dic,peptide_len=10,padding=\"right\")"
   ]
  },
  {
   "cell_type": "markdown",
   "metadata": {},
   "source": [
    "## 5-fold cross-validation loop"
   ]
  },
  {
   "cell_type": "code",
   "execution_count": 28,
   "metadata": {},
   "outputs": [
    {
     "name": "stdout",
     "output_type": "stream",
     "text": [
      "the val and train parts\n",
      "[1, 2] [3, 4, 5, 6, 7, 8, 9]\n",
      "Epoch  1 : Train Loss 0.655102 , Train acc 0.661042, Valid acc 0.653517\n",
      "Epoch 11 : Train Loss 0.577089 , Train acc 0.686352, Valid acc 0.680473\n",
      "Epoch 21 : Train Loss 0.566719 , Train acc 0.705849, Valid acc 0.671269\n",
      "the val and train parts\n",
      "[3, 4] [1, 2, 5, 6, 7, 8, 9]\n",
      "Epoch  1 : Train Loss 0.638324 , Train acc 0.657255, Valid acc 0.665561\n",
      "Epoch 11 : Train Loss 0.571363 , Train acc 0.701384, Valid acc 0.692767\n",
      "Epoch 21 : Train Loss 0.559377 , Train acc 0.721952, Valid acc 0.693431\n",
      "the val and train parts\n",
      "[5, 6] [1, 2, 3, 4, 7, 8, 9]\n",
      "Epoch  1 : Train Loss 0.619512 , Train acc 0.675315, Valid acc 0.654297\n",
      "Epoch 11 : Train Loss 0.577041 , Train acc 0.685279, Valid acc 0.657552\n",
      "the val and train parts\n",
      "[7, 8] [1, 2, 3, 4, 5, 6, 9]\n",
      "Epoch  1 : Train Loss 0.650271 , Train acc 0.655851, Valid acc 0.649376\n",
      "Epoch 11 : Train Loss 0.580954 , Train acc 0.689985, Valid acc 0.674327\n",
      "Epoch 21 : Train Loss 0.566997 , Train acc 0.702363, Valid acc 0.682206\n",
      "the val and train parts\n",
      "[9] [1, 2, 3, 4, 5, 6, 7, 8]\n",
      "Epoch  1 : Train Loss 0.641684 , Train acc 0.655495, Valid acc 0.643229\n",
      "Epoch 11 : Train Loss 0.575021 , Train acc 0.705602, Valid acc 0.671875\n",
      "Epoch 21 : Train Loss 0.564009 , Train acc 0.722523, Valid acc 0.678385\n"
     ]
    }
   ],
   "source": [
    "N = len(all_data)\n",
    "K = 5\n",
    "no_epoch = 30\n",
    "\n",
    "testing = True\n",
    "part_dict = {0:[0,1], 1:[2,3], 2:[4,5], 3:[6,7], 4:[8,9]}\n",
    "part_dict_testing = {0:[1,2], 1:[3,4], 2:[5,6], 3:[7,8], 4:[9]}\n",
    "partitions = [0,1,2,3,4,5,6,7,8,9]\n",
    "\n",
    "batch_size = 20\n",
    "\n",
    "lst_train_accuracies = []\n",
    "\n",
    "lst_val_accuracies = []\n",
    "lst_val_predictions = []\n",
    "lst_val_labels = []\n",
    "lst_val_probabilities = []\n",
    "\n",
    "lst_test_accuracies = []\n",
    "lst_test_predictions = []\n",
    "lst_test_labels = []\n",
    "lst_test_probabilities = []\n",
    "\n",
    "for i in range(K):\n",
    "    if testing == True:\n",
    "        ## The partitions to use for training, validation ##\n",
    "        testing_parts = [0]\n",
    "        validation_parts = part_dict_testing[i]\n",
    "        training_parts = [j for j in range(1,10) if j not in validation_parts]\n",
    "        print(\"the val and train parts\")\n",
    "        print(validation_parts, training_parts)\n",
    "\n",
    "        test_peptides_encoded = all_peptides_encoded[all_data[\"parts\"].isin(testing_parts)]\n",
    "        test_HLA_encoded = all_HLA_encoded[all_data[\"parts\"].isin(testing_parts)]\n",
    "        test_binding_scores_encoded = all_binding_scores_encoded[all_data[\"parts\"].isin(testing_parts)]\n",
    "        test_label_encoded = all_label_encoded[all_data[\"parts\"].isin(testing_parts)]\n",
    "\n",
    "        peptide_test = test_peptides_encoded.reshape(-1,10,12)\n",
    "        HLA_test = test_HLA_encoded.reshape(-1,34,12) # 46 aligned representataion and 34 if not aligned\n",
    "        binding_test = test_binding_scores_encoded.reshape(-1,1)\n",
    "        label_test = test_label_encoded.reshape(-1)\n",
    "\n",
    "        peptide_test_loader = list(DataLoader(peptide_test,batch_size=len(peptide_test)))\n",
    "        HLA_test_loader = list(DataLoader(HLA_test,batch_size=len(peptide_test)))\n",
    "        label_test_loader = list(DataLoader(label_test,batch_size=len(peptide_test)))\n",
    "        binding_score_test_loader = list(DataLoader(binding_test,batch_size=len(peptide_test)))\n",
    "\n",
    "    else:\n",
    "\n",
    "        ## The partitions to use for training, validation ##\n",
    "        validation_parts = part_dict[i]\n",
    "        training_parts = [j for j in range(10) if j not in validation_parts]\n",
    "        print(\"the val and train parts\")\n",
    "        print(validation_parts, training_parts)\n",
    "\n",
    "    train_peptides_encoded = all_peptides_encoded[all_data[\"parts\"].isin(training_parts)]\n",
    "    train_HLA_encoded = all_HLA_encoded[all_data[\"parts\"].isin(training_parts)]\n",
    "    train_binding_scores_encoded = all_binding_scores_encoded[all_data[\"parts\"].isin(training_parts)]\n",
    "    train_label_encoded = all_label_encoded[all_data[\"parts\"].isin(training_parts)]\n",
    "\n",
    "    val_peptides_encoded = all_peptides_encoded[all_data[\"parts\"].isin(validation_parts)]\n",
    "    val_HLA_encoded = all_HLA_encoded[all_data[\"parts\"].isin(validation_parts)]\n",
    "    val_binding_scores_encoded = all_binding_scores_encoded[all_data[\"parts\"].isin(validation_parts)]\n",
    "    val_label_encoded = all_label_encoded[all_data[\"parts\"].isin(validation_parts)]\n",
    "\n",
    "    ## Reshaping everything ##\n",
    "    peptide_train = train_peptides_encoded.reshape(-1,10,12)\n",
    "    HLA_train = train_HLA_encoded.reshape(-1,34,12)\n",
    "    binding_train = train_binding_scores_encoded.reshape(-1,1)\n",
    "    label_train = train_label_encoded.reshape(-1)\n",
    "\n",
    "    peptide_val = val_peptides_encoded.reshape(-1,10,12)\n",
    "    HLA_val = val_HLA_encoded.reshape(-1,34,12) # 46 aligned representataion and 34 if not aligned\n",
    "    binding_val = val_binding_scores_encoded.reshape(-1,1)\n",
    "    label_val = val_label_encoded.reshape(-1)\n",
    "\n",
    "\n",
    "    ## Batches for training the model ##\n",
    "    peptide_train_loader = list(DataLoader(peptide_train,batch_size=batch_size))\n",
    "    HLA_train_loader = list(DataLoader(HLA_train,batch_size=batch_size))\n",
    "    label_train_loader = list(DataLoader(label_train,batch_size=batch_size))\n",
    "    binding_score_train_loader = list(DataLoader(binding_train,batch_size=batch_size))\n",
    "\n",
    "    peptide_val_loader = list(DataLoader(peptide_val,batch_size=batch_size))\n",
    "    HLA_val_loader = list(DataLoader(HLA_val,batch_size=batch_size))\n",
    "    label_val_loader = list(DataLoader(label_val,batch_size=batch_size))\n",
    "    binding_score_val_loader = list(DataLoader(binding_val,batch_size=batch_size))\n",
    "\n",
    "    train_loaders = (peptide_train_loader, HLA_train_loader, label_train_loader, binding_score_train_loader)\n",
    "    val_loaders = (peptide_val_loader, HLA_val_loader, label_val_loader, binding_score_val_loader)\n",
    "\n",
    "    net = Net()\n",
    "    net.apply(initialize_weights)\n",
    "\n",
    "    trained_model,train_accuracies,val_accuracies,all_val_targets_pr_epoch,all_val_predictions_pr_epoch,all_val_probabilities_pr_epoch= train(net,device,no_epoch,train_loaders,val_loaders)\n",
    "    lst_train_accuracies.append(train_accuracies)\n",
    "    lst_val_accuracies.append(val_accuracies)\n",
    "    lst_val_predictions.append(np.array(all_val_predictions_pr_epoch))\n",
    "    lst_val_labels.append(np.array(all_val_targets_pr_epoch))\n",
    "    lst_val_probabilities.append(np.array(all_val_probabilities_pr_epoch))\n",
    "    \n",
    "    if testing == True:\n",
    "        \n",
    "        test_outputs = trained_model(peptide_test_loader[0],HLA_test_loader[0],binding_score_test_loader[0])\n",
    "        probability,predicted_labels =  torch.max(test_outputs, 1)\n",
    "        test_accuracies = accuracy_score(label_test,predicted_labels)\n",
    "        \n",
    "        lst_test_accuracies.append(test_accuracies)\n",
    "        lst_test_predictions.append(predicted_labels)\n",
    "        lst_test_labels.append(label_test)\n",
    "        lst_test_probabilities.append(probability)\n",
    "\n"
   ]
  },
  {
   "cell_type": "markdown",
   "metadata": {},
   "source": [
    "## Functions for \"statistics\""
   ]
  },
  {
   "cell_type": "code",
   "execution_count": 121,
   "metadata": {},
   "outputs": [],
   "source": [
    "def plot_epochs(K, lst_train_acc, lst_val_acc): \n",
    "    plt.figure()\n",
    "    for i in range(K):\n",
    "        epoch = np.arange(len(lst_train_acc[i]))\n",
    "        plt.plot(epoch, lst_train_acc[i], 'r', epoch, lst_val_acc[i], 'b')\n",
    "    plt.title(\"Performance of {} fold CV\".format(K))\n",
    "    plt.legend(['Train Accuracy','Validation Accuracy'])\n",
    "    plt.xlabel('epochs'), plt.ylabel('Acc')\n",
    "    plt.show        \n",
    "\n",
    "#plt.savefig(\"../plots/FFNN_3_layers_bigthensmall_btchnrm_drpt_bndscr.png\", dpi = 400, transparent = False)"
   ]
  },
  {
   "cell_type": "code",
   "execution_count": 122,
   "metadata": {},
   "outputs": [],
   "source": [
    "def calculate_avg_val_performance(K, N, lst_val_acc, lst_val_lab, lst_val_pred):\n",
    "    \"\"\"Calculate the generalization error\n",
    "\n",
    "    Args:\n",
    "        lst_val_acc (list of lists): list of lists containing validation accuracies for each fold\n",
    "        lst_val_lab (list of lists): list of lists containing validation labels for each fold\n",
    "        lst_val_pred (list of lists): list of lists containing validation predictions for each fold\n",
    "        N (int): Total number of observations in data set\n",
    "    \"\"\"\n",
    "    avg_recall = 0\n",
    "    avg_accuracy = 0 \n",
    "    avg_f1 = 0\n",
    "\n",
    "    res = np.zeros((K,5))\n",
    "    for i in range(K):\n",
    "        best_epoch_model = np.argmax(lst_val_acc[i])\n",
    "        n = len(lst_val_lab[i][best_epoch_model])\n",
    "        accuracy = accuracy_score(lst_val_lab[i][best_epoch_model],lst_val_pred[i][best_epoch_model])\n",
    "        recall = recall_score(lst_val_lab[i][best_epoch_model],lst_val_pred[i][best_epoch_model])\n",
    "        f1 = f1_score(lst_val_lab[i][best_epoch_model],lst_val_pred[i][best_epoch_model])\n",
    "\n",
    "        res[i][0] = best_epoch_model\n",
    "        res[i][1] = n\n",
    "        res[i][2] = accuracy\n",
    "        res[i][3] = recall\n",
    "        res[i][4] = f1\n",
    "\n",
    "        avg_recall += (n/N) * recall\n",
    "        avg_accuracy += (n/N) * accuracy\n",
    "        avg_f1 += (n/N) * f1\n",
    "\n",
    "    print(f\"Best average results - Recall: {avg_recall} accuracy: {avg_accuracy} f1-score: {avg_f1}\")\n",
    "    return res"
   ]
  },
  {
   "cell_type": "code",
   "execution_count": 123,
   "metadata": {},
   "outputs": [],
   "source": [
    "def k_fold_confusion_matrix(K, lst_val_acc, lst_val_lab, lst_val_pred):\n",
    "    \"\"\"Plot the overall confusion matrix for 5 fold CV\n",
    "\n",
    "    Args:\n",
    "        lst_val_acc (list of lists): list of lists containing validation accuracies for each fold\n",
    "        lst_val_lab (list of lists): list of lists containing validation labels for each fold\n",
    "        lst_val_pred (list of lists): list of lists containing validation predictions for each fold\n",
    "    \"\"\"\n",
    "    all_labels = []\n",
    "    all_predictions = []\n",
    "    for i in range(K):\n",
    "        best_epoch_model = np.argmax(lst_val_acc[i])\n",
    "        all_labels.extend(lst_val_lab[i][best_epoch_model])\n",
    "        all_predictions.extend(lst_val_pred[i][best_epoch_model])\n",
    "\n",
    "    fig = plt.figure(figsize=(10,6))\n",
    "    plt.title(\"Confusion matrix of best epoch for validation performance\")\n",
    "    conf_mat = confusion_matrix(all_labels,all_predictions)\n",
    "    sns.heatmap(conf_mat, square=True, annot=True, cmap='Blues', fmt='d', cbar=False)\n",
    "    plt.xlabel(\"Predicted\")\n",
    "    plt.ylabel(\"Actual\")\n",
    "    plt.show()"
   ]
  },
  {
   "cell_type": "code",
   "execution_count": 124,
   "metadata": {},
   "outputs": [],
   "source": [
    "def violin_best_fold(res_mtrx, lst_val_acc, lst_val_lab, lst_val_pred, lst_val_prob):\n",
    "    \"\"\"For the best fold, find the best epoch, and plot the violin plot\n",
    "\n",
    "    Args:\n",
    "        res_mtrx (matrix): result matrix from calculate_avg_performance\n",
    "        lst_val_acc (list of lists): list of lists containing validation accuracies for each fold\n",
    "        lst_val_lab (list of lists): list of lists containing validation labels for each fold\n",
    "        lst_val_pred (list of lists): list of lists containing validation predictions for each fold\n",
    "        lst_val_prob (list of lists): list of lists containing validation probabilities for each fold\n",
    "    \"\"\"\n",
    "    best_fold = np.argmax(res_mtrx[:,2])\n",
    "    best_epoch_model = np.argmax(lst_val_acc[best_fold])\n",
    "    labels_best_epoch = lst_val_lab[best_fold][best_epoch_model]\n",
    "    predictions_best_epoch = lst_val_pred[best_fold][best_epoch_model]\n",
    "    probabilities_best_epoch = lst_val_prob[best_fold][best_epoch_model]\n",
    "    true_predictions = [x==y for x,y in zip(labels_best_epoch,predictions_best_epoch)]\n",
    "    dataframe = pd.DataFrame()\n",
    "    dataframe[\"Probs\"] = probabilities_best_epoch\n",
    "    dataframe[\"Predictions\"] = predictions_best_epoch\n",
    "    dataframe[\"Labels\"] = labels_best_epoch\n",
    "    dataframe[\"True\"] = true_predictions    \n",
    "\n",
    "    plt.figure(figsize=(10,6))\n",
    "    ax = sns.violinplot(x=\"True\", y=\"Probs\", data=dataframe)\n",
    "    plt.title(\"For the best epoch of the best fold - so only one model here!\")\n",
    "    plt.xlabel(\"Predicted label\")\n",
    "    plt.ylabel(\"Probability associated with label\")\n",
    "    plt.show()\n",
    "\n",
    "    plt.figure(figsize=(10,6))\n",
    "    ax = sns.boxplot(x=\"True\", y=\"Probs\", data=dataframe)\n",
    "    plt.title(\"For the best epoch of the best fold - so only one model here!\")\n",
    "    plt.xlabel(\"Predicted label\")\n",
    "    plt.ylabel(\"Probability associated with label\")\n",
    "    plt.show()"
   ]
  },
  {
   "cell_type": "markdown",
   "metadata": {},
   "source": [
    "## Statistics for network"
   ]
  },
  {
   "cell_type": "code",
   "execution_count": 130,
   "metadata": {},
   "outputs": [
    {
     "data": {
      "image/png": "[encoded data removed]",
      "text/plain": [
       "<Figure size 432x288 with 1 Axes>"
      ]
     },
     "metadata": {
      "needs_background": "light"
     },
     "output_type": "display_data"
    }
   ],
   "source": [
    "# line plot\n",
    "plot_epochs(K, lst_train_accuracies, lst_val_accuracies)"
   ]
  },
  {
   "cell_type": "code",
   "execution_count": 131,
   "metadata": {},
   "outputs": [
    {
     "name": "stdout",
     "output_type": "stream",
     "text": [
      "Best average results - Recall: 0.6844220271065364 accuracy: 0.7244347191830781 f1-score: 0.7181589059098828\n"
     ]
    }
   ],
   "source": [
    "# average validation recall, accuracy and f1 for the best epoch of each fold\n",
    "N = len(all_data)\n",
    "\n",
    "if testing == True:     # The data in testing has not been used, so reduce N\n",
    "    N -= len(lst_test_labels[0])\n",
    "\n",
    "result_mtrx = calculate_avg_val_performance(K, N, lst_val_accuracies, lst_val_labels, lst_val_predictions)\n"
   ]
  },
  {
   "cell_type": "code",
   "execution_count": 132,
   "metadata": {},
   "outputs": [
    {
     "data": {
      "image/png": "[encoded data removed]",
      "text/plain": [
       "<Figure size 720x432 with 1 Axes>"
      ]
     },
     "metadata": {
      "needs_background": "light"
     },
     "output_type": "display_data"
    }
   ],
   "source": [
    "# Confusion matrix for all folds (if testing == true, part 0 is not included here!)\n",
    "k_fold_confusion_matrix(K, lst_val_accuracies, lst_val_labels, lst_val_predictions)\n"
   ]
  },
  {
   "cell_type": "code",
   "execution_count": 133,
   "metadata": {},
   "outputs": [
    {
     "data": {
      "image/png": "[encoded data removed]",
      "text/plain": [
       "<Figure size 720x432 with 1 Axes>"
      ]
     },
     "metadata": {
      "needs_background": "light"
     },
     "output_type": "display_data"
    },
    {
     "data": {
      "image/png": "[encoded data removed]",
      "text/plain": [
       "<Figure size 720x432 with 1 Axes>"
      ]
     },
     "metadata": {
      "needs_background": "light"
     },
     "output_type": "display_data"
    }
   ],
   "source": [
    "# violin plot\n",
    "violin_best_fold(result_mtrx, lst_val_accuracies, lst_val_labels, lst_val_predictions, lst_val_probabilities)"
   ]
  },
  {
   "cell_type": "code",
   "execution_count": null,
   "metadata": {},
   "outputs": [],
   "source": []
  }
 ],
 "metadata": {
  "interpreter": {
   "hash": "c6e4e9f98eb68ad3b7c296f83d20e6de614cb42e90992a65aa266555a3137d0d"
  },
  "kernelspec": {
   "display_name": "Python 3.9.9 ('base')",
   "language": "python",
   "name": "python3"
  },
  "language_info": {
   "codemirror_mode": {
    "name": "ipython",
    "version": 3
   },
   "file_extension": ".py",
   "mimetype": "text/x-python",
   "name": "python",
   "nbconvert_exporter": "python",
   "pygments_lexer": "ipython3",
   "version": "3.9.9"
  },
  "orig_nbformat": 4
 },
 "nbformat": 4,
 "nbformat_minor": 2
}
