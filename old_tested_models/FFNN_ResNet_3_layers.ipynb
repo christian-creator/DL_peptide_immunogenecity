{
 "cells": [
  {
   "cell_type": "code",
   "execution_count": 1,
   "metadata": {},
   "outputs": [],
   "source": [
    "import numpy as np\n",
    "import pandas as pd\n",
    "import matplotlib.pyplot as plt\n",
    "from sklearn.metrics import auc,precision_recall_curve,roc_curve,confusion_matrix\n",
    "import os,sys\n",
    "import pickle\n",
    "from sklearn.model_selection import KFold\n",
    "from sklearn.model_selection import train_test_split\n",
    "import random\n",
    "import seaborn as sns\n",
    "np.random.seed(10)\n",
    "random.seed(10)\n"
   ]
  },
  {
   "cell_type": "markdown",
   "metadata": {},
   "source": [
    "## Functions for loading data"
   ]
  },
  {
   "cell_type": "code",
   "execution_count": 2,
   "metadata": {},
   "outputs": [],
   "source": [
    "def load_training_and_validataion_dataset(path_to_partitions,train_splits):\n",
    "    import random\n",
    "    ## Training\n",
    "    # training_partions = random.sample(range(10),train_splits)\n",
    "    training_partions = [9, 0, 6, 3, 4, 8, 1, 7]\n",
    "\n",
    "    ## Validation\n",
    "    validation_partions = [i for i in range(10) if i not in training_partions]\n",
    "    partitions = []\n",
    "    for file in os.listdir(path_to_partitions):\n",
    "        path_to_file = os.path.join(path_to_partitions,file)\n",
    "        data = pd.read_csv(path_to_file,sep=\"\\t\",names=[\"peptide\",\"label\",\"HLA_allele\"])\n",
    "        partitions.append(data)\n",
    "    training_df = pd.concat([partitions[i] for i in training_partions])\n",
    "    validation_df = pd.concat([partitions[i] for i in validation_partions])\n",
    "    return training_df, validation_df,training_partions,validation_partions\n",
    "\n",
    "def retrieve_information_from_df(data_split,entire_df):\n",
    "    immunogenicity = []\n",
    "    response = []\n",
    "    tested_subjects = []\n",
    "    positive_subjects = []\n",
    "    binding_scores = []\n",
    "    for i,row in data_split.iterrows():\n",
    "        peptide, HLA = row[\"peptide\"], row['HLA_allele']\n",
    "        original_entry = entire_df[(entire_df['peptide']==peptide) & (entire_df['HLA_allele'] == HLA)]\n",
    "        assert len(original_entry) == 1\n",
    "        immunogenicity.append(float(original_entry['immunogenicity']))\n",
    "        response.append(original_entry['Response'].values[0])\n",
    "        tested_subjects.append(int(original_entry['tested_subjects']))\n",
    "        positive_subjects.append(int(original_entry['positive_subjects']))\n",
    "        binding_scores.append(float(original_entry['binding_score']))\n",
    "    data_split['immunogenicity'] = immunogenicity\n",
    "    data_split['response'] = response\n",
    "    data_split['test'] = tested_subjects\n",
    "    data_split['positive_subjects'] = positive_subjects\n",
    "    data_split['binding_score'] = binding_scores\n",
    "    return data_split  \n",
    "\n",
    "\n",
    "def encode_peptide_aaindex(aa_seq,aaindex_PCA,row):\n",
    "    aa_seq = list(aa_seq.upper())\n",
    "    encoded_aa_seq = []\n",
    "    PCs = aaindex_PCA.shape[1]\n",
    "    for aa in aa_seq:\n",
    "        if aa == \"X\" or aa == \"-\":\n",
    "            encoded_aa_seq.append(np.array([0 for x in range(PCs)]))\n",
    "        else:\n",
    "            try:\n",
    "                encoded_aa_seq.append(aaindex_PCA.loc[aa].to_numpy())\n",
    "            except KeyError:\n",
    "                print(row)\n",
    "                sys.exit(1)\n",
    "    return np.array(encoded_aa_seq)\n",
    "\n",
    "def encode_dataset(df,aaindex_PCA,HLA_dict,peptide_len,padding=\"right\"):\n",
    "    encoded_peptides = []\n",
    "    encoded_labels = []\n",
    "    encoded_hlas = []\n",
    "    encoded_binding_scores = []\n",
    "    for i,row in df.iterrows():\n",
    "        peptide = row[\"peptide\"]\n",
    "        HLA = HLA_dict[row[\"HLA_allele\"].replace(\":\",\"\")]\n",
    "        encoded_peptide = encode_peptide_aaindex(peptide,aaindex_PCA,row)\n",
    "        binding_score = row['binding_score']\n",
    "\n",
    "\n",
    "        # Adding padding\n",
    "        if len(encoded_peptide) < peptide_len:\n",
    "            n_added = peptide_len-len(encoded_peptide)\n",
    "            if padding == \"right\":\n",
    "                encoded_peptide = np.pad(encoded_peptide, ((0, 1), (0, 0)), 'constant')\n",
    "            elif padding == \"left\":\n",
    "                encoded_peptide = np.pad(encoded_peptide, ((1, 0), (0, 0)), 'constant')\n",
    "            elif padding == \"random\":\n",
    "                top_pad = random.choice([0,1])\n",
    "                bot_pad = 1-top_pad\n",
    "                encoded_peptide = np.pad(encoded_peptide, ((top_pad, bot_pad), (0, 0)), 'constant')\n",
    "\n",
    "\n",
    "        encoded_HLA = encode_peptide_aaindex(HLA,aaindex_PCA,row)\n",
    "        encoded_label = min(1,row[\"positive_subjects\"])\n",
    "        encoded_peptides.append(encoded_peptide)\n",
    "        encoded_hlas.append(encoded_HLA)\n",
    "        encoded_labels.append(encoded_label)\n",
    "        encoded_binding_scores.append(binding_score)\n",
    "    \n",
    "    encoded_peptides = np.array(encoded_peptides).astype('float32')\n",
    "    encoded_hlas = np.array(encoded_hlas).astype('float32')\n",
    "    encoded_labels = np.array(encoded_labels).astype('float32')\n",
    "    encoded_binding_scores = np.array(encoded_binding_scores).astype('float32')\n",
    "    return encoded_peptides, encoded_hlas, encoded_binding_scores, encoded_labels\n"
   ]
  },
  {
   "cell_type": "markdown",
   "metadata": {},
   "source": [
    "## Loading the data"
   ]
  },
  {
   "cell_type": "code",
   "execution_count": 3,
   "metadata": {},
   "outputs": [
    {
     "name": "stdout",
     "output_type": "stream",
     "text": [
      "##Encoding Training data\n",
      "##Encoding Validation data\n"
     ]
    }
   ],
   "source": [
    "# Loading the databases\n",
    "aaindex_PCA = pd.read_csv('../data/PCA_repr_aa.csv',index_col=0)\n",
    "hla_database = pd.read_csv('../data/formatted_hla2paratope_MHC_pseudo.dat', sep=' ',index_col=0)\n",
    "hla_dic = hla_database.to_dict(\"dict\")[\"pseudo\"]\n",
    "\n",
    "# Load dataset\n",
    "# entire_df = pd.read_csv('../data/filtered_data_IEDB_4_tested_len_9_10_full_HLA_IFNg_assay.csv')\n",
    "entire_df = pd.read_csv(\"../data/filtered_data_IEDB_4_tested_len_9_10_full_HLA_Multi_assay_w_binding.csv\")\n",
    "# entire_df = pd.read_csv('../data/deep_immuno_2.csv')\n",
    "\n",
    "\n",
    "# Allocating the partitions of the trainign and validation data\n",
    "training_df, validation_df, training_partions,validation_partions = load_training_and_validataion_dataset(path_to_partitions=\"../data/multi_assay_parts\",train_splits=8)\n",
    "\n",
    "\n",
    "# Creating the training dataframe (With correct information such as tested and positive subjects aswell as label)\n",
    "training_df_entire = retrieve_information_from_df(training_df,entire_df)\n",
    "# Shuffling the dataframe\n",
    "training_df_entire = training_df_entire.sample(frac=1, random_state=1).reset_index(drop=True)\n",
    "\n",
    "# Creating the validation dataframe (With correct information such as tested and positive subjects aswell as label)\n",
    "validation_df_entire = retrieve_information_from_df(validation_df,entire_df)\n",
    "# Shuffling the dataframe\n",
    "validation_df_entire = validation_df_entire.sample(frac=1, random_state=1).reset_index(drop=True)\n",
    "\n",
    "print(\"##Encoding Training data\")\n",
    "train_peptides_encoded,train_HLA_encoded,train_binding_scores_encoded,train_label_encoded = encode_dataset(training_df_entire,aaindex_PCA,hla_dic,peptide_len=10,padding=\"right\")\n",
    "print(\"##Encoding Validation data\")\n",
    "val_peptides_encoded,val_HLA_encoded,val_binding_scores_encoded ,val_label_encoded = encode_dataset(validation_df_entire,aaindex_PCA,hla_dic,peptide_len=10,padding=\"right\")\n",
    "\n",
    "peptide_train = train_peptides_encoded.reshape(-1,1,10,12)\n",
    "HLA_train = train_HLA_encoded.reshape(-1,1,34,12)\n",
    "binding_train = train_binding_scores_encoded\n",
    "label_train = train_label_encoded\n",
    "\n",
    "peptide_val = val_peptides_encoded.reshape(-1,1,10,12)\n",
    "HLA_val = val_HLA_encoded.reshape(-1,1,34,12) # 46 aligned representataion and 34 if not aligned\n",
    "binding_val = val_binding_scores_encoded\n",
    "label_val = val_label_encoded\n"
   ]
  },
  {
   "cell_type": "markdown",
   "metadata": {},
   "source": [
    "## Definning the model"
   ]
  },
  {
   "cell_type": "code",
   "execution_count": 4,
   "metadata": {},
   "outputs": [],
   "source": [
    "import torch\n",
    "from torch.autograd import Variable\n",
    "from torch.nn.parameter import Parameter\n",
    "import torch.nn as nn\n",
    "import torch.nn.functional as F\n",
    "import torch.optim as optim\n",
    "import torch.nn.init as init\n",
    "from torch.utils.data import DataLoader\n",
    "\n",
    "from torch.nn import Linear, Conv2d, BatchNorm2d, MaxPool2d, Dropout2d\n",
    "from torch.nn.functional import relu, elu, relu6, sigmoid, tanh, softmax\n",
    "from torch.nn import Linear, GRU, Conv2d, Dropout, MaxPool2d, BatchNorm1d"
   ]
  },
  {
   "cell_type": "code",
   "execution_count": 5,
   "metadata": {},
   "outputs": [
    {
     "data": {
      "text/plain": [
       "33"
      ]
     },
     "execution_count": 5,
     "metadata": {},
     "output_type": "execute_result"
    }
   ],
   "source": [
    "def compute_conv_dim(dim_size,kernel_size,padding,stride):\n",
    "    return int((dim_size - kernel_size + 2 * padding) / stride + 1)\n",
    "compute_conv_dim(34,2,0,1)"
   ]
  },
  {
   "cell_type": "code",
   "execution_count": 6,
   "metadata": {},
   "outputs": [],
   "source": [
    "def initialize_weights(m):\n",
    "    if isinstance(m, nn.Conv2d):\n",
    "          nn.init.kaiming_uniform_(m.weight.data,nonlinearity='relu')\n",
    "          if m.bias is not None:\n",
    "                nn.init.constant_(m.bias.data, 0)\n",
    "    elif isinstance(m, nn.BatchNorm2d):\n",
    "          nn.init.constant_(m.weight.data, 1)\n",
    "          nn.init.constant_(m.bias.data, 0)\n",
    "    elif isinstance(m, nn.Linear):\n",
    "          nn.init.kaiming_uniform_(m.weight.data,nonlinearity='relu')\n",
    "          if m.bias is not None:\n",
    "                nn.init.constant_(m.bias.data, 0)\n",
    "          "
   ]
  },
  {
   "cell_type": "code",
   "execution_count": 9,
   "metadata": {},
   "outputs": [
    {
     "name": "stdout",
     "output_type": "stream",
     "text": [
      "Net(\n",
      "  (L_in): Linear(in_features=529, out_features=264, bias=True)\n",
      "  (batchnorm1): BatchNorm1d(264, eps=1e-05, momentum=0.1, affine=True, track_running_stats=True)\n",
      "  (drop_out1): Dropout(p=0.4, inplace=False)\n",
      "  (L_2): Linear(in_features=793, out_features=396, bias=True)\n",
      "  (batchnorm2): BatchNorm1d(396, eps=1e-05, momentum=0.1, affine=True, track_running_stats=True)\n",
      "  (drop_out2): Dropout(p=0.4, inplace=False)\n",
      "  (L_3): Linear(in_features=1189, out_features=594, bias=True)\n",
      "  (batchnorm3): BatchNorm1d(594, eps=1e-05, momentum=0.1, affine=True, track_running_stats=True)\n",
      "  (drop_out3): Dropout(p=0.4, inplace=False)\n",
      "  (L_out): Linear(in_features=594, out_features=2, bias=True)\n",
      ")\n"
     ]
    }
   ],
   "source": [
    "# hyperameters of the model\n",
    "n = peptide_train.shape[0]\n",
    "\n",
    "# define network\n",
    "class Net(nn.Module):\n",
    "\n",
    "    def __init__(self):\n",
    "        super(Net, self).__init__()\n",
    "\n",
    "        # Denselayer\n",
    "        self.L_in = Linear(in_features=529, # 528 if binding_score None, else 529\n",
    "                            out_features= 264)\n",
    "\n",
    "        self.batchnorm1 = nn.BatchNorm1d(264)\n",
    "        self.drop_out1 = nn.Dropout(p=0.4)\n",
    "\n",
    "        self.L_2 = Linear(in_features = 793,\n",
    "                            out_features = 396)\n",
    "\n",
    "        self.batchnorm2 = nn.BatchNorm1d(396)\n",
    "        self.drop_out2 = nn.Dropout(p=0.4)\n",
    "\n",
    "        self.L_3 = Linear(in_features = 1189,\n",
    "                            out_features = 594)\n",
    "\n",
    "        self.batchnorm3 = nn.BatchNorm1d(594)\n",
    "        self.drop_out3 = nn.Dropout(p=0.4)\n",
    "\n",
    "        self.L_out = Linear(in_features = 594,\n",
    "                            out_features = 2)\n",
    "    \n",
    "    def forward(self, peptide, HLA, binding_score=None): # x.size() = [batch, channel, height, width]\n",
    "\n",
    "        # Encoding the peptide\n",
    "        # peptide = self.conv1_peptide(peptide)\n",
    "        # peptide = self.BatchNorm_conv1_peptides(peptide)\n",
    "        # peptide = relu(peptide)\n",
    "        # peptide = self.conv2_peptide(peptide)\n",
    "        # peptide = self.BatchNorm_conv2_peptides(peptide)\n",
    "        # peptide = relu(peptide)\n",
    "        # peptide = self.maxpool1_peptide(peptide)\n",
    "        peptide = torch.flatten(peptide,start_dim=1)\n",
    "\n",
    "        # Encoding the HLA\n",
    "        # HLA = self.conv1_HLA(HLA)\n",
    "        # HLA = self.BatchNorm_conv1_HLA(HLA)\n",
    "        # HLA = relu(HLA)\n",
    "        # HLA = self.maxpool1_HLA(HLA)\n",
    "        # HLA = self.conv2_HLA(HLA)\n",
    "        # HLA = self.BatchNorm_conv2_HLA(HLA)\n",
    "        # HLA = relu(HLA)\n",
    "        # HLA = self.maxpool2_HLA(HLA)\n",
    "        HLA = torch.flatten(HLA,start_dim=1)\n",
    "\n",
    "        if binding_score is None:\n",
    "            combined_input = torch.cat((peptide, HLA), 1)\n",
    "      \n",
    "        else:\n",
    "            combined_input = torch.cat((peptide, HLA,binding_score), 1)\n",
    "\n",
    "        x = self.L_in(combined_input)\n",
    "        x = relu(x)\n",
    "        x = self.batchnorm1(x)\n",
    "        x = self.drop_out1(x)\n",
    "\n",
    "        x_resnet1 = torch.cat((x, combined_input), 1)\n",
    "        x = self.L_2(x_resnet1)\n",
    "        x = relu(x)\n",
    "        x = self.batchnorm2(x)\n",
    "        x = self.drop_out2(x)\n",
    "\n",
    "        x_resnet2 = torch.cat((x, x_resnet1), 1)\n",
    "        x = self.L_3(x_resnet2)\n",
    "        x = relu(x)\n",
    "        x = self.batchnorm3(x)\n",
    "        x = self.drop_out3(x)\n",
    "        x = self.L_out(x)\n",
    "        x = relu(x)\n",
    "        return softmax(x, dim=1)\n",
    "\n",
    "net = Net()\n",
    "net.apply(initialize_weights)\n",
    "print(net)"
   ]
  },
  {
   "cell_type": "markdown",
   "metadata": {},
   "source": [
    "Testing flow through network"
   ]
  },
  {
   "cell_type": "code",
   "execution_count": 91,
   "metadata": {},
   "outputs": [
    {
     "data": {
      "text/plain": [
       "tensor([[0.5686, 0.4314],\n",
       "        [0.6513, 0.3487],\n",
       "        [0.5000, 0.5000],\n",
       "        [0.6152, 0.3848],\n",
       "        [0.6321, 0.3679],\n",
       "        [0.7039, 0.2961],\n",
       "        [0.8617, 0.1383],\n",
       "        [0.9600, 0.0400],\n",
       "        [0.5839, 0.4161],\n",
       "        [0.8195, 0.1805]], grad_fn=<SoftmaxBackward0>)"
      ]
     },
     "execution_count": 91,
     "metadata": {},
     "output_type": "execute_result"
    }
   ],
   "source": [
    "peptide_random = np.random.normal(0,1, (10, 1, 10, 12)).astype('float32')\n",
    "peptide_random = Variable(torch.from_numpy(peptide_random))\n",
    "HLA_random = np.random.normal(0,1, (10, 1, 34, 12)).astype('float32')\n",
    "HLA_random = Variable(torch.from_numpy(HLA_random))\n",
    "binding_random = np.random.normal(0,1, (10, 1)).astype('float32')\n",
    "binding_random = Variable(torch.from_numpy(binding_random))\n",
    "\n",
    "output = net(peptide_random,HLA_random)\n",
    "output"
   ]
  },
  {
   "cell_type": "markdown",
   "metadata": {},
   "source": [
    "## Creating testing and validataion datasets"
   ]
  },
  {
   "cell_type": "code",
   "execution_count": 10,
   "metadata": {},
   "outputs": [],
   "source": [
    "batch_size = 100\n",
    "peptide_train_loader = list(DataLoader(peptide_train,batch_size=batch_size))\n",
    "HLA_train_loader = list(DataLoader(HLA_train,batch_size=batch_size))\n",
    "label_train_loader = list(DataLoader(label_train,batch_size=batch_size))\n",
    "binding_score_train_loader = list(DataLoader(binding_train,batch_size=batch_size))\n",
    "\n",
    "\n",
    "peptide_val_loader = list(DataLoader(peptide_val,batch_size=batch_size))\n",
    "HLA_val_loader = list(DataLoader(HLA_val,batch_size=batch_size))\n",
    "label_val_loader = list(DataLoader(label_val,batch_size=batch_size))\n",
    "binding_score_val_loader = list(DataLoader(binding_val,batch_size=batch_size))"
   ]
  },
  {
   "cell_type": "markdown",
   "metadata": {},
   "source": [
    "## Training and evaluating the model"
   ]
  },
  {
   "cell_type": "code",
   "execution_count": 11,
   "metadata": {},
   "outputs": [],
   "source": [
    "import torch.optim as optim\n",
    "from sklearn.metrics import accuracy_score,recall_score,f1_score\n",
    "criterion = nn.CrossEntropyLoss()\n",
    "optimizer = optim.Adam(net.parameters(), lr=0.0001,weight_decay=1e-4)"
   ]
  },
  {
   "cell_type": "code",
   "execution_count": 12,
   "metadata": {},
   "outputs": [
    {
     "name": "stdout",
     "output_type": "stream",
     "text": [
      "Epoch  1 : Train Loss 0.623039 , Train acc 0.689174, Valid acc 0.680371\n",
      "Epoch 11 : Train Loss 0.537662 , Train acc 0.779581, Valid acc 0.710875\n",
      "Epoch 21 : Train Loss 0.506976 , Train acc 0.816426, Valid acc 0.710875\n",
      "Epoch 31 : Train Loss 0.483329 , Train acc 0.849862, Valid acc 0.724801\n",
      "Epoch 41 : Train Loss 0.462626 , Train acc 0.869989, Valid acc 0.714191\n",
      "Epoch 51 : Train Loss 0.445242 , Train acc 0.881513, Valid acc 0.719496\n",
      "Epoch 61 : Train Loss 0.429501 , Train acc 0.893686, Valid acc 0.712865\n",
      "Epoch 71 : Train Loss 0.418608 , Train acc 0.903912, Valid acc 0.720159\n",
      "Epoch 81 : Train Loss 0.413504 , Train acc 0.911053, Valid acc 0.716844\n",
      "Epoch 91 : Train Loss 0.405536 , Train acc 0.920954, Valid acc 0.722812\n"
     ]
    }
   ],
   "source": [
    "epochs = 100\n",
    "train_accuracies = []\n",
    "val_accuracies = []\n",
    "losses = []\n",
    "all_val_targets_pr_epoch = []\n",
    "all_val_predictions_pr_epoch = []\n",
    "all_val_probabilities_pr_epoch = []\n",
    "for epoch in range(epochs):\n",
    "    net.train()\n",
    "    current_loss = 0\n",
    "    for train_batch_index in range(len((peptide_train_loader))):\n",
    "        train_peptides = peptide_train_loader[train_batch_index]\n",
    "        train_HLA = HLA_train_loader[train_batch_index]\n",
    "        train_labels = label_train_loader[train_batch_index].long().reshape(-1)\n",
    "        train_binding_scores = binding_score_train_loader[train_batch_index].reshape(len(train_peptides),1)\n",
    "        # zero the parameter gradients\n",
    "        optimizer.zero_grad()\n",
    "        outputs = net(train_peptides,train_HLA, train_binding_scores) # add binding scores here if you want them\n",
    "        loss = criterion(outputs, train_labels)\n",
    "        loss.backward()\n",
    "        optimizer.step()\n",
    "        current_loss += loss.item()\n",
    "\n",
    "    # print(epoch, current_loss/batch_size)\n",
    "    losses.append(current_loss/len((peptide_train_loader)))\n",
    "\n",
    "    net.eval()\n",
    "    with torch.no_grad():\n",
    "        all_train_targets = []\n",
    "        all_predicted_train_labels = []\n",
    "        for i in range(len((peptide_train_loader))):\n",
    "            train_peptides = peptide_train_loader[i]\n",
    "            train_HLA = HLA_train_loader[i]\n",
    "            train_labels = label_train_loader[i].long().reshape(-1)\n",
    "            train_binding_scores = binding_score_train_loader[i].reshape(len(train_peptides),1)\n",
    "            outputs = net(train_peptides,train_HLA, train_binding_scores) # add binding scores here too\n",
    "            _,predicted_labels =  torch.max(outputs, 1)\n",
    "\n",
    "            all_predicted_train_labels += predicted_labels.numpy().tolist()\n",
    "            all_train_targets += train_labels.numpy().tolist()\n",
    "        \n",
    "        all_val_targets = []\n",
    "        all_predicted_val_labels = []\n",
    "        all_probabilities_val = []\n",
    "        for j in range(len((peptide_val_loader))):\n",
    "            val_peptides = peptide_val_loader[j]\n",
    "            val_HLA = HLA_val_loader[j]\n",
    "            val_labels = label_val_loader[j].long().reshape(-1)\n",
    "            val_binding_scores = binding_score_val_loader[j].reshape(len(val_peptides),1)\n",
    "            outputs = net(val_peptides,val_HLA, val_binding_scores)   # and also add binding_scores here\n",
    "            probability,predicted_labels =  torch.max(outputs, 1)\n",
    "            all_predicted_val_labels += predicted_labels.numpy().tolist()\n",
    "            all_val_targets += val_labels.numpy().tolist()\n",
    "            all_probabilities_val += probability.numpy().tolist()\n",
    "\n",
    "    # Calculating the accuracies\n",
    "    train_accuracies.append(accuracy_score(all_train_targets,all_predicted_train_labels))\n",
    "    val_accuracies.append(accuracy_score(all_val_targets,all_predicted_val_labels))\n",
    "    # Saving the predicitons for further validation\n",
    "    all_val_targets_pr_epoch.append(all_val_targets)\n",
    "    all_val_predictions_pr_epoch.append(all_predicted_val_labels)\n",
    "    all_val_probabilities_pr_epoch.append(all_probabilities_val)\n",
    "    if epoch % 10 == 0:\n",
    "        print(\"Epoch %2i : Train Loss %f , Train acc %f, Valid acc %f\" % (epoch+1, losses[-1], train_accuracies[-1], val_accuracies[-1]))\n",
    "    \n"
   ]
  },
  {
   "cell_type": "code",
   "execution_count": 13,
   "metadata": {},
   "outputs": [
    {
     "data": {
      "image/png": "[encoded data removed]",
      "text/plain": [
       "<Figure size 432x288 with 1 Axes>"
      ]
     },
     "metadata": {
      "needs_background": "light"
     },
     "output_type": "display_data"
    }
   ],
   "source": [
    "epoch = np.arange(len(train_accuracies))\n",
    "plt.figure()\n",
    "plt.plot(epoch, train_accuracies, 'r', epoch, val_accuracies, 'b')\n",
    "plt.title(\"FFNN ResNet with 3 layers, batchnorm + dropout and binding scores included\")\n",
    "plt.legend(['Train Accuracy','Validation Accuracy'])\n",
    "plt.xlabel('epochs'), plt.ylabel('Acc')\n",
    "plt.savefig(\"../plots/FFNN_ResNet_3_layers_btchnrm_drpt_bndscr.png\", dpi = 400, transparent = False)"
   ]
  },
  {
   "cell_type": "code",
   "execution_count": 14,
   "metadata": {},
   "outputs": [],
   "source": [
    "val_predictions = np.array(all_val_predictions_pr_epoch)\n",
    "val_labels = np.array(all_val_targets_pr_epoch)\n",
    "val_probabilities = np.array(all_val_probabilities_pr_epoch)"
   ]
  },
  {
   "cell_type": "code",
   "execution_count": 15,
   "metadata": {},
   "outputs": [
    {
     "name": "stdout",
     "output_type": "stream",
     "text": [
      "EPOCH: 39 Recall: 0.7021822849807445 accuracy: 0.7314323607427056 f1-score: 0.7298198799199466\n"
     ]
    },
    {
     "data": {
      "image/png": "[encoded data removed]",
      "text/plain": [
       "<Figure size 720x432 with 1 Axes>"
      ]
     },
     "metadata": {
      "needs_background": "light"
     },
     "output_type": "display_data"
    }
   ],
   "source": [
    "from sklearn.metrics import confusion_matrix\n",
    "from sklearn.metrics import accuracy_score,recall_score\n",
    "\n",
    "best_epoch_model = np.argmax(val_accuracies)\n",
    "\n",
    "# for epoch in range(len(val_predictions)):\n",
    "fig = plt.figure(figsize=(10,6))\n",
    "accuracy = accuracy_score(val_labels[best_epoch_model],val_predictions[best_epoch_model])\n",
    "recall = recall_score(val_labels[best_epoch_model],val_predictions[best_epoch_model])\n",
    "f1 = f1_score(val_labels[best_epoch_model],val_predictions[best_epoch_model])\n",
    "\n",
    "print(f\"EPOCH: {best_epoch_model} Recall: {recall} accuracy: {accuracy} f1-score: {f1}\")\n",
    "plt.title(\"Confusion matrix of best epoch for validation performance\")\n",
    "conf_mat = confusion_matrix(val_labels[best_epoch_model],val_predictions[best_epoch_model])\n",
    "sns.heatmap(conf_mat, square=True, annot=True, cmap='Blues', fmt='d', cbar=False)\n",
    "plt.xlabel(\"Predicted\")\n",
    "plt.ylabel(\"Actual\")\n",
    "plt.show()"
   ]
  },
  {
   "cell_type": "code",
   "execution_count": 16,
   "metadata": {},
   "outputs": [],
   "source": [
    "labels_best_epoch = val_labels[best_epoch_model]\n",
    "predictions_best_epoch = val_predictions[best_epoch_model]\n",
    "probabilities_best_epoch = val_probabilities[best_epoch_model]\n",
    "true_predictions = [x==y for x,y in zip(labels_best_epoch,predictions_best_epoch)]\n",
    "dataframe = pd.DataFrame()\n",
    "dataframe[\"Probs\"] = probabilities_best_epoch\n",
    "dataframe[\"Predictions\"] = predictions_best_epoch\n",
    "dataframe[\"Labels\"] = labels_best_epoch\n",
    "dataframe[\"True\"] = true_predictions"
   ]
  },
  {
   "cell_type": "code",
   "execution_count": 17,
   "metadata": {},
   "outputs": [
    {
     "data": {
      "image/png": "[encoded data removed]",
      "text/plain": [
       "<Figure size 720x432 with 1 Axes>"
      ]
     },
     "metadata": {
      "needs_background": "light"
     },
     "output_type": "display_data"
    },
    {
     "data": {
      "image/png": "[encoded data removed]",
      "text/plain": [
       "<Figure size 720x432 with 1 Axes>"
      ]
     },
     "metadata": {
      "needs_background": "light"
     },
     "output_type": "display_data"
    }
   ],
   "source": [
    "plt.figure(figsize=(10,6))\n",
    "ax = sns.violinplot(x=\"True\", y=\"Probs\", data=dataframe)\n",
    "plt.xlabel(\"Predicted label\")\n",
    "plt.ylabel(\"Probability associated with label\")\n",
    "plt.show()\n",
    "\n",
    "plt.figure(figsize=(10,6))\n",
    "ax = sns.boxplot(x=\"True\", y=\"Probs\", data=dataframe)\n",
    "plt.xlabel(\"Predicted label\")\n",
    "plt.ylabel(\"Probability associated with label\")\n",
    "plt.show()"
   ]
  },
  {
   "cell_type": "code",
   "execution_count": null,
   "metadata": {},
   "outputs": [],
   "source": []
  }
 ],
 "metadata": {
  "interpreter": {
   "hash": "c6e4e9f98eb68ad3b7c296f83d20e6de614cb42e90992a65aa266555a3137d0d"
  },
  "kernelspec": {
   "display_name": "Python 3.9.9 ('base')",
   "language": "python",
   "name": "python3"
  },
  "language_info": {
   "codemirror_mode": {
    "name": "ipython",
    "version": 3
   },
   "file_extension": ".py",
   "mimetype": "text/x-python",
   "name": "python",
   "nbconvert_exporter": "python",
   "pygments_lexer": "ipython3",
   "version": "3.8.8"
  },
  "orig_nbformat": 4
 },
 "nbformat": 4,
 "nbformat_minor": 2
}
