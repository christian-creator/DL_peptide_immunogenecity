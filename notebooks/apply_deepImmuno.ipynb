{
 "cells": [
  {
   "cell_type": "code",
   "execution_count": 1,
   "metadata": {},
   "outputs": [],
   "source": [
    "import numpy as np\n",
    "import pandas as pd\n",
    "import matplotlib.pyplot as plt\n",
    "from sklearn.metrics import auc,precision_recall_curve,roc_curve,confusion_matrix\n",
    "import os,sys\n",
    "import pickle\n",
    "from sklearn.model_selection import KFold\n",
    "from sklearn.model_selection import train_test_split\n",
    "np.random.seed(42)"
   ]
  },
  {
   "cell_type": "code",
   "execution_count": 2,
   "metadata": {},
   "outputs": [],
   "source": [
    "def encode_peptide_AAindex(peptide):\n",
    "    \"\"\"Encode peptides using principal components derived from the AAindex database describing ~90% variance of all features derived from the AAindex database\n",
    "\n",
    "    Args:\n",
    "        peptide (str): peptide to encode\n",
    "\n",
    "    Returns:\n",
    "        np.array: encoded peptides\n",
    "    \"\"\"\n",
    "    PCA_repr = pd.read_csv(\"../data/PCA_repr_aa.csv\",index_col=0)\n",
    "    encoded_peptide = []\n",
    "    for aa in list(peptide):\n",
    "        if aa == \"-\" or aa == \"X\":\n",
    "            n_pcs = len(PCA_repr.columns)\n",
    "            encoded_peptide.append([0 for _ in range(n_pcs)])\n",
    "        else:\n",
    "            encoded_peptide.append(list(PCA_repr.loc[aa]))\n",
    "    return np.array(encoded_peptide)\n",
    "\n",
    "def add_dumb_padding(peptide):\n",
    "    if len(peptide) == 9:\n",
    "        return peptide + \"-\"\n",
    "    else:\n",
    "        return peptide\n",
    "\n",
    "def get_HLA_seqs(path_to_HLA_seqs):\n",
    "    HLA_seqs = dict()\n",
    "    with open(path_to_HLA_seqs,\"r\") as f:\n",
    "        for line in f:\n",
    "            line = line.split()\n",
    "            HLA = line[0]\n",
    "            seq = line[1]\n",
    "            HLA_seqs[HLA] = seq\n",
    "    return HLA_seqs\n"
   ]
  },
  {
   "cell_type": "code",
   "execution_count": 3,
   "metadata": {},
   "outputs": [
    {
     "data": {
      "text/html": [
       "<div>\n",
       "<style scoped>\n",
       "    .dataframe tbody tr th:only-of-type {\n",
       "        vertical-align: middle;\n",
       "    }\n",
       "\n",
       "    .dataframe tbody tr th {\n",
       "        vertical-align: top;\n",
       "    }\n",
       "\n",
       "    .dataframe thead th {\n",
       "        text-align: right;\n",
       "    }\n",
       "</style>\n",
       "<table border=\"1\" class=\"dataframe\">\n",
       "  <thead>\n",
       "    <tr style=\"text-align: right;\">\n",
       "      <th></th>\n",
       "      <th>peptide</th>\n",
       "      <th>HLA_allele</th>\n",
       "      <th>immunogenicity</th>\n",
       "      <th>tested_subjects</th>\n",
       "      <th>positive_subjects</th>\n",
       "    </tr>\n",
       "  </thead>\n",
       "  <tbody>\n",
       "    <tr>\n",
       "      <th>5</th>\n",
       "      <td>AAGIGILTV</td>\n",
       "      <td>HLA-A*0201</td>\n",
       "      <td>0.833333</td>\n",
       "      <td>4.0</td>\n",
       "      <td>4.0</td>\n",
       "    </tr>\n",
       "    <tr>\n",
       "      <th>6</th>\n",
       "      <td>AALFFFDID</td>\n",
       "      <td>HLA-A*0201</td>\n",
       "      <td>0.250000</td>\n",
       "      <td>10.0</td>\n",
       "      <td>2.0</td>\n",
       "    </tr>\n",
       "    <tr>\n",
       "      <th>10</th>\n",
       "      <td>AAVKAGAAL</td>\n",
       "      <td>HLA-B*0702</td>\n",
       "      <td>0.750000</td>\n",
       "      <td>2.0</td>\n",
       "      <td>2.0</td>\n",
       "    </tr>\n",
       "    <tr>\n",
       "      <th>25</th>\n",
       "      <td>ADVEFCLSL</td>\n",
       "      <td>HLA-B*4403</td>\n",
       "      <td>0.500000</td>\n",
       "      <td>6.0</td>\n",
       "      <td>3.0</td>\n",
       "    </tr>\n",
       "    <tr>\n",
       "      <th>189</th>\n",
       "      <td>AEVEEHRTV</td>\n",
       "      <td>HLA-B*4001</td>\n",
       "      <td>0.153846</td>\n",
       "      <td>11.0</td>\n",
       "      <td>1.0</td>\n",
       "    </tr>\n",
       "    <tr>\n",
       "      <th>...</th>\n",
       "      <td>...</td>\n",
       "      <td>...</td>\n",
       "      <td>...</td>\n",
       "      <td>...</td>\n",
       "      <td>...</td>\n",
       "    </tr>\n",
       "    <tr>\n",
       "      <th>27637</th>\n",
       "      <td>FTGSEVENV</td>\n",
       "      <td>HLA-A*0201</td>\n",
       "      <td>0.083333</td>\n",
       "      <td>10.0</td>\n",
       "      <td>0.0</td>\n",
       "    </tr>\n",
       "    <tr>\n",
       "      <th>27638</th>\n",
       "      <td>FTSHEHFGL</td>\n",
       "      <td>HLA-A*0201</td>\n",
       "      <td>0.083333</td>\n",
       "      <td>10.0</td>\n",
       "      <td>0.0</td>\n",
       "    </tr>\n",
       "    <tr>\n",
       "      <th>27667</th>\n",
       "      <td>MQVIGDQYV</td>\n",
       "      <td>HLA-A*0201</td>\n",
       "      <td>0.083333</td>\n",
       "      <td>10.0</td>\n",
       "      <td>0.0</td>\n",
       "    </tr>\n",
       "    <tr>\n",
       "      <th>27685</th>\n",
       "      <td>SQEPMSIYV</td>\n",
       "      <td>HLA-A*0201</td>\n",
       "      <td>0.083333</td>\n",
       "      <td>10.0</td>\n",
       "      <td>0.0</td>\n",
       "    </tr>\n",
       "    <tr>\n",
       "      <th>27741</th>\n",
       "      <td>YICGFIQQK</td>\n",
       "      <td>HLA-A*1101</td>\n",
       "      <td>0.111111</td>\n",
       "      <td>7.0</td>\n",
       "      <td>0.0</td>\n",
       "    </tr>\n",
       "  </tbody>\n",
       "</table>\n",
       "<p>5227 rows × 5 columns</p>\n",
       "</div>"
      ],
      "text/plain": [
       "         peptide  HLA_allele  immunogenicity  tested_subjects  \\\n",
       "5      AAGIGILTV  HLA-A*0201        0.833333              4.0   \n",
       "6      AALFFFDID  HLA-A*0201        0.250000             10.0   \n",
       "10     AAVKAGAAL  HLA-B*0702        0.750000              2.0   \n",
       "25     ADVEFCLSL  HLA-B*4403        0.500000              6.0   \n",
       "189    AEVEEHRTV  HLA-B*4001        0.153846             11.0   \n",
       "...          ...         ...             ...              ...   \n",
       "27637  FTGSEVENV  HLA-A*0201        0.083333             10.0   \n",
       "27638  FTSHEHFGL  HLA-A*0201        0.083333             10.0   \n",
       "27667  MQVIGDQYV  HLA-A*0201        0.083333             10.0   \n",
       "27685  SQEPMSIYV  HLA-A*0201        0.083333             10.0   \n",
       "27741  YICGFIQQK  HLA-A*1101        0.111111              7.0   \n",
       "\n",
       "       positive_subjects  \n",
       "5                    4.0  \n",
       "6                    2.0  \n",
       "10                   2.0  \n",
       "25                   3.0  \n",
       "189                  1.0  \n",
       "...                  ...  \n",
       "27637                0.0  \n",
       "27638                0.0  \n",
       "27667                0.0  \n",
       "27685                0.0  \n",
       "27741                0.0  \n",
       "\n",
       "[5227 rows x 5 columns]"
      ]
     },
     "execution_count": 3,
     "metadata": {},
     "output_type": "execute_result"
    }
   ],
   "source": [
    "# Reading HLA seqs\n",
    "HLA_seq_dict = get_HLA_seqs(\"../data/hla2paratopeTable_aligned.txt\")\n",
    "HLA_w_seq = [x for x in HLA_seq_dict.keys()]\n",
    "path_to_dataset = \"../data/filtered_data_IEDB_4_tested_len_9_10_full_HLA.csv\"\n",
    "dataset = pd.read_csv(path_to_dataset,index_col=0)\n",
    "dataset[\"HLA_allele\"] = [x.replace(\":\",\"\") for x in dataset[\"HLA_allele\"]]\n",
    "no_HLA_seq = [\"HLA-B*40:06\",\"HLA-B*27:02\",\"HLA-B*27:01\",\"\"]\n",
    "dataset = dataset[dataset[\"HLA_allele\"].isin(HLA_w_seq)]\n",
    "dataset\n",
    "\n"
   ]
  },
  {
   "cell_type": "code",
   "execution_count": 4,
   "metadata": {},
   "outputs": [],
   "source": [
    "# Adding stupid padding\n",
    "dataset[\"peptide\"] = [add_dumb_padding(peptide) for peptide in dataset[\"peptide\"]]\n",
    "HLAs_seqs = [HLA_seq_dict[HLA.replace(\":\",\"\")] for HLA in dataset[\"HLA_allele\"]]\n",
    "input_peptides = np.array([encode_peptide_AAindex(x) for x in dataset[\"peptide\"]],dtype=\"float\")\n",
    "input_HLA = np.array([encode_peptide_AAindex(HLA_seq_dict[x]) for x in dataset[\"HLA_allele\"]],dtype=\"float\")\n",
    "input_label = np.array([round(x,0) for x in dataset[\"immunogenicity\"]])\n",
    "\n",
    "# Reshaping to fit models\n",
    "input_peptides = input_peptides.reshape(-1,1,10,12)\n",
    "input_HLA = input_HLA.reshape(-1,1,46,12)\n",
    "input_label = input_label.reshape(-1,1)\n"
   ]
  },
  {
   "cell_type": "code",
   "execution_count": 5,
   "metadata": {},
   "outputs": [],
   "source": [
    "import torch\n",
    "from torch.autograd import Variable\n",
    "from torch.nn.parameter import Parameter\n",
    "import torch.nn as nn\n",
    "import torch.nn.functional as F\n",
    "import torch.optim as optim\n",
    "import torch.nn.init as init\n",
    "from torch.utils.data import DataLoader\n",
    "\n",
    "from torch.nn import Linear, Conv2d, BatchNorm2d, MaxPool2d, Dropout2d\n",
    "from torch.nn.functional import relu, elu, relu6, sigmoid, tanh, softmax\n",
    "from torch.nn import Linear, GRU, Conv2d, Dropout, MaxPool2d, BatchNorm1d"
   ]
  },
  {
   "cell_type": "code",
   "execution_count": 6,
   "metadata": {},
   "outputs": [
    {
     "data": {
      "text/plain": [
       "(5227, 1)"
      ]
     },
     "execution_count": 6,
     "metadata": {},
     "output_type": "execute_result"
    }
   ],
   "source": [
    "input_label.shape"
   ]
  },
  {
   "cell_type": "code",
   "execution_count": 7,
   "metadata": {},
   "outputs": [
    {
     "name": "stdout",
     "output_type": "stream",
     "text": [
      "Net(\n",
      "  (conv1_peptide): Conv2d(1, 16, kernel_size=(2, 12), stride=(1, 1))\n",
      "  (BatchNorm_conv1_peptides): BatchNorm2d(16, eps=1e-05, momentum=0.1, affine=True, track_running_stats=True)\n",
      "  (conv2_peptide): Conv2d(16, 32, kernel_size=(2, 1), stride=(1, 1))\n",
      "  (BatchNorm_conv2_peptides): BatchNorm2d(32, eps=1e-05, momentum=0.1, affine=True, track_running_stats=True)\n",
      "  (maxpool1_peptide): MaxPool2d(kernel_size=(2, 1), stride=(2, 1), padding=0, dilation=1, ceil_mode=False)\n",
      "  (conv1_HLA): Conv2d(1, 16, kernel_size=(15, 12), stride=(1, 1))\n",
      "  (BatchNorm_conv1_HLA): BatchNorm2d(16, eps=1e-05, momentum=0.1, affine=True, track_running_stats=True)\n",
      "  (maxpool1_HLA): MaxPool2d(kernel_size=(2, 1), stride=(2, 1), padding=0, dilation=1, ceil_mode=False)\n",
      "  (conv2_HLA): Conv2d(16, 32, kernel_size=(9, 1), stride=(1, 1))\n",
      "  (maxpool2_HLA): MaxPool2d(kernel_size=(2, 1), stride=(2, 1), padding=0, dilation=1, ceil_mode=False)\n",
      "  (l_out): Linear(in_features=256, out_features=1, bias=False)\n",
      "  (drop_out): Dropout(p=0.2, inplace=False)\n",
      ")\n"
     ]
    }
   ],
   "source": [
    "\n",
    "# hyperameters of the model\n",
    "\n",
    "peptide_input_channels = input_peptides.shape[1]\n",
    "peptide_input_height = input_peptides.shape[2]\n",
    "peptide_input_width = input_peptides.shape[3]\n",
    "\n",
    "hla_input_channels = input_HLA.shape[1]\n",
    "hla_input_height = input_HLA.shape[2]\n",
    "hla_input_width = input_HLA.shape[3]\n",
    "\n",
    "# define network\n",
    "class Net(nn.Module):\n",
    "\n",
    "    def __init__(self):\n",
    "        super(Net, self).__init__()\n",
    "\n",
    "        # Convelution of peptide\n",
    "        self.conv1_peptide = Conv2d(in_channels=peptide_input_channels,\n",
    "                            out_channels=16,\n",
    "                            kernel_size=(2,12),\n",
    "                            stride=1,\n",
    "                            padding=0)\n",
    "        \n",
    "        self.BatchNorm_conv1_peptides = BatchNorm2d(16) # Output channels from the previous layer\n",
    "        self.conv2_peptide = Conv2d(in_channels=16,\n",
    "                            out_channels=32,\n",
    "                            kernel_size=(2,1),\n",
    "                            stride=1,\n",
    "                            padding=0)\n",
    "        self.BatchNorm_conv2_peptides = BatchNorm2d(32) # Output channels from the previous layer\n",
    "        self.maxpool1_peptide = nn.MaxPool2d(kernel_size=(2,1), stride=(2,1), padding=0)\n",
    "\n",
    "        # Convelution of HLA\n",
    "        self.conv1_HLA = Conv2d(in_channels=peptide_input_channels,\n",
    "                            out_channels=16,\n",
    "                            kernel_size=(15,12),\n",
    "                            stride=1,\n",
    "                            padding=0)\n",
    "        self.BatchNorm_conv1_HLA = BatchNorm2d(16) # Output channels from the previous layer\n",
    "        self.maxpool1_HLA = nn.MaxPool2d(kernel_size=(2,1), stride=(2,1), padding=0)\n",
    "        \n",
    "        self.conv2_HLA = Conv2d(in_channels=16,\n",
    "                            out_channels=32,\n",
    "                            kernel_size=(9,1),\n",
    "                            stride=1,\n",
    "                            padding=0)\n",
    "        self.BatchNorm_conv2_peptides = BatchNorm2d(32) # Output channels from the previous layer\n",
    "        self.maxpool2_HLA = nn.MaxPool2d(kernel_size=(2,1), stride=(2,1), padding=0)\n",
    "\n",
    "        # Denselayer\n",
    "        self.l_out = Linear(in_features=256,\n",
    "                            out_features=1,\n",
    "                            bias=False)\n",
    "        self.drop_out = nn.Dropout(p=0.2)\n",
    "\n",
    "\n",
    "    def forward(self, peptide, HLA): # x.size() = [batch, channel, height, width]\n",
    "\n",
    "        # Encoding the peptide\n",
    "        peptide = self.conv1_peptide(peptide)\n",
    "        peptide = self.BatchNorm_conv1_peptides(peptide)\n",
    "        peptide = relu(peptide)\n",
    "        peptide = self.conv2_peptide(peptide)\n",
    "        peptide = self.BatchNorm_conv2_peptides(peptide)\n",
    "        peptide = relu(peptide)\n",
    "        peptide = self.maxpool1_peptide(peptide)\n",
    "        peptide = torch.flatten(peptide,start_dim=1)\n",
    "\n",
    "        # Encoding the HLA\n",
    "        HLA = self.conv1_HLA(HLA)\n",
    "        HLA = self.BatchNorm_conv1_HLA(HLA)\n",
    "        HLA = relu(HLA)\n",
    "        HLA = self.maxpool1_HLA(HLA)\n",
    "        HLA = self.conv2_HLA(HLA)\n",
    "        HLA = self.BatchNorm_conv2_peptides(HLA)\n",
    "        HLA = relu(HLA)\n",
    "        HLA = self.maxpool2_HLA(HLA)\n",
    "        HLA = torch.flatten(HLA,start_dim=1)\n",
    "\n",
    "\n",
    "        # Combining the output\n",
    "        combined_input = torch.cat((peptide, HLA), 1)\n",
    "        x = self.l_out(combined_input)\n",
    "        x = self.drop_out(x)\n",
    "        x = nn.Sigmoid()(x)\n",
    "        return x\n",
    "\n",
    "net = Net()\n",
    "print(net)"
   ]
  },
  {
   "cell_type": "code",
   "execution_count": 8,
   "metadata": {},
   "outputs": [],
   "source": [
    "peptide_random = np.random.normal(0,1, (128, 1, 10, 12)).astype('float32')\n",
    "peptide_random = Variable(torch.from_numpy(peptide_random))\n",
    "HLA_random = np.random.normal(0,1, (128, 1, 46, 12)).astype('float32')\n",
    "HLA_random = Variable(torch.from_numpy(HLA_random))\n",
    "output = net(peptide_random,HLA_random)"
   ]
  },
  {
   "cell_type": "code",
   "execution_count": 9,
   "metadata": {},
   "outputs": [],
   "source": [
    "import random\n",
    "random.seed(10)\n",
    "input1 = input_peptides.astype('float32')\n",
    "input2 = input_HLA.astype('float32')\n",
    "label = input_label.astype('float32')\n",
    "\n",
    "array = np.arange(len(dataset))\n",
    "train_index = np.random.choice(array,int(len(dataset)*0.9),replace=False)\n",
    "valid_index = [item for item in array if item not in train_index]\n"
   ]
  },
  {
   "cell_type": "code",
   "execution_count": 10,
   "metadata": {},
   "outputs": [],
   "source": [
    "import torch.optim as optim\n",
    "from sklearn.metrics import accuracy_score\n",
    "criterion = nn.MSELoss()\n",
    "optimizer = optim.Adam(net.parameters(), lr=0.00001)"
   ]
  },
  {
   "cell_type": "code",
   "execution_count": 11,
   "metadata": {},
   "outputs": [
    {
     "name": "stdout",
     "output_type": "stream",
     "text": [
      "Epoch  1 : Train Loss 3.209397 , Train acc 0.857781, Valid acc 0.852772\n",
      "Epoch 11 : Train Loss 2.477069 , Train acc 0.858631, Valid acc 0.854685\n",
      "Epoch 21 : Train Loss 2.549136 , Train acc 0.863520, Valid acc 0.858509\n",
      "Epoch 31 : Train Loss 2.482326 , Train acc 0.863520, Valid acc 0.858509\n",
      "Epoch 41 : Train Loss 2.475568 , Train acc 0.863520, Valid acc 0.858509\n",
      "Epoch 51 : Train Loss 2.483138 , Train acc 0.863733, Valid acc 0.858509\n",
      "Epoch 61 : Train Loss 2.511465 , Train acc 0.863946, Valid acc 0.858509\n",
      "Epoch 71 : Train Loss 2.397505 , Train acc 0.864371, Valid acc 0.858509\n",
      "Epoch 81 : Train Loss 2.476410 , Train acc 0.864796, Valid acc 0.860421\n",
      "Epoch 91 : Train Loss 2.385092 , Train acc 0.864583, Valid acc 0.858509\n"
     ]
    }
   ],
   "source": [
    "input1 = input1.astype('float32')\n",
    "input2 = input2.astype('float32')\n",
    "label = label.astype('float32')\n",
    "batch_size = 16\n",
    "epochs = 100\n",
    "\n",
    "peptide_train, peptide_val = input1[train_index], input1[valid_index]\n",
    "HLA_train, HLA_val = input2[train_index], input2[valid_index]\n",
    "label_train, label_val = label[train_index], label[valid_index]\n",
    "\n",
    "peptide_train_loader = list(DataLoader(peptide_train,batch_size=batch_size))\n",
    "HLA_train_loader = list(DataLoader(HLA_train,batch_size=batch_size))\n",
    "label_train_loader = list(DataLoader(label_train,batch_size=batch_size))\n",
    "\n",
    "peptide_val_loader = list(DataLoader(peptide_val,batch_size=batch_size))\n",
    "HLA_val_loader = list(DataLoader(HLA_val,batch_size=batch_size))\n",
    "label_val_loader = list(DataLoader(label_val,batch_size=batch_size))\n",
    "\n",
    "losses = []\n",
    "cur_loss = 0\n",
    "\n",
    "train_acc = []\n",
    "valid_acc = []\n",
    "\n",
    "train_prediction_pr_epoch = []\n",
    "train_labels_pr_epoch = []\n",
    "\n",
    "valid_prediction_pr_epoch = []\n",
    "valid_labels_pr_epoch = []\n",
    "\n",
    "for epoch in range(epochs):\n",
    "    ## Firstly the model is trained\n",
    "    cur_loss = 0\n",
    "    net.train()\n",
    "    for i in range(len(peptide_train_loader)):\n",
    "        # zero the parameter gradients\n",
    "        optimizer.zero_grad()\n",
    "        # forward + backward + optimize\n",
    "        outputs = net(peptide_train_loader[i],HLA_train_loader[i])\n",
    "        batch_loss = criterion(outputs, label_train_loader[i])\n",
    "        batch_loss.backward()\n",
    "        optimizer.step()\n",
    "        cur_loss += batch_loss\n",
    "    losses.append(cur_loss / batch_size)\n",
    "\n",
    "\n",
    "    ## The model is then evalauted on both the training and valdition dataset\n",
    "    net.eval()\n",
    "    train_preds, train_targs = [], []\n",
    "    train_preds_labels = []\n",
    "    val_preds, val_targs = [], []\n",
    "    val_preds_labels = []\n",
    "    for j in range(len(peptide_train_loader)):\n",
    "        output = net(peptide_train_loader[j],HLA_train_loader[j])\n",
    "        train_targs += list(label_train_loader[j].numpy())\n",
    "        train_preds += list(output.data.numpy())\n",
    "        train_preds_labels += [np.array([round(x[0],0)],dtype='float32') for x in output.data.numpy()]\n",
    "\n",
    "    \n",
    "    for k in range(len(peptide_val_loader)):\n",
    "        output = net(peptide_val_loader[k],HLA_val_loader[k])\n",
    "        val_targs += list(label_val_loader[k].numpy())\n",
    "        val_preds_labels += [np.array([round(x[0],0)],dtype='float32') for x in output.data.numpy()]\n",
    "        val_preds += list(output.data.numpy())\n",
    "    \n",
    "    train_acc_cur = accuracy_score(train_targs, train_preds_labels)\n",
    "    valid_acc_cur = accuracy_score(val_targs, val_preds_labels)\n",
    "\n",
    "\n",
    "    train_acc.append(train_acc_cur)\n",
    "    valid_acc.append(valid_acc_cur)\n",
    "\n",
    "    train_prediction_pr_epoch.append(train_preds)\n",
    "    train_labels_pr_epoch.append(train_targs)\n",
    "\n",
    "    valid_prediction_pr_epoch.append(val_preds)\n",
    "    valid_labels_pr_epoch.append(val_targs)\n",
    "    \n",
    "    if epoch % 10 == 0:\n",
    "        print(\"Epoch %2i : Train Loss %f , Train acc %f, Valid acc %f\" % (\n",
    "                epoch+1, losses[-1], train_acc_cur, valid_acc_cur))\n"
   ]
  },
  {
   "cell_type": "code",
   "execution_count": 12,
   "metadata": {},
   "outputs": [
    {
     "data": {
      "text/plain": [
       "(Text(0.5, 0, 'epochs'), Text(0, 0.5, 'Acc'))"
      ]
     },
     "execution_count": 12,
     "metadata": {},
     "output_type": "execute_result"
    },
    {
     "data": {
      "image/png": "[encoded data removed]",
      "text/plain": [
       "<Figure size 432x288 with 1 Axes>"
      ]
     },
     "metadata": {
      "needs_background": "light"
     },
     "output_type": "display_data"
    }
   ],
   "source": [
    "epoch = np.arange(len(train_acc))\n",
    "plt.figure()\n",
    "plt.plot(epoch, train_acc, 'r', epoch, valid_acc, 'b')\n",
    "plt.legend(['Train Accucary','Validation Accuracy'])\n",
    "plt.xlabel('epochs'), plt.ylabel('Acc')"
   ]
  },
  {
   "cell_type": "code",
   "execution_count": 17,
   "metadata": {},
   "outputs": [],
   "source": [
    "val_predictions = np.array(valid_prediction_pr_epoch)\n",
    "val_labels = np.array(valid_labels_pr_epoch)\n",
    "\n",
    "\n",
    "val_predictions = val_predictions.reshape(val_predictions.shape[0],val_predictions.shape[1])\n",
    "val_labels = val_labels.reshape(val_labels.shape[0],val_labels.shape[1])"
   ]
  },
  {
   "cell_type": "code",
   "execution_count": 18,
   "metadata": {},
   "outputs": [
    {
     "data": {
      "image/png": "[encoded data removed]",
      "text/plain": [
       "<Figure size 432x288 with 1 Axes>"
      ]
     },
     "metadata": {
      "needs_background": "light"
     },
     "output_type": "display_data"
    }
   ],
   "source": [
    "import sklearn.metrics as metrics\n",
    "import matplotlib.pyplot as plt\n",
    "\n",
    "best_epoch_model = np.argmax(valid_acc)\n",
    "fpr, tpr, threshold = metrics.roc_curve(val_labels[best_epoch_model],val_predictions[best_epoch_model])\n",
    "roc_auc = metrics.auc(fpr, tpr)\n",
    "plt.title('Receiver Operating Characteristic')\n",
    "plt.plot(fpr, tpr, 'b', label = 'AUC = %0.2f' % roc_auc)\n",
    "plt.legend(loc = 'lower right')\n",
    "plt.plot([0, 1], [0, 1],'r--')\n",
    "plt.xlim([0, 1])\n",
    "plt.ylim([0, 1])\n",
    "plt.ylabel('True Positive Rate')\n",
    "plt.xlabel('False Positive Rate')\n",
    "plt.show()"
   ]
  },
  {
   "cell_type": "code",
   "execution_count": 19,
   "metadata": {},
   "outputs": [
    {
     "data": {
      "image/png": "[encoded data removed]",
      "text/plain": [
       "<Figure size 432x288 with 1 Axes>"
      ]
     },
     "metadata": {
      "needs_background": "light"
     },
     "output_type": "display_data"
    }
   ],
   "source": [
    "from sklearn.metrics import precision_recall_curve\n",
    "precision, recall, thresholds = precision_recall_curve(val_labels[best_epoch_model],val_predictions[best_epoch_model])\n",
    "roc_auc = metrics.auc(recall, precision)\n",
    "plt.title('Precision-Recall plot')\n",
    "plt.plot(recall, precision, 'b', label = 'AUCpr = %0.2f' % roc_auc)\n",
    "plt.legend(loc = 'lower right')\n",
    "plt.xlim([0, 1])\n",
    "plt.ylim([0, 1])\n",
    "plt.ylabel('Precission')\n",
    "plt.xlabel('Recall')\n",
    "plt.show()\n"
   ]
  },
  {
   "cell_type": "code",
   "execution_count": 22,
   "metadata": {},
   "outputs": [],
   "source": [
    "unqiue,count = np.unique(val_labels[best_epoch_model],return_counts=True)"
   ]
  },
  {
   "cell_type": "code",
   "execution_count": 23,
   "metadata": {},
   "outputs": [
    {
     "data": {
      "text/plain": [
       "array([446,  77])"
      ]
     },
     "execution_count": 23,
     "metadata": {},
     "output_type": "execute_result"
    }
   ],
   "source": [
    "count"
   ]
  },
  {
   "cell_type": "code",
   "execution_count": 24,
   "metadata": {},
   "outputs": [
    {
     "data": {
      "text/plain": [
       "array([0., 1.], dtype=float32)"
      ]
     },
     "execution_count": 24,
     "metadata": {},
     "output_type": "execute_result"
    }
   ],
   "source": [
    "unqiue"
   ]
  },
  {
   "cell_type": "code",
   "execution_count": null,
   "metadata": {},
   "outputs": [],
   "source": []
  }
 ],
 "metadata": {
  "interpreter": {
   "hash": "c6e4e9f98eb68ad3b7c296f83d20e6de614cb42e90992a65aa266555a3137d0d"
  },
  "kernelspec": {
   "display_name": "Python 3.9.9 ('base')",
   "language": "python",
   "name": "python3"
  },
  "language_info": {
   "codemirror_mode": {
    "name": "ipython",
    "version": 3
   },
   "file_extension": ".py",
   "mimetype": "text/x-python",
   "name": "python",
   "nbconvert_exporter": "python",
   "pygments_lexer": "ipython3",
   "version": "3.9.9"
  },
  "orig_nbformat": 4
 },
 "nbformat": 4,
 "nbformat_minor": 2
}
