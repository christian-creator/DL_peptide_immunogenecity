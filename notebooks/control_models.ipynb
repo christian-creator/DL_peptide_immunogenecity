{
 "cells": [
  {
   "cell_type": "code",
   "execution_count": 1,
   "metadata": {},
   "outputs": [],
   "source": [
    "import pandas as pd\n",
    "import numpy as np\n",
    "from sklearn import metrics\n",
    "import matplotlib.pyplot as plt"
   ]
  },
  {
   "cell_type": "code",
   "execution_count": 2,
   "metadata": {},
   "outputs": [],
   "source": [
    "all_data = pd.read_csv(\"../data/ifng_true_balanced_w_parts_w_binding_scores_w_iedb.csv\")\n",
    "test_data = all_data.dropna(axis=0)\n",
    "labels = [min(1,x) for x in test_data[\"positive_subjects\"]]\n",
    "test_data.insert(0,\"labels\",labels)"
   ]
  },
  {
   "cell_type": "code",
   "execution_count": 4,
   "metadata": {},
   "outputs": [
    {
     "data": {
      "text/html": [
       "<div>\n",
       "<style scoped>\n",
       "    .dataframe tbody tr th:only-of-type {\n",
       "        vertical-align: middle;\n",
       "    }\n",
       "\n",
       "    .dataframe tbody tr th {\n",
       "        vertical-align: top;\n",
       "    }\n",
       "\n",
       "    .dataframe thead th {\n",
       "        text-align: right;\n",
       "    }\n",
       "</style>\n",
       "<table border=\"1\" class=\"dataframe\">\n",
       "  <thead>\n",
       "    <tr style=\"text-align: right;\">\n",
       "      <th></th>\n",
       "      <th>labels</th>\n",
       "      <th>Unnamed: 0</th>\n",
       "      <th>peptide</th>\n",
       "      <th>HLA_allele</th>\n",
       "      <th>potential</th>\n",
       "      <th>tested_subjects</th>\n",
       "      <th>positive_subjects</th>\n",
       "      <th>immunogenicity</th>\n",
       "      <th>parts</th>\n",
       "      <th>binding_score</th>\n",
       "      <th>IEDB_predictions</th>\n",
       "    </tr>\n",
       "  </thead>\n",
       "  <tbody>\n",
       "    <tr>\n",
       "      <th>0</th>\n",
       "      <td>1.0</td>\n",
       "      <td>0</td>\n",
       "      <td>SLMDLLSSL</td>\n",
       "      <td>HLA-A*02:01</td>\n",
       "      <td>0.285714</td>\n",
       "      <td>19.0</td>\n",
       "      <td>5.0</td>\n",
       "      <td>Positive</td>\n",
       "      <td>1.0</td>\n",
       "      <td>0.977676</td>\n",
       "      <td>-0.29220</td>\n",
       "    </tr>\n",
       "    <tr>\n",
       "      <th>1</th>\n",
       "      <td>1.0</td>\n",
       "      <td>1</td>\n",
       "      <td>AMPFSIFYPM</td>\n",
       "      <td>HLA-A*02:01</td>\n",
       "      <td>0.400000</td>\n",
       "      <td>3.0</td>\n",
       "      <td>1.0</td>\n",
       "      <td>Positive</td>\n",
       "      <td>3.0</td>\n",
       "      <td>0.013863</td>\n",
       "      <td>0.18330</td>\n",
       "    </tr>\n",
       "    <tr>\n",
       "      <th>2</th>\n",
       "      <td>1.0</td>\n",
       "      <td>2</td>\n",
       "      <td>SSQVLQQSTY</td>\n",
       "      <td>HLA-A*01:01</td>\n",
       "      <td>0.294118</td>\n",
       "      <td>15.0</td>\n",
       "      <td>4.0</td>\n",
       "      <td>Positive</td>\n",
       "      <td>5.0</td>\n",
       "      <td>0.595362</td>\n",
       "      <td>-0.34564</td>\n",
       "    </tr>\n",
       "    <tr>\n",
       "      <th>3</th>\n",
       "      <td>0.0</td>\n",
       "      <td>3</td>\n",
       "      <td>QLSEYQTSV</td>\n",
       "      <td>HLA-A*02:01</td>\n",
       "      <td>0.083333</td>\n",
       "      <td>10.0</td>\n",
       "      <td>0.0</td>\n",
       "      <td>Negative</td>\n",
       "      <td>7.0</td>\n",
       "      <td>0.927334</td>\n",
       "      <td>-0.12949</td>\n",
       "    </tr>\n",
       "    <tr>\n",
       "      <th>4</th>\n",
       "      <td>1.0</td>\n",
       "      <td>4</td>\n",
       "      <td>ILIEGIFFA</td>\n",
       "      <td>HLA-A*02:01</td>\n",
       "      <td>0.933333</td>\n",
       "      <td>13.0</td>\n",
       "      <td>13.0</td>\n",
       "      <td>Positive</td>\n",
       "      <td>8.0</td>\n",
       "      <td>0.946821</td>\n",
       "      <td>0.46943</td>\n",
       "    </tr>\n",
       "    <tr>\n",
       "      <th>...</th>\n",
       "      <td>...</td>\n",
       "      <td>...</td>\n",
       "      <td>...</td>\n",
       "      <td>...</td>\n",
       "      <td>...</td>\n",
       "      <td>...</td>\n",
       "      <td>...</td>\n",
       "      <td>...</td>\n",
       "      <td>...</td>\n",
       "      <td>...</td>\n",
       "      <td>...</td>\n",
       "    </tr>\n",
       "    <tr>\n",
       "      <th>3223</th>\n",
       "      <td>0.0</td>\n",
       "      <td>3223</td>\n",
       "      <td>SLLYEYFTV</td>\n",
       "      <td>HLA-A*02:01</td>\n",
       "      <td>0.071429</td>\n",
       "      <td>12.0</td>\n",
       "      <td>0.0</td>\n",
       "      <td>Negative</td>\n",
       "      <td>3.0</td>\n",
       "      <td>0.766021</td>\n",
       "      <td>0.20818</td>\n",
       "    </tr>\n",
       "    <tr>\n",
       "      <th>3224</th>\n",
       "      <td>0.0</td>\n",
       "      <td>3224</td>\n",
       "      <td>KTSERSQPR</td>\n",
       "      <td>HLA-A*11:01</td>\n",
       "      <td>0.142857</td>\n",
       "      <td>5.0</td>\n",
       "      <td>0.0</td>\n",
       "      <td>Negative</td>\n",
       "      <td>3.0</td>\n",
       "      <td>0.631321</td>\n",
       "      <td>-0.16252</td>\n",
       "    </tr>\n",
       "    <tr>\n",
       "      <th>3225</th>\n",
       "      <td>1.0</td>\n",
       "      <td>3225</td>\n",
       "      <td>MIAQYTSAL</td>\n",
       "      <td>HLA-A*02:01</td>\n",
       "      <td>0.400000</td>\n",
       "      <td>3.0</td>\n",
       "      <td>1.0</td>\n",
       "      <td>Positive</td>\n",
       "      <td>5.0</td>\n",
       "      <td>0.176384</td>\n",
       "      <td>-0.18768</td>\n",
       "    </tr>\n",
       "    <tr>\n",
       "      <th>3226</th>\n",
       "      <td>0.0</td>\n",
       "      <td>3226</td>\n",
       "      <td>NPSKMVYAL</td>\n",
       "      <td>HLA-B*07:02</td>\n",
       "      <td>0.090909</td>\n",
       "      <td>9.0</td>\n",
       "      <td>0.0</td>\n",
       "      <td>Negative</td>\n",
       "      <td>4.0</td>\n",
       "      <td>0.793776</td>\n",
       "      <td>-0.38310</td>\n",
       "    </tr>\n",
       "    <tr>\n",
       "      <th>3227</th>\n",
       "      <td>1.0</td>\n",
       "      <td>3227</td>\n",
       "      <td>SQFGQEHRL</td>\n",
       "      <td>HLA-A*02:01</td>\n",
       "      <td>0.250000</td>\n",
       "      <td>6.0</td>\n",
       "      <td>1.0</td>\n",
       "      <td>Positive</td>\n",
       "      <td>7.0</td>\n",
       "      <td>0.553837</td>\n",
       "      <td>0.11109</td>\n",
       "    </tr>\n",
       "  </tbody>\n",
       "</table>\n",
       "<p>3227 rows × 11 columns</p>\n",
       "</div>"
      ],
      "text/plain": [
       "      labels  Unnamed: 0     peptide   HLA_allele  potential  tested_subjects  \\\n",
       "0        1.0           0   SLMDLLSSL  HLA-A*02:01   0.285714             19.0   \n",
       "1        1.0           1  AMPFSIFYPM  HLA-A*02:01   0.400000              3.0   \n",
       "2        1.0           2  SSQVLQQSTY  HLA-A*01:01   0.294118             15.0   \n",
       "3        0.0           3   QLSEYQTSV  HLA-A*02:01   0.083333             10.0   \n",
       "4        1.0           4   ILIEGIFFA  HLA-A*02:01   0.933333             13.0   \n",
       "...      ...         ...         ...          ...        ...              ...   \n",
       "3223     0.0        3223   SLLYEYFTV  HLA-A*02:01   0.071429             12.0   \n",
       "3224     0.0        3224   KTSERSQPR  HLA-A*11:01   0.142857              5.0   \n",
       "3225     1.0        3225   MIAQYTSAL  HLA-A*02:01   0.400000              3.0   \n",
       "3226     0.0        3226   NPSKMVYAL  HLA-B*07:02   0.090909              9.0   \n",
       "3227     1.0        3227   SQFGQEHRL  HLA-A*02:01   0.250000              6.0   \n",
       "\n",
       "      positive_subjects immunogenicity  parts  binding_score  IEDB_predictions  \n",
       "0                   5.0       Positive    1.0       0.977676          -0.29220  \n",
       "1                   1.0       Positive    3.0       0.013863           0.18330  \n",
       "2                   4.0       Positive    5.0       0.595362          -0.34564  \n",
       "3                   0.0       Negative    7.0       0.927334          -0.12949  \n",
       "4                  13.0       Positive    8.0       0.946821           0.46943  \n",
       "...                 ...            ...    ...            ...               ...  \n",
       "3223                0.0       Negative    3.0       0.766021           0.20818  \n",
       "3224                0.0       Negative    3.0       0.631321          -0.16252  \n",
       "3225                1.0       Positive    5.0       0.176384          -0.18768  \n",
       "3226                0.0       Negative    4.0       0.793776          -0.38310  \n",
       "3227                1.0       Positive    7.0       0.553837           0.11109  \n",
       "\n",
       "[3227 rows x 11 columns]"
      ]
     },
     "execution_count": 4,
     "metadata": {},
     "output_type": "execute_result"
    }
   ],
   "source": [
    "test_data"
   ]
  },
  {
   "cell_type": "code",
   "execution_count": 8,
   "metadata": {},
   "outputs": [
    {
     "name": "stdout",
     "output_type": "stream",
     "text": [
      "0.49034793971841245\n"
     ]
    },
    {
     "data": {
      "image/png": "[encoded data removed]",
      "text/plain": [
       "<Figure size 432x288 with 1 Axes>"
      ]
     },
     "metadata": {
      "needs_background": "light"
     },
     "output_type": "display_data"
    }
   ],
   "source": [
    "fpr, tpr, threshold = metrics.roc_curve(test_data[\"labels\"].astype('int'),test_data[\"IEDB_predictions\"].astype('float'))\n",
    "roc_auc = metrics.auc(fpr,tpr)\n",
    "print(roc_auc)\n",
    "precision, recall, thresholds = metrics.precision_recall_curve(test_data[\"labels\"].astype('int'),test_data[\"IEDB_predictions\"].astype('float'))\n",
    "PR_auc = metrics.auc(recall, precision)\n",
    "\n",
    "plt.title('Receiver Operating Characteristic')\n",
    "plt.plot(fpr, tpr, 'b',label = 'AUC = %0.3f' % roc_auc)\n",
    "plt.legend(loc = 'lower right')\n",
    "plt.plot([0, 1], [0, 1],'r--')\n",
    "plt.xlim([0, 1])\n",
    "plt.ylim([0, 1])\n",
    "plt.ylabel('True Positive Rate')\n",
    "plt.xlabel('False Positive Rate')\n",
    "plt.show()\n"
   ]
  },
  {
   "cell_type": "code",
   "execution_count": 9,
   "metadata": {},
   "outputs": [
    {
     "name": "stdout",
     "output_type": "stream",
     "text": [
      "0.49034793971841245\n"
     ]
    },
    {
     "data": {
      "image/png": "[encoded data removed]",
      "text/plain": [
       "<Figure size 432x288 with 1 Axes>"
      ]
     },
     "metadata": {
      "needs_background": "light"
     },
     "output_type": "display_data"
    },
    {
     "name": "stdout",
     "output_type": "stream",
     "text": [
      "0.4739411898905295\n"
     ]
    }
   ],
   "source": [
    "fpr, tpr, threshold = metrics.roc_curve(test_data[\"labels\"].astype('int'),test_data[\"IEDB_predictions\"].astype('float'))\n",
    "roc_auc = metrics.auc(fpr,tpr)\n",
    "print(roc_auc)\n",
    "precision, recall, thresholds = metrics.precision_recall_curve(test_data[\"labels\"].astype('int'),test_data[\"IEDB_predictions\"].astype('float'))\n",
    "PR_auc = metrics.auc(recall, precision)\n",
    "plt.title('Precission-Recall curve')\n",
    "plt.plot(recall, precision, 'b', label = 'AUCpr = %0.3f' % roc_auc)\n",
    "plt.legend(loc = 'lower right')\n",
    "plt.xlim([0, 1])\n",
    "plt.ylim([0, 1])\n",
    "plt.ylabel('Recall')\n",
    "plt.xlabel('Precession')\n",
    "plt.show()\n",
    "print(PR_auc)"
   ]
  },
  {
   "cell_type": "code",
   "execution_count": null,
   "metadata": {},
   "outputs": [],
   "source": []
  }
 ],
 "metadata": {
  "interpreter": {
   "hash": "c6e4e9f98eb68ad3b7c296f83d20e6de614cb42e90992a65aa266555a3137d0d"
  },
  "kernelspec": {
   "display_name": "Python 3.9.9 ('base')",
   "language": "python",
   "name": "python3"
  },
  "language_info": {
   "codemirror_mode": {
    "name": "ipython",
    "version": 3
   },
   "file_extension": ".py",
   "mimetype": "text/x-python",
   "name": "python",
   "nbconvert_exporter": "python",
   "pygments_lexer": "ipython3",
   "version": "3.9.9"
  },
  "orig_nbformat": 4
 },
 "nbformat": 4,
 "nbformat_minor": 2
}
