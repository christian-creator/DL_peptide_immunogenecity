{
 "cells": [
  {
   "cell_type": "code",
   "execution_count": 141,
   "metadata": {},
   "outputs": [],
   "source": [
    "import pandas as pd\n",
    "import numpy as np \n",
    "import matplotlib.pyplot as plt\n",
    "from IPython import display\n"
   ]
  },
  {
   "cell_type": "code",
   "execution_count": 142,
   "metadata": {},
   "outputs": [
    {
     "data": {
      "text/html": [
       "<div>\n",
       "<style scoped>\n",
       "    .dataframe tbody tr th:only-of-type {\n",
       "        vertical-align: middle;\n",
       "    }\n",
       "\n",
       "    .dataframe tbody tr th {\n",
       "        vertical-align: top;\n",
       "    }\n",
       "\n",
       "    .dataframe thead th {\n",
       "        text-align: right;\n",
       "    }\n",
       "</style>\n",
       "<table border=\"1\" class=\"dataframe\">\n",
       "  <thead>\n",
       "    <tr style=\"text-align: right;\">\n",
       "      <th></th>\n",
       "      <th>peptide</th>\n",
       "      <th>HLA_allele</th>\n",
       "      <th>immunogenicity</th>\n",
       "      <th>tested_subjects</th>\n",
       "      <th>positive_subjects</th>\n",
       "    </tr>\n",
       "  </thead>\n",
       "  <tbody>\n",
       "    <tr>\n",
       "      <th>5</th>\n",
       "      <td>AAGIGILTV</td>\n",
       "      <td>HLA-A*02:01</td>\n",
       "      <td>0.833333</td>\n",
       "      <td>4.0</td>\n",
       "      <td>4.0</td>\n",
       "    </tr>\n",
       "    <tr>\n",
       "      <th>6</th>\n",
       "      <td>AALFFFDID</td>\n",
       "      <td>HLA-A*02:01</td>\n",
       "      <td>0.250000</td>\n",
       "      <td>10.0</td>\n",
       "      <td>2.0</td>\n",
       "    </tr>\n",
       "    <tr>\n",
       "      <th>10</th>\n",
       "      <td>AAVKAGAAL</td>\n",
       "      <td>HLA-B*07:02</td>\n",
       "      <td>0.750000</td>\n",
       "      <td>2.0</td>\n",
       "      <td>2.0</td>\n",
       "    </tr>\n",
       "    <tr>\n",
       "      <th>25</th>\n",
       "      <td>ADVEFCLSL</td>\n",
       "      <td>HLA-B*44:03</td>\n",
       "      <td>0.500000</td>\n",
       "      <td>6.0</td>\n",
       "      <td>3.0</td>\n",
       "    </tr>\n",
       "    <tr>\n",
       "      <th>125</th>\n",
       "      <td>AELEGVWQPA</td>\n",
       "      <td>HLA-B*40:06</td>\n",
       "      <td>0.666667</td>\n",
       "      <td>1.0</td>\n",
       "      <td>1.0</td>\n",
       "    </tr>\n",
       "    <tr>\n",
       "      <th>...</th>\n",
       "      <td>...</td>\n",
       "      <td>...</td>\n",
       "      <td>...</td>\n",
       "      <td>...</td>\n",
       "      <td>...</td>\n",
       "    </tr>\n",
       "    <tr>\n",
       "      <th>27637</th>\n",
       "      <td>FTGSEVENV</td>\n",
       "      <td>HLA-A*02:01</td>\n",
       "      <td>0.083333</td>\n",
       "      <td>10.0</td>\n",
       "      <td>0.0</td>\n",
       "    </tr>\n",
       "    <tr>\n",
       "      <th>27638</th>\n",
       "      <td>FTSHEHFGL</td>\n",
       "      <td>HLA-A*02:01</td>\n",
       "      <td>0.083333</td>\n",
       "      <td>10.0</td>\n",
       "      <td>0.0</td>\n",
       "    </tr>\n",
       "    <tr>\n",
       "      <th>27667</th>\n",
       "      <td>MQVIGDQYV</td>\n",
       "      <td>HLA-A*02:01</td>\n",
       "      <td>0.083333</td>\n",
       "      <td>10.0</td>\n",
       "      <td>0.0</td>\n",
       "    </tr>\n",
       "    <tr>\n",
       "      <th>27685</th>\n",
       "      <td>SQEPMSIYV</td>\n",
       "      <td>HLA-A*02:01</td>\n",
       "      <td>0.083333</td>\n",
       "      <td>10.0</td>\n",
       "      <td>0.0</td>\n",
       "    </tr>\n",
       "    <tr>\n",
       "      <th>27741</th>\n",
       "      <td>YICGFIQQK</td>\n",
       "      <td>HLA-A*11:01</td>\n",
       "      <td>0.111111</td>\n",
       "      <td>7.0</td>\n",
       "      <td>0.0</td>\n",
       "    </tr>\n",
       "  </tbody>\n",
       "</table>\n",
       "<p>5543 rows × 5 columns</p>\n",
       "</div>"
      ],
      "text/plain": [
       "          peptide   HLA_allele  immunogenicity  tested_subjects  \\\n",
       "5       AAGIGILTV  HLA-A*02:01        0.833333              4.0   \n",
       "6       AALFFFDID  HLA-A*02:01        0.250000             10.0   \n",
       "10      AAVKAGAAL  HLA-B*07:02        0.750000              2.0   \n",
       "25      ADVEFCLSL  HLA-B*44:03        0.500000              6.0   \n",
       "125    AELEGVWQPA  HLA-B*40:06        0.666667              1.0   \n",
       "...           ...          ...             ...              ...   \n",
       "27637   FTGSEVENV  HLA-A*02:01        0.083333             10.0   \n",
       "27638   FTSHEHFGL  HLA-A*02:01        0.083333             10.0   \n",
       "27667   MQVIGDQYV  HLA-A*02:01        0.083333             10.0   \n",
       "27685   SQEPMSIYV  HLA-A*02:01        0.083333             10.0   \n",
       "27741   YICGFIQQK  HLA-A*11:01        0.111111              7.0   \n",
       "\n",
       "       positive_subjects  \n",
       "5                    4.0  \n",
       "6                    2.0  \n",
       "10                   2.0  \n",
       "25                   3.0  \n",
       "125                  1.0  \n",
       "...                  ...  \n",
       "27637                0.0  \n",
       "27638                0.0  \n",
       "27667                0.0  \n",
       "27685                0.0  \n",
       "27741                0.0  \n",
       "\n",
       "[5543 rows x 5 columns]"
      ]
     },
     "execution_count": 142,
     "metadata": {},
     "output_type": "execute_result"
    }
   ],
   "source": [
    "dataset = pd.read_csv(\"../data/filtered_data_IEDB_4_tested_len_9_10_full_HLA.csv\",index_col=0)\n",
    "dataset"
   ]
  },
  {
   "cell_type": "markdown",
   "metadata": {},
   "source": [
    "## Distrobution of immunogenecity scores"
   ]
  },
  {
   "cell_type": "code",
   "execution_count": 143,
   "metadata": {},
   "outputs": [
    {
     "data": {
      "text/plain": [
       "count    5543.000000\n",
       "mean        0.235154\n",
       "std         0.228096\n",
       "min         0.014493\n",
       "25%         0.083333\n",
       "50%         0.142857\n",
       "75%         0.297727\n",
       "max         0.954545\n",
       "Name: immunogenicity, dtype: float64"
      ]
     },
     "execution_count": 143,
     "metadata": {},
     "output_type": "execute_result"
    }
   ],
   "source": [
    "dataset.immunogenicity.describe()"
   ]
  },
  {
   "cell_type": "code",
   "execution_count": 144,
   "metadata": {},
   "outputs": [
    {
     "data": {
      "image/png": "[encoded data removed]",
      "text/plain": [
       "<Figure size 720x432 with 1 Axes>"
      ]
     },
     "metadata": {
      "needs_background": "light"
     },
     "output_type": "display_data"
    }
   ],
   "source": [
    "fig = plt.figure(figsize=(10,6))\n",
    "dataset.immunogenicity.hist()\n",
    "plt.xlabel(\"Immunogenecity score\")\n",
    "plt.ylabel(\"Count\")\n",
    "plt.show()"
   ]
  },
  {
   "cell_type": "markdown",
   "metadata": {},
   "source": [
    "## Distrobution of HLA-Alleles"
   ]
  },
  {
   "cell_type": "code",
   "execution_count": 145,
   "metadata": {},
   "outputs": [
    {
     "data": {
      "text/plain": [
       "count            5543\n",
       "unique             86\n",
       "top       HLA-A*02:01\n",
       "freq             2116\n",
       "Name: HLA_allele, dtype: object"
      ]
     },
     "execution_count": 145,
     "metadata": {},
     "output_type": "execute_result"
    }
   ],
   "source": [
    "dataset.HLA_allele.describe()"
   ]
  },
  {
   "cell_type": "code",
   "execution_count": 146,
   "metadata": {},
   "outputs": [
    {
     "data": {
      "image/png": "[encoded data removed]",
      "text/plain": [
       "<Figure size 1440x432 with 1 Axes>"
      ]
     },
     "metadata": {
      "needs_background": "light"
     },
     "output_type": "display_data"
    }
   ],
   "source": [
    "unique_HLAs, counts = np.unique(dataset.HLA_allele,return_counts=True)\n",
    "HLA_count_dict = {hla:count for hla,count in zip(unique_HLAs, counts) }\n",
    "\n",
    "sorted_HLAs = sorted(HLA_count_dict.keys(),key=lambda x: HLA_count_dict[x], reverse=True) \n",
    "sorted_counts = [HLA_count_dict[x] for x in sorted_HLAs]\n",
    "\n",
    "fig = plt.figure(figsize=(20,6))\n",
    "plt.bar(np.arange(len(unique_HLAs)),sorted_counts)\n",
    "plt.xticks(np.arange(len(unique_HLAs)),sorted_HLAs,rotation=90)\n",
    "plt.xlabel(\"Immunogenecity score\")\n",
    "plt.ylabel(\"Count\")\n",
    "plt.show()"
   ]
  },
  {
   "cell_type": "markdown",
   "metadata": {},
   "source": [
    "## Length distrobution"
   ]
  },
  {
   "cell_type": "code",
   "execution_count": 147,
   "metadata": {},
   "outputs": [
    {
     "data": {
      "image/png": "[encoded data removed]",
      "text/plain": [
       "<Figure size 1440x432 with 1 Axes>"
      ]
     },
     "metadata": {
      "needs_background": "light"
     },
     "output_type": "display_data"
    }
   ],
   "source": [
    "dataset[\"pep_len\"] = [len(x) for x in dataset[\"peptide\"]]\n",
    "unique_lens, counts = np.unique(dataset.pep_len,return_counts=True)\n",
    "\n",
    "fig = plt.figure(figsize=(20,6))\n",
    "plt.bar(np.arange(len(unique_lens)),counts)\n",
    "plt.xticks(np.arange(len(unique_lens)),unique_lens,rotation=90)\n",
    "plt.xlabel(\"Peptide lengths\")\n",
    "plt.ylabel(\"Count\")\n",
    "plt.show()\n"
   ]
  },
  {
   "cell_type": "markdown",
   "metadata": {},
   "source": [
    "## Analysing peptide properties"
   ]
  },
  {
   "cell_type": "code",
   "execution_count": 151,
   "metadata": {},
   "outputs": [],
   "source": [
    "len_peptides = 10 \n",
    "immunogenic = dataset[\"peptide\"][(dataset[\"immunogenicity\"] > 0.7) & (dataset[\"pep_len\"] == len_peptides)]\n",
    "non_immunogenic = dataset[\"peptide\"][(dataset[\"immunogenicity\"] < 0.2) & (dataset[\"pep_len\"] == len_peptides)]"
   ]
  },
  {
   "cell_type": "code",
   "execution_count": 152,
   "metadata": {},
   "outputs": [],
   "source": [
    "immunogenic_pos = pd.DataFrame.from_records([list(x) for x in immunogenic],columns=range(1,len_peptides +1))\n",
    "non_immunogenic_pos = pd.DataFrame.from_records([list(x) for x in non_immunogenic],columns=range(1,len_peptides +1))"
   ]
  },
  {
   "cell_type": "code",
   "execution_count": 153,
   "metadata": {},
   "outputs": [
    {
     "data": {
      "text/html": [
       "<div>\n",
       "<style scoped>\n",
       "    .dataframe tbody tr th:only-of-type {\n",
       "        vertical-align: middle;\n",
       "    }\n",
       "\n",
       "    .dataframe tbody tr th {\n",
       "        vertical-align: top;\n",
       "    }\n",
       "\n",
       "    .dataframe thead th {\n",
       "        text-align: right;\n",
       "    }\n",
       "</style>\n",
       "<table border=\"1\" class=\"dataframe\">\n",
       "  <thead>\n",
       "    <tr style=\"text-align: right;\">\n",
       "      <th></th>\n",
       "      <th>1</th>\n",
       "      <th>2</th>\n",
       "      <th>3</th>\n",
       "      <th>4</th>\n",
       "      <th>5</th>\n",
       "      <th>6</th>\n",
       "      <th>7</th>\n",
       "      <th>8</th>\n",
       "      <th>9</th>\n",
       "      <th>10</th>\n",
       "    </tr>\n",
       "  </thead>\n",
       "  <tbody>\n",
       "    <tr>\n",
       "      <th>0</th>\n",
       "      <td>D</td>\n",
       "      <td>F</td>\n",
       "      <td>K</td>\n",
       "      <td>T</td>\n",
       "      <td>W</td>\n",
       "      <td>L</td>\n",
       "      <td>Q</td>\n",
       "      <td>S</td>\n",
       "      <td>K</td>\n",
       "      <td>L</td>\n",
       "    </tr>\n",
       "    <tr>\n",
       "      <th>1</th>\n",
       "      <td>G</td>\n",
       "      <td>E</td>\n",
       "      <td>S</td>\n",
       "      <td>R</td>\n",
       "      <td>K</td>\n",
       "      <td>T</td>\n",
       "      <td>F</td>\n",
       "      <td>V</td>\n",
       "      <td>E</td>\n",
       "      <td>L</td>\n",
       "    </tr>\n",
       "    <tr>\n",
       "      <th>2</th>\n",
       "      <td>G</td>\n",
       "      <td>I</td>\n",
       "      <td>V</td>\n",
       "      <td>C</td>\n",
       "      <td>P</td>\n",
       "      <td>I</td>\n",
       "      <td>C</td>\n",
       "      <td>S</td>\n",
       "      <td>Q</td>\n",
       "      <td>K</td>\n",
       "    </tr>\n",
       "    <tr>\n",
       "      <th>3</th>\n",
       "      <td>G</td>\n",
       "      <td>L</td>\n",
       "      <td>L</td>\n",
       "      <td>G</td>\n",
       "      <td>C</td>\n",
       "      <td>I</td>\n",
       "      <td>I</td>\n",
       "      <td>T</td>\n",
       "      <td>S</td>\n",
       "      <td>L</td>\n",
       "    </tr>\n",
       "    <tr>\n",
       "      <th>4</th>\n",
       "      <td>G</td>\n",
       "      <td>L</td>\n",
       "      <td>S</td>\n",
       "      <td>P</td>\n",
       "      <td>T</td>\n",
       "      <td>V</td>\n",
       "      <td>W</td>\n",
       "      <td>L</td>\n",
       "      <td>S</td>\n",
       "      <td>V</td>\n",
       "    </tr>\n",
       "    <tr>\n",
       "      <th>...</th>\n",
       "      <td>...</td>\n",
       "      <td>...</td>\n",
       "      <td>...</td>\n",
       "      <td>...</td>\n",
       "      <td>...</td>\n",
       "      <td>...</td>\n",
       "      <td>...</td>\n",
       "      <td>...</td>\n",
       "      <td>...</td>\n",
       "      <td>...</td>\n",
       "    </tr>\n",
       "    <tr>\n",
       "      <th>1044</th>\n",
       "      <td>F</td>\n",
       "      <td>L</td>\n",
       "      <td>Y</td>\n",
       "      <td>E</td>\n",
       "      <td>N</td>\n",
       "      <td>A</td>\n",
       "      <td>F</td>\n",
       "      <td>L</td>\n",
       "      <td>P</td>\n",
       "      <td>F</td>\n",
       "    </tr>\n",
       "    <tr>\n",
       "      <th>1045</th>\n",
       "      <td>K</td>\n",
       "      <td>Q</td>\n",
       "      <td>L</td>\n",
       "      <td>I</td>\n",
       "      <td>K</td>\n",
       "      <td>V</td>\n",
       "      <td>T</td>\n",
       "      <td>L</td>\n",
       "      <td>V</td>\n",
       "      <td>F</td>\n",
       "    </tr>\n",
       "    <tr>\n",
       "      <th>1046</th>\n",
       "      <td>L</td>\n",
       "      <td>V</td>\n",
       "      <td>Q</td>\n",
       "      <td>M</td>\n",
       "      <td>A</td>\n",
       "      <td>P</td>\n",
       "      <td>I</td>\n",
       "      <td>S</td>\n",
       "      <td>A</td>\n",
       "      <td>M</td>\n",
       "    </tr>\n",
       "    <tr>\n",
       "      <th>1047</th>\n",
       "      <td>M</td>\n",
       "      <td>V</td>\n",
       "      <td>M</td>\n",
       "      <td>F</td>\n",
       "      <td>T</td>\n",
       "      <td>P</td>\n",
       "      <td>L</td>\n",
       "      <td>V</td>\n",
       "      <td>P</td>\n",
       "      <td>F</td>\n",
       "    </tr>\n",
       "    <tr>\n",
       "      <th>1048</th>\n",
       "      <td>T</td>\n",
       "      <td>N</td>\n",
       "      <td>Y</td>\n",
       "      <td>M</td>\n",
       "      <td>P</td>\n",
       "      <td>Y</td>\n",
       "      <td>F</td>\n",
       "      <td>F</td>\n",
       "      <td>T</td>\n",
       "      <td>L</td>\n",
       "    </tr>\n",
       "  </tbody>\n",
       "</table>\n",
       "<p>1049 rows × 10 columns</p>\n",
       "</div>"
      ],
      "text/plain": [
       "     1  2  3  4  5  6  7  8  9  10\n",
       "0     D  F  K  T  W  L  Q  S  K  L\n",
       "1     G  E  S  R  K  T  F  V  E  L\n",
       "2     G  I  V  C  P  I  C  S  Q  K\n",
       "3     G  L  L  G  C  I  I  T  S  L\n",
       "4     G  L  S  P  T  V  W  L  S  V\n",
       "...  .. .. .. .. .. .. .. .. .. ..\n",
       "1044  F  L  Y  E  N  A  F  L  P  F\n",
       "1045  K  Q  L  I  K  V  T  L  V  F\n",
       "1046  L  V  Q  M  A  P  I  S  A  M\n",
       "1047  M  V  M  F  T  P  L  V  P  F\n",
       "1048  T  N  Y  M  P  Y  F  F  T  L\n",
       "\n",
       "[1049 rows x 10 columns]"
      ]
     },
     "execution_count": 153,
     "metadata": {},
     "output_type": "execute_result"
    }
   ],
   "source": [
    "non_immunogenic_pos"
   ]
  },
  {
   "cell_type": "code",
   "execution_count": 154,
   "metadata": {},
   "outputs": [
    {
     "data": {
      "text/html": [
       "<div>\n",
       "<style scoped>\n",
       "    .dataframe tbody tr th:only-of-type {\n",
       "        vertical-align: middle;\n",
       "    }\n",
       "\n",
       "    .dataframe tbody tr th {\n",
       "        vertical-align: top;\n",
       "    }\n",
       "\n",
       "    .dataframe thead th {\n",
       "        text-align: right;\n",
       "    }\n",
       "</style>\n",
       "<table border=\"1\" class=\"dataframe\">\n",
       "  <thead>\n",
       "    <tr style=\"text-align: right;\">\n",
       "      <th></th>\n",
       "      <th>A</th>\n",
       "      <th>G</th>\n",
       "      <th>L</th>\n",
       "      <th>M</th>\n",
       "      <th>F</th>\n",
       "      <th>W</th>\n",
       "      <th>K</th>\n",
       "      <th>Q</th>\n",
       "      <th>E</th>\n",
       "      <th>S</th>\n",
       "      <th>P</th>\n",
       "      <th>V</th>\n",
       "      <th>I</th>\n",
       "      <th>C</th>\n",
       "      <th>Y</th>\n",
       "      <th>H</th>\n",
       "      <th>R</th>\n",
       "      <th>N</th>\n",
       "      <th>D</th>\n",
       "      <th>T</th>\n",
       "    </tr>\n",
       "    <tr>\n",
       "      <th>props</th>\n",
       "      <th></th>\n",
       "      <th></th>\n",
       "      <th></th>\n",
       "      <th></th>\n",
       "      <th></th>\n",
       "      <th></th>\n",
       "      <th></th>\n",
       "      <th></th>\n",
       "      <th></th>\n",
       "      <th></th>\n",
       "      <th></th>\n",
       "      <th></th>\n",
       "      <th></th>\n",
       "      <th></th>\n",
       "      <th></th>\n",
       "      <th></th>\n",
       "      <th></th>\n",
       "      <th></th>\n",
       "      <th></th>\n",
       "      <th></th>\n",
       "    </tr>\n",
       "  </thead>\n",
       "  <tbody>\n",
       "    <tr>\n",
       "      <th>AA</th>\n",
       "      <td>A</td>\n",
       "      <td>G</td>\n",
       "      <td>L</td>\n",
       "      <td>M</td>\n",
       "      <td>F</td>\n",
       "      <td>W</td>\n",
       "      <td>K</td>\n",
       "      <td>Q</td>\n",
       "      <td>E</td>\n",
       "      <td>S</td>\n",
       "      <td>P</td>\n",
       "      <td>V</td>\n",
       "      <td>I</td>\n",
       "      <td>C</td>\n",
       "      <td>Y</td>\n",
       "      <td>H</td>\n",
       "      <td>R</td>\n",
       "      <td>N</td>\n",
       "      <td>D</td>\n",
       "      <td>T</td>\n",
       "    </tr>\n",
       "    <tr>\n",
       "      <th>AA_num_key</th>\n",
       "      <td>1.0</td>\n",
       "      <td>2.0</td>\n",
       "      <td>3.0</td>\n",
       "      <td>4.0</td>\n",
       "      <td>5.0</td>\n",
       "      <td>6.0</td>\n",
       "      <td>7.0</td>\n",
       "      <td>8.0</td>\n",
       "      <td>9.0</td>\n",
       "      <td>10.0</td>\n",
       "      <td>11.0</td>\n",
       "      <td>12.0</td>\n",
       "      <td>13.0</td>\n",
       "      <td>14.0</td>\n",
       "      <td>15.0</td>\n",
       "      <td>16.0</td>\n",
       "      <td>17.0</td>\n",
       "      <td>18.0</td>\n",
       "      <td>19.0</td>\n",
       "      <td>20.0</td>\n",
       "    </tr>\n",
       "    <tr>\n",
       "      <th>AA_num_key_new</th>\n",
       "      <td>-0.15</td>\n",
       "      <td>-0.1</td>\n",
       "      <td>-0.95</td>\n",
       "      <td>-0.85</td>\n",
       "      <td>-0.45</td>\n",
       "      <td>-0.5</td>\n",
       "      <td>0.85</td>\n",
       "      <td>0.65</td>\n",
       "      <td>0.95</td>\n",
       "      <td>0.55</td>\n",
       "      <td>-0.4</td>\n",
       "      <td>-0.9</td>\n",
       "      <td>-1.0</td>\n",
       "      <td>0.5</td>\n",
       "      <td>0.1</td>\n",
       "      <td>0.75</td>\n",
       "      <td>0.9</td>\n",
       "      <td>0.7</td>\n",
       "      <td>1.0</td>\n",
       "      <td>0.45</td>\n",
       "    </tr>\n",
       "    <tr>\n",
       "      <th>charge_key</th>\n",
       "      <td>0.0</td>\n",
       "      <td>0.0</td>\n",
       "      <td>0.0</td>\n",
       "      <td>0.0</td>\n",
       "      <td>0.0</td>\n",
       "      <td>0.0</td>\n",
       "      <td>1.0</td>\n",
       "      <td>0.0</td>\n",
       "      <td>-1.0</td>\n",
       "      <td>0.0</td>\n",
       "      <td>0.0</td>\n",
       "      <td>0.0</td>\n",
       "      <td>0.0</td>\n",
       "      <td>-0.048</td>\n",
       "      <td>0.0</td>\n",
       "      <td>0.091</td>\n",
       "      <td>1.0</td>\n",
       "      <td>0.0</td>\n",
       "      <td>-1.0</td>\n",
       "      <td>0.0</td>\n",
       "    </tr>\n",
       "    <tr>\n",
       "      <th>hydrophobicity</th>\n",
       "      <td>0.33</td>\n",
       "      <td>1.14</td>\n",
       "      <td>-0.69</td>\n",
       "      <td>-0.44</td>\n",
       "      <td>-0.58</td>\n",
       "      <td>-0.24</td>\n",
       "      <td>1.81</td>\n",
       "      <td>0.19</td>\n",
       "      <td>1.61</td>\n",
       "      <td>0.33</td>\n",
       "      <td>-0.31</td>\n",
       "      <td>-0.53</td>\n",
       "      <td>-0.81</td>\n",
       "      <td>0.22</td>\n",
       "      <td>0.23</td>\n",
       "      <td>1.37</td>\n",
       "      <td>1.0</td>\n",
       "      <td>0.43</td>\n",
       "      <td>2.41</td>\n",
       "      <td>0.11</td>\n",
       "    </tr>\n",
       "    <tr>\n",
       "      <th>bulk</th>\n",
       "      <td>0.13721290451959514</td>\n",
       "      <td>0.1099971218049647</td>\n",
       "      <td>0.2165922707706006</td>\n",
       "      <td>0.2302001621279158</td>\n",
       "      <td>0.25854993578898916</td>\n",
       "      <td>0.29937360986093486</td>\n",
       "      <td>0.26081791768187507</td>\n",
       "      <td>0.2426740625387881</td>\n",
       "      <td>0.2426740625387881</td>\n",
       "      <td>0.1621607053413397</td>\n",
       "      <td>0.17463460575221199</td>\n",
       "      <td>0.18710850616308428</td>\n",
       "      <td>0.22112823455637232</td>\n",
       "      <td>0.16783066007355438</td>\n",
       "      <td>0.28916769134294845</td>\n",
       "      <td>0.24494204443167397</td>\n",
       "      <td>0.30050760080737776</td>\n",
       "      <td>0.21205630698482886</td>\n",
       "      <td>0.21205630698482886</td>\n",
       "      <td>0.1848405242701984</td>\n",
       "    </tr>\n",
       "    <tr>\n",
       "      <th>flex</th>\n",
       "      <td>0.984</td>\n",
       "      <td>1.031</td>\n",
       "      <td>0.935</td>\n",
       "      <td>0.952</td>\n",
       "      <td>0.915</td>\n",
       "      <td>0.904</td>\n",
       "      <td>1.102</td>\n",
       "      <td>1.037</td>\n",
       "      <td>1.094</td>\n",
       "      <td>1.046</td>\n",
       "      <td>1.049</td>\n",
       "      <td>0.931</td>\n",
       "      <td>0.927</td>\n",
       "      <td>0.906</td>\n",
       "      <td>0.929</td>\n",
       "      <td>0.95</td>\n",
       "      <td>1.008</td>\n",
       "      <td>1.048</td>\n",
       "      <td>1.068</td>\n",
       "      <td>0.997</td>\n",
       "    </tr>\n",
       "  </tbody>\n",
       "</table>\n",
       "</div>"
      ],
      "text/plain": [
       "                                  A                   G                   L  \\\n",
       "props                                                                         \n",
       "AA                                A                   G                   L   \n",
       "AA_num_key                      1.0                 2.0                 3.0   \n",
       "AA_num_key_new                -0.15                -0.1               -0.95   \n",
       "charge_key                      0.0                 0.0                 0.0   \n",
       "hydrophobicity                 0.33                1.14               -0.69   \n",
       "bulk            0.13721290451959514  0.1099971218049647  0.2165922707706006   \n",
       "flex                          0.984               1.031               0.935   \n",
       "\n",
       "                                 M                    F                    W  \\\n",
       "props                                                                          \n",
       "AA                               M                    F                    W   \n",
       "AA_num_key                     4.0                  5.0                  6.0   \n",
       "AA_num_key_new               -0.85                -0.45                 -0.5   \n",
       "charge_key                     0.0                  0.0                  0.0   \n",
       "hydrophobicity               -0.44                -0.58                -0.24   \n",
       "bulk            0.2302001621279158  0.25854993578898916  0.29937360986093486   \n",
       "flex                         0.952                0.915                0.904   \n",
       "\n",
       "                                  K                   Q                   E  \\\n",
       "props                                                                         \n",
       "AA                                K                   Q                   E   \n",
       "AA_num_key                      7.0                 8.0                 9.0   \n",
       "AA_num_key_new                 0.85                0.65                0.95   \n",
       "charge_key                      1.0                 0.0                -1.0   \n",
       "hydrophobicity                 1.81                0.19                1.61   \n",
       "bulk            0.26081791768187507  0.2426740625387881  0.2426740625387881   \n",
       "flex                          1.102               1.037               1.094   \n",
       "\n",
       "                                 S                    P                    V  \\\n",
       "props                                                                          \n",
       "AA                               S                    P                    V   \n",
       "AA_num_key                    10.0                 11.0                 12.0   \n",
       "AA_num_key_new                0.55                 -0.4                 -0.9   \n",
       "charge_key                     0.0                  0.0                  0.0   \n",
       "hydrophobicity                0.33                -0.31                -0.53   \n",
       "bulk            0.1621607053413397  0.17463460575221199  0.18710850616308428   \n",
       "flex                         1.046                1.049                0.931   \n",
       "\n",
       "                                  I                    C                    Y  \\\n",
       "props                                                                           \n",
       "AA                                I                    C                    Y   \n",
       "AA_num_key                     13.0                 14.0                 15.0   \n",
       "AA_num_key_new                 -1.0                  0.5                  0.1   \n",
       "charge_key                      0.0               -0.048                  0.0   \n",
       "hydrophobicity                -0.81                 0.22                 0.23   \n",
       "bulk            0.22112823455637232  0.16783066007355438  0.28916769134294845   \n",
       "flex                          0.927                0.906                0.929   \n",
       "\n",
       "                                  H                    R                    N  \\\n",
       "props                                                                           \n",
       "AA                                H                    R                    N   \n",
       "AA_num_key                     16.0                 17.0                 18.0   \n",
       "AA_num_key_new                 0.75                  0.9                  0.7   \n",
       "charge_key                    0.091                  1.0                  0.0   \n",
       "hydrophobicity                 1.37                  1.0                 0.43   \n",
       "bulk            0.24494204443167397  0.30050760080737776  0.21205630698482886   \n",
       "flex                           0.95                1.008                1.048   \n",
       "\n",
       "                                  D                   T  \n",
       "props                                                    \n",
       "AA                                D                   T  \n",
       "AA_num_key                     19.0                20.0  \n",
       "AA_num_key_new                  1.0                0.45  \n",
       "charge_key                     -1.0                 0.0  \n",
       "hydrophobicity                 2.41                0.11  \n",
       "bulk            0.21205630698482886  0.1848405242701984  \n",
       "flex                          1.068               0.997  "
      ]
     },
     "execution_count": 154,
     "metadata": {},
     "output_type": "execute_result"
    }
   ],
   "source": [
    "properties = pd.read_csv(\"../data/props.csv\",index_col=0)\n",
    "properties"
   ]
  },
  {
   "cell_type": "code",
   "execution_count": 155,
   "metadata": {},
   "outputs": [],
   "source": [
    "def encode_dataframe(df,property_df):\n",
    "    property_profiles = dict()\n",
    "    for property in properties.index:\n",
    "        property_profiles[property] = dict()\n",
    "        for i,peptide in df.iterrows():\n",
    "            property_profiles[property][i] = []\n",
    "            for pos in peptide:\n",
    "                try:\n",
    "                    property_profiles[property][i].append(properties.loc[property][pos])\n",
    "\n",
    "                except KeyError:\n",
    "                    if property == \"AA\":\n",
    "                        property_profiles[property][i].pos(\"-\")\n",
    "                    else:\n",
    "                        property_profiles[property][i].pos(0)\n",
    "    return property_profiles\n",
    "\n",
    "property_profile_immunogenic = encode_dataframe(immunogenic_pos,properties)\n",
    "property_profile_non_immunogenic = encode_dataframe(non_immunogenic_pos,properties)\n"
   ]
  },
  {
   "cell_type": "code",
   "execution_count": 156,
   "metadata": {},
   "outputs": [
    {
     "data": {
      "text/plain": [
       "Text(0, 0.5, 'Hydrophobicity')"
      ]
     },
     "execution_count": 156,
     "metadata": {},
     "output_type": "execute_result"
    },
    {
     "data": {
      "image/png": "[encoded data removed]",
      "text/plain": [
       "<Figure size 432x288 with 1 Axes>"
      ]
     },
     "metadata": {
      "needs_background": "light"
     },
     "output_type": "display_data"
    }
   ],
   "source": [
    "charge_scores_immunogenic = pd.DataFrame.from_dict(property_profile_immunogenic[\"charge_key\"]).astype('float')\n",
    "hydrophobicity_scores_immunogenic = pd.DataFrame.from_dict(property_profile_immunogenic[\"hydrophobicity\"]).astype('float')\n",
    "\n",
    "charge_scores_non_immunogenic = pd.DataFrame.from_dict(property_profile_non_immunogenic[\"charge_key\"]).astype('float')\n",
    "hydrophobicity_scores_non_immunogenic = pd.DataFrame.from_dict(property_profile_non_immunogenic[\"hydrophobicity\"]).astype('float')\n",
    "\n",
    "plt.plot(charge_scores_immunogenic.mean(axis=0),hydrophobicity_scores_immunogenic.mean(axis=0),marker=\"s\",ls=\"\",color=\"red\",alpha=1)\n",
    "plt.plot(charge_scores_non_immunogenic.mean(axis=0),hydrophobicity_scores_non_immunogenic.mean(axis=0),marker=\"s\",ls=\"\",color=\"blue\",alpha=0.1)\n",
    "\n",
    "plt.xlabel(\"Charge\")\n",
    "plt.ylabel(\"Hydrophobicity\")"
   ]
  },
  {
   "cell_type": "code",
   "execution_count": 157,
   "metadata": {},
   "outputs": [
    {
     "data": {
      "text/plain": [
       "Text(0, 0.5, 'bulk')"
      ]
     },
     "execution_count": 157,
     "metadata": {},
     "output_type": "execute_result"
    },
    {
     "data": {
      "image/png": "[encoded data removed]",
      "text/plain": [
       "<Figure size 432x288 with 1 Axes>"
      ]
     },
     "metadata": {
      "needs_background": "light"
     },
     "output_type": "display_data"
    }
   ],
   "source": [
    "charge_scores_immunogenic = pd.DataFrame.from_dict(property_profile_immunogenic[\"charge_key\"]).astype('float')\n",
    "bulk_scores_immunogenic = pd.DataFrame.from_dict(property_profile_immunogenic[\"bulk\"]).astype('float')\n",
    "\n",
    "charge_scores_non_immunogenic = pd.DataFrame.from_dict(property_profile_non_immunogenic[\"charge_key\"]).astype('float')\n",
    "bulk_scores_non_immunogenic = pd.DataFrame.from_dict(property_profile_non_immunogenic[\"bulk\"]).astype('float')\n",
    "\n",
    "plt.plot(charge_scores_immunogenic.mean(axis=0),bulk_scores_immunogenic.mean(axis=0),marker=\"s\",ls=\"\",color=\"red\",alpha=1)\n",
    "plt.plot(charge_scores_non_immunogenic.mean(axis=0),bulk_scores_non_immunogenic.mean(axis=0),marker=\"s\",ls=\"\",color=\"blue\",alpha=0.1)\n",
    "\n",
    "plt.xlabel(\"Charge\")\n",
    "plt.ylabel(\"bulk\")"
   ]
  },
  {
   "cell_type": "code",
   "execution_count": 158,
   "metadata": {},
   "outputs": [
    {
     "data": {
      "text/plain": [
       "Text(0, 0.5, 'flex')"
      ]
     },
     "execution_count": 158,
     "metadata": {},
     "output_type": "execute_result"
    },
    {
     "data": {
      "image/png": "[encoded data removed]",
      "text/plain": [
       "<Figure size 432x288 with 1 Axes>"
      ]
     },
     "metadata": {
      "needs_background": "light"
     },
     "output_type": "display_data"
    }
   ],
   "source": [
    "charge_scores_immunogenic = pd.DataFrame.from_dict(property_profile_immunogenic[\"charge_key\"]).astype('float')\n",
    "flex_scores_immunogenic = pd.DataFrame.from_dict(property_profile_immunogenic[\"flex\"]).astype('float')\n",
    "\n",
    "charge_scores_non_immunogenic = pd.DataFrame.from_dict(property_profile_non_immunogenic[\"charge_key\"]).astype('float')\n",
    "flex_scores_non_immunogenic = pd.DataFrame.from_dict(property_profile_non_immunogenic[\"flex\"]).astype('float')\n",
    "\n",
    "plt.plot(charge_scores_immunogenic.mean(axis=0),flex_scores_immunogenic.mean(axis=0),marker=\"s\",ls=\"\",color=\"red\",alpha=1)\n",
    "plt.plot(charge_scores_non_immunogenic.mean(axis=0),flex_scores_non_immunogenic.mean(axis=0),marker=\"s\",ls=\"\",color=\"blue\",alpha=0.1)\n",
    "\n",
    "plt.xlabel(\"Charge\")\n",
    "plt.ylabel(\"flex\")"
   ]
  },
  {
   "cell_type": "markdown",
   "metadata": {},
   "source": [
    "## Sequence logos of immunogenic and non-immunogenic peptides"
   ]
  },
  {
   "cell_type": "code",
   "execution_count": 160,
   "metadata": {},
   "outputs": [],
   "source": [
    "# display.Image(\"./image.png\")\n",
    "immunogenic.to_csv(\"../data/immunogenic_peptides_10.csv\",index=False)\n",
    "non_immunogenic.to_csv(\"../data/non_immunogenic_peptides_10.csv\",index=False)"
   ]
  },
  {
   "cell_type": "code",
   "execution_count": null,
   "metadata": {},
   "outputs": [],
   "source": []
  }
 ],
 "metadata": {
  "interpreter": {
   "hash": "c6e4e9f98eb68ad3b7c296f83d20e6de614cb42e90992a65aa266555a3137d0d"
  },
  "kernelspec": {
   "display_name": "Python 3.9.9 ('base')",
   "language": "python",
   "name": "python3"
  },
  "language_info": {
   "codemirror_mode": {
    "name": "ipython",
    "version": 3
   },
   "file_extension": ".py",
   "mimetype": "text/x-python",
   "name": "python",
   "nbconvert_exporter": "python",
   "pygments_lexer": "ipython3",
   "version": "3.9.9"
  },
  "orig_nbformat": 4
 },
 "nbformat": 4,
 "nbformat_minor": 2
}
