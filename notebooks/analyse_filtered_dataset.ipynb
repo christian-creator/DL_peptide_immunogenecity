{
 "cells": [
  {
   "cell_type": "code",
   "execution_count": 7,
   "metadata": {},
   "outputs": [],
   "source": [
    "import pandas as pd\n",
    "import numpy as np \n",
    "import matplotlib.pyplot as plt"
   ]
  },
  {
   "cell_type": "code",
   "execution_count": 12,
   "metadata": {},
   "outputs": [
    {
     "data": {
      "text/html": [
       "<div>\n",
       "<style scoped>\n",
       "    .dataframe tbody tr th:only-of-type {\n",
       "        vertical-align: middle;\n",
       "    }\n",
       "\n",
       "    .dataframe tbody tr th {\n",
       "        vertical-align: top;\n",
       "    }\n",
       "\n",
       "    .dataframe thead th {\n",
       "        text-align: right;\n",
       "    }\n",
       "</style>\n",
       "<table border=\"1\" class=\"dataframe\">\n",
       "  <thead>\n",
       "    <tr style=\"text-align: right;\">\n",
       "      <th></th>\n",
       "      <th>peptide</th>\n",
       "      <th>HLA_allele</th>\n",
       "      <th>immunogenicity</th>\n",
       "      <th>tested_subjects</th>\n",
       "      <th>positive_subjects</th>\n",
       "    </tr>\n",
       "  </thead>\n",
       "  <tbody>\n",
       "    <tr>\n",
       "      <th>5</th>\n",
       "      <td>AAGIGILTV</td>\n",
       "      <td>HLA-A*02:01</td>\n",
       "      <td>0.833333</td>\n",
       "      <td>4.0</td>\n",
       "      <td>4.0</td>\n",
       "    </tr>\n",
       "    <tr>\n",
       "      <th>6</th>\n",
       "      <td>AALFFFDID</td>\n",
       "      <td>HLA-A*02:01</td>\n",
       "      <td>0.250000</td>\n",
       "      <td>10.0</td>\n",
       "      <td>2.0</td>\n",
       "    </tr>\n",
       "    <tr>\n",
       "      <th>10</th>\n",
       "      <td>AAVKAGAAL</td>\n",
       "      <td>HLA-B*07:02</td>\n",
       "      <td>0.750000</td>\n",
       "      <td>2.0</td>\n",
       "      <td>2.0</td>\n",
       "    </tr>\n",
       "    <tr>\n",
       "      <th>25</th>\n",
       "      <td>ADVEFCLSL</td>\n",
       "      <td>HLA-B*44:03</td>\n",
       "      <td>0.500000</td>\n",
       "      <td>6.0</td>\n",
       "      <td>3.0</td>\n",
       "    </tr>\n",
       "    <tr>\n",
       "      <th>125</th>\n",
       "      <td>AELEGVWQPA</td>\n",
       "      <td>HLA-B*40:06</td>\n",
       "      <td>0.666667</td>\n",
       "      <td>1.0</td>\n",
       "      <td>1.0</td>\n",
       "    </tr>\n",
       "    <tr>\n",
       "      <th>...</th>\n",
       "      <td>...</td>\n",
       "      <td>...</td>\n",
       "      <td>...</td>\n",
       "      <td>...</td>\n",
       "      <td>...</td>\n",
       "    </tr>\n",
       "    <tr>\n",
       "      <th>27637</th>\n",
       "      <td>FTGSEVENV</td>\n",
       "      <td>HLA-A*02:01</td>\n",
       "      <td>0.083333</td>\n",
       "      <td>10.0</td>\n",
       "      <td>0.0</td>\n",
       "    </tr>\n",
       "    <tr>\n",
       "      <th>27638</th>\n",
       "      <td>FTSHEHFGL</td>\n",
       "      <td>HLA-A*02:01</td>\n",
       "      <td>0.083333</td>\n",
       "      <td>10.0</td>\n",
       "      <td>0.0</td>\n",
       "    </tr>\n",
       "    <tr>\n",
       "      <th>27667</th>\n",
       "      <td>MQVIGDQYV</td>\n",
       "      <td>HLA-A*02:01</td>\n",
       "      <td>0.083333</td>\n",
       "      <td>10.0</td>\n",
       "      <td>0.0</td>\n",
       "    </tr>\n",
       "    <tr>\n",
       "      <th>27685</th>\n",
       "      <td>SQEPMSIYV</td>\n",
       "      <td>HLA-A*02:01</td>\n",
       "      <td>0.083333</td>\n",
       "      <td>10.0</td>\n",
       "      <td>0.0</td>\n",
       "    </tr>\n",
       "    <tr>\n",
       "      <th>27741</th>\n",
       "      <td>YICGFIQQK</td>\n",
       "      <td>HLA-A*11:01</td>\n",
       "      <td>0.111111</td>\n",
       "      <td>7.0</td>\n",
       "      <td>0.0</td>\n",
       "    </tr>\n",
       "  </tbody>\n",
       "</table>\n",
       "<p>5543 rows × 5 columns</p>\n",
       "</div>"
      ],
      "text/plain": [
       "          peptide   HLA_allele  immunogenicity  tested_subjects  \\\n",
       "5       AAGIGILTV  HLA-A*02:01        0.833333              4.0   \n",
       "6       AALFFFDID  HLA-A*02:01        0.250000             10.0   \n",
       "10      AAVKAGAAL  HLA-B*07:02        0.750000              2.0   \n",
       "25      ADVEFCLSL  HLA-B*44:03        0.500000              6.0   \n",
       "125    AELEGVWQPA  HLA-B*40:06        0.666667              1.0   \n",
       "...           ...          ...             ...              ...   \n",
       "27637   FTGSEVENV  HLA-A*02:01        0.083333             10.0   \n",
       "27638   FTSHEHFGL  HLA-A*02:01        0.083333             10.0   \n",
       "27667   MQVIGDQYV  HLA-A*02:01        0.083333             10.0   \n",
       "27685   SQEPMSIYV  HLA-A*02:01        0.083333             10.0   \n",
       "27741   YICGFIQQK  HLA-A*11:01        0.111111              7.0   \n",
       "\n",
       "       positive_subjects  \n",
       "5                    4.0  \n",
       "6                    2.0  \n",
       "10                   2.0  \n",
       "25                   3.0  \n",
       "125                  1.0  \n",
       "...                  ...  \n",
       "27637                0.0  \n",
       "27638                0.0  \n",
       "27667                0.0  \n",
       "27685                0.0  \n",
       "27741                0.0  \n",
       "\n",
       "[5543 rows x 5 columns]"
      ]
     },
     "execution_count": 12,
     "metadata": {},
     "output_type": "execute_result"
    }
   ],
   "source": [
    "dataset = pd.read_csv(\"../data/filtered_data_IEDB_4_tested_len_9_10_full_HLA.csv\",index_col=0)\n",
    "dataset"
   ]
  },
  {
   "cell_type": "markdown",
   "metadata": {},
   "source": [
    "## Distrobution of immunogenecity scores"
   ]
  },
  {
   "cell_type": "code",
   "execution_count": 13,
   "metadata": {},
   "outputs": [
    {
     "data": {
      "text/plain": [
       "count    5543.000000\n",
       "mean        0.235154\n",
       "std         0.228096\n",
       "min         0.014493\n",
       "25%         0.083333\n",
       "50%         0.142857\n",
       "75%         0.297727\n",
       "max         0.954545\n",
       "Name: immunogenicity, dtype: float64"
      ]
     },
     "execution_count": 13,
     "metadata": {},
     "output_type": "execute_result"
    }
   ],
   "source": [
    "dataset.immunogenicity.describe()"
   ]
  },
  {
   "cell_type": "code",
   "execution_count": 11,
   "metadata": {},
   "outputs": [
    {
     "data": {
      "image/png": "[encoded data removed]",
      "text/plain": [
       "<Figure size 720x432 with 1 Axes>"
      ]
     },
     "metadata": {
      "needs_background": "light"
     },
     "output_type": "display_data"
    }
   ],
   "source": [
    "fig = plt.figure(figsize=(10,6))\n",
    "dataset.immunogenicity.hist()\n",
    "plt.xlabel(\"Immunogenecity score\")\n",
    "plt.ylabel(\"Count\")\n",
    "plt.show()"
   ]
  },
  {
   "cell_type": "markdown",
   "metadata": {},
   "source": [
    "## Distrobution of HLA-Alleles"
   ]
  },
  {
   "cell_type": "code",
   "execution_count": 14,
   "metadata": {},
   "outputs": [
    {
     "data": {
      "text/plain": [
       "count            5543\n",
       "unique             86\n",
       "top       HLA-A*02:01\n",
       "freq             2116\n",
       "Name: HLA_allele, dtype: object"
      ]
     },
     "execution_count": 14,
     "metadata": {},
     "output_type": "execute_result"
    }
   ],
   "source": [
    "dataset.HLA_allele.describe()"
   ]
  },
  {
   "cell_type": "code",
   "execution_count": 21,
   "metadata": {},
   "outputs": [
    {
     "data": {
      "image/png": "[encoded data removed]",
      "text/plain": [
       "<Figure size 1440x432 with 1 Axes>"
      ]
     },
     "metadata": {
      "needs_background": "light"
     },
     "output_type": "display_data"
    }
   ],
   "source": [
    "unique_HLAs, counts = np.unique(dataset.HLA_allele,return_counts=True)\n",
    "HLA_count_dict = {hla:count for hla,count in zip(unique_HLAs, counts) }\n",
    "\n",
    "sorted_HLAs = sorted(HLA_count_dict.keys(),key=lambda x: HLA_count_dict[x], reverse=True) \n",
    "sorted_counts = [HLA_count_dict[x] for x in sorted_HLAs]\n",
    "\n",
    "\n",
    "fig = plt.figure(figsize=(20,6))\n",
    "plt.bar(np.arange(len(unique_HLAs)),sorted_counts)\n",
    "plt.xticks(np.arange(len(unique_HLAs)),sorted_HLAs,rotation=90)\n",
    "plt.xlabel(\"Immunogenecity score\")\n",
    "plt.ylabel(\"Count\")\n",
    "plt.show()"
   ]
  },
  {
   "cell_type": "markdown",
   "metadata": {},
   "source": [
    "## Analysing peptide properties"
   ]
  },
  {
   "cell_type": "code",
   "execution_count": 35,
   "metadata": {},
   "outputs": [],
   "source": [
    "dataset[\"pep_len\"] = \n",
    "immunogenic = dataset[\"peptide\"][dataset[\"immunogenicity\"] > 0.7]\n",
    "non_immunogenic = dataset[\"peptide\"][dataset[\"immunogenicity\"] < 0.2]"
   ]
  },
  {
   "cell_type": "code",
   "execution_count": 36,
   "metadata": {},
   "outputs": [
    {
     "data": {
      "text/plain": [
       "189      AEVEEHRTV\n",
       "295      AIMDKNITL\n",
       "296      AIMDKTIIL\n",
       "298      AIMDKVIIL\n",
       "384      ALFFFDIDL\n",
       "           ...    \n",
       "27637    FTGSEVENV\n",
       "27638    FTSHEHFGL\n",
       "27667    MQVIGDQYV\n",
       "27685    SQEPMSIYV\n",
       "27741    YICGFIQQK\n",
       "Name: peptide, Length: 3751, dtype: object"
      ]
     },
     "execution_count": 36,
     "metadata": {},
     "output_type": "execute_result"
    }
   ],
   "source": []
  },
  {
   "cell_type": "code",
   "execution_count": null,
   "metadata": {},
   "outputs": [],
   "source": []
  }
 ],
 "metadata": {
  "interpreter": {
   "hash": "c6e4e9f98eb68ad3b7c296f83d20e6de614cb42e90992a65aa266555a3137d0d"
  },
  "kernelspec": {
   "display_name": "Python 3.9.9 ('base')",
   "language": "python",
   "name": "python3"
  },
  "language_info": {
   "codemirror_mode": {
    "name": "ipython",
    "version": 3
   },
   "file_extension": ".py",
   "mimetype": "text/x-python",
   "name": "python",
   "nbconvert_exporter": "python",
   "pygments_lexer": "ipython3",
   "version": "3.9.9"
  },
  "orig_nbformat": 4
 },
 "nbformat": 4,
 "nbformat_minor": 2
}
