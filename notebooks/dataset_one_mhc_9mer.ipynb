{
 "cells": [
  {
   "cell_type": "markdown",
   "metadata": {},
   "source": [
    "# Create data set with only HLA-A*02:01 and 9mers"
   ]
  },
  {
   "cell_type": "code",
   "execution_count": 1,
   "metadata": {},
   "outputs": [],
   "source": [
    "import pandas as pd\n",
    "import numpy as np"
   ]
  },
  {
   "cell_type": "code",
   "execution_count": 9,
   "metadata": {},
   "outputs": [
    {
     "name": "stdout",
     "output_type": "stream",
     "text": [
      "1375\n"
     ]
    }
   ],
   "source": [
    "all_data = pd.read_csv(\"../data/ifng_test_w_parts_w_binding_scores_w_iedb.csv\")\n",
    "\n",
    "data = []\n",
    "for i in range(len(all_data)):\n",
    "    if all_data.loc[i,\"HLA_allele\"] == \"HLA-A*02:01\" and len(all_data.loc[i,\"peptide\"]) == 9:\n",
    "        data.append(all_data.loc[i])\n",
    "\n",
    "print(len(data))\n",
    "\n",
    "# data = pd.DataFrame(data)\n",
    "# data.to_csv(\"../data/ifng_A_0201_9mers.csv\", index = False)\n"
   ]
  },
  {
   "cell_type": "code",
   "execution_count": null,
   "metadata": {},
   "outputs": [],
   "source": []
  }
 ],
 "metadata": {
  "interpreter": {
   "hash": "40d3a090f54c6569ab1632332b64b2c03c39dcf918b08424e98f38b5ae0af88f"
  },
  "kernelspec": {
   "display_name": "Python 3.8.8 ('base')",
   "language": "python",
   "name": "python3"
  },
  "language_info": {
   "codemirror_mode": {
    "name": "ipython",
    "version": 3
   },
   "file_extension": ".py",
   "mimetype": "text/x-python",
   "name": "python",
   "nbconvert_exporter": "python",
   "pygments_lexer": "ipython3",
   "version": "3.8.8"
  },
  "orig_nbformat": 4
 },
 "nbformat": 4,
 "nbformat_minor": 2
}
