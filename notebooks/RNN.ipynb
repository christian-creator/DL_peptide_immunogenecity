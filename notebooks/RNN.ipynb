{
 "cells": [
  {
   "cell_type": "code",
   "execution_count": 250,
   "metadata": {},
   "outputs": [],
   "source": [
    "import numpy as np\n",
    "import pandas as pd\n",
    "import matplotlib.pyplot as plt\n",
    "from sklearn.metrics import auc,precision_recall_curve,roc_curve,confusion_matrix\n",
    "import os,sys\n",
    "import pickle\n",
    "from sklearn.model_selection import KFold\n",
    "from sklearn.model_selection import train_test_split\n",
    "import random\n",
    "import seaborn as sns\n",
    "np.random.seed(10)\n",
    "random.seed(10)\n"
   ]
  },
  {
   "cell_type": "markdown",
   "metadata": {},
   "source": [
    "## Functions for loading data"
   ]
  },
  {
   "cell_type": "code",
   "execution_count": 251,
   "metadata": {},
   "outputs": [],
   "source": [
    "def load_training_and_validataion_dataset(path_to_partitions,train_splits):\n",
    "    import random\n",
    "    ## Training\n",
    "    # training_partions = random.sample(range(10),train_splits)\n",
    "    training_partions = [9, 0, 6, 3, 4, 8, 1, 7]\n",
    "\n",
    "    ## Validation\n",
    "    validation_partions = [i for i in range(10) if i not in training_partions]\n",
    "    partitions = []\n",
    "    for file in os.listdir(path_to_partitions):\n",
    "        path_to_file = os.path.join(path_to_partitions,file)\n",
    "        data = pd.read_csv(path_to_file,sep=\"\\t\",names=[\"peptide\",\"label\",\"HLA_allele\"])\n",
    "        partitions.append(data)\n",
    "    training_df = pd.concat([partitions[i] for i in training_partions])\n",
    "    validation_df = pd.concat([partitions[i] for i in validation_partions])\n",
    "    return training_df, validation_df,training_partions,validation_partions\n",
    "\n",
    "def retrieve_information_from_df(data_split,entire_df):\n",
    "    immunogenicity = []\n",
    "    response = []\n",
    "    tested_subjects = []\n",
    "    positive_subjects = []\n",
    "    binding_scores = []\n",
    "    for i,row in data_split.iterrows():\n",
    "        peptide, HLA = row[\"peptide\"], row['HLA_allele']\n",
    "        original_entry = entire_df[(entire_df['peptide']==peptide) & (entire_df['HLA_allele'] == HLA)]\n",
    "        assert len(original_entry) == 1\n",
    "        immunogenicity.append(float(original_entry['immunogenicity']))\n",
    "        response.append(original_entry['Response'].values[0])\n",
    "        tested_subjects.append(int(original_entry['tested_subjects']))\n",
    "        positive_subjects.append(int(original_entry['positive_subjects']))\n",
    "        binding_scores.append(float(original_entry['binding_score']))\n",
    "    data_split['immunogenicity'] = immunogenicity\n",
    "    data_split['response'] = response\n",
    "    data_split['test'] = tested_subjects\n",
    "    data_split['positive_subjects'] = positive_subjects\n",
    "    data_split['binding_score'] = binding_scores\n",
    "    return data_split  \n",
    "\n",
    "\n",
    "def encode_peptide_aaindex(aa_seq,aaindex_PCA,row):\n",
    "    aa_seq = list(aa_seq.upper())\n",
    "    encoded_aa_seq = []\n",
    "    PCs = aaindex_PCA.shape[1]\n",
    "    for aa in aa_seq:\n",
    "        if aa == \"X\" or aa == \"-\":\n",
    "            encoded_aa_seq.append(np.array([0 for x in range(PCs)]))\n",
    "        else:\n",
    "            try:\n",
    "                encoded_aa_seq.append(aaindex_PCA.loc[aa].to_numpy())\n",
    "            except KeyError:\n",
    "                print(row)\n",
    "                sys.exit(1)\n",
    "    return np.array(encoded_aa_seq)\n",
    "\n",
    "def encode_peptide_categorical(aa_seq,row,len_peptide):\n",
    "    aa_seq = aa_seq.replace(\"X\",\"-\")\n",
    "    aminoacids = [\"A\",\"R\",\"N\",\"D\",\"C\",\"Q\",\"E\",\"G\",\"H\",\"I\",\"L\",\"K\",\"M\",\"F\",\"P\",\"S\",\"T\",\"W\",\"Y\",\"V\",\"-\"]\n",
    "    if len(aa_seq) == 9:\n",
    "        aa_seq += \"-\"\n",
    "    encoded_peptide = np.array([aminoacids.index(x)+1 for x in list(aa_seq)])\n",
    "    return encoded_peptide\n",
    "\n",
    "\n",
    "def encode_dataset(df,aaindex_PCA,HLA_dict,peptide_len,padding=\"right\"):\n",
    "    encoded_peptides = []\n",
    "    encoded_labels = []\n",
    "    encoded_hlas = []\n",
    "    encoded_binding_scores = []\n",
    "    for i,row in df.iterrows():\n",
    "        peptide = row[\"peptide\"]\n",
    "        HLA = HLA_dict[row[\"HLA_allele\"].replace(\":\",\"\")]\n",
    "        encoded_peptide = encode_peptide_categorical(peptide,row,10)\n",
    "\n",
    "        binding_score = row['binding_score']\n",
    "        # Adding padding\n",
    "        # if len(encoded_peptide) < peptide_len:\n",
    "        #     n_added = peptide_len-len(encoded_peptide)\n",
    "        #     if padding == \"right\":\n",
    "        #         encoded_peptide = np.pad(encoded_peptide, ((0, 1), (0, 0)), 'constant')\n",
    "        #     elif padding == \"left\":\n",
    "        #         encoded_peptide = np.pad(encoded_peptide, ((1, 0), (0, 0)), 'constant')\n",
    "        #     elif padding == \"random\":\n",
    "        #         top_pad = random.choice([0,1])\n",
    "        #         bot_pad = 1-top_pad\n",
    "        #         encoded_peptide = np.pad(encoded_peptide, ((top_pad, bot_pad), (0, 0)), 'constant')\n",
    "\n",
    "\n",
    "        encoded_HLA = encode_peptide_aaindex(HLA,aaindex_PCA,row)\n",
    "        encoded_label = min(1,row[\"positive_subjects\"])\n",
    "        encoded_peptides.append(encoded_peptide)\n",
    "        encoded_hlas.append(encoded_HLA)\n",
    "        encoded_labels.append(encoded_label)\n",
    "        encoded_binding_scores.append(binding_score)\n",
    "    \n",
    "    encoded_peptides = np.array(encoded_peptides).astype('int')\n",
    "    encoded_hlas = np.array(encoded_hlas).astype('int')\n",
    "    encoded_labels = np.array(encoded_labels).astype('float32')\n",
    "    encoded_binding_scores = np.array(encoded_binding_scores).astype('float32')\n",
    "    return encoded_peptides, encoded_hlas, encoded_binding_scores, encoded_labels\n"
   ]
  },
  {
   "cell_type": "markdown",
   "metadata": {},
   "source": [
    "## Loading the data"
   ]
  },
  {
   "cell_type": "code",
   "execution_count": 252,
   "metadata": {},
   "outputs": [
    {
     "name": "stdout",
     "output_type": "stream",
     "text": [
      "##Encoding Training data\n",
      "##Encoding Validation data\n",
      "## Reshaping the data\n"
     ]
    }
   ],
   "source": [
    "# Loading the databases\n",
    "aaindex_PCA = pd.read_csv('../data/PCA_repr_aa.csv',index_col=0)\n",
    "hla_database = pd.read_csv('../data/formatted_hla2paratope_MHC_pseudo.dat', sep=' ',index_col=0)\n",
    "hla_dic = hla_database.to_dict(\"dict\")[\"pseudo\"]\n",
    "\n",
    "# Load dataset\n",
    "# entire_df = pd.read_csv('../data/filtered_data_IEDB_4_tested_len_9_10_full_HLA_IFNg_assay.csv')\n",
    "entire_df = pd.read_csv(\"../data/filtered_data_IEDB_4_tested_len_9_10_full_HLA_Multi_assay_w_binding.csv\")\n",
    "# entire_df = pd.read_csv('../data/deep_immuno_2.csv')\n",
    "\n",
    "\n",
    "# Allocating the partitions of the trainign and validation data\n",
    "training_df, validation_df, training_partions,validation_partions = load_training_and_validataion_dataset(path_to_partitions=\"../data/multi_assay_parts\",train_splits=8)\n",
    "\n",
    "\n",
    "# Creating the training dataframe (With correct information such as tested and positive subjects aswell as label)\n",
    "training_df_entire = retrieve_information_from_df(training_df,entire_df)\n",
    "\n",
    "# Shuffling the dataframe\n",
    "training_df_entire = training_df_entire.sample(frac=1, random_state=1).reset_index(drop=True)\n",
    "\n",
    "# Creating the validation dataframe (With correct information such as tested and positive subjects aswell as label)\n",
    "validation_df_entire = retrieve_information_from_df(validation_df,entire_df)\n",
    "# Shuffling the dataframe\n",
    "validation_df_entire = validation_df_entire.sample(frac=1, random_state=1).reset_index(drop=True)\n",
    "\n",
    "print(\"##Encoding Training data\")\n",
    "train_peptides_encoded,train_HLA_encoded,train_binding_scores_encoded,train_label_encoded = encode_dataset(training_df_entire,aaindex_PCA,hla_dic,peptide_len=10,padding=\"right\")\n",
    "print(\"##Encoding Validation data\")\n",
    "val_peptides_encoded,val_HLA_encoded,val_binding_scores_encoded ,val_label_encoded = encode_dataset(validation_df_entire,aaindex_PCA,hla_dic,peptide_len=10,padding=\"right\")\n",
    "\n",
    "print(\"## Reshaping the data\")\n",
    "peptide_train = train_peptides_encoded.reshape(-1,10)\n",
    "HLA_train = train_HLA_encoded.reshape(-1,34)\n",
    "binding_train = train_binding_scores_encoded\n",
    "label_train = train_label_encoded\n",
    "\n",
    "peptide_val = val_peptides_encoded.reshape(-1,10)\n",
    "HLA_val = val_HLA_encoded.reshape(-1,34) # 46 aligned representataion and 34 if not aligned\n",
    "binding_val = val_binding_scores_encoded\n",
    "label_val = val_label_encoded\n"
   ]
  },
  {
   "cell_type": "markdown",
   "metadata": {},
   "source": [
    "## Definning the model"
   ]
  },
  {
   "cell_type": "code",
   "execution_count": 253,
   "metadata": {},
   "outputs": [],
   "source": [
    "import torch\n",
    "from torch.autograd import Variable\n",
    "from torch.nn.parameter import Parameter\n",
    "import torch.nn as nn\n",
    "import torch.nn.functional as F\n",
    "import torch.optim as optim\n",
    "import torch.nn.init as init\n",
    "from torch.utils.data import DataLoader\n",
    "\n",
    "from torch.nn import Linear, Conv2d, BatchNorm2d, MaxPool2d, Dropout2d\n",
    "from torch.nn.functional import relu, elu, relu6, sigmoid, tanh, softmax\n",
    "from torch.nn import Linear, GRU, Conv2d, Dropout, MaxPool2d, BatchNorm1d"
   ]
  },
  {
   "cell_type": "code",
   "execution_count": 254,
   "metadata": {},
   "outputs": [],
   "source": [
    "def initialize_weights(m):\n",
    "    if isinstance(m, nn.Conv2d):\n",
    "          nn.init.kaiming_uniform_(m.weight.data,nonlinearity='relu')\n",
    "          if m.bias is not None:\n",
    "                nn.init.constant_(m.bias.data, 0)\n",
    "    elif isinstance(m, nn.BatchNorm2d):\n",
    "          nn.init.constant_(m.weight.data, 1)\n",
    "          nn.init.constant_(m.bias.data, 0)\n",
    "    elif isinstance(m, nn.Linear):\n",
    "          nn.init.kaiming_uniform_(m.weight.data,nonlinearity='relu')\n",
    "          if m.bias is not None:\n",
    "                nn.init.constant_(m.bias.data, 0)\n",
    "          "
   ]
  },
  {
   "cell_type": "markdown",
   "metadata": {},
   "source": [
    "# Definning the encoder"
   ]
  },
  {
   "cell_type": "code",
   "execution_count": 415,
   "metadata": {},
   "outputs": [],
   "source": [
    "class AttentionRNNEncoder(nn.Module):\n",
    "    def __init__(self, input_size_peptide,input_size_HLA, hidden_size_peptide, hidden_size_HLA,num_lstm_layers):\n",
    "        super(AttentionRNNEncoder, self).__init__()\n",
    "        # Embedding peptide\n",
    "        self.embedding_peptide = nn.Embedding(num_embeddings=21,embedding_dim=input_size_peptide,padding_idx=20)\n",
    "        self.embedding_HLA = nn.Embedding(num_embeddings=21,embedding_dim=input_size_HLA,padding_idx=20)\n",
    "        # LSTMs\n",
    "        self.lstm_peptide = nn.LSTM(input_size=input_size_peptide, hidden_size=hidden_size_peptide,num_layers=1,batch_first=True)\n",
    "        self.lstm_hla= nn.LSTM(input_size=input_size_HLA, hidden_size=hidden_size_HLA,num_layers=1,batch_first=True)\n",
    "        \n",
    "        # Attention\n",
    "        self.attn_peptide = nn.Linear(hidden_size_peptide, input_size_peptide)\n",
    "        self.attn_hla = nn.Linear(hidden_size_HLA, input_size_HLA)\n",
    "\n",
    "        # Linear model\n",
    "        self.l1_combined = nn.Linear(1256,628)\n",
    "        self.l2_out = nn.Linear(628,2)\n",
    "\n",
    "\n",
    "    def forward(self, input_peptide, input_hla, hidden_HLA=None,hidden_peptide=None):\n",
    "        embedded_peptide = self.embedding_peptide(input_peptide)\n",
    "        embedded_hla = self.embedding_HLA(input_hla)\n",
    "        \n",
    "        if hidden_HLA is None and hidden_peptide is None:\n",
    "            out_peptide, (ht_peptide, ct_peptide) = self.lstm_peptide(embedded_peptide)\n",
    "            print(ht_peptide.shape, ct_peptide.shape)\n",
    "            out_hla, (ht_hla, ct_hla) = self.lstm_hla(embedded_hla)\n",
    "            print(ht_hla.shape, ct_hla.shape)\n",
    "        else:\n",
    "            out_peptide, (ht_peptide, ct_peptide) = self.lstm_peptide(embedded_peptide,hidden_peptide)\n",
    "            out_hla, (ht_hla, ct_hla) = self.lstm_hla(embedded_hla,hidden_HLA)\n",
    "\n",
    "\n",
    "        attn_peptide = softmax(self.attn_peptide(out_peptide),dim=1)\n",
    "        attn_applied_peptide = torch.bmm(attn_peptide, out_peptide)\n",
    "\n",
    "        attn_hla = softmax(self.attn_hla(out_hla),dim=1)\n",
    "        attn_applied_hla = torch.bmm(attn_hla, out_hla)\n",
    "\n",
    "        attn_applied_peptide = torch.flatten(attn_applied_peptide,start_dim=1)\n",
    "        attn_applied_hla = torch.flatten(attn_applied_hla,start_dim=1)        \n",
    "        combined_input = torch.concat((attn_applied_peptide,attn_applied_hla),1)\n",
    "        x = self.l1_combined(combined_input)\n",
    "        x = self.l2_out(x)\n",
    "        return softmax(x, dim=1)\n",
    "\n",
    "    def initHidden(self,hidden_size):\n",
    "        return torch.zeros(1, 1, hidden_size)\n",
    "net = AttentionRNNEncoder(input_size_peptide=10,input_size_HLA=34, hidden_size_peptide=10, hidden_size_HLA=34,num_lstm_layers=1)"
   ]
  },
  {
   "cell_type": "code",
   "execution_count": 420,
   "metadata": {},
   "outputs": [
    {
     "data": {
      "text/plain": [
       "tensor([[0.5153, 0.4847]], grad_fn=<SoftmaxBackward0>)"
      ]
     },
     "execution_count": 420,
     "metadata": {},
     "output_type": "execute_result"
    }
   ],
   "source": [
    "peptide_random = np.random.randint(0,21,(1, 10)).astype('int')\n",
    "peptide_random = Variable(torch.from_numpy(peptide_random))\n",
    "HLA_random = np.random.randint(0,21,(1, 34)).astype('int')\n",
    "HLA_random = Variable(torch.from_numpy(HLA_random))\n",
    "\n",
    "hidden_peptide = net.initHidden(10), net.initHidden(10)\n",
    "hidden_hla = net.initHidden(34), net.initHidden(34)\n",
    "\n",
    "\n",
    "net(peptide_random,HLA_random,hidden_peptide=hidden_peptide,hidden_HLA=hidden_hla)"
   ]
  },
  {
   "cell_type": "markdown",
   "metadata": {},
   "source": [
    "## Creating testing and validataion datasets"
   ]
  },
  {
   "cell_type": "code",
   "execution_count": 408,
   "metadata": {},
   "outputs": [],
   "source": [
    "batch_size = 100\n",
    "peptide_train_loader = list(DataLoader(peptide_train,batch_size=batch_size))\n",
    "HLA_train_loader = list(DataLoader(HLA_train,batch_size=batch_size))\n",
    "label_train_loader = list(DataLoader(label_train,batch_size=batch_size))\n",
    "binding_score_train_loader = list(DataLoader(binding_train,batch_size=batch_size))\n",
    "\n",
    "\n",
    "peptide_val_loader = list(DataLoader(peptide_val,batch_size=batch_size))\n",
    "HLA_val_loader = list(DataLoader(HLA_val,batch_size=batch_size))\n",
    "label_val_loader = list(DataLoader(label_val,batch_size=batch_size))\n",
    "binding_score_val_loader = list(DataLoader(binding_val,batch_size=batch_size))"
   ]
  },
  {
   "cell_type": "markdown",
   "metadata": {},
   "source": [
    "## Training and evaluating the model"
   ]
  },
  {
   "cell_type": "code",
   "execution_count": 409,
   "metadata": {},
   "outputs": [],
   "source": [
    "import torch.optim as optim\n",
    "from sklearn.metrics import accuracy_score,recall_score,f1_score\n",
    "criterion = nn.CrossEntropyLoss()\n",
    "optimizer = optim.Adam(net.parameters(), lr=0.0001,weight_decay=1e-4)"
   ]
  },
  {
   "cell_type": "code",
   "execution_count": null,
   "metadata": {},
   "outputs": [],
   "source": [
    "def train(model,epochs,optimizer,loss_function,train_loaders,valid_loaders):\n",
    "    ..."
   ]
  },
  {
   "cell_type": "code",
   "execution_count": 11,
   "metadata": {},
   "outputs": [
    {
     "name": "stdout",
     "output_type": "stream",
     "text": [
      "Epoch  1 : Train Loss 0.702278 , Train acc 0.583022, Valid acc 0.582891\n",
      "Epoch 11 : Train Loss 0.585011 , Train acc 0.721636, Valid acc 0.671088\n",
      "Epoch 21 : Train Loss 0.566895 , Train acc 0.739328, Valid acc 0.672414\n",
      "Epoch 31 : Train Loss 0.560710 , Train acc 0.750690, Valid acc 0.686340\n",
      "Epoch 41 : Train Loss 0.552665 , Train acc 0.760429, Valid acc 0.687666\n",
      "Epoch 51 : Train Loss 0.546788 , Train acc 0.764486, Valid acc 0.692971\n",
      "Epoch 61 : Train Loss 0.541581 , Train acc 0.776010, Valid acc 0.696950\n",
      "Epoch 71 : Train Loss 0.534245 , Train acc 0.782665, Valid acc 0.699602\n",
      "Epoch 81 : Train Loss 0.529193 , Train acc 0.789645, Valid acc 0.700928\n",
      "Epoch 91 : Train Loss 0.521282 , Train acc 0.797111, Valid acc 0.700265\n"
     ]
    }
   ],
   "source": [
    "epochs = 100\n",
    "train_accuracies = []\n",
    "val_accuracies = []\n",
    "losses = []\n",
    "all_val_targets_pr_epoch = []\n",
    "all_val_predictions_pr_epoch = []\n",
    "all_val_probabilities_pr_epoch = []\n",
    "for epoch in range(epochs):\n",
    "    net.train()\n",
    "    current_loss = 0\n",
    "    for train_batch_index in range(len((peptide_train_loader))):\n",
    "        train_peptides = peptide_train_loader[train_batch_index]\n",
    "        train_HLA = HLA_train_loader[train_batch_index]\n",
    "        train_labels = label_train_loader[train_batch_index].long().reshape(-1)\n",
    "        train_binding_scores = binding_score_train_loader[train_batch_index].reshape(len(train_peptides),1)\n",
    "        # zero the parameter gradients\n",
    "        optimizer.zero_grad()\n",
    "        outputs = net(train_peptides,train_HLA,train_binding_scores)\n",
    "        loss = criterion(outputs, train_labels)\n",
    "        loss.backward()\n",
    "        optimizer.step()\n",
    "        current_loss += loss.item()\n",
    "\n",
    "    # print(epoch, current_loss/batch_size)\n",
    "    losses.append(current_loss/len((peptide_train_loader)))\n",
    "\n",
    "    net.eval()\n",
    "    with torch.no_grad():\n",
    "        all_train_targets = []\n",
    "        all_predicted_train_labels = []\n",
    "        for i in range(len((peptide_train_loader))):\n",
    "            train_peptides = peptide_train_loader[i]\n",
    "            train_HLA = HLA_train_loader[i]\n",
    "            train_labels = label_train_loader[i].long().reshape(-1)\n",
    "            train_binding_scores = binding_score_train_loader[i].reshape(len(train_peptides),1)\n",
    "            outputs = net(train_peptides,train_HLA,train_binding_scores)\n",
    "            _,predicted_labels =  torch.max(outputs, 1)\n",
    "\n",
    "            all_predicted_train_labels += predicted_labels.numpy().tolist()\n",
    "            all_train_targets += train_labels.numpy().tolist()\n",
    "        \n",
    "        all_val_targets = []\n",
    "        all_predicted_val_labels = []\n",
    "        all_probabilities_val = []\n",
    "        for j in range(len((peptide_val_loader))):\n",
    "            val_peptides = peptide_val_loader[j]\n",
    "            val_HLA = HLA_val_loader[j]\n",
    "            val_labels = label_val_loader[j].long().reshape(-1)\n",
    "            val_binding_scores = binding_score_val_loader[j].reshape(len(val_peptides),1)\n",
    "            outputs = net(val_peptides,val_HLA,val_binding_scores)\n",
    "            probability,predicted_labels =  torch.max(outputs, 1)\n",
    "            all_predicted_val_labels += predicted_labels.numpy().tolist()\n",
    "            all_val_targets += val_labels.numpy().tolist()\n",
    "            all_probabilities_val += probability.numpy().tolist()\n",
    "\n",
    "    # Calculating the accuracies\n",
    "    train_accuracies.append(accuracy_score(all_train_targets,all_predicted_train_labels))\n",
    "    val_accuracies.append(accuracy_score(all_val_targets,all_predicted_val_labels))\n",
    "    # Saving the predicitons for further validation\n",
    "    all_val_targets_pr_epoch.append(all_val_targets)\n",
    "    all_val_predictions_pr_epoch.append(all_predicted_val_labels)\n",
    "    all_val_probabilities_pr_epoch.append(all_probabilities_val)\n",
    "    if epoch % 10 == 0:\n",
    "        print(\"Epoch %2i : Train Loss %f , Train acc %f, Valid acc %f\" % (epoch+1, losses[-1], train_accuracies[-1], val_accuracies[-1]))\n",
    "    \n"
   ]
  },
  {
   "cell_type": "code",
   "execution_count": 12,
   "metadata": {},
   "outputs": [
    {
     "data": {
      "text/plain": [
       "(Text(0.5, 0, 'epochs'), Text(0, 0.5, 'Acc'))"
      ]
     },
     "execution_count": 12,
     "metadata": {},
     "output_type": "execute_result"
    },
    {
     "data": {
      "image/png": "[encoded data removed]",
      "text/plain": [
       "<Figure size 432x288 with 1 Axes>"
      ]
     },
     "metadata": {
      "needs_background": "light"
     },
     "output_type": "display_data"
    }
   ],
   "source": [
    "epoch = np.arange(len(train_accuracies))\n",
    "plt.figure()\n",
    "plt.plot(epoch, train_accuracies, 'r', epoch, val_accuracies, 'b')\n",
    "plt.legend(['Train Accucary','Validation Accuracy'])\n",
    "plt.xlabel('epochs'), plt.ylabel('Acc')"
   ]
  },
  {
   "cell_type": "code",
   "execution_count": 13,
   "metadata": {},
   "outputs": [],
   "source": [
    "val_predictions = np.array(all_val_predictions_pr_epoch)\n",
    "val_labels = np.array(all_val_targets_pr_epoch)\n",
    "val_probabilities = np.array(all_val_probabilities_pr_epoch)"
   ]
  },
  {
   "cell_type": "code",
   "execution_count": 14,
   "metadata": {},
   "outputs": [
    {
     "name": "stdout",
     "output_type": "stream",
     "text": [
      "EPOCH: 97 Recall: 0.7163029525032092 accuracy: 0.7049071618037135 f1-score: 0.7149263292761049\n"
     ]
    },
    {
     "data": {
      "image/png": "[encoded data removed]",
      "text/plain": [
       "<Figure size 720x432 with 1 Axes>"
      ]
     },
     "metadata": {
      "needs_background": "light"
     },
     "output_type": "display_data"
    }
   ],
   "source": [
    "from sklearn.metrics import confusion_matrix\n",
    "from sklearn.metrics import accuracy_score,recall_score\n",
    "\n",
    "best_epoch_model = np.argmax(val_accuracies)\n",
    "\n",
    "# for epoch in range(len(val_predictions)):\n",
    "fig = plt.figure(figsize=(10,6))\n",
    "accuracy = accuracy_score(val_labels[best_epoch_model],val_predictions[best_epoch_model])\n",
    "recall = recall_score(val_labels[best_epoch_model],val_predictions[best_epoch_model])\n",
    "f1 = f1_score(val_labels[best_epoch_model],val_predictions[best_epoch_model])\n",
    "\n",
    "print(f\"EPOCH: {best_epoch_model} Recall: {recall} accuracy: {accuracy} f1-score: {f1}\")\n",
    "plt.title(\"Confusion matrix of best epoch for validation performance\")\n",
    "conf_mat = confusion_matrix(val_labels[best_epoch_model],val_predictions[best_epoch_model])\n",
    "sns.heatmap(conf_mat, square=True, annot=True, cmap='Blues', fmt='d', cbar=False)\n",
    "plt.xlabel(\"Predicted\")\n",
    "plt.ylabel(\"Actual\")\n",
    "plt.show()"
   ]
  },
  {
   "cell_type": "code",
   "execution_count": 15,
   "metadata": {},
   "outputs": [],
   "source": [
    "labels_best_epoch = val_labels[best_epoch_model]\n",
    "predictions_best_epoch = val_predictions[best_epoch_model]\n",
    "probabilities_best_epoch = val_probabilities[best_epoch_model]\n",
    "true_predictions = [x==y for x,y in zip(labels_best_epoch,predictions_best_epoch)]\n",
    "dataframe = pd.DataFrame()\n",
    "dataframe[\"Probs\"] = probabilities_best_epoch\n",
    "dataframe[\"Predictions\"] = predictions_best_epoch\n",
    "dataframe[\"Labels\"] = labels_best_epoch\n",
    "dataframe[\"True\"] = true_predictions"
   ]
  },
  {
   "cell_type": "code",
   "execution_count": 16,
   "metadata": {},
   "outputs": [
    {
     "data": {
      "image/png": "[encoded data removed]",
      "text/plain": [
       "<Figure size 720x432 with 1 Axes>"
      ]
     },
     "metadata": {
      "needs_background": "light"
     },
     "output_type": "display_data"
    },
    {
     "data": {
      "image/png": "[encoded data removed]",
      "text/plain": [
       "<Figure size 720x432 with 1 Axes>"
      ]
     },
     "metadata": {
      "needs_background": "light"
     },
     "output_type": "display_data"
    }
   ],
   "source": [
    "plt.figure(figsize=(10,6))\n",
    "ax = sns.violinplot(x=\"True\", y=\"Probs\", data=dataframe)\n",
    "plt.xlabel(\"Predicted label\")\n",
    "plt.ylabel(\"Probability associated with label\")\n",
    "plt.show()\n",
    "\n",
    "plt.figure(figsize=(10,6))\n",
    "ax = sns.boxplot(x=\"True\", y=\"Probs\", data=dataframe)\n",
    "plt.xlabel(\"Predicted label\")\n",
    "plt.ylabel(\"Probability associated with label\")\n",
    "plt.show()"
   ]
  },
  {
   "cell_type": "code",
   "execution_count": 322,
   "metadata": {},
   "outputs": [
    {
     "data": {
      "text/plain": [
       "torch.Size([20, 10, 10])"
      ]
     },
     "execution_count": 322,
     "metadata": {},
     "output_type": "execute_result"
    }
   ],
   "source": [
    "embed = nn.Embedding(21,10)\n",
    "peptide_random = np.random.randint(0,21,(20, 10)).astype('int')\n",
    "peptide_random = Variable(torch.from_numpy(peptide_random))\n",
    "embed(peptide_random).shape"
   ]
  }
 ],
 "metadata": {
  "interpreter": {
   "hash": "c6e4e9f98eb68ad3b7c296f83d20e6de614cb42e90992a65aa266555a3137d0d"
  },
  "kernelspec": {
   "display_name": "Python 3.9.9 ('base')",
   "language": "python",
   "name": "python3"
  },
  "language_info": {
   "codemirror_mode": {
    "name": "ipython",
    "version": 3
   },
   "file_extension": ".py",
   "mimetype": "text/x-python",
   "name": "python",
   "nbconvert_exporter": "python",
   "pygments_lexer": "ipython3",
   "version": "3.9.9"
  },
  "orig_nbformat": 4
 },
 "nbformat": 4,
 "nbformat_minor": 2
}
