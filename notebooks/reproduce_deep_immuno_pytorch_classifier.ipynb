{
  "cells": [
    {
      "cell_type": "code",
      "execution_count": 1,
      "metadata": {
        "id": "3DtMe3EbDK9N"
      },
      "outputs": [],
      "source": [
        "import numpy as np\n",
        "import pandas as pd\n",
        "import matplotlib.pyplot as plt\n",
        "from sklearn.metrics import auc,precision_recall_curve,roc_curve,confusion_matrix\n",
        "import os,sys\n",
        "import pickle\n",
        "from sklearn.model_selection import KFold\n",
        "from sklearn.model_selection import train_test_split\n",
        "import random\n",
        "import seaborn as sns\n",
        "np.random.seed(10)\n",
        "random.seed(10)\n"
      ]
    },
    {
      "cell_type": "markdown",
      "metadata": {
        "id": "81oG3LWzEh2k"
      },
      "source": [
        "## His functions used to read the data"
      ]
    },
    {
      "cell_type": "code",
      "execution_count": 2,
      "metadata": {
        "id": "w2TYnX5yEbcL"
      },
      "outputs": [],
      "source": [
        "def aaindex(peptide,after_pca):\n",
        "\n",
        "    amino = 'ARNDCQEGHILKMFPSTWYV-'\n",
        "    matrix = np.transpose(after_pca)   # [12,21]\n",
        "    encoded = np.empty([len(peptide), 12])  # (seq_len,12)\n",
        "    for i in range(len(peptide)):\n",
        "        query = peptide[i]\n",
        "        if query == 'X': query = '-'\n",
        "        query = query.upper()\n",
        "        encoded[i, :] = matrix[:, amino.index(query)]\n",
        "\n",
        "    return encoded\n",
        "\n",
        "def rescue_unknown_hla(hla, dic_inventory):\n",
        "    type_ = hla[4]\n",
        "    first2 = hla[6:8]\n",
        "    last2 = hla[8:]\n",
        "    big_category = dic_inventory[type_]\n",
        "    if not big_category.get(first2) == None:\n",
        "        small_category = big_category.get(first2)\n",
        "        distance = [abs(int(last2) - int(i)) for i in small_category]\n",
        "        optimal = min(zip(small_category, distance), key=lambda x: x[1])[0]\n",
        "        return 'HLA-' + str(type_) + '*' + str(first2) + str(optimal)\n",
        "    else:\n",
        "        small_category = list(big_category.keys())\n",
        "        distance = [abs(int(first2) - int(i)) for i in small_category]\n",
        "        optimal = min(zip(small_category, distance), key=lambda x: x[1])[0]\n",
        "        return 'HLA-' + str(type_) + '*' + str(optimal) + str(big_category[optimal][0])\n",
        "\n",
        "def hla_df_to_dic(hla):\n",
        "    dic = {}\n",
        "    for i in range(hla.shape[0]):\n",
        "        col1 = hla['HLA'].iloc[i]  # HLA allele\n",
        "        col2 = hla['pseudo'].iloc[i]  # pseudo sequence\n",
        "        dic[col1] = col2\n",
        "    return dic\n",
        "\n",
        "def peptide_data_aaindex(peptide,after_pca):   # return numpy array [10,12,1]\n",
        "    length = len(peptide)\n",
        "    if length == 10:\n",
        "        encode = aaindex(peptide,after_pca)\n",
        "    elif length == 9:\n",
        "        peptide = peptide[:5] + '-' + peptide[5:]\n",
        "        encode = aaindex(peptide,after_pca)\n",
        "    encode = encode.reshape(encode.shape[0], encode.shape[1], -1)\n",
        "    return encode\n",
        "\n",
        "\n",
        "def hla_data_aaindex(hla_dic,hla_type,after_pca):    # return numpy array [34,12,1]\n",
        "    try:\n",
        "        seq = hla_dic[hla_type]\n",
        "    except KeyError:\n",
        "        hla_type = rescue_unknown_hla(hla_type,dic_inventory)\n",
        "        seq = hla_dic[hla_type]\n",
        "    encode = aaindex(seq,after_pca)\n",
        "    encode = encode.reshape(encode.shape[0], encode.shape[1], -1)\n",
        "    return encode\n",
        "\n",
        "def dict_inventory(inventory):\n",
        "    dicA, dicB, dicC = {}, {}, {}\n",
        "    dic = {'A': dicA, 'B': dicB, 'C': dicC}\n",
        "\n",
        "    for hla in inventory:\n",
        "        type_ = hla[4]  # A,B,C\n",
        "        first2 = hla[6:8]  # 01\n",
        "        last2 = hla[8:]  # 01\n",
        "        try:\n",
        "            dic[type_][first2].append(last2)\n",
        "        except KeyError:\n",
        "            dic[type_][first2] = []\n",
        "            dic[type_][first2].append(last2)\n",
        "\n",
        "    return dic\n",
        "\n",
        "def construct_aaindex(ori,hla_dic,after_pca):\n",
        "    series = []\n",
        "    for i in range(ori.shape[0]):\n",
        "        peptide = ori['peptide'].iloc[i]\n",
        "        hla_type = ori['HLA'].iloc[i]\n",
        "        immuno = np.array(ori['immunogenicity'].iloc[i]).reshape(1,-1)   # [1,1]\n",
        "\n",
        "        encode_pep = peptide_data_aaindex(peptide,after_pca)    # [10,12]\n",
        "\n",
        "        encode_hla = hla_data_aaindex(hla_dic,hla_type,after_pca)   # [46,12]\n",
        "        series.append((encode_pep, encode_hla, immuno))\n",
        "    return series\n",
        "\n",
        "def pull_peptide_aaindex(dataset):\n",
        "    result = np.empty([len(dataset),10,12,1])\n",
        "    for i in range(len(dataset)):\n",
        "        result[i,:,:,:] = dataset[i][0]\n",
        "    return result\n",
        "\n",
        "def pull_hla_aaindex(dataset):\n",
        "    result = np.empty([len(dataset),46,12,1])\n",
        "    for i in range(len(dataset)):\n",
        "        result[i,:,:,:] = dataset[i][1]\n",
        "    return result\n",
        "\n",
        "\n",
        "def pull_label_aaindex(dataset):\n",
        "    col = [item[2] for item in dataset]\n",
        "    result = [0 if item == 'Negative' else 1 for item in col]\n",
        "    result = np.expand_dims(np.array(result),axis=1)\n",
        "    return result\n"
      ]
    },
    {
      "cell_type": "markdown",
      "metadata": {},
      "source": [
        "## My functions"
      ]
    },
    {
      "cell_type": "code",
      "execution_count": 3,
      "metadata": {},
      "outputs": [],
      "source": [
        "def load_training_and_validataion_dataset(path_to_partitions,train_splits):\n",
        "    import random\n",
        "    training_partions = random.sample(range(10),train_splits)\n",
        "    validation_partions = [i for i in range(10) if i not in training_partions]\n",
        "\n",
        "    # path_to_partitions = \"../data/partitions\"\n",
        "    partitions = []\n",
        "    for file in os.listdir(path_to_partitions):\n",
        "        path_to_file = os.path.join(path_to_partitions,file)\n",
        "        data = pd.read_csv(path_to_file,sep=\"\\t\",names=[\"peptide\",\"label\",\"HLA\"])\n",
        "        partitions.append(data)\n",
        "    training_df = pd.concat([partitions[i] for i in training_partions])\n",
        "    validation_df = pd.concat([partitions[i] for i in validation_partions])\n",
        "    return training_df, validation_df\n",
        "\n",
        "def retrieve_information_from_df(data_split,entire_df):\n",
        "    potential = []\n",
        "    immunogenicity = []\n",
        "    tested = []\n",
        "    responded = []\n",
        "    for i,row in data_split.iterrows():\n",
        "        peptide, HLA = row[\"peptide\"], row['HLA']\n",
        "        original_entry = entire_df[(entire_df['peptide']==peptide) & (entire_df['HLA'] == HLA)]\n",
        "        assert len(original_entry) == 1\n",
        "        potential.append(float(original_entry['potential']))\n",
        "        immunogenicity.append(original_entry['immunogenicity'].values[0])\n",
        "        tested.append(int(original_entry['test']))\n",
        "        responded.append(int(original_entry['respond']))\n",
        "     \n",
        "    data_split['potential'] = potential\n",
        "    data_split['immunogenicity'] = immunogenicity\n",
        "    data_split['test'] = tested\n",
        "    data_split['respond'] = responded\n",
        "\n",
        "    return data_split  "
      ]
    },
    {
      "cell_type": "markdown",
      "metadata": {
        "id": "Ypa7oEJ5FTBd"
      },
      "source": [
        "## Loading the data"
      ]
    },
    {
      "cell_type": "markdown",
      "metadata": {},
      "source": [
        "The strategy used by the paper to load the data"
      ]
    },
    {
      "cell_type": "code",
      "execution_count": 4,
      "metadata": {
        "id": "TwmfzUJpEX_C"
      },
      "outputs": [],
      "source": [
        "# Loading the dataset\n",
        "# after_pca = np.loadtxt('../DeepImmuno//reproduce/data/after_pca.txt')\n",
        "# ori = pd.read_csv('../DeepImmuno//reproduce/data/remove0123_sample100.csv')\n",
        "# ori = ori.sample(frac=1, replace=False).set_index(pd.Index(np.arange(ori.shape[0])))\n",
        "# hla = pd.read_csv('../DeepImmuno/reproduce/data/hla2paratopeTable_aligned.txt', sep='\\t')\n",
        "# hla_dic = hla_df_to_dic(hla)\n",
        "# inventory = list(hla_dic.keys())\n",
        "# dic_inventory = dict_inventory(inventory)\n",
        "# dataset = construct_aaindex(ori, hla_dic, after_pca)\n",
        "# input1 = pull_peptide_aaindex(dataset)\n",
        "# input2 = pull_hla_aaindex(dataset)\n",
        "# label = pull_label_aaindex(dataset)\n",
        "\n",
        "# input1 = input1.astype('float32')\n",
        "# input2 = input2.astype('float32')\n",
        "# label = label.astype('float32')\n",
        "\n",
        "# array = np.arange(len(dataset))\n",
        "# train_index = np.random.choice(array,int(len(dataset)*0.9),replace=False)\n",
        "# valid_index = [item for item in array if item not in train_index]\n",
        "\n",
        "# input1 = input1.astype('float32')\n",
        "# input2 = input2.astype('float32')\n",
        "# label = label.astype('float32')\n",
        "\n",
        "# # Reshaped data\n",
        "# input1 = pull_peptide_aaindex(dataset).reshape(-1,1,10,12)\n",
        "# input2 = pull_hla_aaindex(dataset).reshape(-1,1,46,12)\n",
        "# label = pull_label_aaindex(dataset)\n",
        "\n",
        "\n",
        "# peptide_train, peptide_val = input1[train_index], input1[valid_index]\n",
        "# HLA_train, HLA_val = input2[train_index], input2[valid_index]\n",
        "# label_train, label_val = label[train_index], label[valid_index]\n"
      ]
    },
    {
      "cell_type": "markdown",
      "metadata": {},
      "source": [
        "Correct partioning of the data"
      ]
    },
    {
      "cell_type": "code",
      "execution_count": 5,
      "metadata": {},
      "outputs": [],
      "source": [
        "after_pca = np.loadtxt('../DeepImmuno//reproduce/data/after_pca.txt')\n",
        "hla = pd.read_csv('../DeepImmuno/reproduce/data/hla2paratopeTable_aligned.txt', sep='\\t')\n",
        "hla_dic = hla_df_to_dic(hla)\n",
        "inventory = list(hla_dic.keys())\n",
        "dic_inventory = dict_inventory(inventory)\n",
        "\n",
        "entire_df = pd.read_csv('../data/deep_immuno_2.csv')\n",
        "# Taking samples from the correct partitions\n",
        "training_df, validation_df = load_training_and_validataion_dataset(path_to_partitions=\"../data/partitions\",train_splits=8)\n",
        "\n",
        "# Creating the training dataframe\n",
        "training_df_entire = retrieve_information_from_df(training_df,entire_df)\n",
        "training_df_entire = training_df_entire.sample(frac=1, random_state=1).reset_index(drop=True)\n",
        "# Creating the validation dataframe\n",
        "\n",
        "validation_df_entire = retrieve_information_from_df(validation_df,entire_df)\n",
        "validation_df_entire = validation_df_entire.sample(frac=1, random_state=1).reset_index(drop=True)\n",
        "\n",
        "\n",
        "training_dataset_encoded = construct_aaindex(training_df, hla_dic, after_pca)\n",
        "peptide_train = pull_peptide_aaindex(training_dataset_encoded)\n",
        "HLA_train = pull_hla_aaindex(training_dataset_encoded)\n",
        "label_train = pull_label_aaindex(training_dataset_encoded)\n",
        "\n",
        "\n",
        "val_dataset_encoded = construct_aaindex(validation_df, hla_dic, after_pca)\n",
        "peptide_val = pull_peptide_aaindex(val_dataset_encoded)\n",
        "HLA_val = pull_hla_aaindex(val_dataset_encoded)\n",
        "label_val = pull_label_aaindex(val_dataset_encoded)\n",
        "\n",
        "peptide_train = peptide_train.reshape(-1,1,10,12).astype('float32')\n",
        "HLA_train = HLA_train.reshape(-1,1,46,12).astype('float32')\n",
        "label_train = label_train.astype('float32')\n",
        "\n",
        "peptide_val = peptide_val.reshape(-1,1,10,12).astype('float32')\n",
        "HLA_val = HLA_val.reshape(-1,1,46,12).astype('float32')\n",
        "label_val = label_val.astype('float32')\n",
        "\n"
      ]
    },
    {
      "cell_type": "markdown",
      "metadata": {
        "id": "RHFPYHuPKX42"
      },
      "source": [
        "## Definning the model"
      ]
    },
    {
      "cell_type": "code",
      "execution_count": 6,
      "metadata": {
        "id": "QTz5JsT9KXVt"
      },
      "outputs": [],
      "source": [
        "import torch\n",
        "from torch.autograd import Variable\n",
        "from torch.nn.parameter import Parameter\n",
        "import torch.nn as nn\n",
        "import torch.nn.functional as F\n",
        "import torch.optim as optim\n",
        "import torch.nn.init as init\n",
        "from torch.utils.data import DataLoader\n",
        "\n",
        "from torch.nn import Linear, Conv2d, BatchNorm2d, MaxPool2d, Dropout2d\n",
        "from torch.nn.functional import relu, elu, relu6, sigmoid, tanh, softmax\n",
        "from torch.nn import Linear, GRU, Conv2d, Dropout, MaxPool2d, BatchNorm1d"
      ]
    },
    {
      "cell_type": "code",
      "execution_count": 7,
      "metadata": {
        "colab": {
          "base_uri": "https://localhost:8080/"
        },
        "id": "jiQ7TqSzPeg7",
        "outputId": "8a7b6150-31f4-4d09-b8fb-fa011d6ff0e4"
      },
      "outputs": [
        {
          "data": {
            "text/plain": [
              "9"
            ]
          },
          "execution_count": 7,
          "metadata": {},
          "output_type": "execute_result"
        }
      ],
      "source": [
        "def compute_conv_dim(dim_size,kernel_size,padding,stride):\n",
        "    return int((dim_size - kernel_size + 2 * padding) / stride + 1)\n",
        "compute_conv_dim(10,2,0,1)"
      ]
    },
    {
      "cell_type": "code",
      "execution_count": 8,
      "metadata": {
        "colab": {
          "base_uri": "https://localhost:8080/"
        },
        "id": "EnYzGji8Ju9t",
        "outputId": "ad092cd1-f4fc-4a7a-a7f1-0d13231ec3a4"
      },
      "outputs": [
        {
          "name": "stdout",
          "output_type": "stream",
          "text": [
            "Net(\n",
            "  (conv1_peptide): Conv2d(1, 16, kernel_size=(2, 12), stride=(1, 1))\n",
            "  (BatchNorm_conv1_peptides): BatchNorm2d(16, eps=1e-05, momentum=0.1, affine=True, track_running_stats=True)\n",
            "  (conv2_peptide): Conv2d(16, 32, kernel_size=(2, 1), stride=(1, 1))\n",
            "  (BatchNorm_conv2_peptides): BatchNorm2d(32, eps=1e-05, momentum=0.1, affine=True, track_running_stats=True)\n",
            "  (maxpool1_peptide): MaxPool2d(kernel_size=(2, 1), stride=(2, 1), padding=0, dilation=1, ceil_mode=False)\n",
            "  (conv1_HLA): Conv2d(1, 16, kernel_size=(15, 12), stride=(1, 1))\n",
            "  (BatchNorm_conv1_HLA): BatchNorm2d(16, eps=1e-05, momentum=0.1, affine=True, track_running_stats=True)\n",
            "  (maxpool1_HLA): MaxPool2d(kernel_size=(2, 1), stride=(2, 1), padding=0, dilation=1, ceil_mode=False)\n",
            "  (conv2_HLA): Conv2d(16, 32, kernel_size=(9, 1), stride=(1, 1))\n",
            "  (maxpool2_HLA): MaxPool2d(kernel_size=(2, 1), stride=(2, 1), padding=0, dilation=1, ceil_mode=False)\n",
            "  (l_out): Linear(in_features=256, out_features=2, bias=False)\n",
            "  (drop_out): Dropout(p=0.2, inplace=False)\n",
            ")\n"
          ]
        }
      ],
      "source": [
        "# hyperameters of the model\n",
        "peptide_input_channels = peptide_train.shape[1]\n",
        "peptide_input_height = peptide_train.shape[2]\n",
        "peptide_input_width = peptide_train.shape[3]\n",
        "\n",
        "hla_input_channels = HLA_train.shape[1]\n",
        "hla_input_height = HLA_train.shape[2]\n",
        "hla_input_width = HLA_train.shape[3]\n",
        "\n",
        "# define network\n",
        "class Net(nn.Module):\n",
        "\n",
        "    def __init__(self):\n",
        "        super(Net, self).__init__()\n",
        "\n",
        "        # Convelution of peptide\n",
        "        self.conv1_peptide = Conv2d(in_channels=peptide_input_channels,\n",
        "                            out_channels=16,\n",
        "                            kernel_size=(2,12),\n",
        "                            stride=1,\n",
        "                            padding=0)\n",
        "        \n",
        "        self.BatchNorm_conv1_peptides = BatchNorm2d(16) # Output channels from the previous layer\n",
        "        self.conv2_peptide = Conv2d(in_channels=16,\n",
        "                            out_channels=32,\n",
        "                            kernel_size=(2,1),\n",
        "                            stride=1,\n",
        "                            padding=0)\n",
        "        self.BatchNorm_conv2_peptides = BatchNorm2d(32) # Output channels from the previous layer\n",
        "        self.maxpool1_peptide = nn.MaxPool2d(kernel_size=(2,1), stride=(2,1), padding=0)\n",
        "\n",
        "        # Convelution of HLA\n",
        "        self.conv1_HLA = Conv2d(in_channels=peptide_input_channels,\n",
        "                            out_channels=16,\n",
        "                            kernel_size=(15,12),\n",
        "                            stride=1,\n",
        "                            padding=0)\n",
        "        self.BatchNorm_conv1_HLA = BatchNorm2d(16) # Output channels from the previous layer\n",
        "        self.maxpool1_HLA = nn.MaxPool2d(kernel_size=(2,1), stride=(2,1), padding=0)\n",
        "        \n",
        "        self.conv2_HLA = Conv2d(in_channels=16,\n",
        "                            out_channels=32,\n",
        "                            kernel_size=(9,1),\n",
        "                            stride=1,\n",
        "                            padding=0)\n",
        "        self.BatchNorm_conv2_peptides = BatchNorm2d(32) # Output channels from the previous layer\n",
        "        self.maxpool2_HLA = nn.MaxPool2d(kernel_size=(2,1), stride=(2,1), padding=0)\n",
        "\n",
        "        # Denselayer\n",
        "        self.l_out = Linear(in_features=256,\n",
        "                            out_features=2,\n",
        "                            bias=False)\n",
        "        self.drop_out = nn.Dropout(p=0.2)\n",
        "\n",
        "\n",
        "    def forward(self, peptide, HLA): # x.size() = [batch, channel, height, width]\n",
        "\n",
        "        # Encoding the peptide\n",
        "        peptide = self.conv1_peptide(peptide)\n",
        "        peptide = self.BatchNorm_conv1_peptides(peptide)\n",
        "        peptide = relu(peptide)\n",
        "        peptide = self.conv2_peptide(peptide)\n",
        "        peptide = self.BatchNorm_conv2_peptides(peptide)\n",
        "        peptide = relu(peptide)\n",
        "        peptide = self.maxpool1_peptide(peptide)\n",
        "        peptide = torch.flatten(peptide,start_dim=1)\n",
        "\n",
        "        # Encoding the HLA\n",
        "        HLA = self.conv1_HLA(HLA)\n",
        "        HLA = self.BatchNorm_conv1_HLA(HLA)\n",
        "        HLA = relu(HLA)\n",
        "        HLA = self.maxpool1_HLA(HLA)\n",
        "        HLA = self.conv2_HLA(HLA)\n",
        "        HLA = self.BatchNorm_conv2_peptides(HLA)\n",
        "        HLA = relu(HLA)\n",
        "        HLA = self.maxpool2_HLA(HLA)\n",
        "        HLA = torch.flatten(HLA,start_dim=1)\n",
        "\n",
        "        # Combining the output\n",
        "        combined_input = torch.cat((peptide, HLA), 1)\n",
        "        x = self.l_out(combined_input)\n",
        "        x = self.drop_out(x)\n",
        "        x = nn.ReLU()(x)\n",
        "        return softmax(x, dim=1)\n",
        "\n",
        "net = Net()\n",
        "print(net)"
      ]
    },
    {
      "cell_type": "code",
      "execution_count": 9,
      "metadata": {
        "id": "5_FHTyCAP25T"
      },
      "outputs": [
        {
          "data": {
            "text/plain": [
              "tensor([[0.5000, 0.5000],\n",
              "        [0.5000, 0.5000],\n",
              "        [0.3953, 0.6047],\n",
              "        [0.5000, 0.5000],\n",
              "        [0.5000, 0.5000],\n",
              "        [0.5000, 0.5000],\n",
              "        [0.5000, 0.5000],\n",
              "        [0.4895, 0.5105],\n",
              "        [0.4829, 0.5171],\n",
              "        [0.5000, 0.5000]], grad_fn=<SoftmaxBackward0>)"
            ]
          },
          "execution_count": 9,
          "metadata": {},
          "output_type": "execute_result"
        }
      ],
      "source": [
        "peptide_random = np.random.normal(0,1, (10, 1, 10, 12)).astype('float32')\n",
        "peptide_random = Variable(torch.from_numpy(peptide_random))\n",
        "HLA_random = np.random.normal(0,1, (10, 1, 46, 12)).astype('float32')\n",
        "HLA_random = Variable(torch.from_numpy(HLA_random))\n",
        "output = net(peptide_random,HLA_random)\n",
        "output"
      ]
    },
    {
      "cell_type": "markdown",
      "metadata": {
        "id": "Pq8IcnuJMs34"
      },
      "source": [
        "## Creating testing and validataion datasets"
      ]
    },
    {
      "cell_type": "markdown",
      "metadata": {
        "id": "qjBK0OsZM0E2"
      },
      "source": [
        "## Training and evaluating the model"
      ]
    },
    {
      "cell_type": "code",
      "execution_count": 24,
      "metadata": {
        "id": "zTgk8hKTMzRs"
      },
      "outputs": [],
      "source": [
        "import torch.optim as optim\n",
        "from sklearn.metrics import accuracy_score,recall_score,f1_score\n",
        "criterion = nn.CrossEntropyLoss()\n",
        "optimizer = optim.Adam(net.parameters(), lr=0.0001)"
      ]
    },
    {
      "cell_type": "code",
      "execution_count": 11,
      "metadata": {
        "colab": {
          "base_uri": "https://localhost:8080/"
        },
        "id": "1cksram0QDIf",
        "outputId": "9c6cccb5-41c6-4e49-bd77-313f040395f0"
      },
      "outputs": [],
      "source": [
        "# batch_size = 5\n",
        "# epochs = 100\n",
        "\n",
        "# peptide_train_loader = list(DataLoader(peptide_train,batch_size=batch_size))\n",
        "# HLA_train_loader = list(DataLoader(HLA_train,batch_size=batch_size))\n",
        "# label_train_loader = list(DataLoader(label_train,batch_size=batch_size))\n",
        "\n",
        "# peptide_val_loader = list(DataLoader(peptide_val,batch_size=batch_size))\n",
        "# HLA_val_loader = list(DataLoader(HLA_val,batch_size=batch_size))\n",
        "# label_val_loader = list(DataLoader(label_val,batch_size=batch_size))\n",
        "\n",
        "# losses = []\n",
        "# cur_loss = 0\n",
        "\n",
        "# train_acc = []\n",
        "# valid_acc = []\n",
        "\n",
        "# train_prediction_pr_epoch = []\n",
        "# train_labels_pr_epoch = []\n",
        "\n",
        "# valid_prediction_pr_epoch = []\n",
        "# valid_labels_pr_epoch = []\n",
        "\n",
        "# for epoch in range(epochs):\n",
        "#     ## Firstly the model is trained\n",
        "#     cur_loss = 0\n",
        "#     net.train()\n",
        "#     # train_true_labels = []\n",
        "#     # train_predicted_labels = []\n",
        "#     for i in range(len(peptide_train_loader)):\n",
        "#         # zero the parameter gradients\n",
        "#         optimizer.zero_grad()\n",
        "#         # forward + backward + optimize\n",
        "#         outputs = net(peptide_train_loader[i],HLA_train_loader[i])\n",
        "#         target_batch = Variable(label_train_loader[i].long()).view(-1,)\n",
        "#         # print(target_batch)\n",
        "#         # print(outputs)\n",
        "#         # train_true_labels.append(target_batch.numpy().reshape(-1,))\n",
        "#         # train_predicted_labels.append(predicted.numpy().reshape(-1,))\n",
        "\n",
        "#         batch_loss = criterion(outputs, target_batch)\n",
        "#         batch_loss.backward()\n",
        "#         optimizer.step()\n",
        "#         cur_loss += batch_loss\n",
        "    \n",
        "#     losses.append(cur_loss / batch_size)\n",
        "#     # print(accuracy_score(train_true_labels,train_predicted_labels))\n",
        "\n",
        "#     ## The model is then evalauted on both the training and valdition dataset\n",
        "#     net.eval()\n",
        "#     train_targs, train_preds_labels = [],[]\n",
        "#     val_preds_labels, val_targs = [], []\n",
        "\n",
        "#     for j in range(len(peptide_train_loader)):\n",
        "#         output = net(peptide_train_loader[j],HLA_train_loader[j])\n",
        "#         _, predicted = torch.max(output, 1)\n",
        "#         predicted = predicted.numpy().reshape(-1,)\n",
        "#         predicted = predicted.tolist()\n",
        "#         train_preds_labels += predicted\n",
        "#         train_targs += list(label_train_loader[j].numpy())\n",
        "\n",
        "    \n",
        "#     for k in range(len(peptide_val_loader)):\n",
        "#         output = net(peptide_val_loader[k],HLA_val_loader[k])\n",
        "#         _, predicted = torch.max(output, 1)\n",
        "#         predicted = predicted.numpy().reshape(-1,)\n",
        "#         predicted = predicted.tolist()\n",
        "#         val_preds_labels += predicted\n",
        "#         val_targs += list(label_val_loader[k].numpy())\n",
        "    \n",
        "\n",
        "#     train_acc_cur = recall_score(train_targs, train_preds_labels)\n",
        "#     valid_acc_cur = recall_score(val_targs, val_preds_labels)\n",
        "\n",
        "#     train_acc.append(train_acc_cur)\n",
        "#     valid_acc.append(valid_acc_cur)\n",
        "\n",
        "#     train_labels_pr_epoch.append(train_targs)\n",
        "\n",
        "#     valid_prediction_pr_epoch.append(val_preds_labels)\n",
        "#     valid_labels_pr_epoch.append(val_targs)\n",
        "    \n",
        "#     if epoch % 10 == 0:\n",
        "#         print(\"Epoch %2i : Train Loss %f , Train acc %f, Valid acc %f\" % (\n",
        "#                 epoch+1, losses[-1], train_acc_cur, valid_acc_cur))\n"
      ]
    },
    {
      "cell_type": "code",
      "execution_count": 12,
      "metadata": {},
      "outputs": [
        {
          "name": "stdout",
          "output_type": "stream",
          "text": [
            "Epoch  1 : Train Loss 10.594863 , Train acc 0.628949, Valid acc 0.622042\n",
            "Epoch 11 : Train Loss 8.546833 , Train acc 0.778988, Valid acc 0.762765\n",
            "Epoch 21 : Train Loss 7.234875 , Train acc 0.847938, Valid acc 0.834994\n",
            "Epoch 31 : Train Loss 7.054011 , Train acc 0.863191, Valid acc 0.838107\n",
            "Epoch 41 : Train Loss 6.908167 , Train acc 0.870817, Valid acc 0.852428\n",
            "Epoch 51 : Train Loss 6.703314 , Train acc 0.881401, Valid acc 0.855542\n",
            "Epoch 61 : Train Loss 6.657849 , Train acc 0.887782, Valid acc 0.861146\n",
            "Epoch 71 : Train Loss 6.672079 , Train acc 0.881868, Valid acc 0.849315\n",
            "Epoch 81 : Train Loss 6.646872 , Train acc 0.889339, Valid acc 0.846824\n",
            "Epoch 91 : Train Loss 6.570193 , Train acc 0.889494, Valid acc 0.863636\n",
            "Epoch 101 : Train Loss 6.604749 , Train acc 0.886537, Valid acc 0.864882\n",
            "Epoch 111 : Train Loss 6.514063 , Train acc 0.895875, Valid acc 0.858655\n",
            "Epoch 121 : Train Loss 6.580082 , Train acc 0.891829, Valid acc 0.851806\n",
            "Epoch 131 : Train Loss 6.475834 , Train acc 0.898210, Valid acc 0.856787\n",
            "Epoch 141 : Train Loss 6.459008 , Train acc 0.895564, Valid acc 0.865504\n",
            "Epoch 151 : Train Loss 6.409535 , Train acc 0.896031, Valid acc 0.859900\n",
            "Epoch 161 : Train Loss 6.474332 , Train acc 0.900389, Valid acc 0.864882\n",
            "Epoch 171 : Train Loss 6.428832 , Train acc 0.893074, Valid acc 0.859900\n",
            "Epoch 181 : Train Loss 6.424985 , Train acc 0.903813, Valid acc 0.856787\n",
            "Epoch 191 : Train Loss 6.391439 , Train acc 0.894786, Valid acc 0.872354\n"
          ]
        }
      ],
      "source": [
        "epochs = 200\n",
        "batch_size = 20\n",
        "\n",
        "peptide_train_loader = list(DataLoader(peptide_train,batch_size=batch_size))\n",
        "HLA_train_loader = list(DataLoader(HLA_train,batch_size=batch_size))\n",
        "label_train_loader = list(DataLoader(label_train,batch_size=batch_size))\n",
        "\n",
        "peptide_val_loader = list(DataLoader(peptide_val,batch_size=batch_size))\n",
        "HLA_val_loader = list(DataLoader(HLA_val,batch_size=batch_size))\n",
        "label_val_loader = list(DataLoader(label_val,batch_size=batch_size))\n",
        "\n",
        "\n",
        "\n",
        "\n",
        "\n",
        "train_accuracies = []\n",
        "val_accuracies = []\n",
        "losses = []\n",
        "all_val_targets_pr_epoch = []\n",
        "all_val_predictions_pr_epoch = []\n",
        "for epoch in range(epochs):\n",
        "\n",
        "    net.train()\n",
        "\n",
        "    current_loss = 0\n",
        "    for train_batch_index in range(len((peptide_train_loader))):\n",
        "        train_peptides = peptide_train_loader[train_batch_index]\n",
        "        train_HLA = HLA_train_loader[train_batch_index]\n",
        "        train_labels = label_train_loader[train_batch_index].long().reshape(-1)\n",
        "    \n",
        "        # zero the parameter gradients\n",
        "        optimizer.zero_grad()\n",
        "        outputs = net(train_peptides,train_HLA)\n",
        "        loss = criterion(outputs, train_labels)\n",
        "        loss.backward()\n",
        "        optimizer.step()\n",
        "        current_loss += loss.item()\n",
        "\n",
        "    # print(epoch, current_loss/batch_size)\n",
        "    losses.append(current_loss/batch_size)\n",
        "\n",
        "    all_train_targets = []\n",
        "    all_predicted_train_labels = []\n",
        "    for i in range(len((peptide_train_loader))):\n",
        "        train_peptides = peptide_train_loader[i]\n",
        "        train_HLA = HLA_train_loader[i]\n",
        "        train_labels = label_train_loader[i].long().reshape(-1)\n",
        "        outputs = net(train_peptides,train_HLA)\n",
        "        _,predicted_labels =  torch.max(outputs, 1)\n",
        "\n",
        "        all_predicted_train_labels += predicted_labels.numpy().tolist()\n",
        "        all_train_targets += train_labels.numpy().tolist()\n",
        "    \n",
        "\n",
        "    all_val_targets = []\n",
        "    all_predicted_val_labels = []\n",
        "    for j in range(len((peptide_val_loader))):\n",
        "        val_peptides = peptide_val_loader[j]\n",
        "        val_HLA = HLA_val_loader[j]\n",
        "        val_labels = label_val_loader[j].long().reshape(-1)\n",
        "        outputs = net(val_peptides,val_HLA)\n",
        "        _,predicted_labels =  torch.max(outputs, 1)\n",
        "\n",
        "        all_predicted_val_labels += predicted_labels.numpy().tolist()\n",
        "        all_val_targets += val_labels.numpy().tolist()\n",
        "\n",
        "    # Calculating the accuracies\n",
        "    train_accuracies.append(accuracy_score(all_train_targets,all_predicted_train_labels))\n",
        "    val_accuracies.append(accuracy_score(all_val_targets,all_predicted_val_labels))\n",
        "    # Saving the predicitons for further validation\n",
        "    all_val_targets_pr_epoch.append(all_val_targets)\n",
        "    all_val_predictions_pr_epoch.append(all_predicted_val_labels)\n",
        "\n",
        "    if epoch % 10 == 0:\n",
        "        print(\"Epoch %2i : Train Loss %f , Train acc %f, Valid acc %f\" % (epoch+1, losses[-1], train_accuracies[-1], val_accuracies[-1]))\n",
        "\n"
      ]
    },
    {
      "cell_type": "code",
      "execution_count": 15,
      "metadata": {
        "colab": {
          "base_uri": "https://localhost:8080/",
          "height": 297
        },
        "id": "s_chlCRnXKGh",
        "outputId": "142a89f2-ba3f-4830-eb75-d782c84fb621"
      },
      "outputs": [
        {
          "data": {
            "text/plain": [
              "(Text(0.5, 0, 'epochs'), Text(0, 0.5, 'Acc'))"
            ]
          },
          "execution_count": 15,
          "metadata": {},
          "output_type": "execute_result"
        },
        {
          "data": {
            "image/png": "[encoded data removed]",
            "text/plain": [
              "<Figure size 432x288 with 1 Axes>"
            ]
          },
          "metadata": {
            "needs_background": "light"
          },
          "output_type": "display_data"
        }
      ],
      "source": [
        "epoch = np.arange(len(train_accuracies))\n",
        "plt.figure()\n",
        "plt.plot(epoch, train_accuracies, 'r', epoch, val_accuracies, 'b')\n",
        "plt.legend(['Train Accucary','Validation Accuracy'])\n",
        "plt.xlabel('epochs'), plt.ylabel('Acc')"
      ]
    },
    {
      "cell_type": "code",
      "execution_count": 16,
      "metadata": {
        "id": "G4kBdrpadEVM"
      },
      "outputs": [],
      "source": [
        "val_predictions = np.array(all_val_predictions_pr_epoch)\n",
        "val_labels = np.array(all_val_targets_pr_epoch)\n",
        "# val_predictions = val_predictions.reshape(val_predictions.shape[0],val_predictions.shape[1])\n",
        "# val_labels = val_labels.reshape(val_labels.shape[0],val_labels.shape[1])"
      ]
    },
    {
      "cell_type": "code",
      "execution_count": 26,
      "metadata": {},
      "outputs": [
        {
          "name": "stdout",
          "output_type": "stream",
          "text": [
            "200\n",
            "EPOCH: 122 Recall: 0.8002645502645502 accuracy: 0.8779576587795765 f1-score: 0.8605974395448079\n"
          ]
        },
        {
          "data": {
            "image/png": "[encoded data removed]",
            "text/plain": [
              "<Figure size 720x432 with 1 Axes>"
            ]
          },
          "metadata": {
            "needs_background": "light"
          },
          "output_type": "display_data"
        }
      ],
      "source": [
        "from sklearn.metrics import confusion_matrix\n",
        "from sklearn.metrics import accuracy_score,recall_score\n",
        "best_epoch_model = np.argmax(val_accuracies)\n",
        "\n",
        "print(len(val_predictions))\n",
        "\n",
        "# for epoch in range(len(val_predictions)):\n",
        "fig = plt.figure(figsize=(10,6))\n",
        "accuracy = accuracy_score(val_labels[best_epoch_model],val_predictions[best_epoch_model])\n",
        "recall = recall_score(val_labels[best_epoch_model],val_predictions[best_epoch_model])\n",
        "f1 = f1_score(val_labels[best_epoch_model],val_predictions[best_epoch_model])\n",
        "\n",
        "print(f\"EPOCH: {best_epoch_model} Recall: {recall} accuracy: {accuracy} f1-score: {f1}\")\n",
        "plt.title(\"Confusion matrix of best epoch for validation performance\")\n",
        "conf_mat = confusion_matrix(val_labels[best_epoch_model],val_predictions[best_epoch_model])\n",
        "sns.heatmap(conf_mat, square=True, annot=True, cmap='Blues', fmt='d', cbar=False)\n",
        "plt.xlabel(\"Predicted\")\n",
        "plt.ylabel(\"Actual\")\n",
        "plt.show()"
      ]
    },
    {
      "cell_type": "code",
      "execution_count": null,
      "metadata": {},
      "outputs": [],
      "source": []
    }
  ],
  "metadata": {
    "colab": {
      "collapsed_sections": [],
      "name": "reproduce_deep_immuno_pytorch.ipynb",
      "provenance": []
    },
    "kernelspec": {
      "display_name": "Python 3",
      "name": "python3"
    },
    "language_info": {
      "codemirror_mode": {
        "name": "ipython",
        "version": 3
      },
      "file_extension": ".py",
      "mimetype": "text/x-python",
      "name": "python",
      "nbconvert_exporter": "python",
      "pygments_lexer": "ipython3",
      "version": "3.9.9"
    }
  },
  "nbformat": 4,
  "nbformat_minor": 0
}
