{
  "cells": [
    {
      "cell_type": "code",
      "execution_count": 20,
      "metadata": {
        "id": "3DtMe3EbDK9N"
      },
      "outputs": [],
      "source": [
        "import numpy as np\n",
        "import pandas as pd\n",
        "import matplotlib.pyplot as plt\n",
        "from sklearn.metrics import auc,precision_recall_curve,roc_curve,confusion_matrix\n",
        "import os,sys\n",
        "import pickle\n",
        "from sklearn.model_selection import KFold\n",
        "from sklearn.model_selection import train_test_split\n",
        "import random\n",
        "np.random.seed(10)\n",
        "random.seed(10)\n"
      ]
    },
    {
      "cell_type": "markdown",
      "metadata": {
        "id": "81oG3LWzEh2k"
      },
      "source": [
        "## His functions used to read the data"
      ]
    },
    {
      "cell_type": "code",
      "execution_count": 21,
      "metadata": {
        "id": "w2TYnX5yEbcL"
      },
      "outputs": [],
      "source": [
        "def aaindex(peptide,after_pca):\n",
        "\n",
        "    amino = 'ARNDCQEGHILKMFPSTWYV-'\n",
        "    matrix = np.transpose(after_pca)   # [12,21]\n",
        "    encoded = np.empty([len(peptide), 12])  # (seq_len,12)\n",
        "    for i in range(len(peptide)):\n",
        "        query = peptide[i]\n",
        "        if query == 'X': query = '-'\n",
        "        query = query.upper()\n",
        "        encoded[i, :] = matrix[:, amino.index(query)]\n",
        "\n",
        "    return encoded\n",
        "\n",
        "def rescue_unknown_hla(hla, dic_inventory):\n",
        "    type_ = hla[4]\n",
        "    first2 = hla[6:8]\n",
        "    last2 = hla[8:]\n",
        "    big_category = dic_inventory[type_]\n",
        "    if not big_category.get(first2) == None:\n",
        "        small_category = big_category.get(first2)\n",
        "        distance = [abs(int(last2) - int(i)) for i in small_category]\n",
        "        optimal = min(zip(small_category, distance), key=lambda x: x[1])[0]\n",
        "        return 'HLA-' + str(type_) + '*' + str(first2) + str(optimal)\n",
        "    else:\n",
        "        small_category = list(big_category.keys())\n",
        "        distance = [abs(int(first2) - int(i)) for i in small_category]\n",
        "        optimal = min(zip(small_category, distance), key=lambda x: x[1])[0]\n",
        "        return 'HLA-' + str(type_) + '*' + str(optimal) + str(big_category[optimal][0])\n",
        "\n",
        "def hla_df_to_dic(hla):\n",
        "    dic = {}\n",
        "    for i in range(hla.shape[0]):\n",
        "        col1 = hla['HLA'].iloc[i]  # HLA allele\n",
        "        col2 = hla['pseudo'].iloc[i]  # pseudo sequence\n",
        "        dic[col1] = col2\n",
        "    return dic\n",
        "\n",
        "def peptide_data_aaindex(peptide,after_pca):   # return numpy array [10,12,1]\n",
        "    length = len(peptide)\n",
        "    if length == 10:\n",
        "        encode = aaindex(peptide,after_pca)\n",
        "    elif length == 9:\n",
        "        peptide = peptide[:5] + '-' + peptide[5:]\n",
        "        encode = aaindex(peptide,after_pca)\n",
        "    encode = encode.reshape(encode.shape[0], encode.shape[1], -1)\n",
        "    return encode\n",
        "\n",
        "\n",
        "def hla_data_aaindex(hla_dic,hla_type,after_pca):    # return numpy array [34,12,1]\n",
        "    try:\n",
        "        seq = hla_dic[hla_type]\n",
        "    except KeyError:\n",
        "        hla_type = rescue_unknown_hla(hla_type,dic_inventory)\n",
        "        seq = hla_dic[hla_type]\n",
        "    encode = aaindex(seq,after_pca)\n",
        "    encode = encode.reshape(encode.shape[0], encode.shape[1], -1)\n",
        "    return encode\n",
        "\n",
        "def dict_inventory(inventory):\n",
        "    dicA, dicB, dicC = {}, {}, {}\n",
        "    dic = {'A': dicA, 'B': dicB, 'C': dicC}\n",
        "\n",
        "    for hla in inventory:\n",
        "        type_ = hla[4]  # A,B,C\n",
        "        first2 = hla[6:8]  # 01\n",
        "        last2 = hla[8:]  # 01\n",
        "        try:\n",
        "            dic[type_][first2].append(last2)\n",
        "        except KeyError:\n",
        "            dic[type_][first2] = []\n",
        "            dic[type_][first2].append(last2)\n",
        "\n",
        "    return dic\n",
        "\n",
        "def construct_aaindex(ori,hla_dic,after_pca):\n",
        "    series = []\n",
        "    for i in range(ori.shape[0]):\n",
        "        peptide = ori['peptide'].iloc[i]\n",
        "        hla_type = ori['HLA'].iloc[i]\n",
        "        immuno = np.array(ori['immunogenicity'].iloc[i]).reshape(1,-1)   # [1,1]\n",
        "\n",
        "        encode_pep = peptide_data_aaindex(peptide,after_pca)    # [10,12]\n",
        "\n",
        "        encode_hla = hla_data_aaindex(hla_dic,hla_type,after_pca)   # [46,12]\n",
        "        series.append((encode_pep, encode_hla, immuno))\n",
        "    return series\n",
        "\n",
        "def pull_peptide_aaindex(dataset):\n",
        "    result = np.empty([len(dataset),10,12,1])\n",
        "    for i in range(len(dataset)):\n",
        "        result[i,:,:,:] = dataset[i][0]\n",
        "    return result\n",
        "\n",
        "def pull_hla_aaindex(dataset):\n",
        "    result = np.empty([len(dataset),46,12,1])\n",
        "    for i in range(len(dataset)):\n",
        "        result[i,:,:,:] = dataset[i][1]\n",
        "    return result\n",
        "\n",
        "\n",
        "def pull_label_aaindex(dataset):\n",
        "    col = [item[2] for item in dataset]\n",
        "    result = [0 if item == 'Negative' else 1 for item in col]\n",
        "    result = np.expand_dims(np.array(result),axis=1)\n",
        "    return result\n"
      ]
    },
    {
      "cell_type": "markdown",
      "metadata": {},
      "source": [
        "## My functions"
      ]
    },
    {
      "cell_type": "code",
      "execution_count": 22,
      "metadata": {},
      "outputs": [],
      "source": [
        "def load_training_and_validataion_dataset(path_to_partitions,train_splits):\n",
        "    import random\n",
        "    training_partions = random.sample(range(10),train_splits)\n",
        "    validation_partions = [i for i in range(10) if i not in training_partions]\n",
        "\n",
        "    # path_to_partitions = \"../data/partitions\"\n",
        "    partitions = []\n",
        "    for file in os.listdir(path_to_partitions):\n",
        "        path_to_file = os.path.join(path_to_partitions,file)\n",
        "        data = pd.read_csv(path_to_file,sep=\"\\t\",names=[\"peptide\",\"label\",\"HLA\"])\n",
        "        partitions.append(data)\n",
        "    training_df = pd.concat([partitions[i] for i in training_partions])\n",
        "    validation_df = pd.concat([partitions[i] for i in validation_partions])\n",
        "    return training_df, validation_df\n",
        "\n",
        "def retrieve_information_from_df(data_split,entire_df):\n",
        "    potential = []\n",
        "    immunogenicity = []\n",
        "    tested = []\n",
        "    responded = []\n",
        "    for i,row in data_split.iterrows():\n",
        "        peptide, HLA = row[\"peptide\"], row['HLA']\n",
        "        original_entry = entire_df[(entire_df['peptide']==peptide) & (entire_df['HLA'] == HLA)]\n",
        "        assert len(original_entry) == 1\n",
        "        potential.append(float(original_entry['potential']))\n",
        "        immunogenicity.append(original_entry['immunogenicity'].values[0])\n",
        "        tested.append(int(original_entry['test']))\n",
        "        responded.append(int(original_entry['respond']))\n",
        "     \n",
        "    data_split['potential'] = potential\n",
        "    data_split['immunogenicity'] = immunogenicity\n",
        "    data_split['test'] = tested\n",
        "    data_split['respond'] = responded\n",
        "\n",
        "    return data_split  "
      ]
    },
    {
      "cell_type": "markdown",
      "metadata": {
        "id": "Ypa7oEJ5FTBd"
      },
      "source": [
        "## Loading the data"
      ]
    },
    {
      "cell_type": "markdown",
      "metadata": {},
      "source": [
        "The strategy used by the paper to load the data"
      ]
    },
    {
      "cell_type": "code",
      "execution_count": 23,
      "metadata": {
        "id": "TwmfzUJpEX_C"
      },
      "outputs": [],
      "source": [
        "# #Loading the dataset\n",
        "# after_pca = np.loadtxt('../DeepImmuno//reproduce/data/after_pca.txt')\n",
        "# ori = pd.read_csv('../DeepImmuno//reproduce/data/remove0123_sample100.csv')\n",
        "# ori = ori.sample(frac=1, replace=False).set_index(pd.Index(np.arange(ori.shape[0])))\n",
        "# hla = pd.read_csv('../DeepImmuno/reproduce/data/hla2paratopeTable_aligned.txt', sep='\\t')\n",
        "# hla_dic = hla_df_to_dic(hla)\n",
        "# inventory = list(hla_dic.keys())\n",
        "# dic_inventory = dict_inventory(inventory)\n",
        "# dataset = construct_aaindex(ori, hla_dic, after_pca)\n",
        "# input1 = pull_peptide_aaindex(dataset)\n",
        "# input2 = pull_hla_aaindex(dataset)\n",
        "# label = pull_label_aaindex(dataset)\n",
        "\n",
        "# input1 = input1.astype('float32')\n",
        "# input2 = input2.astype('float32')\n",
        "# label = label.astype('float32')\n",
        "\n",
        "# array = np.arange(len(dataset))\n",
        "# train_index = np.random.choice(array,int(len(dataset)*0.9),replace=False)\n",
        "# valid_index = [item for item in array if item not in train_index]\n",
        "\n",
        "# input1 = input1.astype('float32')\n",
        "# input2 = input2.astype('float32')\n",
        "# label = label.astype('float32')\n",
        "\n",
        "# # Reshaped data\n",
        "# input1 = pull_peptide_aaindex(dataset).reshape(-1,1,10,12)\n",
        "# input2 = pull_hla_aaindex(dataset).reshape(-1,1,46,12)\n",
        "# label = pull_label_aaindex(dataset)\n",
        "\n",
        "\n",
        "# peptide_train, peptide_val = input1[train_index], input1[valid_index]\n",
        "# HLA_train, HLA_val = input2[train_index], input2[valid_index]\n",
        "# label_train, label_val = label[train_index], label[valid_index]\n",
        "\n",
        "\n",
        "# peptide_train = peptide_train.reshape(-1,1,10,12).astype('float32')\n",
        "# HLA_train = HLA_train.reshape(-1,1,46,12).astype('float32')\n",
        "# label_train = label_train.astype('float32')\n",
        "\n",
        "# peptide_val = peptide_val.reshape(-1,1,10,12).astype('float32')\n",
        "# HLA_val = HLA_val.reshape(-1,1,46,12).astype('float32')\n",
        "# label_val = label_val.astype('float32')\n",
        "\n",
        "\n"
      ]
    },
    {
      "cell_type": "markdown",
      "metadata": {},
      "source": [
        "Correct partioning of the data"
      ]
    },
    {
      "cell_type": "code",
      "execution_count": 24,
      "metadata": {},
      "outputs": [],
      "source": [
        "after_pca = np.loadtxt('../DeepImmuno//reproduce/data/after_pca.txt')\n",
        "hla = pd.read_csv('../DeepImmuno/reproduce/data/hla2paratopeTable_aligned.txt', sep='\\t')\n",
        "hla_dic = hla_df_to_dic(hla)\n",
        "inventory = list(hla_dic.keys())\n",
        "dic_inventory = dict_inventory(inventory)\n",
        "\n",
        "entire_df = pd.read_csv('../data/deep_immuno_2.csv')\n",
        "# Taking samples from the correct partitions\n",
        "training_df, validation_df = load_training_and_validataion_dataset(path_to_partitions=\"../data/partitions\",train_splits=9)\n",
        "\n",
        "# Creating the training dataframe\n",
        "training_df_entire = retrieve_information_from_df(training_df,entire_df)\n",
        "training_df_entire = training_df_entire.sample(frac=1, random_state=1).reset_index(drop=True)\n",
        "\n",
        "# Creating the validation dataframe\n",
        "validation_df_entire = retrieve_information_from_df(validation_df,entire_df)\n",
        "validation_df_entire = validation_df_entire.sample(frac=1, random_state=1).reset_index(drop=True)\n",
        "\n",
        "\n",
        "training_dataset_encoded = construct_aaindex(training_df, hla_dic, after_pca)\n",
        "peptide_train = pull_peptide_aaindex(training_dataset_encoded)\n",
        "HLA_train = pull_hla_aaindex(training_dataset_encoded)\n",
        "label_train = pull_label_aaindex(training_dataset_encoded)\n",
        "\n",
        "\n",
        "val_dataset_encoded = construct_aaindex(validation_df, hla_dic, after_pca)\n",
        "peptide_val = pull_peptide_aaindex(val_dataset_encoded)\n",
        "HLA_val = pull_hla_aaindex(val_dataset_encoded)\n",
        "label_val = pull_label_aaindex(val_dataset_encoded)\n",
        "\n",
        "peptide_train = peptide_train.reshape(-1,1,10,12).astype('float32')\n",
        "HLA_train = HLA_train.reshape(-1,1,46,12).astype('float32')\n",
        "label_train = label_train.astype('float32')\n",
        "\n",
        "peptide_val = peptide_val.reshape(-1,1,10,12).astype('float32')\n",
        "HLA_val = HLA_val.reshape(-1,1,46,12).astype('float32')\n",
        "label_val = label_val.astype('float32')\n",
        "\n"
      ]
    },
    {
      "cell_type": "markdown",
      "metadata": {
        "id": "RHFPYHuPKX42"
      },
      "source": [
        "## Definning the model"
      ]
    },
    {
      "cell_type": "code",
      "execution_count": 25,
      "metadata": {
        "id": "QTz5JsT9KXVt"
      },
      "outputs": [],
      "source": [
        "import torch\n",
        "from torch.autograd import Variable\n",
        "from torch.nn.parameter import Parameter\n",
        "import torch.nn as nn\n",
        "import torch.nn.functional as F\n",
        "import torch.optim as optim\n",
        "import torch.nn.init as init\n",
        "from torch.utils.data import DataLoader\n",
        "\n",
        "from torch.nn import Linear, Conv2d, BatchNorm2d, MaxPool2d, Dropout2d\n",
        "from torch.nn.functional import relu, elu, relu6, sigmoid, tanh, softmax\n",
        "from torch.nn import Linear, GRU, Conv2d, Dropout, MaxPool2d, BatchNorm1d"
      ]
    },
    {
      "cell_type": "code",
      "execution_count": 26,
      "metadata": {
        "colab": {
          "base_uri": "https://localhost:8080/"
        },
        "id": "jiQ7TqSzPeg7",
        "outputId": "8a7b6150-31f4-4d09-b8fb-fa011d6ff0e4"
      },
      "outputs": [
        {
          "data": {
            "text/plain": [
              "9"
            ]
          },
          "execution_count": 26,
          "metadata": {},
          "output_type": "execute_result"
        }
      ],
      "source": [
        "def compute_conv_dim(dim_size,kernel_size,padding,stride):\n",
        "    return int((dim_size - kernel_size + 2 * padding) / stride + 1)\n",
        "compute_conv_dim(10,2,0,1)"
      ]
    },
    {
      "cell_type": "code",
      "execution_count": 27,
      "metadata": {
        "colab": {
          "base_uri": "https://localhost:8080/"
        },
        "id": "EnYzGji8Ju9t",
        "outputId": "ad092cd1-f4fc-4a7a-a7f1-0d13231ec3a4"
      },
      "outputs": [
        {
          "name": "stdout",
          "output_type": "stream",
          "text": [
            "Net(\n",
            "  (conv1_peptide): Conv2d(1, 16, kernel_size=(2, 12), stride=(1, 1))\n",
            "  (BatchNorm_conv1_peptides): BatchNorm2d(16, eps=1e-05, momentum=0.1, affine=True, track_running_stats=True)\n",
            "  (conv2_peptide): Conv2d(16, 32, kernel_size=(2, 1), stride=(1, 1))\n",
            "  (BatchNorm_conv2_peptides): BatchNorm2d(32, eps=1e-05, momentum=0.1, affine=True, track_running_stats=True)\n",
            "  (maxpool1_peptide): MaxPool2d(kernel_size=(2, 1), stride=(2, 1), padding=0, dilation=1, ceil_mode=False)\n",
            "  (conv1_HLA): Conv2d(1, 16, kernel_size=(15, 12), stride=(1, 1))\n",
            "  (BatchNorm_conv1_HLA): BatchNorm2d(16, eps=1e-05, momentum=0.1, affine=True, track_running_stats=True)\n",
            "  (maxpool1_HLA): MaxPool2d(kernel_size=(2, 1), stride=(2, 1), padding=0, dilation=1, ceil_mode=False)\n",
            "  (conv2_HLA): Conv2d(16, 32, kernel_size=(9, 1), stride=(1, 1))\n",
            "  (maxpool2_HLA): MaxPool2d(kernel_size=(2, 1), stride=(2, 1), padding=0, dilation=1, ceil_mode=False)\n",
            "  (L_in): Linear(in_features=256, out_features=128, bias=False)\n",
            "  (drop_out): Dropout(p=0.2, inplace=False)\n",
            "  (L_out): Linear(in_features=128, out_features=1, bias=False)\n",
            ")\n"
          ]
        }
      ],
      "source": [
        "\n",
        "# hyperameters of the model\n",
        "\n",
        "peptide_input_channels = peptide_train.shape[1]\n",
        "peptide_input_height = peptide_train.shape[2]\n",
        "peptide_input_width = peptide_train.shape[3]\n",
        "\n",
        "hla_input_channels = HLA_train.shape[1]\n",
        "hla_input_height = HLA_train.shape[2]\n",
        "hla_input_width = HLA_train.shape[3]\n",
        "\n",
        "# define network\n",
        "class Net(nn.Module):\n",
        "\n",
        "    def __init__(self):\n",
        "        super(Net, self).__init__()\n",
        "\n",
        "        # Convelution of peptide\n",
        "        self.conv1_peptide = Conv2d(in_channels=peptide_input_channels,\n",
        "                            out_channels=16,\n",
        "                            kernel_size=(2,12),\n",
        "                            stride=1,\n",
        "                            padding=0)\n",
        "        \n",
        "        self.BatchNorm_conv1_peptides = BatchNorm2d(16) # Output channels from the previous layer\n",
        "        self.conv2_peptide = Conv2d(in_channels=16,\n",
        "                            out_channels=32,\n",
        "                            kernel_size=(2,1),\n",
        "                            stride=1,\n",
        "                            padding=0)\n",
        "        self.BatchNorm_conv2_peptides = BatchNorm2d(32) # Output channels from the previous layer\n",
        "        self.maxpool1_peptide = nn.MaxPool2d(kernel_size=(2,1), stride=(2,1), padding=0)\n",
        "\n",
        "        # Convelution of HLA\n",
        "        self.conv1_HLA = Conv2d(in_channels=peptide_input_channels,\n",
        "                            out_channels=16,\n",
        "                            kernel_size=(15,12),\n",
        "                            stride=1,\n",
        "                            padding=0)\n",
        "        self.BatchNorm_conv1_HLA = BatchNorm2d(16) # Output channels from the previous layer\n",
        "        self.maxpool1_HLA = nn.MaxPool2d(kernel_size=(2,1), stride=(2,1), padding=0)\n",
        "        \n",
        "        self.conv2_HLA = Conv2d(in_channels=16,\n",
        "                            out_channels=32,\n",
        "                            kernel_size=(9,1),\n",
        "                            stride=1,\n",
        "                            padding=0)\n",
        "        self.BatchNorm_conv2_peptides = BatchNorm2d(32) # Output channels from the previous layer\n",
        "        self.maxpool2_HLA = nn.MaxPool2d(kernel_size=(2,1), stride=(2,1), padding=0)\n",
        "\n",
        "        # Denselayer\n",
        "        self.L_in = Linear(in_features=256,\n",
        "                            out_features=128)\n",
        "        self.drop_out = nn.Dropout(p=0.2)\n",
        "        self.L_out = Linear(in_features=128,\n",
        "                            out_features=1,\n",
        "                            bias=False)\n",
        "\n",
        "\n",
        "    def forward(self, peptide, HLA): # x.size() = [batch, channel, height, width]\n",
        "\n",
        "        # Encoding the peptide\n",
        "        peptide = self.conv1_peptide(peptide)\n",
        "        peptide = self.BatchNorm_conv1_peptides(peptide)\n",
        "        peptide = relu(peptide)\n",
        "        peptide = self.conv2_peptide(peptide)\n",
        "        peptide = self.BatchNorm_conv2_peptides(peptide)\n",
        "        peptide = relu(peptide)\n",
        "        peptide = self.maxpool1_peptide(peptide)\n",
        "        peptide = torch.flatten(peptide,start_dim=1)\n",
        "\n",
        "        # Encoding the HLA\n",
        "        HLA = self.conv1_HLA(HLA)\n",
        "        HLA = self.BatchNorm_conv1_HLA(HLA)\n",
        "        HLA = relu(HLA)\n",
        "        HLA = self.maxpool1_HLA(HLA)\n",
        "        HLA = self.conv2_HLA(HLA)\n",
        "        HLA = self.BatchNorm_conv2_peptides(HLA)\n",
        "        HLA = relu(HLA)\n",
        "        HLA = self.maxpool2_HLA(HLA)\n",
        "        HLA = torch.flatten(HLA,start_dim=1)\n",
        "\n",
        "\n",
        "        # Combining the output\n",
        "        combined_input = torch.cat((peptide, HLA), 1)\n",
        "        x = self.L_in(combined_input)\n",
        "        x = self.drop_out(x)\n",
        "        x = relu(x)\n",
        "        x = self.L_out(x)\n",
        "        x = nn.Sigmoid()(x)\n",
        "        return x\n",
        "\n",
        "net = Net()\n",
        "print(net)"
      ]
    },
    {
      "cell_type": "code",
      "execution_count": 28,
      "metadata": {
        "id": "5_FHTyCAP25T"
      },
      "outputs": [
        {
          "ename": "RuntimeError",
          "evalue": "mat1 and mat2 shapes cannot be multiplied (128x256 and 128x1)",
          "output_type": "error",
          "traceback": [
            "\u001b[0;31m---------------------------------------------------------------------------\u001b[0m",
            "\u001b[0;31mRuntimeError\u001b[0m                              Traceback (most recent call last)",
            "\u001b[0;32m/var/folders/px/wpqhk62d559gjgm0ql254vq00000gn/T/ipykernel_93823/3249527991.py\u001b[0m in \u001b[0;36m<module>\u001b[0;34m\u001b[0m\n\u001b[1;32m      3\u001b[0m \u001b[0mHLA_random\u001b[0m \u001b[0;34m=\u001b[0m \u001b[0mnp\u001b[0m\u001b[0;34m.\u001b[0m\u001b[0mrandom\u001b[0m\u001b[0;34m.\u001b[0m\u001b[0mnormal\u001b[0m\u001b[0;34m(\u001b[0m\u001b[0;36m0\u001b[0m\u001b[0;34m,\u001b[0m\u001b[0;36m1\u001b[0m\u001b[0;34m,\u001b[0m \u001b[0;34m(\u001b[0m\u001b[0;36m128\u001b[0m\u001b[0;34m,\u001b[0m \u001b[0;36m1\u001b[0m\u001b[0;34m,\u001b[0m \u001b[0;36m46\u001b[0m\u001b[0;34m,\u001b[0m \u001b[0;36m12\u001b[0m\u001b[0;34m)\u001b[0m\u001b[0;34m)\u001b[0m\u001b[0;34m.\u001b[0m\u001b[0mastype\u001b[0m\u001b[0;34m(\u001b[0m\u001b[0;34m'float32'\u001b[0m\u001b[0;34m)\u001b[0m\u001b[0;34m\u001b[0m\u001b[0;34m\u001b[0m\u001b[0m\n\u001b[1;32m      4\u001b[0m \u001b[0mHLA_random\u001b[0m \u001b[0;34m=\u001b[0m \u001b[0mVariable\u001b[0m\u001b[0;34m(\u001b[0m\u001b[0mtorch\u001b[0m\u001b[0;34m.\u001b[0m\u001b[0mfrom_numpy\u001b[0m\u001b[0;34m(\u001b[0m\u001b[0mHLA_random\u001b[0m\u001b[0;34m)\u001b[0m\u001b[0;34m)\u001b[0m\u001b[0;34m\u001b[0m\u001b[0;34m\u001b[0m\u001b[0m\n\u001b[0;32m----> 5\u001b[0;31m \u001b[0moutput\u001b[0m \u001b[0;34m=\u001b[0m \u001b[0mnet\u001b[0m\u001b[0;34m(\u001b[0m\u001b[0mpeptide_random\u001b[0m\u001b[0;34m,\u001b[0m\u001b[0mHLA_random\u001b[0m\u001b[0;34m)\u001b[0m\u001b[0;34m\u001b[0m\u001b[0;34m\u001b[0m\u001b[0m\n\u001b[0m",
            "\u001b[0;32m/opt/homebrew/Caskroom/miniforge/base/lib/python3.9/site-packages/torch/nn/modules/module.py\u001b[0m in \u001b[0;36m_call_impl\u001b[0;34m(self, *input, **kwargs)\u001b[0m\n\u001b[1;32m   1100\u001b[0m         if not (self._backward_hooks or self._forward_hooks or self._forward_pre_hooks or _global_backward_hooks\n\u001b[1;32m   1101\u001b[0m                 or _global_forward_hooks or _global_forward_pre_hooks):\n\u001b[0;32m-> 1102\u001b[0;31m             \u001b[0;32mreturn\u001b[0m \u001b[0mforward_call\u001b[0m\u001b[0;34m(\u001b[0m\u001b[0;34m*\u001b[0m\u001b[0minput\u001b[0m\u001b[0;34m,\u001b[0m \u001b[0;34m**\u001b[0m\u001b[0mkwargs\u001b[0m\u001b[0;34m)\u001b[0m\u001b[0;34m\u001b[0m\u001b[0;34m\u001b[0m\u001b[0m\n\u001b[0m\u001b[1;32m   1103\u001b[0m         \u001b[0;31m# Do not call functions when jit is used\u001b[0m\u001b[0;34m\u001b[0m\u001b[0;34m\u001b[0m\u001b[0m\n\u001b[1;32m   1104\u001b[0m         \u001b[0mfull_backward_hooks\u001b[0m\u001b[0;34m,\u001b[0m \u001b[0mnon_full_backward_hooks\u001b[0m \u001b[0;34m=\u001b[0m \u001b[0;34m[\u001b[0m\u001b[0;34m]\u001b[0m\u001b[0;34m,\u001b[0m \u001b[0;34m[\u001b[0m\u001b[0;34m]\u001b[0m\u001b[0;34m\u001b[0m\u001b[0;34m\u001b[0m\u001b[0m\n",
            "\u001b[0;32m/var/folders/px/wpqhk62d559gjgm0ql254vq00000gn/T/ipykernel_93823/4046433298.py\u001b[0m in \u001b[0;36mforward\u001b[0;34m(self, peptide, HLA)\u001b[0m\n\u001b[1;32m     87\u001b[0m         \u001b[0mx\u001b[0m \u001b[0;34m=\u001b[0m \u001b[0mself\u001b[0m\u001b[0;34m.\u001b[0m\u001b[0mdrop_out\u001b[0m\u001b[0;34m(\u001b[0m\u001b[0mx\u001b[0m\u001b[0;34m)\u001b[0m\u001b[0;34m\u001b[0m\u001b[0;34m\u001b[0m\u001b[0m\n\u001b[1;32m     88\u001b[0m         \u001b[0mx\u001b[0m \u001b[0;34m=\u001b[0m \u001b[0mrelu\u001b[0m\u001b[0;34m(\u001b[0m\u001b[0mx\u001b[0m\u001b[0;34m)\u001b[0m\u001b[0;34m\u001b[0m\u001b[0;34m\u001b[0m\u001b[0m\n\u001b[0;32m---> 89\u001b[0;31m         \u001b[0mx\u001b[0m \u001b[0;34m=\u001b[0m \u001b[0mself\u001b[0m\u001b[0;34m.\u001b[0m\u001b[0mL_out\u001b[0m\u001b[0;34m(\u001b[0m\u001b[0mcombined_input\u001b[0m\u001b[0;34m)\u001b[0m\u001b[0;34m\u001b[0m\u001b[0;34m\u001b[0m\u001b[0m\n\u001b[0m\u001b[1;32m     90\u001b[0m         \u001b[0mx\u001b[0m \u001b[0;34m=\u001b[0m \u001b[0mnn\u001b[0m\u001b[0;34m.\u001b[0m\u001b[0mSigmoid\u001b[0m\u001b[0;34m(\u001b[0m\u001b[0;34m)\u001b[0m\u001b[0;34m(\u001b[0m\u001b[0mx\u001b[0m\u001b[0;34m)\u001b[0m\u001b[0;34m\u001b[0m\u001b[0;34m\u001b[0m\u001b[0m\n\u001b[1;32m     91\u001b[0m         \u001b[0;32mreturn\u001b[0m \u001b[0mx\u001b[0m\u001b[0;34m\u001b[0m\u001b[0;34m\u001b[0m\u001b[0m\n",
            "\u001b[0;32m/opt/homebrew/Caskroom/miniforge/base/lib/python3.9/site-packages/torch/nn/modules/module.py\u001b[0m in \u001b[0;36m_call_impl\u001b[0;34m(self, *input, **kwargs)\u001b[0m\n\u001b[1;32m   1100\u001b[0m         if not (self._backward_hooks or self._forward_hooks or self._forward_pre_hooks or _global_backward_hooks\n\u001b[1;32m   1101\u001b[0m                 or _global_forward_hooks or _global_forward_pre_hooks):\n\u001b[0;32m-> 1102\u001b[0;31m             \u001b[0;32mreturn\u001b[0m \u001b[0mforward_call\u001b[0m\u001b[0;34m(\u001b[0m\u001b[0;34m*\u001b[0m\u001b[0minput\u001b[0m\u001b[0;34m,\u001b[0m \u001b[0;34m**\u001b[0m\u001b[0mkwargs\u001b[0m\u001b[0;34m)\u001b[0m\u001b[0;34m\u001b[0m\u001b[0;34m\u001b[0m\u001b[0m\n\u001b[0m\u001b[1;32m   1103\u001b[0m         \u001b[0;31m# Do not call functions when jit is used\u001b[0m\u001b[0;34m\u001b[0m\u001b[0;34m\u001b[0m\u001b[0m\n\u001b[1;32m   1104\u001b[0m         \u001b[0mfull_backward_hooks\u001b[0m\u001b[0;34m,\u001b[0m \u001b[0mnon_full_backward_hooks\u001b[0m \u001b[0;34m=\u001b[0m \u001b[0;34m[\u001b[0m\u001b[0;34m]\u001b[0m\u001b[0;34m,\u001b[0m \u001b[0;34m[\u001b[0m\u001b[0;34m]\u001b[0m\u001b[0;34m\u001b[0m\u001b[0;34m\u001b[0m\u001b[0m\n",
            "\u001b[0;32m/opt/homebrew/Caskroom/miniforge/base/lib/python3.9/site-packages/torch/nn/modules/linear.py\u001b[0m in \u001b[0;36mforward\u001b[0;34m(self, input)\u001b[0m\n\u001b[1;32m    101\u001b[0m \u001b[0;34m\u001b[0m\u001b[0m\n\u001b[1;32m    102\u001b[0m     \u001b[0;32mdef\u001b[0m \u001b[0mforward\u001b[0m\u001b[0;34m(\u001b[0m\u001b[0mself\u001b[0m\u001b[0;34m,\u001b[0m \u001b[0minput\u001b[0m\u001b[0;34m:\u001b[0m \u001b[0mTensor\u001b[0m\u001b[0;34m)\u001b[0m \u001b[0;34m->\u001b[0m \u001b[0mTensor\u001b[0m\u001b[0;34m:\u001b[0m\u001b[0;34m\u001b[0m\u001b[0;34m\u001b[0m\u001b[0m\n\u001b[0;32m--> 103\u001b[0;31m         \u001b[0;32mreturn\u001b[0m \u001b[0mF\u001b[0m\u001b[0;34m.\u001b[0m\u001b[0mlinear\u001b[0m\u001b[0;34m(\u001b[0m\u001b[0minput\u001b[0m\u001b[0;34m,\u001b[0m \u001b[0mself\u001b[0m\u001b[0;34m.\u001b[0m\u001b[0mweight\u001b[0m\u001b[0;34m,\u001b[0m \u001b[0mself\u001b[0m\u001b[0;34m.\u001b[0m\u001b[0mbias\u001b[0m\u001b[0;34m)\u001b[0m\u001b[0;34m\u001b[0m\u001b[0;34m\u001b[0m\u001b[0m\n\u001b[0m\u001b[1;32m    104\u001b[0m \u001b[0;34m\u001b[0m\u001b[0m\n\u001b[1;32m    105\u001b[0m     \u001b[0;32mdef\u001b[0m \u001b[0mextra_repr\u001b[0m\u001b[0;34m(\u001b[0m\u001b[0mself\u001b[0m\u001b[0;34m)\u001b[0m \u001b[0;34m->\u001b[0m \u001b[0mstr\u001b[0m\u001b[0;34m:\u001b[0m\u001b[0;34m\u001b[0m\u001b[0;34m\u001b[0m\u001b[0m\n",
            "\u001b[0;32m/opt/homebrew/Caskroom/miniforge/base/lib/python3.9/site-packages/torch/nn/functional.py\u001b[0m in \u001b[0;36mlinear\u001b[0;34m(input, weight, bias)\u001b[0m\n\u001b[1;32m   1846\u001b[0m     \u001b[0;32mif\u001b[0m \u001b[0mhas_torch_function_variadic\u001b[0m\u001b[0;34m(\u001b[0m\u001b[0minput\u001b[0m\u001b[0;34m,\u001b[0m \u001b[0mweight\u001b[0m\u001b[0;34m,\u001b[0m \u001b[0mbias\u001b[0m\u001b[0;34m)\u001b[0m\u001b[0;34m:\u001b[0m\u001b[0;34m\u001b[0m\u001b[0;34m\u001b[0m\u001b[0m\n\u001b[1;32m   1847\u001b[0m         \u001b[0;32mreturn\u001b[0m \u001b[0mhandle_torch_function\u001b[0m\u001b[0;34m(\u001b[0m\u001b[0mlinear\u001b[0m\u001b[0;34m,\u001b[0m \u001b[0;34m(\u001b[0m\u001b[0minput\u001b[0m\u001b[0;34m,\u001b[0m \u001b[0mweight\u001b[0m\u001b[0;34m,\u001b[0m \u001b[0mbias\u001b[0m\u001b[0;34m)\u001b[0m\u001b[0;34m,\u001b[0m \u001b[0minput\u001b[0m\u001b[0;34m,\u001b[0m \u001b[0mweight\u001b[0m\u001b[0;34m,\u001b[0m \u001b[0mbias\u001b[0m\u001b[0;34m=\u001b[0m\u001b[0mbias\u001b[0m\u001b[0;34m)\u001b[0m\u001b[0;34m\u001b[0m\u001b[0;34m\u001b[0m\u001b[0m\n\u001b[0;32m-> 1848\u001b[0;31m     \u001b[0;32mreturn\u001b[0m \u001b[0mtorch\u001b[0m\u001b[0;34m.\u001b[0m\u001b[0m_C\u001b[0m\u001b[0;34m.\u001b[0m\u001b[0m_nn\u001b[0m\u001b[0;34m.\u001b[0m\u001b[0mlinear\u001b[0m\u001b[0;34m(\u001b[0m\u001b[0minput\u001b[0m\u001b[0;34m,\u001b[0m \u001b[0mweight\u001b[0m\u001b[0;34m,\u001b[0m \u001b[0mbias\u001b[0m\u001b[0;34m)\u001b[0m\u001b[0;34m\u001b[0m\u001b[0;34m\u001b[0m\u001b[0m\n\u001b[0m\u001b[1;32m   1849\u001b[0m \u001b[0;34m\u001b[0m\u001b[0m\n\u001b[1;32m   1850\u001b[0m \u001b[0;34m\u001b[0m\u001b[0m\n",
            "\u001b[0;31mRuntimeError\u001b[0m: mat1 and mat2 shapes cannot be multiplied (128x256 and 128x1)"
          ]
        }
      ],
      "source": [
        "peptide_random = np.random.normal(0,1, (128, 1, 10, 12)).astype('float32')\n",
        "peptide_random = Variable(torch.from_numpy(peptide_random))\n",
        "HLA_random = np.random.normal(0,1, (128, 1, 46, 12)).astype('float32')\n",
        "HLA_random = Variable(torch.from_numpy(HLA_random))\n",
        "output = net(peptide_random,HLA_random)"
      ]
    },
    {
      "cell_type": "code",
      "execution_count": null,
      "metadata": {
        "id": "pIK5D5v5LenO"
      },
      "outputs": [],
      "source": []
    },
    {
      "cell_type": "markdown",
      "metadata": {
        "id": "Pq8IcnuJMs34"
      },
      "source": [
        "## Creating testing and validataion datasets"
      ]
    },
    {
      "cell_type": "markdown",
      "metadata": {
        "id": "qjBK0OsZM0E2"
      },
      "source": [
        "## Training and evaluating the model"
      ]
    },
    {
      "cell_type": "code",
      "execution_count": null,
      "metadata": {
        "id": "zTgk8hKTMzRs"
      },
      "outputs": [],
      "source": [
        "import torch.optim as optim\n",
        "from sklearn.metrics import accuracy_score\n",
        "criterion = nn.MSELoss()\n",
        "optimizer = optim.Adam(net.parameters(), lr=0.00001)"
      ]
    },
    {
      "cell_type": "code",
      "execution_count": null,
      "metadata": {
        "colab": {
          "base_uri": "https://localhost:8080/"
        },
        "id": "1cksram0QDIf",
        "outputId": "9c6cccb5-41c6-4e49-bd77-313f040395f0"
      },
      "outputs": [
        {
          "ename": "NameError",
          "evalue": "name 'optimizer' is not defined",
          "output_type": "error",
          "traceback": [
            "\u001b[0;31m---------------------------------------------------------------------------\u001b[0m",
            "\u001b[0;31mNameError\u001b[0m                                 Traceback (most recent call last)",
            "\u001b[0;32m/var/folders/px/wpqhk62d559gjgm0ql254vq00000gn/T/ipykernel_93823/229802326.py\u001b[0m in \u001b[0;36m<module>\u001b[0;34m\u001b[0m\n\u001b[1;32m     28\u001b[0m     \u001b[0;32mfor\u001b[0m \u001b[0mi\u001b[0m \u001b[0;32min\u001b[0m \u001b[0mrange\u001b[0m\u001b[0;34m(\u001b[0m\u001b[0mlen\u001b[0m\u001b[0;34m(\u001b[0m\u001b[0mpeptide_train_loader\u001b[0m\u001b[0;34m)\u001b[0m\u001b[0;34m)\u001b[0m\u001b[0;34m:\u001b[0m\u001b[0;34m\u001b[0m\u001b[0;34m\u001b[0m\u001b[0m\n\u001b[1;32m     29\u001b[0m         \u001b[0;31m# zero the parameter gradients\u001b[0m\u001b[0;34m\u001b[0m\u001b[0;34m\u001b[0m\u001b[0m\n\u001b[0;32m---> 30\u001b[0;31m         \u001b[0moptimizer\u001b[0m\u001b[0;34m.\u001b[0m\u001b[0mzero_grad\u001b[0m\u001b[0;34m(\u001b[0m\u001b[0;34m)\u001b[0m\u001b[0;34m\u001b[0m\u001b[0;34m\u001b[0m\u001b[0m\n\u001b[0m\u001b[1;32m     31\u001b[0m         \u001b[0;31m# forward + backward + optimize\u001b[0m\u001b[0;34m\u001b[0m\u001b[0;34m\u001b[0m\u001b[0m\n\u001b[1;32m     32\u001b[0m         \u001b[0moutputs\u001b[0m \u001b[0;34m=\u001b[0m \u001b[0mnet\u001b[0m\u001b[0;34m(\u001b[0m\u001b[0mpeptide_train_loader\u001b[0m\u001b[0;34m[\u001b[0m\u001b[0mi\u001b[0m\u001b[0;34m]\u001b[0m\u001b[0;34m,\u001b[0m\u001b[0mHLA_train_loader\u001b[0m\u001b[0;34m[\u001b[0m\u001b[0mi\u001b[0m\u001b[0;34m]\u001b[0m\u001b[0;34m)\u001b[0m\u001b[0;34m\u001b[0m\u001b[0;34m\u001b[0m\u001b[0m\n",
            "\u001b[0;31mNameError\u001b[0m: name 'optimizer' is not defined"
          ]
        }
      ],
      "source": [
        "batch_size = 32\n",
        "epochs = 100\n",
        "\n",
        "peptide_train_loader = list(DataLoader(peptide_train,batch_size=batch_size))\n",
        "HLA_train_loader = list(DataLoader(HLA_train,batch_size=batch_size))\n",
        "label_train_loader = list(DataLoader(label_train,batch_size=batch_size))\n",
        "\n",
        "peptide_val_loader = list(DataLoader(peptide_val,batch_size=batch_size))\n",
        "HLA_val_loader = list(DataLoader(HLA_val,batch_size=batch_size))\n",
        "label_val_loader = list(DataLoader(label_val,batch_size=batch_size))\n",
        "\n",
        "losses = []\n",
        "cur_loss = 0\n",
        "\n",
        "train_acc = []\n",
        "valid_acc = []\n",
        "\n",
        "train_prediction_pr_epoch = []\n",
        "train_labels_pr_epoch = []\n",
        "\n",
        "valid_prediction_pr_epoch = []\n",
        "valid_labels_pr_epoch = []\n",
        "\n",
        "for epoch in range(epochs):\n",
        "    ## Firstly the model is trained\n",
        "    cur_loss = 0\n",
        "    net.train()\n",
        "    for i in range(len(peptide_train_loader)):\n",
        "        # zero the parameter gradients\n",
        "        optimizer.zero_grad()\n",
        "        # forward + backward + optimize\n",
        "        outputs = net(peptide_train_loader[i],HLA_train_loader[i])\n",
        "        batch_loss = criterion(outputs, label_train_loader[i])\n",
        "        batch_loss.backward()\n",
        "        optimizer.step()\n",
        "        cur_loss += batch_loss\n",
        "    losses.append(cur_loss / len(peptide_train_loader))\n",
        "\n",
        "\n",
        "    ## The model is then evalauted on both the training and valdition dataset\n",
        "    net.eval()\n",
        "    with torch.no_grad():\n",
        "        train_preds, train_targs = [], []\n",
        "        train_preds_labels = []\n",
        "        \n",
        "        for j in range(len(peptide_train_loader)):\n",
        "            output_train = net(peptide_train_loader[j],HLA_train_loader[j])\n",
        "            train_targs += list(label_train_loader[j].numpy())\n",
        "            train_preds += list(output_train.data.numpy())\n",
        "            train_preds_labels += [np.array([round(x[0],0)],dtype='float32') for x in output_train.data.numpy()]\n",
        "\n",
        "        val_preds, val_targs = [], []\n",
        "        val_preds_labels = []\n",
        "        for k in range(len(peptide_val_loader)):\n",
        "            output_val = net(peptide_val_loader[k],HLA_val_loader[k])\n",
        "            val_targs += list(label_val_loader[k].numpy())\n",
        "            val_preds_labels += [np.array([round(x[0],0)],dtype='float32') for x in output_val.data.numpy()]\n",
        "            val_preds += list(output.data.numpy())\n",
        "    \n",
        "    train_acc_cur = accuracy_score(train_targs, train_preds_labels)\n",
        "    valid_acc_cur = accuracy_score(val_targs, val_preds_labels)\n",
        "    train_acc.append(train_acc_cur)\n",
        "    valid_acc.append(valid_acc_cur)\n",
        "\n",
        "    train_prediction_pr_epoch.append(train_preds)\n",
        "    train_labels_pr_epoch.append(train_targs)\n",
        "\n",
        "    valid_prediction_pr_epoch.append(val_preds)\n",
        "    valid_labels_pr_epoch.append(val_targs)\n",
        "    \n",
        "    if epoch % 10 == 0:\n",
        "        print(\"Epoch %2i : Train Loss %f , Train acc %f, Valid acc %f\" % (\n",
        "                epoch+1, losses[-1], train_acc_cur, valid_acc_cur))\n"
      ]
    },
    {
      "cell_type": "code",
      "execution_count": null,
      "metadata": {
        "colab": {
          "base_uri": "https://localhost:8080/",
          "height": 297
        },
        "id": "s_chlCRnXKGh",
        "outputId": "142a89f2-ba3f-4830-eb75-d782c84fb621"
      },
      "outputs": [
        {
          "data": {
            "text/plain": [
              "(Text(0.5, 0, 'epochs'), Text(0, 0.5, 'Acc'))"
            ]
          },
          "execution_count": 12,
          "metadata": {},
          "output_type": "execute_result"
        },
        {
          "data": {
            "image/png": "[encoded data removed]",
            "text/plain": [
              "<Figure size 432x288 with 1 Axes>"
            ]
          },
          "metadata": {
            "needs_background": "light"
          },
          "output_type": "display_data"
        }
      ],
      "source": [
        "epoch = np.arange(len(train_acc))\n",
        "plt.figure()\n",
        "plt.plot(epoch, train_acc, 'r', epoch, valid_acc, 'b')\n",
        "plt.legend(['Train Accucary','Validation Accuracy'])\n",
        "plt.xlabel('epochs'), plt.ylabel('Acc')"
      ]
    },
    {
      "cell_type": "code",
      "execution_count": null,
      "metadata": {
        "id": "G4kBdrpadEVM"
      },
      "outputs": [],
      "source": [
        "val_predictions = np.array(valid_prediction_pr_epoch)\n",
        "val_labels = np.array(valid_labels_pr_epoch)\n",
        "val_predictions = val_predictions.reshape(val_predictions.shape[0],val_predictions.shape[1])\n",
        "val_labels = val_labels.reshape(val_labels.shape[0],val_labels.shape[1])"
      ]
    },
    {
      "cell_type": "code",
      "execution_count": null,
      "metadata": {
        "colab": {
          "base_uri": "https://localhost:8080/",
          "height": 295
        },
        "id": "zvEBfV7SHpW2",
        "outputId": "10cce82b-a5fc-4bd5-8d5d-a506dcbafbf9"
      },
      "outputs": [
        {
          "data": {
            "image/png": "[encoded data removed]",
            "text/plain": [
              "<Figure size 432x288 with 1 Axes>"
            ]
          },
          "metadata": {
            "needs_background": "light"
          },
          "output_type": "display_data"
        }
      ],
      "source": [
        "import sklearn.metrics as metrics\n",
        "import matplotlib.pyplot as plt\n",
        "\n",
        "best_epoch_model = np.argmax(valid_acc)\n",
        "fpr, tpr, threshold = metrics.roc_curve(val_labels[best_epoch_model],val_predictions[best_epoch_model])\n",
        "roc_auc = metrics.auc(fpr, tpr)\n",
        "plt.title('Receiver Operating Characteristic')\n",
        "plt.plot(fpr, tpr, 'b', label = 'AUC = %0.2f' % roc_auc)\n",
        "plt.legend(loc = 'lower right')\n",
        "plt.plot([0, 1], [0, 1],'r--')\n",
        "plt.xlim([0, 1])\n",
        "plt.ylim([0, 1])\n",
        "plt.ylabel('True Positive Rate')\n",
        "plt.xlabel('False Positive Rate')\n",
        "plt.show()"
      ]
    },
    {
      "cell_type": "code",
      "execution_count": null,
      "metadata": {},
      "outputs": [
        {
          "name": "stdout",
          "output_type": "stream",
          "text": [
            "0.7805486284289277\n",
            "0.34036487\n"
          ]
        }
      ],
      "source": [
        "max = 0\n",
        "max_threshold = 0\n",
        "for i in range(len(threshold)):\n",
        "    score = accuracy_score([1 if x>=threshold[i] else 0 for x in val_predictions[best_epoch_model]],val_labels[best_epoch_model])\n",
        "    if score > max:\n",
        "        max = score\n",
        "        max_threshold = threshold[i]\n",
        "print(max)\n",
        "print(max_threshold)"
      ]
    },
    {
      "cell_type": "code",
      "execution_count": null,
      "metadata": {
        "colab": {
          "base_uri": "https://localhost:8080/",
          "height": 295
        },
        "id": "3lQfU7BHNGke",
        "outputId": "6358978b-93f0-4ef9-a6b3-d3995399e87b"
      },
      "outputs": [
        {
          "data": {
            "image/png": "[encoded data removed]",
            "text/plain": [
              "<Figure size 432x288 with 1 Axes>"
            ]
          },
          "metadata": {
            "needs_background": "light"
          },
          "output_type": "display_data"
        }
      ],
      "source": [
        "from sklearn.metrics import precision_recall_curve\n",
        "precision, recall, thresholds = precision_recall_curve(val_labels[best_epoch_model],val_predictions[best_epoch_model])\n",
        "roc_auc = metrics.auc(recall, precision)\n",
        "plt.title('Precision-Recall plot')\n",
        "plt.plot(recall, precision, 'b', label = 'AUCpr = %0.2f' % roc_auc)\n",
        "plt.legend(loc = 'lower right')\n",
        "plt.xlim([0, 1])\n",
        "plt.ylim([0, 1])\n",
        "plt.ylabel('Precission')\n",
        "plt.xlabel('Recall')\n",
        "plt.show()\n"
      ]
    },
    {
      "cell_type": "code",
      "execution_count": null,
      "metadata": {
        "id": "UmbpQciBNY_J"
      },
      "outputs": [
        {
          "data": {
            "text/plain": [
              "(array([0., 0., 0., 0., 0., 0., 0., 0., 0., 0., 0., 0., 0., 0., 0., 0., 0.,\n",
              "        0., 0., 0., 0., 0., 0., 0., 0., 0., 0., 0., 0., 0., 0., 0., 0., 0.,\n",
              "        0., 0., 0., 0., 0., 0., 0., 0., 0., 0., 0., 0., 0., 0., 0., 0., 0.,\n",
              "        0., 0., 0., 0., 0., 0., 0., 0., 0., 0., 0., 0., 0., 0., 0., 0., 0.,\n",
              "        0., 0., 0., 0., 0., 0., 0., 0., 0., 0., 0., 0., 0., 0., 0., 0., 0.,\n",
              "        0., 0., 0., 0., 0., 0., 0., 0., 0., 0., 0., 0., 0., 0., 0., 0., 0.,\n",
              "        0., 0., 0., 0., 0., 0., 0., 0., 0., 0., 0., 0., 0., 0., 0., 0., 0.,\n",
              "        0., 0., 0., 0., 0., 0., 0., 0., 0., 0., 0., 0., 0., 0., 0., 0., 0.,\n",
              "        0., 0., 0., 0., 0., 0., 0., 0., 0., 0., 0., 0., 0., 0., 0., 0., 0.,\n",
              "        0., 0., 0., 0., 0., 0., 0., 0., 0., 0., 0., 0., 0., 0., 0., 0., 0.,\n",
              "        0., 0., 0., 0., 0., 0., 0., 0., 0., 0., 0., 0., 0., 0., 0., 0., 0.,\n",
              "        0., 0., 0., 0., 0., 0., 0., 0., 0., 0., 0., 0., 0., 0., 0., 0., 0.,\n",
              "        0., 0., 0., 0., 0., 0., 0., 0., 0., 0., 0., 0., 0., 0., 0., 0., 0.,\n",
              "        0., 0., 0., 0., 0., 0., 0., 0., 0., 0., 0., 0., 0., 0., 0., 0., 0.,\n",
              "        0., 0., 0., 0., 0., 0., 0., 0., 0., 0., 0., 0., 0., 0., 0., 0., 0.,\n",
              "        0., 0., 0., 0., 0., 0., 0., 0., 0., 0., 0., 0., 0., 0., 0., 0., 0.,\n",
              "        0., 0., 0., 0., 0., 0., 0., 0., 0., 0., 0., 0., 0., 0., 0., 0., 0.,\n",
              "        0., 0., 0., 0., 0., 0., 0., 0., 0., 0., 0., 0., 0., 0., 0., 0., 0.,\n",
              "        0., 0., 0., 0., 0., 0., 0., 0., 0., 0., 0., 0., 0., 0., 0., 0., 0.,\n",
              "        0., 0., 0., 0., 0., 0., 0., 0., 0., 0., 0., 0., 0., 0., 0., 0., 0.,\n",
              "        0., 0., 0., 0., 0., 0., 0., 0., 0., 0., 0., 0., 0., 0., 0., 0., 0.,\n",
              "        0., 0., 0., 0., 0., 0., 0., 0., 0., 0., 0., 0., 0., 0., 0., 0., 0.,\n",
              "        0., 0., 0., 0., 0., 0., 0., 0., 0., 0., 0., 0., 0., 0., 0., 0., 0.,\n",
              "        0., 0., 0., 0., 0., 0., 0., 0., 0., 0., 0., 0., 0., 0., 0., 0., 0.,\n",
              "        0., 0., 1., 1., 1., 1., 1., 1., 1., 1., 1., 1., 1., 1., 1., 1., 1.,\n",
              "        1., 1., 1., 1., 1., 1., 1., 1., 1., 1., 1., 1., 1., 1., 1., 1., 1.,\n",
              "        1., 1., 1., 1., 1., 1., 1., 1., 1., 1., 1., 1., 1., 1., 1., 1., 1.,\n",
              "        1., 1., 1., 1., 1., 1., 1., 1., 1., 1., 1., 1., 1., 1., 1., 1., 1.,\n",
              "        1., 1., 1., 1., 1., 1., 1., 1., 1., 1., 1., 1., 1., 1., 1., 1., 1.,\n",
              "        1., 1., 1., 1., 1., 1., 1., 1., 1., 1., 1., 1., 1., 1., 1., 1., 1.,\n",
              "        1., 1., 1., 1., 1., 1., 1., 1., 1., 1., 1., 1., 1., 1., 1., 1., 1.,\n",
              "        1., 1., 1., 1., 1., 1., 1., 1., 1., 1., 1., 1., 1., 1., 1., 1., 1.,\n",
              "        1., 1., 1., 1., 1., 1., 1., 1., 1., 1., 1., 1., 1., 1., 1., 1., 1.,\n",
              "        1., 1., 1., 1., 1., 1., 1., 1., 1., 1., 1., 1., 1., 1., 1., 1., 1.,\n",
              "        1., 1., 1., 1., 1., 1., 1., 1., 1., 1., 1., 1., 1., 1., 1., 1., 1.,\n",
              "        1., 1., 1., 1., 1., 1., 1., 1., 1., 1., 1., 1., 1., 1., 1., 1., 1.,\n",
              "        1., 1., 1., 1., 1., 1., 1., 1., 1., 1., 1., 1., 1., 1., 1., 1., 1.,\n",
              "        1., 1., 1., 1., 1., 1., 1., 1., 1., 1., 1., 1., 1., 1., 1., 1., 1.,\n",
              "        1., 1., 1., 1., 1., 1., 1., 1., 1., 1., 1., 1., 1., 1., 1., 1., 1.,\n",
              "        1., 1., 1., 1., 1., 1., 1., 1., 1., 1., 1., 1., 1., 1., 1., 1., 1.,\n",
              "        1., 1., 1., 1., 1., 1., 1., 1., 1., 1., 1., 1., 1., 1., 1., 1., 1.,\n",
              "        1., 1., 1., 1., 1., 1., 1., 1., 1., 1., 1., 1., 1., 1., 1., 1., 1.,\n",
              "        1., 1., 1., 1., 1., 1., 1., 1., 1., 1., 1., 1., 1., 1., 1., 1., 1.,\n",
              "        1., 1., 1., 1., 1., 1., 1., 1., 1., 1., 1., 1., 1., 1., 1., 1., 1.,\n",
              "        1., 1., 1., 1., 1., 1., 1., 1., 1., 1., 1., 1., 1., 1., 1., 1., 1.,\n",
              "        1., 1., 1., 1., 1., 1., 1., 1., 1., 1., 1., 1., 1., 1., 1., 1., 1.,\n",
              "        1., 1., 1., 1., 1., 1., 1., 1., 1., 1., 1., 1., 1., 1., 1., 1., 1.,\n",
              "        1., 1., 1.], dtype=float32),\n",
              " array([0.23981714, 0.1842895 , 0.18739742, 0.2474093 , 0.19911578,\n",
              "        0.25763407, 0.5712889 , 0.18393421, 0.16922376, 0.21197203,\n",
              "        0.19222651, 0.19396222, 0.15944055, 0.18362638, 0.18213874,\n",
              "        0.19946039, 0.19808434, 0.22042923, 0.37943983, 0.24474587,\n",
              "        0.25319523, 0.20433828, 0.1903438 , 0.42207602, 0.21539529,\n",
              "        0.20452453, 0.23184012, 0.22084634, 0.20596634, 0.1719995 ,\n",
              "        0.20164415, 0.221161  , 0.19433758, 0.23237635, 0.23139603,\n",
              "        0.17046756, 0.23263706, 0.23092043, 0.21658196, 0.22654459,\n",
              "        0.21126044, 0.20291848, 0.20874599, 0.19709136, 0.2515072 ,\n",
              "        0.26650354, 0.21447562, 0.44756702, 0.24722345, 0.22620076,\n",
              "        0.32381415, 0.22710799, 0.24931589, 0.17427662, 0.19075818,\n",
              "        0.21288325, 0.19240163, 0.20012772, 0.25591406, 0.23703824,\n",
              "        0.20509085, 0.1996287 , 0.26078066, 0.25566402, 0.18451677,\n",
              "        0.28009975, 0.33306983, 0.20422836, 0.23672853, 0.23855323,\n",
              "        0.23690058, 0.19741398, 0.16989899, 0.22986901, 0.16415654,\n",
              "        0.29250896, 0.23396735, 0.24929823, 0.21498588, 0.21069442,\n",
              "        0.21931614, 0.18768391, 0.19124503, 0.21002708, 0.26657715,\n",
              "        0.16724719, 0.20394495, 0.20622103, 0.2520067 , 0.28200102,\n",
              "        0.25433174, 0.19859825, 0.23141392, 0.231944  , 0.20580672,\n",
              "        0.24563631, 0.21478136, 0.16385257, 0.25032943, 0.18351565,\n",
              "        0.20117581, 0.22931308, 0.22875838, 0.22591443, 0.2640654 ,\n",
              "        0.2198496 , 0.24149263, 0.18369322, 0.26353768, 0.28566188,\n",
              "        0.24841748, 0.18361191, 0.25399756, 0.25440603, 0.3457397 ,\n",
              "        0.22202294, 0.35654947, 0.21461262, 0.17380556, 0.20272997,\n",
              "        0.25436437, 0.20028579, 0.21429466, 0.22283804, 0.22212858,\n",
              "        0.21327549, 0.1484113 , 0.21836281, 0.20462088, 0.228559  ,\n",
              "        0.32958975, 0.2075984 , 0.20048153, 0.2169523 , 0.27309996,\n",
              "        0.27503178, 0.22064345, 0.21137425, 0.1801315 , 0.23388387,\n",
              "        0.24608551, 0.27210367, 0.22677028, 0.23058209, 0.31557587,\n",
              "        0.20328474, 0.22257821, 0.21650296, 0.25794297, 0.25938287,\n",
              "        0.22940478, 0.23044305, 0.23137704, 0.28117028, 0.26454747,\n",
              "        0.18818511, 0.21446535, 0.27402553, 0.2461984 , 0.2628961 ,\n",
              "        0.27583835, 0.24271736, 0.22621222, 0.22082992, 0.27359354,\n",
              "        0.2154604 , 0.22268297, 0.18359101, 0.5134955 , 0.28344458,\n",
              "        0.21403952, 0.3121772 , 0.38021857, 0.18413036, 0.1441326 ,\n",
              "        0.28668973, 0.26888078, 0.27216238, 0.22315678, 0.2497329 ,\n",
              "        0.23746428, 0.31767565, 0.26848203, 0.25227815, 0.2281077 ,\n",
              "        0.28753492, 0.41321412, 0.2229459 , 0.22047208, 0.25701085,\n",
              "        0.59204364, 0.22962245, 0.26251152, 0.25779268, 0.20312275,\n",
              "        0.25694618, 0.25458097, 0.21357171, 0.30195954, 0.28700185,\n",
              "        0.19711503, 0.32337043, 0.22839718, 0.28366983, 0.33412442,\n",
              "        0.23478729, 0.21438333, 0.2575923 , 0.27056313, 0.27248612,\n",
              "        0.2585528 , 0.23054701, 0.23691392, 0.23337133, 0.24912995,\n",
              "        0.27038836, 0.24574958, 0.21496715, 0.26861265, 0.25293761,\n",
              "        0.24648215, 0.21533328, 0.23568633, 0.40424004, 0.2521577 ,\n",
              "        0.21455647, 0.3380118 , 0.28832072, 0.18890303, 0.23111755,\n",
              "        0.24382102, 0.24092025, 0.2518846 , 0.25690418, 0.22284141,\n",
              "        0.2115096 , 0.23845778, 0.25581884, 0.3897776 , 0.27260983,\n",
              "        0.21830498, 0.36667028, 0.24397565, 0.46501487, 0.26658058,\n",
              "        0.29658905, 0.26912373, 0.28350264, 0.24909522, 0.2285764 ,\n",
              "        0.54534245, 0.19355921, 0.2213254 , 0.2374125 , 0.27107787,\n",
              "        0.21174835, 0.29947266, 0.33274302, 0.2967996 , 0.2941469 ,\n",
              "        0.45818415, 0.25839442, 0.40834752, 0.42680004, 0.5091092 ,\n",
              "        0.36675775, 0.43712303, 0.27566898, 0.21526352, 0.45123225,\n",
              "        0.28325173, 0.49837464, 0.37092996, 0.3524004 , 0.42955106,\n",
              "        0.54672176, 0.4883843 , 0.42633733, 0.4601193 , 0.4193949 ,\n",
              "        0.2409642 , 0.40420192, 0.5347536 , 0.36875185, 0.39331853,\n",
              "        0.32906505, 0.51548725, 0.30073312, 0.44987464, 0.3937626 ,\n",
              "        0.30155334, 0.45342538, 0.3610052 , 0.29884568, 0.37376726,\n",
              "        0.34520328, 0.29052964, 0.23844022, 0.31805348, 0.32826477,\n",
              "        0.3884191 , 0.6988974 , 0.3869178 , 0.2902771 , 0.41401508,\n",
              "        0.42866898, 0.3950789 , 0.36024594, 0.31756112, 0.3803866 ,\n",
              "        0.3298429 , 0.25454965, 0.34538138, 0.28186777, 0.30728704,\n",
              "        0.28477615, 0.25664675, 0.4592054 , 0.41907   , 0.37650314,\n",
              "        0.36502513, 0.41738048, 0.3067626 , 0.30165064, 0.3498576 ,\n",
              "        0.38521513, 0.39787254, 0.43544307, 0.37194982, 0.48044422,\n",
              "        0.43342286, 0.2702918 , 0.37467372, 0.37474117, 0.4284749 ,\n",
              "        0.5053854 , 0.44246295, 0.3318392 , 0.35302582, 0.39215866,\n",
              "        0.4098681 , 0.38516524, 0.40207645, 0.3634515 , 0.38749787,\n",
              "        0.31734678, 0.41842395, 0.4144262 , 0.43801498, 0.35188353,\n",
              "        0.37218758, 0.39661384, 0.43445402, 0.35172302, 0.3481238 ,\n",
              "        0.46545342, 0.40029326, 0.49815705, 0.68679696, 0.3658034 ,\n",
              "        0.410063  , 0.34815654, 0.41034856, 0.3606038 , 0.42756492,\n",
              "        0.4405069 , 0.3941093 , 0.4658115 , 0.4285184 , 0.45529252,\n",
              "        0.33762985, 0.42547387, 0.38818428, 0.4297647 , 0.42821318,\n",
              "        0.3764006 , 0.38625824, 0.40879384, 0.4128108 , 0.30030793,\n",
              "        0.48570493, 0.40582505, 0.35614142, 0.5040567 , 0.39705816,\n",
              "        0.35710362, 0.4026158 , 0.2540119 , 0.41987988, 0.3593747 ,\n",
              "        0.40290928, 0.41678455, 0.37769625, 0.3905174 , 0.32084832,\n",
              "        0.392592  , 0.34719586, 0.29683048, 0.27431285, 0.37237534,\n",
              "        0.4118227 , 0.30882   , 0.36742732, 0.30813447, 0.46462956,\n",
              "        0.5041415 , 0.46032912, 0.41569933, 0.48676002, 0.3970376 ,\n",
              "        0.5306989 , 0.35333723, 0.36911762, 0.40465465, 0.3764611 ,\n",
              "        0.38011414, 0.26392013, 0.59256554, 0.39022142, 0.4542502 ,\n",
              "        0.39523602, 0.19679156, 0.5306989 , 0.38768202, 0.59657913,\n",
              "        0.44862133, 0.43078062, 0.53417766, 0.5935748 , 0.584987  ,\n",
              "        0.45671913, 0.3718673 , 0.61241245, 0.60875595, 0.537163  ,\n",
              "        0.45712054, 0.3449505 , 0.45450416, 0.44988087, 0.40569392,\n",
              "        0.22728132, 0.5023531 , 0.37581122, 0.5232081 , 0.35937867,\n",
              "        0.42639482, 0.6321112 , 0.4287571 , 0.39178154, 0.40440935,\n",
              "        0.39146116, 0.4306532 , 0.34801993, 0.2687468 , 0.43634692,\n",
              "        0.41975135, 0.36777887, 0.2445222 , 0.63631684, 0.21242747,\n",
              "        0.41952553, 0.6014856 , 0.47541746, 0.42314   , 0.42199415,\n",
              "        0.2924598 , 0.4024285 , 0.4512672 , 0.35807216, 0.4191847 ,\n",
              "        0.388196  , 0.38626012, 0.5667255 , 0.5831809 , 0.3950634 ,\n",
              "        0.45288834, 0.4553809 , 0.40181723, 0.37703928, 0.4085581 ,\n",
              "        0.41305318, 0.51929986, 0.4068299 , 0.4010052 , 0.4399061 ,\n",
              "        0.21536425, 0.43246374, 0.34405276, 0.4108259 , 0.3660585 ,\n",
              "        0.60251737, 0.4422775 , 0.35983518, 0.41580567, 0.3906181 ,\n",
              "        0.52154636, 0.41124025, 0.4425421 , 0.4422785 , 0.61388004,\n",
              "        0.3915539 , 0.3228362 , 0.44564664, 0.44867426, 0.2519324 ,\n",
              "        0.5168946 , 0.53852093, 0.7006195 , 0.22046734, 0.20861468,\n",
              "        0.35334462, 0.5477877 , 0.5096494 , 0.4950916 , 0.3787355 ,\n",
              "        0.36789635, 0.42893788, 0.5126639 , 0.6388014 , 0.55396354,\n",
              "        0.41443586, 0.5111461 , 0.57101655, 0.3888272 , 0.54025346,\n",
              "        0.5744499 , 0.3907821 , 0.36291966, 0.34549809, 0.24528305,\n",
              "        0.529829  , 0.401342  , 0.434523  , 0.47502714, 0.35211608,\n",
              "        0.4433099 , 0.4574535 , 0.43335792, 0.3524689 , 0.4404223 ,\n",
              "        0.41549307, 0.4757423 , 0.49606863, 0.36352637, 0.5887942 ,\n",
              "        0.45450446, 0.20679073, 0.616749  , 0.46100777, 0.37500045,\n",
              "        0.35306624, 0.34418213, 0.45861563, 0.2627372 , 0.44675064,\n",
              "        0.3713026 , 0.37034667, 0.4219002 , 0.3668106 , 0.48041582,\n",
              "        0.3374121 , 0.3983497 , 0.3578138 , 0.42228624, 0.47177315,\n",
              "        0.39596632, 0.4684131 , 0.6236023 , 0.4240145 , 0.38972133,\n",
              "        0.4079381 , 0.3975251 , 0.44646388, 0.3894777 , 0.40117922,\n",
              "        0.2898473 , 0.4048109 , 0.42813516, 0.48447612, 0.45928952,\n",
              "        0.35199046, 0.4068619 , 0.37820914, 0.41888994, 0.44694462,\n",
              "        0.44972095, 0.5846412 , 0.18606739, 0.39814976, 0.3943368 ,\n",
              "        0.41293925, 0.47143412, 0.45634997, 0.45371306, 0.39360857,\n",
              "        0.5242788 , 0.47935802, 0.39142415, 0.42037523, 0.3801727 ,\n",
              "        0.3764243 , 0.40293434, 0.35889313, 0.42136064, 0.51884407,\n",
              "        0.4492205 , 0.38970467, 0.5670306 , 0.24145158, 0.3881307 ,\n",
              "        0.22894552, 0.40943447, 0.4150245 , 0.43265274, 0.39760482,\n",
              "        0.37648234, 0.5261677 , 0.44686314, 0.4738807 , 0.5675139 ,\n",
              "        0.2503923 , 0.4845449 , 0.42221245, 0.3954574 , 0.38147694,\n",
              "        0.44221368, 0.61388004, 0.45288834, 0.36341417, 0.41486728,\n",
              "        0.36228818, 0.22162673, 0.3627407 , 0.37775967, 0.70614743,\n",
              "        0.39506516, 0.4789991 , 0.4492205 , 0.53428274, 0.50173646,\n",
              "        0.37500045, 0.29850754, 0.4318217 , 0.50173646, 0.49178195,\n",
              "        0.5892402 , 0.43947992, 0.38954252, 0.40502006, 0.4661245 ,\n",
              "        0.41329536, 0.40842545, 0.39065138, 0.58979887, 0.32449892,\n",
              "        0.4506849 , 0.50847924, 0.37518203, 0.2572498 , 0.6321112 ,\n",
              "        0.37674683, 0.40085888, 0.42411956, 0.44867638, 0.40367585,\n",
              "        0.41840023, 0.40505856, 0.21855818, 0.38409883, 0.3985111 ,\n",
              "        0.3620843 , 0.46573612, 0.6702632 , 0.41416907, 0.43726423,\n",
              "        0.4092293 , 0.5017654 , 0.33468485, 0.43398392, 0.24682282,\n",
              "        0.22457165, 0.47708884, 0.36522445, 0.39960137, 0.51647836,\n",
              "        0.36043367, 0.40579072, 0.64745885, 0.36158222, 0.41322157,\n",
              "        0.58462393, 0.43456292, 0.4947699 , 0.20725086, 0.41804692,\n",
              "        0.38944602, 0.31768546, 0.24063154, 0.39743477, 0.37640497,\n",
              "        0.4050062 , 0.60007614, 0.3924246 , 0.26846105, 0.41218567,\n",
              "        0.37388635, 0.71997494, 0.36570725, 0.34036487, 0.68299884,\n",
              "        0.51284045, 0.35091302, 0.40031007, 0.43755937, 0.40637735,\n",
              "        0.43980274, 0.3945184 , 0.27318636, 0.42734492, 0.46238315,\n",
              "        0.406808  , 0.47809044, 0.38460904, 0.3884182 , 0.43024302,\n",
              "        0.47693145, 0.37372422, 0.36450395, 0.42573348, 0.25421774,\n",
              "        0.37453476, 0.4019405 , 0.4083067 , 0.4640685 , 0.37546468,\n",
              "        0.50058776, 0.38410574, 0.40277302, 0.42172498, 0.34434575,\n",
              "        0.39938268, 0.39163592, 0.35113293, 0.37790522, 0.3603084 ,\n",
              "        0.3292142 , 0.43357813, 0.3666347 , 0.34710485, 0.6225175 ,\n",
              "        0.3812406 , 0.53313994, 0.4391557 , 0.57243097, 0.5306919 ,\n",
              "        0.5872611 , 0.6383179 , 0.4336402 , 0.5617799 , 0.45242417,\n",
              "        0.32212073, 0.42221925, 0.4921119 , 0.42489126, 0.37625462,\n",
              "        0.44620582, 0.4020633 , 0.43809372, 0.4582292 , 0.43809372,\n",
              "        0.44901156, 0.48687053, 0.22720768, 0.46616647, 0.20083652,\n",
              "        0.23661475, 0.47144705, 0.3466819 , 0.7145977 , 0.4103273 ,\n",
              "        0.39964065, 0.5011934 , 0.3130869 , 0.30744785, 0.38756955,\n",
              "        0.20743479, 0.28663194, 0.45280796, 0.4133704 , 0.39383987,\n",
              "        0.24328515, 0.36790437, 0.5888621 , 0.5167856 , 0.6308003 ,\n",
              "        0.4616154 , 0.62278795, 0.4816432 , 0.41149795, 0.7210765 ,\n",
              "        0.6784066 , 0.66830444], dtype=float32))"
            ]
          },
          "execution_count": 16,
          "metadata": {},
          "output_type": "execute_result"
        }
      ],
      "source": [
        "val_labels[best_epoch_model],val_predictions[best_epoch_model]"
      ]
    },
    {
      "cell_type": "code",
      "execution_count": null,
      "metadata": {},
      "outputs": [],
      "source": []
    }
  ],
  "metadata": {
    "colab": {
      "collapsed_sections": [],
      "name": "reproduce_deep_immuno_pytorch.ipynb",
      "provenance": []
    },
    "kernelspec": {
      "display_name": "Python 3",
      "name": "python3"
    },
    "language_info": {
      "codemirror_mode": {
        "name": "ipython",
        "version": 3
      },
      "file_extension": ".py",
      "mimetype": "text/x-python",
      "name": "python",
      "nbconvert_exporter": "python",
      "pygments_lexer": "ipython3",
      "version": "3.9.9"
    }
  },
  "nbformat": 4,
  "nbformat_minor": 0
}
