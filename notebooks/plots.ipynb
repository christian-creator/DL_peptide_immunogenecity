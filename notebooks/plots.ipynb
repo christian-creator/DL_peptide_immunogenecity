{
 "cells": [
  {
   "cell_type": "markdown",
   "metadata": {},
   "source": [
    "# Very nice plots for our nice poster :)"
   ]
  },
  {
   "cell_type": "code",
   "execution_count": 2,
   "metadata": {},
   "outputs": [],
   "source": [
    "import numpy as np \n",
    "import pandas as pd\n",
    "import matplotlib.pyplot as plt"
   ]
  },
  {
   "cell_type": "code",
   "execution_count": 12,
   "metadata": {},
   "outputs": [
    {
     "data": {
      "image/png": "[encoded data removed]",
      "text/plain": [
       "<Figure size 432x288 with 1 Axes>"
      ]
     },
     "metadata": {
      "needs_background": "light"
     },
     "output_type": "display_data"
    }
   ],
   "source": [
    "\n",
    "def bar_plot(models, ax, data, colors=None, total_width=0.8, single_width=1, legend=True):\n",
    "    \"\"\"Draws a bar plot with multiple bars per data point.\"\"\"\n",
    "        # Check if colors where provided, otherwhise use the default color cycle\n",
    "    if colors is None:\n",
    "        colors = plt.rcParams['axes.prop_cycle'].by_key()['color']\n",
    "\n",
    "    # Number of bars per group\n",
    "    n_bars = len(data)\n",
    "\n",
    "    # The width of a single bar\n",
    "    bar_width = total_width / n_bars\n",
    "\n",
    "    # List containing handles for the drawn bars, used for the legend\n",
    "    bars = []\n",
    "\n",
    "    # Iterate over all data\n",
    "    for i, (name, values) in enumerate(data.items()):\n",
    "        # The offset in x direction of that bar\n",
    "        x_offset = (i - n_bars / 2) * bar_width + bar_width / 2\n",
    "\n",
    "        # Draw a bar for every value of that type\n",
    "        for x, y in enumerate(values):\n",
    "            bar = ax.bar(x + x_offset, y, width=bar_width * single_width, color=colors[i % len(colors)], edgecolor = \"black\")\n",
    "\n",
    "        # Add a handle to the last drawn bar, which we'll need for the legend\n",
    "        bars.append(bar[0])\n",
    "\n",
    "    # Draw legend if we need\n",
    "    if legend:\n",
    "        ax.legend(bars, data.keys(), loc='upper right')\n",
    "    \n",
    "    ax.set_xticks(np.arange(len(models)))\n",
    "    ax.set_xticklabels(models)\n",
    "\n",
    "\n",
    "data = {\n",
    "    \"ROC\": [0.762, 0.67, 0.725, 0.562, 0.516, 0.712],\n",
    "    \"PR\": [0.777, 0.56, 0.707, 0.551, 0.516, 0.716],\n",
    "\n",
    "}\n",
    "\n",
    "models = [ \"RNN\", \"CNN\", \"FFNN\", \"IEDB\", \"netMHCpan\",\"DeepImmuno\"]\n",
    "fig, ax = plt.subplots()\n",
    "bar_plot(models, ax, data, colors=[\"#009ca6\", \"#ef476f\"], total_width=.8, single_width=.9)\n",
    "# plt.axhline(y=0.5, color='black', linestyle='--')\n",
    "plt.tight_layout()\n",
    "plt.ylim(0.4,0.8)\n",
    "plt.xticks(rotation=45)\n",
    "plt.savefig(\"../plots/ROC_PR_barplot.png\", dpi = 300)\n",
    "plt.grid(axis=\"y\",alpha=0.6)\n",
    "plt.show()\n",
    "\n",
    "\n"
   ]
  },
  {
   "cell_type": "markdown",
   "metadata": {},
   "source": [
    "## Plotting occlusion analysis"
   ]
  },
  {
   "cell_type": "code",
   "execution_count": null,
   "metadata": {},
   "outputs": [],
   "source": [
    "occlussions_simple = [0, 2, 3, 5, 8, 4, 7, 6, 1]\n",
    "decreases_simple = [0.054027923851453295, 0.04960902531490772, 0.04069785169785173, 0.03427740410093353, 0.0336047857812564, 0.03236961395784928, 0.029088051852757753, 0.0270172027230851, 0.022235497941380324]\n",
    "std_simple = [0.016764456337610516, 0.016675661572867685, 0.024953664766016143, 0.020798546866867232, 0.02105606065479808, 0.018955887720415326, 0.02202438643299184, 0.020755729340329827, 0.015150808052680636]\n",
    "\n",
    "occlussions_pan = [0, 1, 4, 2, 5, 8, 6, 3, 9, 7]\n",
    "decreases_pan = [0.08754863421822519, 0.07788325850557737, 0.06283572174694667, 0.060447732929267715, 0.05839012893822749, 0.0565591534332198, 0.053579318058530896, 0.053070306655740924, 0.04606447038813156, 0.042538241592338044]\n",
    "std_pan = [0.01578518282976036, 0.01645888506682296, 0.02635943532649634, 0.023800070358444114, 0.026274392294935323, 0.025130846441017117, 0.026535283144795124, 0.026917007439840126, 0.02310938183744076, 0.023305932614070955]\n",
    "\n"
   ]
  },
  {
   "cell_type": "code",
   "execution_count": null,
   "metadata": {},
   "outputs": [],
   "source": []
  }
 ],
 "metadata": {
  "interpreter": {
   "hash": "40d3a090f54c6569ab1632332b64b2c03c39dcf918b08424e98f38b5ae0af88f"
  },
  "kernelspec": {
   "display_name": "Python 3.8.8 ('base')",
   "language": "python",
   "name": "python3"
  },
  "language_info": {
   "codemirror_mode": {
    "name": "ipython",
    "version": 3
   },
   "file_extension": ".py",
   "mimetype": "text/x-python",
   "name": "python",
   "nbconvert_exporter": "python",
   "pygments_lexer": "ipython3",
   "version": "3.9.9"
  },
  "orig_nbformat": 4
 },
 "nbformat": 4,
 "nbformat_minor": 2
}
