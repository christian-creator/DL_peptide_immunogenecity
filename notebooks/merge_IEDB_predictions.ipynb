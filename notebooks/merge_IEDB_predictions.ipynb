{
 "cells": [
  {
   "cell_type": "markdown",
   "metadata": {},
   "source": [
    "# Merging IEDB results with data file"
   ]
  },
  {
   "cell_type": "code",
   "execution_count": 5,
   "metadata": {},
   "outputs": [],
   "source": [
    "import pandas as pd\n",
    "import numpy as np"
   ]
  },
  {
   "cell_type": "code",
   "execution_count": 8,
   "metadata": {},
   "outputs": [],
   "source": [
    "IEDB_pred = pd.read_csv(\"../data/IEDB_predictions_IFNg_sorted.csv\")\n",
    "big_data_file = pd.read_csv(\"../data/filtered_data_IEDB_4_tested_len_9_10_full_HLA_IFNg_assay_w_parts.csv\")\n",
    "\n",
    "IEDB_pred_dict = dict()\n",
    "\n",
    "for i in range(IEDB_pred.shape[0]):\n",
    "    IEDB_pred_dict[IEDB_pred.loc[i,\"peptide\"]] = IEDB_pred.loc[i,\"score\"]\n",
    "\n",
    "prediction = []\n",
    "for j in range(big_data_file.shape[0]):\n",
    "    prediction.append(IEDB_pred_dict[big_data_file.loc[j,\"peptide\"]])\n",
    "\n",
    "\n",
    "big_data_file = big_data_file.assign(IEDB_predictions=prediction)\n",
    "\n",
    "big_data_file.to_csv(\"../data/filtered_data_IEDB_4_tested_len_9_10_full_HLA_IFNg_assay_w_parts_w_IEDB_prediction.csv\")\n"
   ]
  },
  {
   "cell_type": "code",
   "execution_count": null,
   "metadata": {},
   "outputs": [],
   "source": []
  }
 ],
 "metadata": {
  "interpreter": {
   "hash": "40d3a090f54c6569ab1632332b64b2c03c39dcf918b08424e98f38b5ae0af88f"
  },
  "kernelspec": {
   "display_name": "Python 3.8.8 ('base')",
   "language": "python",
   "name": "python3"
  },
  "language_info": {
   "codemirror_mode": {
    "name": "ipython",
    "version": 3
   },
   "file_extension": ".py",
   "mimetype": "text/x-python",
   "name": "python",
   "nbconvert_exporter": "python",
   "pygments_lexer": "ipython3",
   "version": "3.8.8"
  },
  "orig_nbformat": 4
 },
 "nbformat": 4,
 "nbformat_minor": 2
}
