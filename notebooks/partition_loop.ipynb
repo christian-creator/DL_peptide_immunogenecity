{
 "cells": [
  {
   "cell_type": "code",
   "execution_count": 89,
   "metadata": {},
   "outputs": [],
   "source": [
    "import numpy as np\n",
    "import pandas as pd\n",
    "import matplotlib.pyplot as plt\n",
    "from sklearn.metrics import auc,precision_recall_curve,roc_curve,confusion_matrix\n",
    "import os,sys\n",
    "import pickle\n",
    "from sklearn.model_selection import KFold\n",
    "from sklearn.model_selection import train_test_split\n",
    "import random\n",
    "import seaborn as sns\n",
    "np.random.seed(10)\n",
    "random.seed(10)\n"
   ]
  },
  {
   "cell_type": "markdown",
   "metadata": {},
   "source": [
    "## Creating larger file "
   ]
  },
  {
   "cell_type": "code",
   "execution_count": null,
   "metadata": {},
   "outputs": [],
   "source": [
    "# big_file = pd.read_csv(\"../data/filtered_data_IEDB_4_tested_len_9_10_full_HLA_Multi_assay_w_binding.csv\")\n",
    "\n",
    "# # add parts column with zeros all the way \n",
    "# n = big_file.shape[0]\n",
    "# empty_column = np.empty((n))\n",
    "# big_file = big_file.assign(parts=empty_column)\n",
    "\n",
    "# for file in os.listdir(\"../data/multi_assay_parts\"):\n",
    "#     print(\"started on new file\")\n",
    "#     part = int(file[-1])\n",
    "#     path_to_file = os.path.join(\"../data/multi_assay_parts\",file)\n",
    "#     data = pd.read_csv(path_to_file,sep=\"\\t\",names=[\"peptide\",\"label\",\"HLA_allele\"])\n",
    "#     for i in range(data.shape[0]):\n",
    "#         small_file_peptide = data.loc[i, \"peptide\"]\n",
    "#         small_file_hla = data.loc[i, \"HLA_allele\"]\n",
    "#         for j in range(big_file.shape[0]):\n",
    "#             peptide = big_file.loc[j,\"peptide\"]\n",
    "#             mhc = big_file.loc[j,\"HLA_allele\"]\n",
    "#             if peptide == small_file_peptide and mhc == small_file_hla:                \n",
    "#                 big_file.iloc[j,\"parts\"] = part\n",
    "#                 break\n",
    "  \n"
   ]
  },
  {
   "cell_type": "code",
   "execution_count": 37,
   "metadata": {},
   "outputs": [
    {
     "name": "stdout",
     "output_type": "stream",
     "text": [
      "7.0\n"
     ]
    }
   ],
   "source": [
    "# print(big_file.loc[133,\"parts\"])\n",
    "# big_file.to_csv(\"../data/astrids_bigfile\")"
   ]
  },
  {
   "cell_type": "markdown",
   "metadata": {},
   "source": [
    "## The Network"
   ]
  },
  {
   "cell_type": "code",
   "execution_count": 90,
   "metadata": {},
   "outputs": [],
   "source": [
    "import torch\n",
    "from torch.autograd import Variable\n",
    "from torch.nn.parameter import Parameter\n",
    "import torch.nn as nn\n",
    "import torch.nn.functional as F\n",
    "import torch.optim as optim\n",
    "import torch.nn.init as init\n",
    "from torch.utils.data import DataLoader\n",
    "\n",
    "from torch.nn import Linear, Conv2d, BatchNorm2d, MaxPool2d, Dropout2d\n",
    "from torch.nn.functional import relu, elu, relu6, sigmoid, tanh, softmax\n",
    "from torch.nn import Linear, GRU, Conv2d, Dropout, MaxPool2d, BatchNorm1d\n",
    "\n",
    "import torch.optim as optim\n",
    "from sklearn.metrics import accuracy_score,recall_score,f1_score"
   ]
  },
  {
   "cell_type": "code",
   "execution_count": 91,
   "metadata": {},
   "outputs": [],
   "source": [
    "def compute_conv_dim(dim_size,kernel_size,padding,stride):\n",
    "    return int((dim_size - kernel_size + 2 * padding) / stride + 1)\n",
    "compute_conv_dim(34,2,0,1)\n",
    "\n",
    "def initialize_weights(m):\n",
    "    if isinstance(m, nn.Conv2d):\n",
    "          nn.init.kaiming_uniform_(m.weight.data,nonlinearity='relu')\n",
    "          if m.bias is not None:\n",
    "                nn.init.constant_(m.bias.data, 0)\n",
    "    elif isinstance(m, nn.BatchNorm2d):\n",
    "          nn.init.constant_(m.weight.data, 1)\n",
    "          nn.init.constant_(m.bias.data, 0)\n",
    "    elif isinstance(m, nn.Linear):\n",
    "          nn.init.kaiming_uniform_(m.weight.data,nonlinearity='relu')\n",
    "          if m.bias is not None:\n",
    "                nn.init.constant_(m.bias.data, 0)"
   ]
  },
  {
   "cell_type": "code",
   "execution_count": 92,
   "metadata": {},
   "outputs": [
    {
     "name": "stdout",
     "output_type": "stream",
     "text": [
      "Net(\n",
      "  (L_in): Linear(in_features=529, out_features=1058, bias=True)\n",
      "  (batchnorm1): BatchNorm1d(1058, eps=1e-05, momentum=0.1, affine=True, track_running_stats=True)\n",
      "  (drop_out1): Dropout(p=0.4, inplace=False)\n",
      "  (L_2): Linear(in_features=1058, out_features=750, bias=True)\n",
      "  (batchnorm2): BatchNorm1d(750, eps=1e-05, momentum=0.1, affine=True, track_running_stats=True)\n",
      "  (drop_out2): Dropout(p=0.4, inplace=False)\n",
      "  (L_out): Linear(in_features=750, out_features=2, bias=True)\n",
      ")\n"
     ]
    }
   ],
   "source": [
    "# define network\n",
    "class Net(nn.Module):\n",
    "\n",
    "    def __init__(self):\n",
    "        super(Net, self).__init__()\n",
    "\n",
    "        # Denselayer\n",
    "        self.L_in = Linear(in_features=529, # 528 if binding_score None, else 529\n",
    "                            out_features= 1058)\n",
    "\n",
    "        self.batchnorm1 = nn.BatchNorm1d(1058)\n",
    "        self.drop_out1 = nn.Dropout(p=0.4)\n",
    "\n",
    "        self.L_2 = Linear(in_features = 1058,\n",
    "                            out_features = 750)\n",
    "\n",
    "        self.batchnorm2 = nn.BatchNorm1d(750)\n",
    "        self.drop_out2 = nn.Dropout(p=0.4)\n",
    "\n",
    "        self.L_out = Linear(in_features = 750,\n",
    "                            out_features = 2)\n",
    "    \n",
    "    def forward(self, peptide, HLA, binding_score=None): # x.size() = [batch, channel, height, width]\n",
    "\n",
    "        peptide = torch.flatten(peptide,start_dim=1)\n",
    "\n",
    "        HLA = torch.flatten(HLA,start_dim=1)\n",
    "\n",
    "        if binding_score is None:\n",
    "            combined_input = torch.cat((peptide, HLA), 1)\n",
    "      \n",
    "        else:\n",
    "            combined_input = torch.cat((peptide, HLA,binding_score), 1)\n",
    "\n",
    "        x = self.L_in(combined_input)\n",
    "        x = relu(x)\n",
    "        x = self.batchnorm1(x)\n",
    "        x = self.drop_out1(x)\n",
    "    \n",
    "        x = self.L_2(x)\n",
    "        x = relu(x)\n",
    "        x = self.batchnorm2(x)\n",
    "        x = self.drop_out2(x)\n",
    "\n",
    "        x = self.L_out(x)\n",
    "        x = relu(x)\n",
    "        return softmax(x, dim=1)\n",
    "\n",
    "net = Net()\n",
    "net.apply(initialize_weights)\n",
    "print(net)\n",
    "\n",
    "criterion = nn.CrossEntropyLoss()\n",
    "optimizer = optim.Adam(net.parameters(), lr=0.0001,weight_decay=1e-4)"
   ]
  },
  {
   "cell_type": "code",
   "execution_count": 94,
   "metadata": {},
   "outputs": [
    {
     "data": {
      "text/plain": [
       "tensor([[0.4225, 0.5775],\n",
       "        [0.7178, 0.2822],\n",
       "        [0.8271, 0.1729],\n",
       "        [0.1688, 0.8312],\n",
       "        [0.5000, 0.5000],\n",
       "        [0.1896, 0.8104],\n",
       "        [0.1953, 0.8047],\n",
       "        [0.8599, 0.1401],\n",
       "        [0.5000, 0.5000],\n",
       "        [0.3681, 0.6319]], grad_fn=<SoftmaxBackward0>)"
      ]
     },
     "execution_count": 94,
     "metadata": {},
     "output_type": "execute_result"
    }
   ],
   "source": [
    "peptide_random = np.random.normal(0,1, (10, 1, 10, 12)).astype('float32')\n",
    "peptide_random = Variable(torch.from_numpy(peptide_random))\n",
    "HLA_random = np.random.normal(0,1, (10, 1, 34, 12)).astype('float32')\n",
    "HLA_random = Variable(torch.from_numpy(HLA_random))\n",
    "binding_random = np.random.normal(0,1, (10, 1)).astype('float32')\n",
    "binding_random = Variable(torch.from_numpy(binding_random))\n",
    "\n",
    "output = net(peptide_random,HLA_random, binding_random)\n",
    "output"
   ]
  },
  {
   "cell_type": "markdown",
   "metadata": {},
   "source": [
    "## Functions for loading data"
   ]
  },
  {
   "cell_type": "code",
   "execution_count": 95,
   "metadata": {},
   "outputs": [],
   "source": [
    "# def load_training_and_validataion_dataset(path_to_partitions,training_partitions):\n",
    "#     import random\n",
    "#     ## Training\n",
    "#     # training_partions = random.sample(range(10),train_splits)\n",
    "#     #training_partitions = [9, 0, 6, 3, 4, 8, 1, 7]\n",
    "\n",
    "#     ## Validation\n",
    "#     validation_partions = [i for i in range(10) if i not in training_partitions]\n",
    "#     partitions = []\n",
    "#     for file in os.listdir(path_to_partitions):\n",
    "#         path_to_file = os.path.join(path_to_partitions,file)\n",
    "#         data = pd.read_csv(path_to_file,sep=\"\\t\",names=[\"peptide\",\"label\",\"HLA_allele\"])\n",
    "#         partitions.append(data)\n",
    "#     training_df = pd.concat([partitions[i] for i in training_partitions])\n",
    "#     validation_df = pd.concat([partitions[i] for i in validation_partions])\n",
    "#     return training_df, validation_df,training_partitions,validation_partions\n",
    "\n",
    "# def retrieve_information_from_df(data_split,entire_df):\n",
    "#     immunogenicity = []\n",
    "#     response = []\n",
    "#     tested_subjects = []\n",
    "#     positive_subjects = []\n",
    "#     binding_scores = []\n",
    "#     for i,row in data_split.iterrows():\n",
    "#         peptide, HLA = row[\"peptide\"], row['HLA_allele']\n",
    "#         original_entry = entire_df[(entire_df['peptide']==peptide) & (entire_df['HLA_allele'] == HLA)]\n",
    "#         assert len(original_entry) == 1\n",
    "#         immunogenicity.append(float(original_entry['immunogenicity']))\n",
    "#         response.append(original_entry['Response'].values[0])\n",
    "#         tested_subjects.append(int(original_entry['tested_subjects']))\n",
    "#         positive_subjects.append(int(original_entry['positive_subjects']))\n",
    "#         binding_scores.append(float(original_entry['binding_score']))\n",
    "#     data_split['immunogenicity'] = immunogenicity\n",
    "#     data_split['response'] = response\n",
    "#     data_split['test'] = tested_subjects\n",
    "#     data_split['positive_subjects'] = positive_subjects\n",
    "#     data_split['binding_score'] = binding_scores\n",
    "#     return data_split  \n",
    "\n",
    "\n",
    "def encode_peptide_aaindex(aa_seq,aaindex_PCA,row):\n",
    "    aa_seq = list(aa_seq.upper())\n",
    "    encoded_aa_seq = []\n",
    "    PCs = aaindex_PCA.shape[1]\n",
    "    for aa in aa_seq:\n",
    "        if aa == \"X\" or aa == \"-\":\n",
    "            encoded_aa_seq.append(np.array([0 for x in range(PCs)]))\n",
    "        else:\n",
    "            try:\n",
    "                encoded_aa_seq.append(aaindex_PCA.loc[aa].to_numpy())\n",
    "            except KeyError:\n",
    "                print(row)\n",
    "                sys.exit(1)\n",
    "    return np.array(encoded_aa_seq)\n",
    "\n",
    "def encode_dataset(df,aaindex_PCA,HLA_dict,peptide_len,padding=\"right\"):\n",
    "    encoded_peptides = []\n",
    "    encoded_labels = []\n",
    "    encoded_hlas = []\n",
    "    encoded_binding_scores = []\n",
    "    for i,row in df.iterrows():\n",
    "        peptide = row[\"peptide\"]\n",
    "        HLA = HLA_dict[row[\"HLA_allele\"].replace(\":\",\"\")]\n",
    "        encoded_peptide = encode_peptide_aaindex(peptide,aaindex_PCA,row)\n",
    "        binding_score = row['binding_score']\n",
    "\n",
    "\n",
    "        # Adding padding\n",
    "        if len(encoded_peptide) < peptide_len:\n",
    "            n_added = peptide_len-len(encoded_peptide)\n",
    "            if padding == \"right\":\n",
    "                encoded_peptide = np.pad(encoded_peptide, ((0, 1), (0, 0)), 'constant')\n",
    "            elif padding == \"left\":\n",
    "                encoded_peptide = np.pad(encoded_peptide, ((1, 0), (0, 0)), 'constant')\n",
    "            elif padding == \"random\":\n",
    "                top_pad = random.choice([0,1])\n",
    "                bot_pad = 1-top_pad\n",
    "                encoded_peptide = np.pad(encoded_peptide, ((top_pad, bot_pad), (0, 0)), 'constant')\n",
    "\n",
    "\n",
    "        encoded_HLA = encode_peptide_aaindex(HLA,aaindex_PCA,row)\n",
    "        encoded_label = min(1,row[\"positive_subjects\"])\n",
    "        encoded_peptides.append(encoded_peptide)\n",
    "        encoded_hlas.append(encoded_HLA)\n",
    "        encoded_labels.append(encoded_label)\n",
    "        encoded_binding_scores.append(binding_score)\n",
    "    \n",
    "    encoded_peptides = np.array(encoded_peptides).astype('float32')\n",
    "    encoded_hlas = np.array(encoded_hlas).astype('float32')\n",
    "    encoded_labels = np.array(encoded_labels).astype('float32')\n",
    "    encoded_binding_scores = np.array(encoded_binding_scores).astype('float32')\n",
    "    return encoded_peptides, encoded_hlas, encoded_binding_scores, encoded_labels\n"
   ]
  },
  {
   "cell_type": "markdown",
   "metadata": {},
   "source": [
    "## Loading the data"
   ]
  },
  {
   "cell_type": "code",
   "execution_count": 101,
   "metadata": {},
   "outputs": [
    {
     "name": "stdout",
     "output_type": "stream",
     "text": [
      "the val and train parts\n",
      "[0, 1] [2, 3, 4, 5, 6, 7, 8, 9]\n",
      "##Encoding Training data\n",
      "##Encoding Validation data\n",
      "tensor([[[[-12.6518,   8.0643,   1.3620,  ...,   0.0991,   1.1097,  -1.9041],\n",
      "          [ -4.9305,   6.0122,   0.1855,  ...,  -4.6655,  -2.0806,   0.2797],\n",
      "          [  0.2407,   5.6597,  16.5992,  ...,  -2.2802,   0.8254,   1.6956],\n",
      "          ...,\n",
      "          [-15.2252,  -0.0479,  -4.1249,  ...,   4.7885,   2.0699,  -2.1408],\n",
      "          [ 15.9499,   8.7124,   6.1347,  ...,  -1.2636,  -2.9606,   3.4438],\n",
      "          [  0.0000,   0.0000,   0.0000,  ...,   0.0000,   0.0000,   0.0000]]],\n",
      "\n",
      "\n",
      "        [[[  8.3062,  -3.2964, -12.9949,  ...,   1.4249,  -1.4531,  -2.3217],\n",
      "          [ 17.9025,   3.2667,  11.4742,  ...,   4.8104,   7.2865,  -1.8598],\n",
      "          [-15.2252,  -0.0479,  -4.1249,  ...,   4.7885,   2.0699,  -2.1408],\n",
      "          ...,\n",
      "          [-12.6518,   8.0643,   1.3620,  ...,   0.0991,   1.1097,  -1.9041],\n",
      "          [ 17.9025,   3.2667,  11.4742,  ...,   4.8104,   7.2865,  -1.8598],\n",
      "          [  0.0000,   0.0000,   0.0000,  ...,   0.0000,   0.0000,   0.0000]]],\n",
      "\n",
      "\n",
      "        [[[ 20.6741,   5.8657,   2.7753,  ...,   1.2515,  -3.5142,   1.4236],\n",
      "          [ -4.9305,   6.0122,   0.1855,  ...,  -4.6655,  -2.0806,   0.2797],\n",
      "          [-18.3535,  -2.9340,  -0.0383,  ...,  -1.3711,   1.2736,  -1.4736],\n",
      "          ...,\n",
      "          [-12.6518,   8.0643,   1.3620,  ...,   0.0991,   1.1097,  -1.9041],\n",
      "          [ 15.9499,   8.7124,   6.1347,  ...,  -1.2636,  -2.9606,   3.4438],\n",
      "          [  0.0000,   0.0000,   0.0000,  ...,   0.0000,   0.0000,   0.0000]]],\n",
      "\n",
      "\n",
      "        ...,\n",
      "\n",
      "\n",
      "        [[[ 15.9499,   8.7124,   6.1347,  ...,  -1.2636,  -2.9606,   3.4438],\n",
      "          [ 17.5947,  -8.7970, -13.1598,  ...,  -0.7690,  -1.2251,   3.3485],\n",
      "          [-12.0581, -11.6696,  11.2784,  ...,  -1.1018,  -0.0795,   2.4250],\n",
      "          ...,\n",
      "          [ -0.3293,  -8.3485,  -4.9032,  ...,  -2.9973,   1.7985,   8.1936],\n",
      "          [ 16.1748,  -4.7605,   3.1781,  ...,  -2.9284,  -4.0516,  -6.8481],\n",
      "          [  0.0000,   0.0000,   0.0000,  ...,   0.0000,   0.0000,   0.0000]]],\n",
      "\n",
      "\n",
      "        [[[ 20.6741,   5.8657,   2.7753,  ...,   1.2515,  -3.5142,   1.4236],\n",
      "          [-12.6518,   8.0643,   1.3620,  ...,   0.0991,   1.1097,  -1.9041],\n",
      "          [ 17.9025,   3.2667,  11.4742,  ...,   4.8104,   7.2865,  -1.8598],\n",
      "          ...,\n",
      "          [-11.6939, -13.4137,   5.7947,  ...,   8.9183,  -3.3869,   2.4455],\n",
      "          [-18.3535,  -2.9340,  -0.0383,  ...,  -1.3711,   1.2736,  -1.4736],\n",
      "          [ 17.5947,  -8.7970, -13.1598,  ...,  -0.7690,  -1.2251,   3.3485]]],\n",
      "\n",
      "\n",
      "        [[[  8.3062,  -3.2964, -12.9949,  ...,   1.4249,  -1.4531,  -2.3217],\n",
      "          [ 17.9025,   3.2667,  11.4742,  ...,   4.8104,   7.2865,  -1.8598],\n",
      "          [ -7.8677,  -9.0760,   1.8277,  ...,   0.3605,  -5.9244,  -3.6539],\n",
      "          ...,\n",
      "          [ 17.9025,   3.2667,  11.4742,  ...,   4.8104,   7.2865,  -1.8598],\n",
      "          [ 17.9025,   3.2667,  11.4742,  ...,   4.8104,   7.2865,  -1.8598],\n",
      "          [  0.0000,   0.0000,   0.0000,  ...,   0.0000,   0.0000,   0.0000]]]])\n",
      "tensor([[[[  8.3062,  -3.2964, -12.9949,  ...,   1.4249,  -1.4531,  -2.3217],\n",
      "          [ 19.4411,  -0.4643,  -3.9882,  ...,  -1.3305,   3.4615,  -2.1535],\n",
      "          [  0.2407,   5.6597,  16.5992,  ...,  -2.2802,   0.8254,   1.6956],\n",
      "          ...,\n",
      "          [ -4.9305,   6.0122,   0.1855,  ...,  -4.6655,  -2.0806,   0.2797],\n",
      "          [ 17.5947,  -8.7970, -13.1598,  ...,  -0.7690,  -1.2251,   3.3485],\n",
      "          [  8.3062,  -3.2964, -12.9949,  ...,   1.4249,  -1.4531,  -2.3217]]],\n",
      "\n",
      "\n",
      "        [[[  8.3062,  -3.2964, -12.9949,  ...,   1.4249,  -1.4531,  -2.3217],\n",
      "          [ 19.4411,  -0.4643,  -3.9882,  ...,  -1.3305,   3.4615,  -2.1535],\n",
      "          [  0.2407,   5.6597,  16.5992,  ...,  -2.2802,   0.8254,   1.6956],\n",
      "          ...,\n",
      "          [ -4.9305,   6.0122,   0.1855,  ...,  -4.6655,  -2.0806,   0.2797],\n",
      "          [ 17.5947,  -8.7970, -13.1598,  ...,  -0.7690,  -1.2251,   3.3485],\n",
      "          [  8.3062,  -3.2964, -12.9949,  ...,   1.4249,  -1.4531,  -2.3217]]],\n",
      "\n",
      "\n",
      "        [[[  8.3062,  -3.2964, -12.9949,  ...,   1.4249,  -1.4531,  -2.3217],\n",
      "          [ 19.4411,  -0.4643,  -3.9882,  ...,  -1.3305,   3.4615,  -2.1535],\n",
      "          [  0.2407,   5.6597,  16.5992,  ...,  -2.2802,   0.8254,   1.6956],\n",
      "          ...,\n",
      "          [ -4.9305,   6.0122,   0.1855,  ...,  -4.6655,  -2.0806,   0.2797],\n",
      "          [ 17.5947,  -8.7970, -13.1598,  ...,  -0.7690,  -1.2251,   3.3485],\n",
      "          [  8.3062,  -3.2964, -12.9949,  ...,   1.4249,  -1.4531,  -2.3217]]],\n",
      "\n",
      "\n",
      "        ...,\n",
      "\n",
      "\n",
      "        [[[  8.3062,  -3.2964, -12.9949,  ...,   1.4249,  -1.4531,  -2.3217],\n",
      "          [-12.6518,   8.0643,   1.3620,  ...,   0.0991,   1.1097,  -1.9041],\n",
      "          [  0.2407,   5.6597,  16.5992,  ...,  -2.2802,   0.8254,   1.6956],\n",
      "          ...,\n",
      "          [ -4.9305,   6.0122,   0.1855,  ...,  -4.6655,  -2.0806,   0.2797],\n",
      "          [-16.4049,  21.5935,   1.4058,  ...,  -1.8805,  -1.3965,   0.4008],\n",
      "          [  8.3062,  -3.2964, -12.9949,  ...,   1.4249,  -1.4531,  -2.3217]]],\n",
      "\n",
      "\n",
      "        [[[  8.3062,  -3.2964, -12.9949,  ...,   1.4249,  -1.4531,  -2.3217],\n",
      "          [  8.3062,  -3.2964, -12.9949,  ...,   1.4249,  -1.4531,  -2.3217],\n",
      "          [  0.2407,   5.6597,  16.5992,  ...,  -2.2802,   0.8254,   1.6956],\n",
      "          ...,\n",
      "          [ 17.9025,   3.2667,  11.4742,  ...,   4.8104,   7.2865,  -1.8598],\n",
      "          [ 17.5947,  -8.7970, -13.1598,  ...,  -0.7690,  -1.2251,   3.3485],\n",
      "          [  8.3062,  -3.2964, -12.9949,  ...,   1.4249,  -1.4531,  -2.3217]]],\n",
      "\n",
      "\n",
      "        [[[  8.3062,  -3.2964, -12.9949,  ...,   1.4249,  -1.4531,  -2.3217],\n",
      "          [-18.3535,  -2.9340,  -0.0383,  ...,  -1.3711,   1.2736,  -1.4736],\n",
      "          [-12.6518,   8.0643,   1.3620,  ...,   0.0991,   1.1097,  -1.9041],\n",
      "          ...,\n",
      "          [ -4.9305,   6.0122,   0.1855,  ...,  -4.6655,  -2.0806,   0.2797],\n",
      "          [ 17.5947,  -8.7970, -13.1598,  ...,  -0.7690,  -1.2251,   3.3485],\n",
      "          [  8.3062,  -3.2964, -12.9949,  ...,   1.4249,  -1.4531,  -2.3217]]]])\n",
      "tensor([1, 1, 1, 0, 0, 0, 1, 0, 1, 1, 1, 0, 0, 0, 0, 1, 1, 1, 1, 1, 0, 0, 1, 1,\n",
      "        1, 1, 1, 0, 0, 1, 0, 1, 0, 1, 1, 1, 1, 0, 0, 0, 0, 1, 0, 0, 1, 1, 0, 0,\n",
      "        0, 1, 0, 0, 1, 0, 0, 1, 0, 1, 0, 0, 1, 0, 1, 1, 0, 0, 1, 1, 0, 0, 1, 1,\n",
      "        0, 0, 1, 0, 0, 1, 0, 0, 0, 1, 0, 0, 0, 0, 0, 0, 0, 0, 0, 1, 0, 0, 0, 1,\n",
      "        1, 0, 1, 1])\n",
      "tensor([[8.0795e-01],\n",
      "        [9.3891e-01],\n",
      "        [6.7220e-01],\n",
      "        [9.5684e-01],\n",
      "        [3.8849e-01],\n",
      "        [6.1668e-01],\n",
      "        [9.6376e-01],\n",
      "        [2.2295e-01],\n",
      "        [9.6384e-01],\n",
      "        [1.4084e-01],\n",
      "        [5.0400e-04],\n",
      "        [1.5654e-02],\n",
      "        [5.7390e-03],\n",
      "        [5.5424e-01],\n",
      "        [7.7533e-01],\n",
      "        [1.6637e-01],\n",
      "        [9.9169e-01],\n",
      "        [2.0880e-03],\n",
      "        [9.3021e-01],\n",
      "        [6.7617e-01],\n",
      "        [5.2754e-01],\n",
      "        [9.6732e-01],\n",
      "        [6.9927e-01],\n",
      "        [5.4937e-01],\n",
      "        [9.1939e-01],\n",
      "        [9.9753e-01],\n",
      "        [4.5189e-01],\n",
      "        [3.5336e-02],\n",
      "        [8.3738e-01],\n",
      "        [9.3673e-01],\n",
      "        [8.4611e-01],\n",
      "        [9.7455e-01],\n",
      "        [1.5000e-05],\n",
      "        [8.3393e-01],\n",
      "        [5.1532e-01],\n",
      "        [2.6049e-01],\n",
      "        [9.2226e-01],\n",
      "        [6.2952e-01],\n",
      "        [2.2521e-01],\n",
      "        [6.7654e-01],\n",
      "        [1.0889e-01],\n",
      "        [8.8865e-01],\n",
      "        [2.0410e-03],\n",
      "        [7.4940e-01],\n",
      "        [3.0692e-01],\n",
      "        [5.1904e-02],\n",
      "        [9.2260e-02],\n",
      "        [1.9642e-01],\n",
      "        [9.9405e-01],\n",
      "        [8.7382e-01],\n",
      "        [6.8835e-02],\n",
      "        [5.8211e-01],\n",
      "        [5.6095e-01],\n",
      "        [2.0973e-01],\n",
      "        [3.8468e-01],\n",
      "        [8.4171e-01],\n",
      "        [4.1770e-03],\n",
      "        [9.9268e-01],\n",
      "        [5.1580e-03],\n",
      "        [2.7167e-01],\n",
      "        [5.6180e-01],\n",
      "        [6.8284e-02],\n",
      "        [9.2866e-01],\n",
      "        [9.3300e-01],\n",
      "        [8.8521e-01],\n",
      "        [9.1847e-01],\n",
      "        [4.1237e-01],\n",
      "        [8.8959e-01],\n",
      "        [6.2743e-01],\n",
      "        [2.7079e-02],\n",
      "        [1.3441e-01],\n",
      "        [7.7674e-01],\n",
      "        [1.3104e-01],\n",
      "        [3.5663e-02],\n",
      "        [4.9963e-01],\n",
      "        [9.7471e-01],\n",
      "        [1.2573e-02],\n",
      "        [6.8989e-01],\n",
      "        [7.4855e-01],\n",
      "        [6.1948e-02],\n",
      "        [3.2618e-01],\n",
      "        [4.4987e-01],\n",
      "        [9.4009e-01],\n",
      "        [5.1293e-02],\n",
      "        [2.0408e-01],\n",
      "        [8.1571e-01],\n",
      "        [2.9019e-01],\n",
      "        [8.9125e-01],\n",
      "        [9.0098e-01],\n",
      "        [1.1674e-01],\n",
      "        [4.6526e-01],\n",
      "        [9.4581e-01],\n",
      "        [2.2955e-02],\n",
      "        [8.7306e-01],\n",
      "        [1.1000e-05],\n",
      "        [8.5788e-01],\n",
      "        [5.3513e-01],\n",
      "        [1.1445e-01],\n",
      "        [9.8668e-01],\n",
      "        [8.9450e-01]])\n"
     ]
    },
    {
     "ename": "SystemExit",
     "evalue": "1",
     "output_type": "error",
     "traceback": [
      "An exception has occurred, use %tb to see the full traceback.\n",
      "\u001b[0;31mSystemExit\u001b[0m\u001b[0;31m:\u001b[0m 1\n"
     ]
    },
    {
     "name": "stderr",
     "output_type": "stream",
     "text": [
      "/opt/anaconda3/lib/python3.8/site-packages/IPython/core/interactiveshell.py:3445: UserWarning: To exit: use 'exit', 'quit', or Ctrl-D.\n",
      "  warn(\"To exit: use 'exit', 'quit', or Ctrl-D.\", stacklevel=1)\n"
     ]
    }
   ],
   "source": [
    "# Loading the databases\n",
    "aaindex_PCA = pd.read_csv('../data/PCA_repr_aa.csv',index_col=0)\n",
    "hla_database = pd.read_csv('../data/formatted_hla2paratope_MHC_pseudo.dat', sep=' ',index_col=0)\n",
    "hla_dic = hla_database.to_dict(\"dict\")[\"pseudo\"]\n",
    "\n",
    "all_data = pd.read_csv(\"../data/filtered_data_IEDB_4_tested_len_9_10_full_HLA_Multi_assay_w_binding_w_parts.csv\")\n",
    "all_data = all_data.sample(frac=1, random_state=1).reset_index(drop=True)\n",
    "\n",
    "testing = False\n",
    "part_dict = {0:[0,1], 1:[2,3], 2:[4,5], 3:[6,7], 4:[8,9]}\n",
    "partitions = [0,1,2,3,4,5,6,7,8,9]\n",
    "\n",
    "batch_size = 100\n",
    "lst_val_accuracies = []\n",
    "lst_train_accuracies = []\n",
    "\n",
    "# net = Net()\n",
    "# net.apply(initialize_weights)\n",
    "for i in range(5):\n",
    "    if testing == False:\n",
    "\n",
    "        ## The partitions to use for training, validation ##\n",
    "        validation_parts = part_dict[i]\n",
    "        training_parts = [j for j in range(10) if j not in validation_parts]\n",
    "        print(\"the val and train parts\")\n",
    "        print(validation_parts, training_parts)\n",
    "\n",
    "        ## The actual data frames ##\n",
    "        training_df = all_data[all_data[\"parts\"].isin(training_parts)]\n",
    "        validation_df = all_data[all_data[\"parts\"].isin(validation_parts)]\n",
    "\n",
    "        ## Encoding the data frames ##\n",
    "        print(\"##Encoding Training data\")\n",
    "        train_peptides_encoded,train_HLA_encoded,train_binding_scores_encoded,train_label_encoded = encode_dataset(training_df,aaindex_PCA,hla_dic,peptide_len=10,padding=\"right\")\n",
    "        print(\"##Encoding Validation data\")\n",
    "        val_peptides_encoded,val_HLA_encoded,val_binding_scores_encoded ,val_label_encoded = encode_dataset(validation_df,aaindex_PCA,hla_dic,peptide_len=10,padding=\"right\")\n",
    "\n",
    "        ## Reshaping everything ##\n",
    "        peptide_train = train_peptides_encoded.reshape(-1,1,10,12)\n",
    "        HLA_train = train_HLA_encoded.reshape(-1,1,34,12)\n",
    "        binding_train = train_binding_scores_encoded\n",
    "        label_train = train_label_encoded\n",
    "\n",
    "        peptide_val = val_peptides_encoded.reshape(-1,1,10,12)\n",
    "        HLA_val = val_HLA_encoded.reshape(-1,1,34,12) # 46 aligned representataion and 34 if not aligned\n",
    "        binding_val = val_binding_scores_encoded\n",
    "        label_val = val_label_encoded\n",
    "\n",
    "        ## Batches for training the model ##\n",
    "\n",
    "        peptide_train_loader = list(DataLoader(peptide_train,batch_size=batch_size))\n",
    "        HLA_train_loader = list(DataLoader(HLA_train,batch_size=batch_size))\n",
    "        label_train_loader = list(DataLoader(label_train,batch_size=batch_size))\n",
    "        binding_score_train_loader = list(DataLoader(binding_train,batch_size=batch_size))\n",
    "\n",
    "        peptide_val_loader = list(DataLoader(peptide_val,batch_size=batch_size))\n",
    "        HLA_val_loader = list(DataLoader(HLA_val,batch_size=batch_size))\n",
    "        label_val_loader = list(DataLoader(label_val,batch_size=batch_size))\n",
    "        binding_score_val_loader = list(DataLoader(binding_val,batch_size=batch_size))\n",
    "\n",
    "        net = Net()\n",
    "        net.apply(initialize_weights)\n",
    "        epochs = 30\n",
    "        train_accuracies = []\n",
    "        val_accuracies = []\n",
    "        losses = []\n",
    "        all_val_targets_pr_epoch = []\n",
    "        all_val_predictions_pr_epoch = []\n",
    "        all_val_probabilities_pr_epoch = []\n",
    "        for epoch in range(epochs):\n",
    "            net.train()\n",
    "            current_loss = 0\n",
    "            for train_batch_index in range(len(peptide_train_loader)): # hvorfor var der to parenteser?\n",
    "                train_peptides = peptide_train_loader[train_batch_index]\n",
    "                train_HLA = HLA_train_loader[train_batch_index]\n",
    "                train_labels = label_train_loader[train_batch_index].long().reshape(-1)\n",
    "                train_binding_scores = binding_score_train_loader[train_batch_index].reshape(len(train_peptides),1)\n",
    "\n",
    "                # zero the parameter gradients\n",
    "                optimizer.zero_grad()\n",
    "                outputs = net(train_peptides,train_HLA, train_binding_scores) # add binding scores here if you want them\n",
    "                loss = criterion(outputs, train_labels)\n",
    "                loss.backward()\n",
    "                optimizer.step()\n",
    "                current_loss += loss.item()\n",
    "\n",
    "            # print(epoch, current_loss/batch_size)\n",
    "            losses.append(current_loss/len((peptide_train_loader)))\n",
    "\n",
    "            net.eval()\n",
    "            with torch.no_grad():\n",
    "                all_train_targets = []\n",
    "                all_predicted_train_labels = []\n",
    "                for i in range(len((peptide_train_loader))):\n",
    "                    train_peptides = peptide_train_loader[i]\n",
    "                    train_HLA = HLA_train_loader[i]\n",
    "                    train_labels = label_train_loader[i].long().reshape(-1)\n",
    "                    train_binding_scores = binding_score_train_loader[i].reshape(len(train_peptides),1)\n",
    "                    outputs = net(train_peptides,train_HLA, train_binding_scores) # add binding scores here too\n",
    "                    _,predicted_labels =  torch.max(outputs, 1)\n",
    "\n",
    "                    all_predicted_train_labels += predicted_labels.numpy().tolist()\n",
    "                    all_train_targets += train_labels.numpy().tolist()\n",
    "                \n",
    "                all_val_targets = []\n",
    "                all_predicted_val_labels = []\n",
    "                all_probabilities_val = []\n",
    "                for j in range(len((peptide_val_loader))):\n",
    "                    val_peptides = peptide_val_loader[j]\n",
    "                    val_HLA = HLA_val_loader[j]\n",
    "                    val_labels = label_val_loader[j].long().reshape(-1)\n",
    "                    val_binding_scores = binding_score_val_loader[j].reshape(len(val_peptides),1)\n",
    "                    outputs = net(val_peptides,val_HLA, val_binding_scores)   # and also add binding_scores here\n",
    "                    probability,predicted_labels =  torch.max(outputs, 1)\n",
    "                    all_predicted_val_labels += predicted_labels.numpy().tolist()\n",
    "                    all_val_targets += val_labels.numpy().tolist()\n",
    "                    all_probabilities_val += probability.numpy().tolist()\n",
    "\n",
    "            # Calculating the accuracies\n",
    "            train_accuracies.append(accuracy_score(all_train_targets,all_predicted_train_labels))\n",
    "            val_accuracies.append(accuracy_score(all_val_targets,all_predicted_val_labels))\n",
    "            # Saving the predicitons for further validation\n",
    "            all_val_targets_pr_epoch.append(all_val_targets)\n",
    "            all_val_predictions_pr_epoch.append(all_predicted_val_labels)\n",
    "            all_val_probabilities_pr_epoch.append(all_probabilities_val)\n",
    "            if epoch % 10 == 0:\n",
    "                print(\"Epoch %2i : Train Loss %f , Train acc %f, Valid acc %f\" % (epoch+1, losses[-1], train_accuracies[-1], val_accuracies[-1]))\n",
    "        \n",
    "        lst_val_accuracies.append(val_accuracies)\n",
    "        lst_train_accuracies.append(train_accuracies)\n",
    "\n",
    "    # else:\n",
    "    #     validation_parts = part_dict[i]\n",
    "    #     if i == 4:\n",
    "    #         testing_parts = part_dict[0]\n",
    "    #     else:\n",
    "    #         testing_parts = part_dict[i+1]\n",
    "    #     used_parts = validation_parts + testing_parts\n",
    "    #     training_parts = [j for j in range(10) if j not in used_parts]\n",
    "    #     training_df = all_data[all_data[\"parts\"].isin(training_parts)]\n",
    "    #     validation_df = all_data[all_data[\"parts\"].isin(validation_parts)]\n",
    "    #     testing_df = all_data[all_data[\"parts\"].isin(testing_parts)]\n",
    "\n",
    "    #     print(\"##Encoding Training data\")\n",
    "    #     train_peptides_encoded,train_HLA_encoded,train_binding_scores_encoded,train_label_encoded = encode_dataset(training_df,aaindex_PCA,hla_dic,peptide_len=10,padding=\"right\")\n",
    "    #     print(\"##Encoding Validation data\")\n",
    "    #     val_peptides_encoded,val_HLA_encoded,val_binding_scores_encoded ,val_label_encoded = encode_dataset(validation_df,aaindex_PCA,hla_dic,peptide_len=10,padding=\"right\")\n",
    "    #     print(\"##Encoding testing data\")\n",
    "    #     test_peptides_encoded,test_HLA_encoded,test_binding_scores_encoded,test_label_encoded = encode_dataset(testing_df,aaindex_PCA,hla_dic,peptide_len=10,padding=\"right\")\n",
    "\n",
    "    #     peptide_train = train_peptides_encoded.reshape(-1,1,10,12)\n",
    "    #     HLA_train = train_HLA_encoded.reshape(-1,1,34,12)\n",
    "    #     binding_train = train_binding_scores_encoded\n",
    "    #     label_train = train_label_encoded\n",
    "\n",
    "        # peptide_val = val_peptides_encoded.reshape(-1,1,10,12)\n",
    "        # HLA_val = val_HLA_encoded.reshape(-1,1,34,12) # 46 aligned representataion and 34 if not aligned\n",
    "        # binding_val = val_binding_scores_encoded\n",
    "        # label_val = val_label_encoded\n",
    "\n",
    "        # peptide_test = test_peptides_encoded.reshape(-1,1,10,12)\n",
    "        # HLA_test = test_HLA_encoded.reshape(-1,1,34,12)\n",
    "        # binding_test = test_binding_scores_encoded\n",
    "        # label_test = test_label_encoded\n"
   ]
  },
  {
   "cell_type": "code",
   "execution_count": 97,
   "metadata": {},
   "outputs": [
    {
     "data": {
      "text/plain": [
       "<function matplotlib.pyplot.show(close=None, block=None)>"
      ]
     },
     "execution_count": 97,
     "metadata": {},
     "output_type": "execute_result"
    },
    {
     "data": {
      "image/png": "[encoded data removed]",
      "text/plain": [
       "<Figure size 432x288 with 1 Axes>"
      ]
     },
     "metadata": {
      "needs_background": "light"
     },
     "output_type": "display_data"
    }
   ],
   "source": [
    "epoch = np.arange(len(lst_train_accuracies[0]))\n",
    "plt.figure()\n",
    "for i in range(5):\n",
    "    plt.plot(epoch, lst_train_accuracies[i], 'r', epoch, lst_val_accuracies[i], 'b')\n",
    "plt.title(\"A model\")\n",
    "plt.legend(['Train Accuracy','Validation Accuracy'])\n",
    "plt.xlabel('epochs'), plt.ylabel('Acc')\n",
    "plt.show\n",
    "#plt.savefig(\"../plots/FFNN_3_layers_bigthensmall_btchnrm_drpt_bndscr.png\", dpi = 400, transparent = False)"
   ]
  },
  {
   "cell_type": "code",
   "execution_count": 98,
   "metadata": {},
   "outputs": [
    {
     "data": {
      "text/plain": [
       "<function matplotlib.pyplot.show(close=None, block=None)>"
      ]
     },
     "execution_count": 98,
     "metadata": {},
     "output_type": "execute_result"
    },
    {
     "data": {
      "image/png": "[encoded data removed]",
      "text/plain": [
       "<Figure size 432x288 with 1 Axes>"
      ]
     },
     "metadata": {
      "needs_background": "light"
     },
     "output_type": "display_data"
    }
   ],
   "source": [
    "epoch = np.arange(len(lst_train_accuracies[0]))\n",
    "plt.figure()\n",
    "plt.plot(epoch, lst_train_accuracies[4], 'r', epoch, lst_val_accuracies[4], 'b')\n",
    "plt.title(\"A model\")\n",
    "plt.legend(['Train Accuracy','Validation Accuracy'])\n",
    "plt.xlabel('epochs'), plt.ylabel('Acc')\n",
    "plt.show"
   ]
  },
  {
   "cell_type": "markdown",
   "metadata": {},
   "source": [
    "## Definning the model"
   ]
  },
  {
   "cell_type": "markdown",
   "metadata": {},
   "source": [
    "## Creating testing and validataion datasets"
   ]
  },
  {
   "cell_type": "code",
   "execution_count": 8,
   "metadata": {},
   "outputs": [],
   "source": [
    "batch_size = 100\n",
    "peptide_train_loader = list(DataLoader(peptide_train,batch_size=batch_size))\n",
    "HLA_train_loader = list(DataLoader(HLA_train,batch_size=batch_size))\n",
    "label_train_loader = list(DataLoader(label_train,batch_size=batch_size))\n",
    "binding_score_train_loader = list(DataLoader(binding_train,batch_size=batch_size))\n",
    "\n",
    "\n",
    "peptide_val_loader = list(DataLoader(peptide_val,batch_size=batch_size))\n",
    "HLA_val_loader = list(DataLoader(HLA_val,batch_size=batch_size))\n",
    "label_val_loader = list(DataLoader(label_val,batch_size=batch_size))\n",
    "binding_score_val_loader = list(DataLoader(binding_val,batch_size=batch_size))"
   ]
  },
  {
   "cell_type": "markdown",
   "metadata": {},
   "source": [
    "## Training and evaluating the model"
   ]
  },
  {
   "cell_type": "code",
   "execution_count": 9,
   "metadata": {},
   "outputs": [],
   "source": [
    "import torch.optim as optim\n",
    "from sklearn.metrics import accuracy_score,recall_score,f1_score\n",
    "criterion = nn.CrossEntropyLoss()\n",
    "optimizer = optim.Adam(net.parameters(), lr=0.0001,weight_decay=1e-4)"
   ]
  },
  {
   "cell_type": "code",
   "execution_count": 10,
   "metadata": {},
   "outputs": [
    {
     "name": "stdout",
     "output_type": "stream",
     "text": [
      "Epoch  1 : Train Loss 0.620016 , Train acc 0.682357, Valid acc 0.677719\n",
      "Epoch 11 : Train Loss 0.536196 , Train acc 0.778283, Valid acc 0.708886\n",
      "Epoch 21 : Train Loss 0.508040 , Train acc 0.813017, Valid acc 0.723475\n",
      "Epoch 31 : Train Loss 0.484045 , Train acc 0.838338, Valid acc 0.724138\n",
      "Epoch 41 : Train Loss 0.467536 , Train acc 0.857328, Valid acc 0.722149\n",
      "Epoch 51 : Train Loss 0.445062 , Train acc 0.880214, Valid acc 0.726127\n",
      "Epoch 61 : Train Loss 0.432691 , Train acc 0.891089, Valid acc 0.724138\n",
      "Epoch 71 : Train Loss 0.420685 , Train acc 0.898880, Valid acc 0.724801\n",
      "Epoch 81 : Train Loss 0.408106 , Train acc 0.908132, Valid acc 0.730106\n",
      "Epoch 91 : Train Loss 0.397909 , Train acc 0.913813, Valid acc 0.734085\n"
     ]
    }
   ],
   "source": [
    "epochs = 100\n",
    "train_accuracies = []\n",
    "val_accuracies = []\n",
    "losses = []\n",
    "all_val_targets_pr_epoch = []\n",
    "all_val_predictions_pr_epoch = []\n",
    "all_val_probabilities_pr_epoch = []\n",
    "for epoch in range(epochs):\n",
    "    net.train()\n",
    "    current_loss = 0\n",
    "    for train_batch_index in range(len((peptide_train_loader))):\n",
    "        train_peptides = peptide_train_loader[train_batch_index]\n",
    "        train_HLA = HLA_train_loader[train_batch_index]\n",
    "        train_labels = label_train_loader[train_batch_index].long().reshape(-1)\n",
    "        train_binding_scores = binding_score_train_loader[train_batch_index].reshape(len(train_peptides),1)\n",
    "        # zero the parameter gradients\n",
    "        optimizer.zero_grad()\n",
    "        outputs = net(train_peptides,train_HLA, train_binding_scores) # add binding scores here if you want them\n",
    "        loss = criterion(outputs, train_labels)\n",
    "        loss.backward()\n",
    "        optimizer.step()\n",
    "        current_loss += loss.item()\n",
    "\n",
    "    # print(epoch, current_loss/batch_size)\n",
    "    losses.append(current_loss/len((peptide_train_loader)))\n",
    "\n",
    "    net.eval()\n",
    "    with torch.no_grad():\n",
    "        all_train_targets = []\n",
    "        all_predicted_train_labels = []\n",
    "        for i in range(len((peptide_train_loader))):\n",
    "            train_peptides = peptide_train_loader[i]\n",
    "            train_HLA = HLA_train_loader[i]\n",
    "            train_labels = label_train_loader[i].long().reshape(-1)\n",
    "            train_binding_scores = binding_score_train_loader[i].reshape(len(train_peptides),1)\n",
    "            outputs = net(train_peptides,train_HLA, train_binding_scores) # add binding scores here too\n",
    "            _,predicted_labels =  torch.max(outputs, 1)\n",
    "\n",
    "            all_predicted_train_labels += predicted_labels.numpy().tolist()\n",
    "            all_train_targets += train_labels.numpy().tolist()\n",
    "        \n",
    "        all_val_targets = []\n",
    "        all_predicted_val_labels = []\n",
    "        all_probabilities_val = []\n",
    "        for j in range(len((peptide_val_loader))):\n",
    "            val_peptides = peptide_val_loader[j]\n",
    "            val_HLA = HLA_val_loader[j]\n",
    "            val_labels = label_val_loader[j].long().reshape(-1)\n",
    "            val_binding_scores = binding_score_val_loader[j].reshape(len(val_peptides),1)\n",
    "            outputs = net(val_peptides,val_HLA, val_binding_scores)   # and also add binding_scores here\n",
    "            probability,predicted_labels =  torch.max(outputs, 1)\n",
    "            all_predicted_val_labels += predicted_labels.numpy().tolist()\n",
    "            all_val_targets += val_labels.numpy().tolist()\n",
    "            all_probabilities_val += probability.numpy().tolist()\n",
    "\n",
    "    # Calculating the accuracies\n",
    "    train_accuracies.append(accuracy_score(all_train_targets,all_predicted_train_labels))\n",
    "    val_accuracies.append(accuracy_score(all_val_targets,all_predicted_val_labels))\n",
    "    # Saving the predicitons for further validation\n",
    "    all_val_targets_pr_epoch.append(all_val_targets)\n",
    "    all_val_predictions_pr_epoch.append(all_predicted_val_labels)\n",
    "    all_val_probabilities_pr_epoch.append(all_probabilities_val)\n",
    "    if epoch % 10 == 0:\n",
    "        print(\"Epoch %2i : Train Loss %f , Train acc %f, Valid acc %f\" % (epoch+1, losses[-1], train_accuracies[-1], val_accuracies[-1]))\n",
    "    \n"
   ]
  },
  {
   "cell_type": "code",
   "execution_count": 11,
   "metadata": {},
   "outputs": [
    {
     "data": {
      "image/png": "[encoded data removed]",
      "text/plain": [
       "<Figure size 432x288 with 1 Axes>"
      ]
     },
     "metadata": {
      "needs_background": "light"
     },
     "output_type": "display_data"
    }
   ],
   "source": [
    "epoch = np.arange(len(train_accuracies))\n",
    "plt.figure()\n",
    "plt.plot(epoch, train_accuracies, 'r', epoch, val_accuracies, 'b')\n",
    "plt.title(\"FFNN with 3 layers, batchnorm + dropout and binding scores included\")\n",
    "plt.legend(['Train Accuracy','Validation Accuracy'])\n",
    "plt.xlabel('epochs'), plt.ylabel('Acc')\n",
    "plt.savefig(\"../plots/FFNN_3_layers_bigthensmall_btchnrm_drpt_bndscr.png\", dpi = 400, transparent = False)"
   ]
  },
  {
   "cell_type": "code",
   "execution_count": 12,
   "metadata": {},
   "outputs": [],
   "source": [
    "val_predictions = np.array(all_val_predictions_pr_epoch)\n",
    "val_labels = np.array(all_val_targets_pr_epoch)\n",
    "val_probabilities = np.array(all_val_probabilities_pr_epoch)"
   ]
  },
  {
   "cell_type": "code",
   "execution_count": 13,
   "metadata": {},
   "outputs": [
    {
     "name": "stdout",
     "output_type": "stream",
     "text": [
      "EPOCH: 91 Recall: 0.6944801026957638 accuracy: 0.7380636604774535 f1-score: 0.7325660121868652\n"
     ]
    },
    {
     "data": {
      "image/png": "[encoded data removed]",
      "text/plain": [
       "<Figure size 720x432 with 1 Axes>"
      ]
     },
     "metadata": {
      "needs_background": "light"
     },
     "output_type": "display_data"
    }
   ],
   "source": [
    "from sklearn.metrics import confusion_matrix\n",
    "from sklearn.metrics import accuracy_score,recall_score\n",
    "\n",
    "best_epoch_model = np.argmax(val_accuracies)\n",
    "\n",
    "# for epoch in range(len(val_predictions)):\n",
    "fig = plt.figure(figsize=(10,6))\n",
    "accuracy = accuracy_score(val_labels[best_epoch_model],val_predictions[best_epoch_model])\n",
    "recall = recall_score(val_labels[best_epoch_model],val_predictions[best_epoch_model])\n",
    "f1 = f1_score(val_labels[best_epoch_model],val_predictions[best_epoch_model])\n",
    "\n",
    "print(f\"EPOCH: {best_epoch_model} Recall: {recall} accuracy: {accuracy} f1-score: {f1}\")\n",
    "plt.title(\"Confusion matrix of best epoch for validation performance\")\n",
    "conf_mat = confusion_matrix(val_labels[best_epoch_model],val_predictions[best_epoch_model])\n",
    "sns.heatmap(conf_mat, square=True, annot=True, cmap='Blues', fmt='d', cbar=False)\n",
    "plt.xlabel(\"Predicted\")\n",
    "plt.ylabel(\"Actual\")\n",
    "plt.show()"
   ]
  },
  {
   "cell_type": "code",
   "execution_count": 14,
   "metadata": {},
   "outputs": [],
   "source": [
    "labels_best_epoch = val_labels[best_epoch_model]\n",
    "predictions_best_epoch = val_predictions[best_epoch_model]\n",
    "probabilities_best_epoch = val_probabilities[best_epoch_model]\n",
    "true_predictions = [x==y for x,y in zip(labels_best_epoch,predictions_best_epoch)]\n",
    "dataframe = pd.DataFrame()\n",
    "dataframe[\"Probs\"] = probabilities_best_epoch\n",
    "dataframe[\"Predictions\"] = predictions_best_epoch\n",
    "dataframe[\"Labels\"] = labels_best_epoch\n",
    "dataframe[\"True\"] = true_predictions"
   ]
  },
  {
   "cell_type": "code",
   "execution_count": 15,
   "metadata": {},
   "outputs": [
    {
     "data": {
      "image/png": "[encoded data removed]",
      "text/plain": [
       "<Figure size 720x432 with 1 Axes>"
      ]
     },
     "metadata": {
      "needs_background": "light"
     },
     "output_type": "display_data"
    },
    {
     "data": {
      "image/png": "[encoded data removed]",
      "text/plain": [
       "<Figure size 720x432 with 1 Axes>"
      ]
     },
     "metadata": {
      "needs_background": "light"
     },
     "output_type": "display_data"
    }
   ],
   "source": [
    "plt.figure(figsize=(10,6))\n",
    "ax = sns.violinplot(x=\"True\", y=\"Probs\", data=dataframe)\n",
    "plt.xlabel(\"Predicted label\")\n",
    "plt.ylabel(\"Probability associated with label\")\n",
    "plt.show()\n",
    "\n",
    "plt.figure(figsize=(10,6))\n",
    "ax = sns.boxplot(x=\"True\", y=\"Probs\", data=dataframe)\n",
    "plt.xlabel(\"Predicted label\")\n",
    "plt.ylabel(\"Probability associated with label\")\n",
    "plt.show()"
   ]
  },
  {
   "cell_type": "code",
   "execution_count": null,
   "metadata": {},
   "outputs": [],
   "source": []
  }
 ],
 "metadata": {
  "interpreter": {
   "hash": "c6e4e9f98eb68ad3b7c296f83d20e6de614cb42e90992a65aa266555a3137d0d"
  },
  "kernelspec": {
   "display_name": "Python 3.9.9 ('base')",
   "language": "python",
   "name": "python3"
  },
  "language_info": {
   "codemirror_mode": {
    "name": "ipython",
    "version": 3
   },
   "file_extension": ".py",
   "mimetype": "text/x-python",
   "name": "python",
   "nbconvert_exporter": "python",
   "pygments_lexer": "ipython3",
   "version": "3.8.8"
  },
  "orig_nbformat": 4
 },
 "nbformat": 4,
 "nbformat_minor": 2
}
