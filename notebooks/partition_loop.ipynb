{
 "cells": [
  {
   "cell_type": "code",
   "execution_count": 1,
   "metadata": {},
   "outputs": [],
   "source": [
    "import numpy as np\n",
    "import pandas as pd\n",
    "import matplotlib.pyplot as plt\n",
    "from sklearn.metrics import auc,precision_recall_curve,roc_curve,confusion_matrix\n",
    "import os,sys\n",
    "import pickle\n",
    "from sklearn.model_selection import KFold\n",
    "from sklearn.model_selection import train_test_split\n",
    "import random\n",
    "import seaborn as sns\n",
    "np.random.seed(10)\n",
    "random.seed(10)\n"
   ]
  },
  {
   "cell_type": "markdown",
   "metadata": {},
   "source": [
    "## Creating larger file "
   ]
  },
  {
   "cell_type": "code",
   "execution_count": 2,
   "metadata": {},
   "outputs": [],
   "source": [
    "# big_file = pd.read_csv(\"../data/filtered_data_IEDB_4_tested_len_9_10_full_HLA_Multi_assay_w_binding.csv\")\n",
    "\n",
    "# # add parts column with zeros all the way \n",
    "# n = big_file.shape[0]\n",
    "# empty_column = np.empty((n))\n",
    "# big_file = big_file.assign(parts=empty_column)\n",
    "\n",
    "# for file in os.listdir(\"../data/multi_assay_parts\"):\n",
    "#     print(\"started on new file\")\n",
    "#     part = int(file[-1])\n",
    "#     path_to_file = os.path.join(\"../data/multi_assay_parts\",file)\n",
    "#     data = pd.read_csv(path_to_file,sep=\"\\t\",names=[\"peptide\",\"label\",\"HLA_allele\"])\n",
    "#     for i in range(data.shape[0]):\n",
    "#         small_file_peptide = data.loc[i, \"peptide\"]\n",
    "#         small_file_hla = data.loc[i, \"HLA_allele\"]\n",
    "#         for j in range(big_file.shape[0]):\n",
    "#             peptide = big_file.loc[j,\"peptide\"]\n",
    "#             mhc = big_file.loc[j,\"HLA_allele\"]\n",
    "#             if peptide == small_file_peptide and mhc == small_file_hla:                \n",
    "#                 big_file.iloc[j,\"parts\"] = part\n",
    "#                 break\n",
    "  \n"
   ]
  },
  {
   "cell_type": "code",
   "execution_count": 3,
   "metadata": {},
   "outputs": [],
   "source": [
    "# print(big_file.loc[133,\"parts\"])\n",
    "# big_file.to_csv(\"../data/astrids_bigfile\")"
   ]
  },
  {
   "cell_type": "markdown",
   "metadata": {},
   "source": [
    "## The Network"
   ]
  },
  {
   "cell_type": "code",
   "execution_count": 4,
   "metadata": {},
   "outputs": [],
   "source": [
    "import torch\n",
    "from torch.autograd import Variable\n",
    "from torch.nn.parameter import Parameter\n",
    "import torch.nn as nn\n",
    "import torch.nn.functional as F\n",
    "import torch.optim as optim\n",
    "import torch.nn.init as init\n",
    "from torch.utils.data import DataLoader\n",
    "\n",
    "from torch.nn import Linear, Conv2d, BatchNorm2d, MaxPool2d, Dropout2d\n",
    "from torch.nn.functional import relu, elu, relu6, sigmoid, tanh, softmax\n",
    "from torch.nn import Linear, GRU, Conv2d, Dropout, MaxPool2d, BatchNorm1d\n",
    "\n",
    "import torch.optim as optim\n",
    "from sklearn.metrics import accuracy_score,recall_score,f1_score"
   ]
  },
  {
   "cell_type": "code",
   "execution_count": 5,
   "metadata": {},
   "outputs": [],
   "source": [
    "def compute_conv_dim(dim_size,kernel_size,padding,stride):\n",
    "    return int((dim_size - kernel_size + 2 * padding) / stride + 1)\n",
    "compute_conv_dim(34,2,0,1)\n",
    "\n",
    "def initialize_weights(m):\n",
    "    if isinstance(m, nn.Conv2d):\n",
    "          nn.init.kaiming_uniform_(m.weight.data,nonlinearity='relu')\n",
    "          if m.bias is not None:\n",
    "                nn.init.constant_(m.bias.data, 0)\n",
    "    elif isinstance(m, nn.BatchNorm2d):\n",
    "          nn.init.constant_(m.weight.data, 1)\n",
    "          nn.init.constant_(m.bias.data, 0)\n",
    "    elif isinstance(m, nn.Linear):\n",
    "          nn.init.kaiming_uniform_(m.weight.data,nonlinearity='relu')\n",
    "          if m.bias is not None:\n",
    "                nn.init.constant_(m.bias.data, 0)"
   ]
  },
  {
   "cell_type": "code",
   "execution_count": 6,
   "metadata": {},
   "outputs": [
    {
     "name": "stdout",
     "output_type": "stream",
     "text": [
      "Net(\n",
      "  (L_in): Linear(in_features=529, out_features=1058, bias=True)\n",
      "  (batchnorm1): BatchNorm1d(1058, eps=1e-05, momentum=0.1, affine=True, track_running_stats=True)\n",
      "  (drop_out1): Dropout(p=0.4, inplace=False)\n",
      "  (L_2): Linear(in_features=1058, out_features=750, bias=True)\n",
      "  (batchnorm2): BatchNorm1d(750, eps=1e-05, momentum=0.1, affine=True, track_running_stats=True)\n",
      "  (drop_out2): Dropout(p=0.4, inplace=False)\n",
      "  (L_out): Linear(in_features=750, out_features=2, bias=True)\n",
      ")\n"
     ]
    }
   ],
   "source": [
    "# define network\n",
    "class Net(nn.Module):\n",
    "\n",
    "    def __init__(self):\n",
    "        super(Net, self).__init__()\n",
    "\n",
    "        # Denselayer\n",
    "        self.L_in = Linear(in_features=529, # 528 if binding_score None, else 529\n",
    "                            out_features= 1058)\n",
    "\n",
    "        self.batchnorm1 = nn.BatchNorm1d(1058)\n",
    "        self.drop_out1 = nn.Dropout(p=0.4)\n",
    "\n",
    "        self.L_2 = Linear(in_features = 1058,\n",
    "                            out_features = 750)\n",
    "\n",
    "        self.batchnorm2 = nn.BatchNorm1d(750)\n",
    "        self.drop_out2 = nn.Dropout(p=0.4)\n",
    "\n",
    "        self.L_out = Linear(in_features = 750,\n",
    "                            out_features = 2)\n",
    "    \n",
    "    def forward(self, peptide, HLA, binding_score=None): # x.size() = [batch, channel, height, width]\n",
    "\n",
    "        peptide = torch.flatten(peptide,start_dim=1)\n",
    "\n",
    "        HLA = torch.flatten(HLA,start_dim=1)\n",
    "\n",
    "        if binding_score is None:\n",
    "            combined_input = torch.cat((peptide, HLA), 1)\n",
    "      \n",
    "        else:\n",
    "            combined_input = torch.cat((peptide, HLA,binding_score), 1)\n",
    "\n",
    "        x = self.L_in(combined_input)\n",
    "        x = relu(x)\n",
    "        x = self.batchnorm1(x)\n",
    "        x = self.drop_out1(x)\n",
    "    \n",
    "        x = self.L_2(x)\n",
    "        x = relu(x)\n",
    "        x = self.batchnorm2(x)\n",
    "        x = self.drop_out2(x)\n",
    "\n",
    "        x = self.L_out(x)\n",
    "        x = relu(x)\n",
    "        return softmax(x, dim=1)\n",
    "\n",
    "net = Net()\n",
    "net.apply(initialize_weights)\n",
    "print(net)\n",
    "\n",
    "# criterion = nn.CrossEntropyLoss()\n",
    "# optimizer = optim.Adam(net.parameters(), lr=0.0001,weight_decay=1e-4)"
   ]
  },
  {
   "cell_type": "code",
   "execution_count": 7,
   "metadata": {},
   "outputs": [
    {
     "data": {
      "text/plain": [
       "tensor([[0.2831, 0.7169],\n",
       "        [0.5000, 0.5000],\n",
       "        [0.8914, 0.1086],\n",
       "        [0.4491, 0.5509],\n",
       "        [0.0390, 0.9610],\n",
       "        [0.9495, 0.0505],\n",
       "        [0.5000, 0.5000],\n",
       "        [0.0621, 0.9379],\n",
       "        [0.5984, 0.4016],\n",
       "        [0.6699, 0.3301]], grad_fn=<SoftmaxBackward0>)"
      ]
     },
     "execution_count": 7,
     "metadata": {},
     "output_type": "execute_result"
    }
   ],
   "source": [
    "peptide_random = np.random.normal(0,1, (10, 1, 10, 12)).astype('float32')\n",
    "peptide_random = Variable(torch.from_numpy(peptide_random))\n",
    "HLA_random = np.random.normal(0,1, (10, 1, 34, 12)).astype('float32')\n",
    "HLA_random = Variable(torch.from_numpy(HLA_random))\n",
    "binding_random = np.random.normal(0,1, (10, 1)).astype('float32')\n",
    "binding_random = Variable(torch.from_numpy(binding_random))\n",
    "\n",
    "output = net(peptide_random,HLA_random, binding_random)\n",
    "output"
   ]
  },
  {
   "cell_type": "markdown",
   "metadata": {},
   "source": [
    "## Functions for loading data"
   ]
  },
  {
   "cell_type": "code",
   "execution_count": 8,
   "metadata": {},
   "outputs": [],
   "source": [
    "\n",
    "def encode_peptide_aaindex(aa_seq,aaindex_PCA,row):\n",
    "    aa_seq = list(aa_seq.upper())\n",
    "    encoded_aa_seq = []\n",
    "    PCs = aaindex_PCA.shape[1]\n",
    "    for aa in aa_seq:\n",
    "        if aa == \"X\" or aa == \"-\":\n",
    "            encoded_aa_seq.append(np.array([0 for x in range(PCs)]))\n",
    "        else:\n",
    "            try:\n",
    "                encoded_aa_seq.append(aaindex_PCA.loc[aa].to_numpy())\n",
    "            except KeyError:\n",
    "                print(row)\n",
    "                sys.exit(1)\n",
    "    return np.array(encoded_aa_seq)\n",
    "\n",
    "def encode_dataset(df,aaindex_PCA,HLA_dict,peptide_len,padding=\"right\"):\n",
    "    encoded_peptides = []\n",
    "    encoded_labels = []\n",
    "    encoded_hlas = []\n",
    "    encoded_binding_scores = []\n",
    "    for i,row in df.iterrows():\n",
    "        peptide = row[\"peptide\"]\n",
    "        HLA = HLA_dict[row[\"HLA_allele\"].replace(\":\",\"\")]\n",
    "        encoded_peptide = encode_peptide_aaindex(peptide,aaindex_PCA,row)\n",
    "        binding_score = row['binding_score']\n",
    "\n",
    "\n",
    "        # Adding padding\n",
    "        if len(encoded_peptide) < peptide_len:\n",
    "            n_added = peptide_len-len(encoded_peptide)\n",
    "            if padding == \"right\":\n",
    "                encoded_peptide = np.pad(encoded_peptide, ((0, 1), (0, 0)), 'constant')\n",
    "            elif padding == \"left\":\n",
    "                encoded_peptide = np.pad(encoded_peptide, ((1, 0), (0, 0)), 'constant')\n",
    "            elif padding == \"random\":\n",
    "                top_pad = random.choice([0,1])\n",
    "                bot_pad = 1-top_pad\n",
    "                encoded_peptide = np.pad(encoded_peptide, ((top_pad, bot_pad), (0, 0)), 'constant')\n",
    "\n",
    "\n",
    "        encoded_HLA = encode_peptide_aaindex(HLA,aaindex_PCA,row)\n",
    "        encoded_label = min(1,row[\"positive_subjects\"])\n",
    "        encoded_peptides.append(encoded_peptide)\n",
    "        encoded_hlas.append(encoded_HLA)\n",
    "        encoded_labels.append(encoded_label)\n",
    "        encoded_binding_scores.append(binding_score)\n",
    "    \n",
    "    encoded_peptides = np.array(encoded_peptides).astype('float32')\n",
    "    encoded_hlas = np.array(encoded_hlas).astype('float32')\n",
    "    encoded_labels = np.array(encoded_labels).astype('float32')\n",
    "    encoded_binding_scores = np.array(encoded_binding_scores).astype('float32')\n",
    "    return encoded_peptides, encoded_hlas, encoded_binding_scores, encoded_labels\n"
   ]
  },
  {
   "cell_type": "markdown",
   "metadata": {},
   "source": [
    "## Loading the data"
   ]
  },
  {
   "cell_type": "code",
   "execution_count": 16,
   "metadata": {},
   "outputs": [
    {
     "name": "stdout",
     "output_type": "stream",
     "text": [
      "the val and train parts\n",
      "[0, 1] [2, 3, 4, 5, 6, 7, 8, 9]\n",
      "##Encoding Training data\n",
      "##Encoding Validation data\n",
      "Epoch  1 : Train Loss 0.629729 , Train acc 0.685149, Valid acc 0.680386\n",
      "Epoch 11 : Train Loss 0.538985 , Train acc 0.773144, Valid acc 0.718971\n",
      "Epoch 21 : Train Loss 0.511097 , Train acc 0.815342, Valid acc 0.718971\n",
      "the val and train parts\n",
      "[2, 3] [0, 1, 4, 5, 6, 7, 8, 9]\n",
      "##Encoding Training data\n",
      "##Encoding Validation data\n",
      "Epoch  1 : Train Loss 0.626636 , Train acc 0.678799, Valid acc 0.678340\n",
      "Epoch 11 : Train Loss 0.541408 , Train acc 0.750612, Valid acc 0.701686\n",
      "Epoch 21 : Train Loss 0.519474 , Train acc 0.794516, Valid acc 0.717250\n",
      "the val and train parts\n",
      "[4, 5] [0, 1, 2, 3, 6, 7, 8, 9]\n",
      "##Encoding Training data\n",
      "##Encoding Validation data\n",
      "Epoch  1 : Train Loss 0.617014 , Train acc 0.682978, Valid acc 0.673913\n",
      "Epoch 11 : Train Loss 0.547917 , Train acc 0.722322, Valid acc 0.694335\n",
      "Epoch 21 : Train Loss 0.523743 , Train acc 0.750447, Valid acc 0.690382\n",
      "the val and train parts\n",
      "[6, 7] [0, 1, 2, 3, 4, 5, 8, 9]\n",
      "##Encoding Training data\n",
      "##Encoding Validation data\n",
      "Epoch  1 : Train Loss 0.623217 , Train acc 0.693645, Valid acc 0.667546\n",
      "Epoch 11 : Train Loss 0.539417 , Train acc 0.775232, Valid acc 0.716359\n",
      "Epoch 21 : Train Loss 0.514939 , Train acc 0.812612, Valid acc 0.723615\n",
      "the val and train parts\n",
      "[8, 9] [0, 1, 2, 3, 4, 5, 6, 7]\n",
      "##Encoding Training data\n",
      "##Encoding Validation data\n",
      "Epoch  1 : Train Loss 0.623417 , Train acc 0.687327, Valid acc 0.682055\n",
      "Epoch 11 : Train Loss 0.537563 , Train acc 0.773283, Valid acc 0.719116\n",
      "Epoch 21 : Train Loss 0.509941 , Train acc 0.804273, Valid acc 0.720416\n"
     ]
    }
   ],
   "source": [
    "# Loading the databases\n",
    "aaindex_PCA = pd.read_csv('../data/PCA_repr_aa.csv',index_col=0)\n",
    "hla_database = pd.read_csv('../data/formatted_hla2paratope_MHC_pseudo.dat', sep=' ',index_col=0)\n",
    "hla_dic = hla_database.to_dict(\"dict\")[\"pseudo\"]\n",
    "\n",
    "all_data = pd.read_csv(\"../data/filtered_data_IEDB_4_tested_len_9_10_full_HLA_Multi_assay_w_binding_w_parts.csv\")\n",
    "all_data = all_data.sample(frac=1, random_state=1).reset_index(drop=True)\n",
    "\n",
    "testing = False\n",
    "part_dict = {0:[0,1], 1:[2,3], 2:[4,5], 3:[6,7], 4:[8,9]}\n",
    "partitions = [0,1,2,3,4,5,6,7,8,9]\n",
    "\n",
    "batch_size = 100\n",
    "lst_val_accuracies = []\n",
    "lst_train_accuracies = []\n",
    "lst_val_predictions = []\n",
    "lst_val_labels = []\n",
    "lst_val_probabilities = []\n",
    "\n",
    "for i in range(5):\n",
    "    if testing == False:\n",
    "\n",
    "        ## The partitions to use for training, validation ##\n",
    "        validation_parts = part_dict[i]\n",
    "        training_parts = [j for j in range(10) if j not in validation_parts]\n",
    "        print(\"the val and train parts\")\n",
    "        print(validation_parts, training_parts)\n",
    "\n",
    "        ## The actual data frames ##\n",
    "        training_df = all_data[all_data[\"parts\"].isin(training_parts)]\n",
    "        validation_df = all_data[all_data[\"parts\"].isin(validation_parts)]\n",
    "\n",
    "        ## Encoding the data frames ##\n",
    "        print(\"##Encoding Training data\")\n",
    "        train_peptides_encoded,train_HLA_encoded,train_binding_scores_encoded,train_label_encoded = encode_dataset(training_df,aaindex_PCA,hla_dic,peptide_len=10,padding=\"right\")\n",
    "        print(\"##Encoding Validation data\")\n",
    "        val_peptides_encoded,val_HLA_encoded,val_binding_scores_encoded ,val_label_encoded = encode_dataset(validation_df,aaindex_PCA,hla_dic,peptide_len=10,padding=\"right\")\n",
    "\n",
    "        ## Reshaping everything ##\n",
    "        peptide_train = train_peptides_encoded.reshape(-1,1,10,12)\n",
    "        HLA_train = train_HLA_encoded.reshape(-1,1,34,12)\n",
    "        binding_train = train_binding_scores_encoded\n",
    "        label_train = train_label_encoded\n",
    "\n",
    "        peptide_val = val_peptides_encoded.reshape(-1,1,10,12)\n",
    "        HLA_val = val_HLA_encoded.reshape(-1,1,34,12) # 46 aligned representataion and 34 if not aligned\n",
    "        binding_val = val_binding_scores_encoded\n",
    "        label_val = val_label_encoded\n",
    "\n",
    "        ## Batches for training the model ##\n",
    "\n",
    "        peptide_train_loader = list(DataLoader(peptide_train,batch_size=batch_size))\n",
    "        HLA_train_loader = list(DataLoader(HLA_train,batch_size=batch_size))\n",
    "        label_train_loader = list(DataLoader(label_train,batch_size=batch_size))\n",
    "        binding_score_train_loader = list(DataLoader(binding_train,batch_size=batch_size))\n",
    "\n",
    "        peptide_val_loader = list(DataLoader(peptide_val,batch_size=batch_size))\n",
    "        HLA_val_loader = list(DataLoader(HLA_val,batch_size=batch_size))\n",
    "        label_val_loader = list(DataLoader(label_val,batch_size=batch_size))\n",
    "        binding_score_val_loader = list(DataLoader(binding_val,batch_size=batch_size))\n",
    "\n",
    "        net = Net()\n",
    "        net.apply(initialize_weights)\n",
    "        criterion = nn.CrossEntropyLoss()\n",
    "        optimizer = optim.Adam(net.parameters(), lr=0.0001,weight_decay=1e-4)\n",
    "\n",
    "        epochs = 30\n",
    "        train_accuracies = []\n",
    "        val_accuracies = []\n",
    "        losses = []\n",
    "        all_val_targets_pr_epoch = []\n",
    "        all_val_predictions_pr_epoch = []\n",
    "        all_val_probabilities_pr_epoch = []\n",
    "        for epoch in range(epochs):\n",
    "            net.train()\n",
    "            current_loss = 0\n",
    "            for train_batch_index in range(len(peptide_train_loader)): # hvorfor var der to parenteser?\n",
    "                train_peptides = peptide_train_loader[train_batch_index]\n",
    "                train_HLA = HLA_train_loader[train_batch_index]\n",
    "                train_labels = label_train_loader[train_batch_index].long().reshape(-1)\n",
    "                train_binding_scores = binding_score_train_loader[train_batch_index].reshape(len(train_peptides),1)\n",
    "\n",
    "                # zero the parameter gradients\n",
    "                optimizer.zero_grad()\n",
    "                outputs = net(train_peptides,train_HLA, train_binding_scores) # add binding scores here if you want them\n",
    "                loss = criterion(outputs, train_labels)\n",
    "                loss.backward()\n",
    "                optimizer.step()\n",
    "                current_loss += loss.item()\n",
    "\n",
    "            # print(epoch, current_loss/batch_size)\n",
    "            losses.append(current_loss/len((peptide_train_loader)))\n",
    "\n",
    "            net.eval()\n",
    "            with torch.no_grad():\n",
    "                all_train_targets = []\n",
    "                all_predicted_train_labels = []\n",
    "                for i in range(len((peptide_train_loader))):\n",
    "                    train_peptides = peptide_train_loader[i]\n",
    "                    train_HLA = HLA_train_loader[i]\n",
    "                    train_labels = label_train_loader[i].long().reshape(-1)\n",
    "                    train_binding_scores = binding_score_train_loader[i].reshape(len(train_peptides),1)\n",
    "                    outputs = net(train_peptides,train_HLA, train_binding_scores) # add binding scores here too\n",
    "                    _,predicted_labels =  torch.max(outputs, 1)\n",
    "\n",
    "                    all_predicted_train_labels += predicted_labels.numpy().tolist()\n",
    "                    all_train_targets += train_labels.numpy().tolist()\n",
    "                \n",
    "                all_val_targets = []\n",
    "                all_predicted_val_labels = []\n",
    "                all_probabilities_val = []\n",
    "                for j in range(len((peptide_val_loader))):\n",
    "                    val_peptides = peptide_val_loader[j]\n",
    "                    val_HLA = HLA_val_loader[j]\n",
    "                    val_labels = label_val_loader[j].long().reshape(-1)\n",
    "                    val_binding_scores = binding_score_val_loader[j].reshape(len(val_peptides),1)\n",
    "                    outputs = net(val_peptides,val_HLA, val_binding_scores)   # and also add binding_scores here\n",
    "                    probability,predicted_labels =  torch.max(outputs, 1)\n",
    "                    all_predicted_val_labels += predicted_labels.numpy().tolist()\n",
    "                    all_val_targets += val_labels.numpy().tolist()\n",
    "                    all_probabilities_val += probability.numpy().tolist()\n",
    "\n",
    "            # Calculating the accuracies\n",
    "            train_accuracies.append(accuracy_score(all_train_targets,all_predicted_train_labels))\n",
    "            val_accuracies.append(accuracy_score(all_val_targets,all_predicted_val_labels))\n",
    "            # Saving the predicitons for further validation\n",
    "            all_val_targets_pr_epoch.append(all_val_targets)\n",
    "            all_val_predictions_pr_epoch.append(all_predicted_val_labels)\n",
    "            all_val_probabilities_pr_epoch.append(all_probabilities_val)\n",
    "            if epoch % 10 == 0:\n",
    "                print(\"Epoch %2i : Train Loss %f , Train acc %f, Valid acc %f\" % (epoch+1, losses[-1], train_accuracies[-1], val_accuracies[-1]))\n",
    "        \n",
    "        lst_val_accuracies.append(val_accuracies)\n",
    "        lst_train_accuracies.append(train_accuracies)\n",
    "        lst_val_predictions.append(np.array(all_val_predictions_pr_epoch))\n",
    "        lst_val_labels.append(np.array(all_val_targets_pr_epoch))\n",
    "        lst_val_probabilities.append(np.array(all_val_probabilities_pr_epoch))\n",
    "\n",
    "    # else:\n",
    "    #     validation_parts = part_dict[i]\n",
    "    #     if i == 4:\n",
    "    #         testing_parts = part_dict[0]\n",
    "    #     else:\n",
    "    #         testing_parts = part_dict[i+1]\n",
    "    #     used_parts = validation_parts + testing_parts\n",
    "    #     training_parts = [j for j in range(10) if j not in used_parts]\n",
    "    #     training_df = all_data[all_data[\"parts\"].isin(training_parts)]\n",
    "    #     validation_df = all_data[all_data[\"parts\"].isin(validation_parts)]\n",
    "    #     testing_df = all_data[all_data[\"parts\"].isin(testing_parts)]\n",
    "\n",
    "    #     print(\"##Encoding Training data\")\n",
    "    #     train_peptides_encoded,train_HLA_encoded,train_binding_scores_encoded,train_label_encoded = encode_dataset(training_df,aaindex_PCA,hla_dic,peptide_len=10,padding=\"right\")\n",
    "    #     print(\"##Encoding Validation data\")\n",
    "    #     val_peptides_encoded,val_HLA_encoded,val_binding_scores_encoded ,val_label_encoded = encode_dataset(validation_df,aaindex_PCA,hla_dic,peptide_len=10,padding=\"right\")\n",
    "    #     print(\"##Encoding testing data\")\n",
    "    #     test_peptides_encoded,test_HLA_encoded,test_binding_scores_encoded,test_label_encoded = encode_dataset(testing_df,aaindex_PCA,hla_dic,peptide_len=10,padding=\"right\")\n",
    "\n",
    "    #     peptide_train = train_peptides_encoded.reshape(-1,1,10,12)\n",
    "    #     HLA_train = train_HLA_encoded.reshape(-1,1,34,12)\n",
    "    #     binding_train = train_binding_scores_encoded\n",
    "    #     label_train = train_label_encoded\n",
    "\n",
    "        # peptide_val = val_peptides_encoded.reshape(-1,1,10,12)\n",
    "        # HLA_val = val_HLA_encoded.reshape(-1,1,34,12) # 46 aligned representataion and 34 if not aligned\n",
    "        # binding_val = val_binding_scores_encoded\n",
    "        # label_val = val_label_encoded\n",
    "\n",
    "        # peptide_test = test_peptides_encoded.reshape(-1,1,10,12)\n",
    "        # HLA_test = test_HLA_encoded.reshape(-1,1,34,12)\n",
    "        # binding_test = test_binding_scores_encoded\n",
    "        # label_test = test_label_encoded\n"
   ]
  },
  {
   "cell_type": "code",
   "execution_count": 17,
   "metadata": {},
   "outputs": [
    {
     "data": {
      "text/plain": [
       "<function matplotlib.pyplot.show(close=None, block=None)>"
      ]
     },
     "execution_count": 17,
     "metadata": {},
     "output_type": "execute_result"
    },
    {
     "data": {
      "image/png": "[encoded data removed]",
      "text/plain": [
       "<Figure size 432x288 with 1 Axes>"
      ]
     },
     "metadata": {
      "needs_background": "light"
     },
     "output_type": "display_data"
    }
   ],
   "source": [
    "epoch = np.arange(len(lst_train_accuracies[0]))\n",
    "plt.figure()\n",
    "for i in range(5):\n",
    "    plt.plot(epoch, lst_train_accuracies[i], 'r', epoch, lst_val_accuracies[i], 'b')\n",
    "plt.title(\"Performance of 5 fold CV\")\n",
    "plt.legend(['Train Accuracy','Validation Accuracy'])\n",
    "plt.xlabel('epochs'), plt.ylabel('Acc')\n",
    "plt.show\n",
    "#plt.savefig(\"../plots/FFNN_3_layers_bigthensmall_btchnrm_drpt_bndscr.png\", dpi = 400, transparent = False)"
   ]
  },
  {
   "cell_type": "code",
   "execution_count": 29,
   "metadata": {},
   "outputs": [
    {
     "name": "stdout",
     "output_type": "stream",
     "text": [
      "Best average results - Recall: 0.6560645413069763 accuracy: 0.7225192332768288 f1-score: 0.7067995647325529\n"
     ]
    }
   ],
   "source": [
    "N = len(all_data)\n",
    "\n",
    "def calculate_avg_performance(lst_val_acc, lst_val_lab, lst_val_pred, N):\n",
    "    \"\"\"Calculate the generalization error\n",
    "\n",
    "    Args:\n",
    "        lst_val_acc (list of lists): list of lists containing validation accuracies for each fold\n",
    "        lst_val_lab (list of lists): list of lists containing validation labels for each fold\n",
    "        lst_val_pred (list of lists): list of lists containing validation predictions for each fold\n",
    "        N (int): Total number of observations in data set\n",
    "    \"\"\"\n",
    "    avg_recall = 0\n",
    "    avg_accuracy = 0 \n",
    "    avg_f1 = 0\n",
    "\n",
    "    res = np.zeros((5,5))\n",
    "    for i in range(5):\n",
    "        best_epoch_model = np.argmax(lst_val_acc[i])\n",
    "        n = len(lst_val_lab[i][best_epoch_model])\n",
    "        accuracy = accuracy_score(lst_val_lab[i][best_epoch_model],lst_val_pred[i][best_epoch_model])\n",
    "        recall = recall_score(lst_val_lab[i][best_epoch_model],lst_val_pred[i][best_epoch_model])\n",
    "        f1 = f1_score(lst_val_lab[i][best_epoch_model],lst_val_pred[i][best_epoch_model])\n",
    "\n",
    "        res[i][0] = best_epoch_model\n",
    "        res[i][1] = n\n",
    "        res[i][2] = accuracy\n",
    "        res[i][3] = recall\n",
    "        res[i][4] = f1\n",
    "\n",
    "        avg_recall += (n/N) * recall\n",
    "        avg_accuracy += (n/N) * accuracy\n",
    "        avg_f1 += (n/N) * f1\n",
    "\n",
    "    print(f\"Best average results - Recall: {avg_recall} accuracy: {avg_accuracy} f1-score: {avg_f1}\")\n",
    "    return res\n",
    "\n",
    "result_mtrx = calculate_avg_performance(lst_val_accuracies, lst_val_labels, lst_val_predictions, N)"
   ]
  },
  {
   "cell_type": "code",
   "execution_count": 42,
   "metadata": {},
   "outputs": [
    {
     "data": {
      "image/png": "[encoded data removed]",
      "text/plain": [
       "<Figure size 720x432 with 1 Axes>"
      ]
     },
     "metadata": {
      "needs_background": "light"
     },
     "output_type": "display_data"
    }
   ],
   "source": [
    "def k_fold_confusion_matrix(lst_val_acc, lst_val_lab, lst_val_pred):\n",
    "    \"\"\"Plot the overall confusion matrix for 5 fold CV\n",
    "\n",
    "    Args:\n",
    "        lst_val_acc (list of lists): list of lists containing validation accuracies for each fold\n",
    "        lst_val_lab (list of lists): list of lists containing validation labels for each fold\n",
    "        lst_val_pred (list of lists): list of lists containing validation predictions for each fold\n",
    "    \"\"\"\n",
    "    all_labels = []\n",
    "    all_predictions = []\n",
    "    for i in range(5):\n",
    "        best_epoch_model = np.argmax(lst_val_acc[i])\n",
    "        all_labels.extend(lst_val_lab[i][best_epoch_model])\n",
    "        all_predictions.extend(lst_val_pred[i][best_epoch_model])\n",
    "\n",
    "    fig = plt.figure(figsize=(10,6))\n",
    "    plt.title(\"Confusion matrix of best epoch for validation performance\")\n",
    "    conf_mat = confusion_matrix(all_labels,all_predictions)\n",
    "    sns.heatmap(conf_mat, square=True, annot=True, cmap='Blues', fmt='d', cbar=False)\n",
    "    plt.xlabel(\"Predicted\")\n",
    "    plt.ylabel(\"Actual\")\n",
    "    plt.show()\n",
    "\n",
    "k_fold_confusion_matrix(lst_val_accuracies, lst_val_labels, lst_val_predictions)"
   ]
  },
  {
   "cell_type": "code",
   "execution_count": 43,
   "metadata": {},
   "outputs": [
    {
     "data": {
      "image/png": "[encoded data removed]",
      "text/plain": [
       "<Figure size 720x432 with 1 Axes>"
      ]
     },
     "metadata": {
      "needs_background": "light"
     },
     "output_type": "display_data"
    },
    {
     "data": {
      "image/png": "[encoded data removed]",
      "text/plain": [
       "<Figure size 720x432 with 1 Axes>"
      ]
     },
     "metadata": {
      "needs_background": "light"
     },
     "output_type": "display_data"
    }
   ],
   "source": [
    "def violin_best_fold(res_mtrx, lst_val_acc, lst_val_lab, lst_val_pred, lst_val_prob):\n",
    "    \"\"\"For the best fold, find the best epoch, and plot the violin plot\n",
    "\n",
    "    Args:\n",
    "        res_mtrx (matrix): result matrix from calculate_avg_performance\n",
    "        lst_val_acc (list of lists): list of lists containing validation accuracies for each fold\n",
    "        lst_val_lab (list of lists): list of lists containing validation labels for each fold\n",
    "        lst_val_pred (list of lists): list of lists containing validation predictions for each fold\n",
    "        lst_val_prob (list of lists): list of lists containing validation probabilities for each fold\n",
    "    \"\"\"\n",
    "    best_fold = np.argmax(res_mtrx[:,2])\n",
    "    best_epoch_model = np.argmax(lst_val_acc[best_fold])\n",
    "    labels_best_epoch = lst_val_lab[best_fold][best_epoch_model]\n",
    "    predictions_best_epoch = lst_val_pred[best_fold][best_epoch_model]\n",
    "    probabilities_best_epoch = lst_val_prob[best_fold][best_epoch_model]\n",
    "    true_predictions = [x==y for x,y in zip(labels_best_epoch,predictions_best_epoch)]\n",
    "    dataframe = pd.DataFrame()\n",
    "    dataframe[\"Probs\"] = probabilities_best_epoch\n",
    "    dataframe[\"Predictions\"] = predictions_best_epoch\n",
    "    dataframe[\"Labels\"] = labels_best_epoch\n",
    "    dataframe[\"True\"] = true_predictions    \n",
    "\n",
    "    plt.figure(figsize=(10,6))\n",
    "    ax = sns.violinplot(x=\"True\", y=\"Probs\", data=dataframe)\n",
    "    plt.title(\"For the best epoch of the best fold - so only one model here!\")\n",
    "    plt.xlabel(\"Predicted label\")\n",
    "    plt.ylabel(\"Probability associated with label\")\n",
    "    plt.show()\n",
    "\n",
    "    plt.figure(figsize=(10,6))\n",
    "    ax = sns.boxplot(x=\"True\", y=\"Probs\", data=dataframe)\n",
    "    plt.title(\"For the best epoch of the best fold - so only one model here!\")\n",
    "    plt.xlabel(\"Predicted label\")\n",
    "    plt.ylabel(\"Probability associated with label\")\n",
    "    plt.show()\n",
    "        \n",
    "\n",
    "violin_best_fold(result_mtrx, lst_val_accuracies, lst_val_labels, lst_val_predictions, lst_val_probabilities)"
   ]
  },
  {
   "cell_type": "code",
   "execution_count": null,
   "metadata": {},
   "outputs": [],
   "source": []
  }
 ],
 "metadata": {
  "interpreter": {
   "hash": "c6e4e9f98eb68ad3b7c296f83d20e6de614cb42e90992a65aa266555a3137d0d"
  },
  "kernelspec": {
   "display_name": "Python 3.9.9 ('base')",
   "language": "python",
   "name": "python3"
  },
  "language_info": {
   "codemirror_mode": {
    "name": "ipython",
    "version": 3
   },
   "file_extension": ".py",
   "mimetype": "text/x-python",
   "name": "python",
   "nbconvert_exporter": "python",
   "pygments_lexer": "ipython3",
   "version": "3.8.8"
  },
  "orig_nbformat": 4
 },
 "nbformat": 4,
 "nbformat_minor": 2
}
