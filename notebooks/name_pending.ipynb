{
 "cells": [
  {
   "cell_type": "code",
   "execution_count": null,
   "metadata": {},
   "outputs": [],
   "source": [
    "import numpy as np\n",
    "import pandas as pd\n",
    "import matplotlib.pyplot as plt\n",
    "from sklearn.metrics import auc,precision_recall_curve,roc_curve,confusion_matrix\n",
    "import os,sys\n",
    "import pickle\n",
    "from sklearn.model_selection import KFold\n",
    "from sklearn.model_selection import train_test_split\n",
    "import random\n",
    "import seaborn as sns\n",
    "np.random.seed(10)\n",
    "random.seed(10)\n"
   ]
  },
  {
   "cell_type": "markdown",
   "metadata": {},
   "source": [
    "## Functions for loading data"
   ]
  },
  {
   "cell_type": "code",
   "execution_count": 25,
   "metadata": {},
   "outputs": [],
   "source": [
    "def load_training_and_validataion_dataset(path_to_partitions,train_splits):\n",
    "    import random\n",
    "    training_partions = random.sample(range(10),train_splits)\n",
    "    # training_partions = [9, 0, 6, 3, 4, 8, 1, 7]\n",
    "    validation_partions = [i for i in range(10) if i not in training_partions]\n",
    "\n",
    "    # path_to_partitions = \"../data/partitions\"\n",
    "    partitions = []\n",
    "    for file in os.listdir(path_to_partitions):\n",
    "        path_to_file = os.path.join(path_to_partitions,file)\n",
    "        data = pd.read_csv(path_to_file,sep=\"\\t\",names=[\"peptide\",\"label\",\"HLA\"])\n",
    "        partitions.append(data)\n",
    "    training_df = pd.concat([partitions[i] for i in training_partions])\n",
    "    validation_df = pd.concat([partitions[i] for i in validation_partions])\n",
    "    return training_df, validation_df,training_partions,validation_partions\n",
    "\n",
    "def retrieve_information_from_df(data_split,entire_df):\n",
    "    potential = []\n",
    "    immunogenicity = []\n",
    "    tested = []\n",
    "    responded = []\n",
    "    for i,row in data_split.iterrows():\n",
    "        peptide, HLA = row[\"peptide\"], row['HLA']\n",
    "        original_entry = entire_df[(entire_df['peptide']==peptide) & (entire_df['HLA'] == HLA)]\n",
    "        assert len(original_entry) == 1\n",
    "        potential.append(float(original_entry['potential']))\n",
    "        immunogenicity.append(original_entry['immunogenicity'].values[0])\n",
    "        tested.append(int(original_entry['test']))\n",
    "        responded.append(int(original_entry['respond']))\n",
    "     \n",
    "    data_split['potential'] = potential\n",
    "    data_split['immunogenicity'] = immunogenicity\n",
    "    data_split['test'] = tested\n",
    "    data_split['respond'] = responded\n",
    "\n",
    "    return data_split  \n",
    "\n",
    "\n",
    "def encode_aaindex(aa_seq,aaindex_PCA):\n",
    "    aa_seq = list(aa_seq)\n",
    "    encoded_aa_seq = []\n",
    "    for aa in aa_seq:\n",
    "        print(aaindex_PCA.loc[aa])\n",
    "        sys.exit(1)\n",
    "    ..."
   ]
  },
  {
   "cell_type": "markdown",
   "metadata": {},
   "source": [
    "## Loading the data"
   ]
  },
  {
   "cell_type": "code",
   "execution_count": 26,
   "metadata": {},
   "outputs": [
    {
     "name": "stdout",
     "output_type": "stream",
     "text": [
      "PC1      0.240664\n",
      "PC2      5.659694\n",
      "PC3     16.599203\n",
      "PC4      1.309795\n",
      "PC5      3.358757\n",
      "PC6      1.957431\n",
      "PC7     -3.656903\n",
      "PC8     -0.662709\n",
      "PC9      3.544847\n",
      "PC10    -2.280156\n",
      "PC11     0.825385\n",
      "PC12     1.695619\n",
      "Name: A, dtype: float64\n"
     ]
    },
    {
     "ename": "SystemExit",
     "evalue": "1",
     "output_type": "error",
     "traceback": [
      "An exception has occurred, use %tb to see the full traceback.\n",
      "\u001b[0;31mSystemExit\u001b[0m\u001b[0;31m:\u001b[0m 1\n"
     ]
    },
    {
     "name": "stderr",
     "output_type": "stream",
     "text": [
      "/opt/homebrew/Caskroom/miniforge/base/lib/python3.9/site-packages/IPython/core/interactiveshell.py:3465: UserWarning: To exit: use 'exit', 'quit', or Ctrl-D.\n",
      "  warn(\"To exit: use 'exit', 'quit', or Ctrl-D.\", stacklevel=1)\n"
     ]
    }
   ],
   "source": [
    "# Loading the databases\n",
    "aaindex_PCA = pd.read_csv('../data/PCA_repr_aa.csv',index_col=0)\n",
    "hla_database = pd.read_csv('../data/formatted_MHC_pseudo.dat', sep=' ',index_col=0)\n",
    "hla_dic = hla_database.to_dict(\"dict\")[\"pseudo\"]\n",
    "# Load dataset\n",
    "entire_df = pd.read_csv('../data/filtered_data_IEDB_4_tested_len_9_10_full_HLA_IFNg_assay.csv')\n",
    "\n",
    "entire_df = pd.read_csv('../data/deep_immuno_2.csv')\n",
    "# Allocating the partitions of the trainign and validation data\n",
    "training_df, validation_df,training_partions,validation_partions = load_training_and_validataion_dataset(path_to_partitions=\"../data/deepimmuno_parts\",train_splits=8)\n",
    "\n",
    "# Creating the training dataframe (With correct information such as tested and positive subjects aswell as label)\n",
    "training_df_entire = retrieve_information_from_df(training_df,entire_df)\n",
    "# Shuffling the dataframe\n",
    "training_df_entire = training_df_entire.sample(frac=1, random_state=1).reset_index(drop=True)\n",
    "\n",
    "# Creating the validation dataframe (With correct information such as tested and positive subjects aswell as label)\n",
    "validation_df_entire = retrieve_information_from_df(validation_df,entire_df)\n",
    "# Shuffling the dataframe\n",
    "validation_df_entire = validation_df_entire.sample(frac=1, random_state=1).reset_index(drop=True)\n",
    "\n",
    "# Encode data\n",
    "\n",
    "\n",
    "encode_aaindex(\"AKTQDE\",aaindex_PCA)\n",
    "sys.exit(1)\n",
    "\n",
    "training_dataset_encoded = construct_aaindex(training_df_entire, hla_dic, after_pca)\n",
    "peptide_train = pull_peptide_aaindex(training_dataset_encoded)\n",
    "HLA_train = pull_hla_aaindex(training_dataset_encoded)\n",
    "label_train = pull_label_aaindex(training_dataset_encoded)\n",
    "\n",
    "\n",
    "val_dataset_encoded = construct_aaindex(validation_df_entire, hla_dic, after_pca)\n",
    "peptide_val = pull_peptide_aaindex(val_dataset_encoded)\n",
    "HLA_val = pull_hla_aaindex(val_dataset_encoded)\n",
    "label_val = pull_label_aaindex(val_dataset_encoded)\n",
    "\n",
    "peptide_train = peptide_train.reshape(-1,1,10,12).astype('float32')\n",
    "HLA_train = HLA_train.reshape(-1,1,46,12).astype('float32')\n",
    "label_train = label_train.astype('float32')\n",
    "\n",
    "peptide_val = peptide_val.reshape(-1,1,10,12).astype('float32')\n",
    "HLA_val = HLA_val.reshape(-1,1,46,12).astype('float32')\n",
    "label_val = label_val.astype('float32')\n",
    "\n"
   ]
  },
  {
   "cell_type": "code",
   "execution_count": null,
   "metadata": {},
   "outputs": [],
   "source": []
  }
 ],
 "metadata": {
  "interpreter": {
   "hash": "c6e4e9f98eb68ad3b7c296f83d20e6de614cb42e90992a65aa266555a3137d0d"
  },
  "kernelspec": {
   "display_name": "Python 3.9.9 ('base')",
   "language": "python",
   "name": "python3"
  },
  "language_info": {
   "codemirror_mode": {
    "name": "ipython",
    "version": 3
   },
   "file_extension": ".py",
   "mimetype": "text/x-python",
   "name": "python",
   "nbconvert_exporter": "python",
   "pygments_lexer": "ipython3",
   "version": "3.9.9"
  },
  "orig_nbformat": 4
 },
 "nbformat": 4,
 "nbformat_minor": 2
}
